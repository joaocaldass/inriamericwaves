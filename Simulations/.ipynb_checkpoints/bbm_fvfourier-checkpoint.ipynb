{
 "cells": [
  {
   "cell_type": "markdown",
   "metadata": {},
   "source": [
    "# Numerical resolution of BBM equation using a Finite Volume method\n",
    "\n",
    "## Model : Benjamin-Bona-Mahony (BBM) equation :\n",
    "\n",
    "We will compute an approximate solution to the BBM equation, which models a long-wave propagation accounting for nonlinear and dispersive effects (in an alternative formulation for the KdV equation, with better stability and numerical properties): \n",
    "\n",
    "\\begin{equation}\n",
    "\\begin{cases}\n",
    "    u_t + au_x + b(u^2)_x - cu_{xxt} = 0 \\ , \\ \\ x \\in [x_{min},x_{max}], \\ \\ t \\in [0, t_{max}] \\\\\n",
    "    u(x,0) = \\Phi(x)\n",
    "\\end{cases}\n",
    "\\end{equation}\n",
    "\n",
    "The BBM model will be treated here in the same way we did for the KdV equation : we will use an split method, leading to the resolution of the following problem in each time step: \n",
    "\n",
    "\\begin{equation}\n",
    "\\begin{cases}\n",
    "    v_t + av_x + b(v^2)_x = 0 \\ \\ ,\\ t \\in [t_n,t_{n+1}], \\  v(t_n) = u(t_n) \\\\\n",
    "    w_t - cw_{xxt} = 0 \\ \\ , \\ t \\in [t_n,t_{n+1}], \\  w(t_n) = v(t_{n+1}) \\\\\n",
    "    u(t_{n+1}) = v(t_{n+1})\n",
    "\\end{cases}\n",
    "\\end{equation}\n",
    "\n",
    "The first equation (which is the same as in the KdV equation) will be solved with a Finite Volume method, with a 4th order Runge-Kutta discretization for the time derivative. On the other hand, the second equation will be solved with a Fourier spectral method.  "
   ]
  },
  {
   "cell_type": "markdown",
   "metadata": {},
   "source": [
    "## First equation\n",
    "$ v_t + f(v)_x = 0, \\ \\ f(v) = av + bv^2 $\n",
    "\n",
    "\n",
    "### Temporal discretization\n",
    "\n",
    "#### Euler\n",
    "$v_i^{n+1} = v_i^n - \\Delta t  \\  f(v_i^n)_x$\n",
    "\n",
    "#### 4th order Runge-Kutta\n",
    "\\begin{equation}\n",
    "\\begin{cases}\n",
    "k_1 = - f(v_i^n)_x \\\\\n",
    "k_2 = - f\\left(v_i^n + k_1\\frac{\\Delta t }{2}\\right)_x \\\\\n",
    "k_3 = - f\\left(v_i^n + k_2\\frac{\\Delta t }{2}\\right)_x \\\\\n",
    "k_4 = - f(v_i^n + k_3 \\Delta t)_x \\\\\n",
    "v_i^{n+1} = v_i^n + \\frac{\\Delta t}{6}(k_1 + 2k_2 + 2k_3 + k_4)\n",
    "\\end{cases}\n",
    "\\end{equation}\n",
    "\n",
    "\n",
    "\n",
    "### Spatial discretization\n",
    "$ f(v_i^n)_x = \\frac{f\\left(v_{i+1/2}^n\\right) - f\\left(v_{i-1/2}^n\\right)}{\\Delta x}$\n",
    "\n",
    "\n",
    "### Choice of the steps\n",
    "In the non-conservative form, the equation is written as\n",
    "\n",
    "$v_t +  (1+2v)v_x = 0$\n",
    "\n",
    "which configures an advection problem with velocity $1+2v$\n",
    "\n",
    "The space and time steps must verify the CFL condition : \n",
    "\n",
    "$(a+2bv)\\frac{\\Delta t}{\\Delta x} \\leq 1$\n",
    "\n",
    "in order to avoid non-physical behaviours (e.g. mass increasing). Thereforem for each time step, we will chose, for small $\\epsilon$\n",
    "\n",
    "$\\Delta t = \\frac{\\Delta x}{a+2b\\max\\limits_{x}|v|} - \\epsilon$\n",
    "\n",
    "\n",
    "\n",
    "\n",
    "\n",
    "### Evaluation of the solution on cell interfaces : resolution of the Riemann problem\n",
    "In each interface between two cells of the discrete domain, the follozing Riemann problem will be solved :\n",
    "\n",
    "\\begin{equation}\n",
    "\\begin{cases}\n",
    "v_t + f(v)_x = 0 \\\\\n",
    "v(x,0) = v^- \\ , \\ x < 0 \\\\\n",
    "v(x,0) = v^+ \\ , \\ x > 0\n",
    "\\end{cases}\n",
    "\\end{equation}\n",
    "\n",
    "where the boundary is located at $x=0$ and $v^-$ and $v^+$ are the solutions in its two neighbour cells.\n",
    "\n",
    "The flux function $f$ is uniformly convex, so the Riemann problem has a unique weak, admissible solution (REFERENCE) :\n",
    "\n",
    "* If $v^- > v^+$  (shock) : \n",
    "\\begin{equation}\n",
    "v(x,t) = \n",
    "\\begin{cases}\n",
    "v^- \\ ,\\ \\   f(v^-) > f(v^+) \\\\\n",
    "v^+ \\ ,\\ \\ f(v^-) < f(v^+)\n",
    "\\end{cases}\n",
    "\\end{equation}\n",
    "\n",
    "* If $v^+ > v^-$  (rarefaction wave) :\n",
    "\\begin{equation}\n",
    "v(x,t) = \n",
    "\\begin{cases}\n",
    "v^- \\ ,\\ \\ f'(v^-) > 0 \\\\\n",
    "\\left(f'\\right)^{-1}(0) \\ ,\\ \\ f'(v^-) < 0 < f'(v^+) \\\\\n",
    "v^+ \\ ,\\ \\ f'(v^+) < 0 \n",
    "\\end{cases}\n",
    "\\end{equation}"
   ]
  },
  {
   "cell_type": "markdown",
   "metadata": {},
   "source": [
    "## Second equation\n",
    "\n",
    "The second equation of the BBM splitted model can be written as\n",
    "\n",
    "$(w - cw_{xx})_t=0$\n",
    "\n",
    "showing that $w - w_{xx}$ does not depend on time. Therefore, for each time step $[t_n,t_{n+1}] : $\n",
    "\n",
    "$w - cw_{xx} = (w - cw_{xx})\\rvert_{t=t_n} = (v - cv_{xx})\\rvert_{t=t_{n+1}} = g(x)$\n",
    "\n",
    "This equation will be solved using the Fourier method. Let $\\hat{w}(k,t_n)$ and $\\hat{g}(k)$ be the Fourier coefficients of $w(x,t_n)$ and $g(x)$ respectively.  The Fourier transform of the above equation gives\n",
    "\n",
    "$(\\hat{w})(k,t) = \\frac{\\hat{g}(k)}{1+ck^2}$\n",
    "\n",
    "The right-hand side of the last equation does not depend on time. Therefore, the inverse Fourier transform using the coefficients $\\hat{w}(k,t)$ gives $w(x,t_{n+1})$"
   ]
  },
  {
   "cell_type": "markdown",
   "metadata": {},
   "source": [
    "## Model functions"
   ]
  },
  {
   "cell_type": "code",
   "execution_count": 1,
   "metadata": {
    "collapsed": false
   },
   "outputs": [
    {
     "name": "stdout",
     "output_type": "stream",
     "text": [
      "Overwriting kdv.py\n"
     ]
    }
   ],
   "source": [
    "%%writefile kdv.py\n",
    "\n",
    "import numpy as np\n",
    "def Flux(u,a,b):\n",
    "    return a*u + b*u*u\n",
    "def Fluxder(u,a,b):\n",
    "    return a + 2.0*b*u\n",
    "def Fluxderinv(u,a,b):\n",
    "    return (u-1.*a)/(2.*b)\n",
    "def Flux2(u,a,b,dx):\n",
    "    nx = u.size-1\n",
    "    ux = np.zeros(nx+1)\n",
    "    uxxx = np.zeros(nx+1)\n",
    "    ff = np.zeros(nx+1)\n",
    "    \n",
    "    ux[1:nx] = (u[2:nx+1] - u[0:nx-1])/(2.*dx)\n",
    "    ux[0] =  (u[1] - u[nx-1])/(2.*dx)\n",
    "    #ux[nx-1] =  (u[0] - u[nx-2])/(2.*dx)\n",
    "    ux[nx] =  (u[1] - u[nx-1])/(2.*dx)\n",
    "    \n",
    "    ux2 = ux*ux\n",
    "    \n",
    "    uxxx[2:nx-1] = (-1./2.*u[0:nx-3] + u[1:nx-2] - u[3:nx] + 1./2.*u[4:nx+1])/(dx*dx*dx)\n",
    "    uxxx[0] = (-1./2.*u[nx-2] + u[nx-1] - u[1] + 1./2.*u[2])/(dx*dx*dx)\n",
    "    uxxx[1] = (-1./2.*u[nx-1] + u[0] - u[2] + 1./2.*u[3])/(dx*dx*dx)\n",
    "    uxxx[nx-1] = (-1./2.*u[nx-3] + u[nx-2] - u[0] + 1./2.*u[1])/(dx*dx*dx)\n",
    "    uxxx[nx] = (-1./2.*u[nx-2] + u[nx-1] - u[1] + 1./2.*u[2])/(dx*dx*dx)\n",
    "    \n",
    "    #uxxx = 0*uxxx\n",
    "    \n",
    "    ff[1:nx-1] = a*u[1:nx-1] + b*u[1:nx-1]*u[1:nx-1] + \\\n",
    "                 dx/32.*(ux2[2:nx] - ux2[0:nx-2]) + \\\n",
    "                 (dx*dx/24.)*uxxx[1:nx-1]*(1.+2.*u[1:nx-1])\n",
    "    ff[0] = a*u[0] + b*u[0]*u[0] + \\\n",
    "            dx/32.*(ux2[1] - ux2[nx-1]) + \\\n",
    "            (dx*dx/24.)*uxxx[0]*(1.+2.*u[0])\n",
    "    ff[nx-1] = a*u[nx-1] + b*u[nx-1]*u[nx-1] + \\\n",
    "               dx/32.*(ux2[0] - ux2[nx-2]) + \\\n",
    "               (dx*dx/24.)*uxxx[nx-1]*(1.+2.*u[nx-1])\n",
    "    ff[nx] = a*u[nx] + b*u[nx]*u[nx] + \\\n",
    "             dx/32.*(ux2[1] - ux2[nx-1]) +  \\\n",
    "             (dx*dx/24.)*uxxx[nx]*(1.+2.*u[nx])\n",
    "            \n",
    "    #print(uxxx)\n",
    "    \n",
    "    return ff"
   ]
  },
  {
   "cell_type": "code",
   "execution_count": 2,
   "metadata": {
    "collapsed": false
   },
   "outputs": [
    {
     "name": "stdout",
     "output_type": "stream",
     "text": [
      "Appending to kdv.py\n"
     ]
    }
   ],
   "source": [
    "%%writefile kdv.py -a\n",
    "\n",
    "def Riemann(u,x,t,a,b):\n",
    "    uint = np.zeros_like(x)\n",
    "    for  i in range(0,x.size-1):\n",
    "        #incl = x[i]/t\n",
    "        incl = 0\n",
    "        um = u[i]\n",
    "        up = u[i+1]\n",
    "        if um == up :\n",
    "            uint[i] = um\n",
    "        elif  um > up:\n",
    "            sigma = (Flux(um,a,b) - Flux(up,a,b))/(um-up)\n",
    "            if incl < sigma:\n",
    "                uint[i] = um\n",
    "            else:\n",
    "                uint[i] = up\n",
    "        else:\n",
    "            if incl < Fluxder(um,a,b) :\n",
    "                uint[i] = um\n",
    "            elif incl > Fluxder(up,a,b) :\n",
    "                uint[i] = up\n",
    "            else:\n",
    "                uint[i] = Fluxderinv(incl,a,b)\n",
    "    #uint[0] = u[0]\n",
    "    uint[x.size-1] = u[x.size-1]\n",
    "    return uint"
   ]
  },
  {
   "cell_type": "code",
   "execution_count": 3,
   "metadata": {
    "collapsed": false
   },
   "outputs": [
    {
     "name": "stdout",
     "output_type": "stream",
     "text": [
      "Appending to kdv.py\n"
     ]
    }
   ],
   "source": [
    "%%writefile kdv.py -a\n",
    "\n",
    "def Euler(u,dx,dt,periodic):\n",
    "    umm = np.roll(u,1)\n",
    "    if periodic :\n",
    "        umm[0] = u[u.size-1]\n",
    "    \n",
    "    f = Flux(u)\n",
    "    fmm = Flux(umm)\n",
    "    \n",
    "    u2 = u - dt/dx*(f-fmm)\n",
    "    \n",
    "    return u2"
   ]
  },
  {
   "cell_type": "code",
   "execution_count": 4,
   "metadata": {
    "collapsed": false
   },
   "outputs": [
    {
     "name": "stdout",
     "output_type": "stream",
     "text": [
      "Appending to kdv.py\n"
     ]
    }
   ],
   "source": [
    "%%writefile kdv.py -a\n",
    "\n",
    "def getRKCoef(u,x,t,dx,dt,a,b,periodic):\n",
    "    uint = Riemann(u,x,t,a,b)\n",
    "    uintmm = np.roll(uint,1)\n",
    "    if periodic :\n",
    "        uintmm[0] = uintmm[u.size-1]\n",
    "    else :\n",
    "        uintmm[0] = u[0]\n",
    "        uint[u.size-1] = u[u.size-1]\n",
    "        \n",
    "    f = Flux(uint,a,b)\n",
    "    fmm = Flux(uintmm,a,b)\n",
    "    #print(uint[0],uintmm[0],uint[u.size-1],uintmm[u.size-1])\n",
    "    return dt*(fmm-f)/dx\n",
    "        \n",
    "def RK4(u,x,t,dx,dt,a,b,periodic):\n",
    "        \n",
    "    k1 = getRKCoef(u,x,t,dx,dt,a,b,periodic)\n",
    "    k2 = getRKCoef(u+k1/2,x,t,dx,dt,a,b,periodic)\n",
    "    k3 = getRKCoef(u+k2/2,x,t,dx,dt,a,b,periodic)\n",
    "    k4 = getRKCoef(u+k3,x,t,dx,dt,a,b,periodic)\n",
    "    \n",
    "    u2 = u + 1./6.*(k1+2*k2+2*k3+k4)\n",
    "    \n",
    "    return u2"
   ]
  },
  {
   "cell_type": "code",
   "execution_count": 5,
   "metadata": {
    "collapsed": false
   },
   "outputs": [
    {
     "name": "stdout",
     "output_type": "stream",
     "text": [
      "Appending to kdv.py\n"
     ]
    }
   ],
   "source": [
    "%%writefile kdv.py -a\n",
    "\n",
    "def FourierSolverBBM(u,t,dt,dx):\n",
    "    k = 1./(dx*dx)\n",
    "    \n",
    "    nx = u.size-1\n",
    "    \n",
    "    uxx = np.zeros(nx+1)\n",
    "    #uxx[1:nx] = 1./(dx*dx) * (u[0:nx-1] -2.*u[1:nx] + u[2:nx+1])\n",
    "    #uxx[0] = 1./(dx*dx)*(u[nx-1] -2.*u[0] + u[1])\n",
    "    #uxx[nx] = uxx[0]\n",
    "    \n",
    "    for i in range(1,nx-1):\n",
    "        uxx[i] = k *(u[i-1] -2.*u[i] + u[i+1])\n",
    "    #uxx[0] = k *(u[nx-1] -2.*u[0] + u[1])\n",
    "    #uxx[nx-1] = k *(u[nx-2] -2.*u[nx-1] + u[0])\n",
    "    #uxx[nx] = uxx[0]\n",
    "    uxx[0] = uxx[nx-1]\n",
    "    uxx[nx] = uxx[1]\n",
    "    \n",
    "    #uxx[2:nx-1] = 1./(dx*dx) * (-1./12.*u[0:nx-3] + 4./3.*u[1:nx-2] -5./2.*u[2:nx-1] + 4./3.*u[3:nx] -1./12.*u[4:nx+1] )\n",
    "    #uxx[0] = 1./(dx*dx) * (-1./12.*u[nx-2] + 4./3.*u[nx-1] -5./2.*u[0] + 4./3.*u[1] -1./12.*u[2] )\n",
    "    #uxx[1] = 1./(dx*dx) * (-1./12.*u[nx-1] + 4./3.*u[0] -5./2.*u[1] + 4./3.*u[2] -1./12.*u[3] )\n",
    "    #uxx[nx-1] = 1./(dx*dx) * (-1./12.*u[nx-3] + 4./3.*u[nx-2] -5./2.*u[nx-1] + 4./3.*u[0] -1./12.*u[1] )\n",
    "    #uxx[nx] = uxx[0]\n",
    "    \n",
    "    g = u - uxx\n",
    "    \n",
    "    ghat = np.fft.fft(g)\n",
    "    freq = np.fft.fftfreq(ghat.size,d=dx)\n",
    "    #freq = np.linspace(-nx/2,nx/2,nx+1)\n",
    "    #freq = np.fft.fftshift(freq)\n",
    "    k = np.fft.ifft(1./(1.+freq*freq))\n",
    "    uhat = ghat/(1.+freq*freq)\n",
    "    u3 = np.fft.ifft(uhat)\n",
    "    u2 = np.convolve(g,k,mode='same')\n",
    "\n",
    "    return np.real(u3)"
   ]
  },
  {
   "cell_type": "code",
   "execution_count": 6,
   "metadata": {
    "collapsed": false
   },
   "outputs": [
    {
     "name": "stdout",
     "output_type": "stream",
     "text": [
      "Appending to kdv.py\n"
     ]
    }
   ],
   "source": [
    "%%writefile kdv.py -a\n",
    "\n",
    "def FourierSolverBBM2(u,uxx,t,dt,dx):\n",
    "    k = 1./(dx*dx)\n",
    "    \n",
    "    nx = u.size-1\n",
    "       \n",
    "    g = u - uxx\n",
    "    \n",
    "    ghat = np.fft.fft(g)\n",
    "    freq = np.fft.fftfreq(ghat.size,d=dx)\n",
    "    #freq = np.linspace(-nx/2,nx/2,nx+1)\n",
    "    #freq = np.fft.fftshift(freq)\n",
    "    k = np.fft.ifft(1./(1.+freq*freq))\n",
    "    uhat = ghat/(1.+freq*freq)\n",
    "    u3 = np.fft.ifft(uhat)\n",
    "    u2 = np.convolve(g,k,mode='same')\n",
    "\n",
    "    return np.real(u3)"
   ]
  },
  {
   "cell_type": "code",
   "execution_count": 7,
   "metadata": {
    "collapsed": false
   },
   "outputs": [
    {
     "name": "stdout",
     "output_type": "stream",
     "text": [
      "Appending to kdv.py\n"
     ]
    }
   ],
   "source": [
    "%%writefile kdv.py -a\n",
    "\n",
    "import sys\n",
    "import math\n",
    "\n",
    "\n",
    "def FDSolverBBM(u,t,dt,dx,BC):\n",
    "    k = 1./(dx*dx)\n",
    "\n",
    "    nx = u.size - 1\n",
    "\n",
    "    d0 = 1.+2.*k*np.ones(nx+1)\n",
    "    d1 = -k*np.ones(nx)\n",
    "    \n",
    "    M = np.diag(d0) + np.diag(d1,1) + np.diag(d1,-1)\n",
    "          \n",
    "    vvv = np.zeros(nx+1)\n",
    "    vvv[0] = 1. - 1.*k\n",
    "    vvv[1] = 2.*k\n",
    "    vvv[2] = -1.*k  \n",
    "    \n",
    "    zzz = np.flipud(vvv)\n",
    "\n",
    "    M[0,:] = vvv   \n",
    "    M[nx,:] = zzz\n",
    "\n",
    "    uxx = np.zeros(nx+1)\n",
    "    uxx[1:nx] = k*(u[0:nx-1] -2.*u[1:nx] + u[2:nx+1])\n",
    "    uxx[0] = uxx[1]\n",
    "    uxx[nx] = uxx[nx-1]\n",
    "    \n",
    "    rhs = u - uxx\n",
    "    \n",
    "    ### Boundary conditions\n",
    "    ## Structure : BC=[u(left),ux(left),uxx(left),alpha*u(left) + beta*ux(right),\n",
    "    ##                 u(right),ux(right),uxx(right),alpha*u(right) + beta*ux(right),\n",
    "    ##                 alpha,beta] \n",
    "    cntBC = 0\n",
    "    if not math.isnan(BC[0]) : # u L\n",
    "        cntBC = cntBC+1\n",
    "        M[0,:] = 0.\n",
    "        M[0,0] = 1.\n",
    "        rhs[0] = BC[0]\n",
    "    if not math.isnan(BC[1]) : # ux L\n",
    "        cntBC = cntBC+1\n",
    "        M[1,:] = 0.\n",
    "        M[1,0] = -1.\n",
    "        M[1,1] = 1.\n",
    "        rhs[1] = dx*BC[1]\n",
    "    if not math.isnan(BC[2]) : # uxx L\n",
    "        cntBC = cntBC+1\n",
    "        M[2,:] = 0.\n",
    "        M[2,0] = 1.\n",
    "        M[2,1] = -2.\n",
    "        M[2,2] = 1.\n",
    "        rhs[2] = dx*dx*BC[2]\n",
    "    if not math.isnan(BC[3]) : # Robin L\n",
    "        cntBC = cntBC+1\n",
    "        if not (math.isnan(BC[0]) and math.isnan(BC[1])) :\n",
    "            sys.exit(\"Error in left BC : Robin defined with Dirichlet and/or Neumann\")\n",
    "        M[0,:] = 0.\n",
    "        M[0,0] = BC[8] - BC[9]/dx\n",
    "        M[0,1] = BC[9]/dx   \n",
    "        rhs[0] = BC[3]\n",
    "    if not math.isnan(BC[4]) : # u R\n",
    "        cntBC = cntBC+1\n",
    "        M[nx,:] = 0.\n",
    "        M[nx,nx] = 1.\n",
    "        rhs[nx] = BC[4]\n",
    "    if not math.isnan(BC[5]) : # ux R\n",
    "        cntBC = cntBC+1\n",
    "        M[nx-1,:] = 0.\n",
    "        M[nx-1,nx] = 1.\n",
    "        M[nx-1,nx-1] = -1.\n",
    "        rhs[nx-1] = dx*BC[5]\n",
    "    if not math.isnan(BC[6]) : # uxx R\n",
    "        cntBC = cntBC+1\n",
    "        M[nx-2,:] = 0.\n",
    "        M[nx-2,nx] = 1.\n",
    "        M[nx-2,nx-1] = -2.   \n",
    "        M[nx-2,nx-2] = 1.\n",
    "        rhs[nx-2] = dx*dx*BC[6]\n",
    "    if not math.isnan(BC[7]) : # Robin R\n",
    "        cntBC = cntBC+1\n",
    "        if not (math.isnan(BC[4]) and math.isnan(BC[5])) :\n",
    "            sys.exit(\"Error in right BC : Robin defined with Dirichlet and/or Neumann\")\n",
    "        M[nx,:] = 0.\n",
    "        M[nx,nx] = BC[8] + BC[9]/dx\n",
    "        M[nx,nx-1] = -BC[9]/dx   \n",
    "        rhs[nx] = BC[7]\n",
    "    \n",
    "    if cntBC != 3 :\n",
    "        print(cntBC)\n",
    "        print(BC)\n",
    "        sys.exit(\"Wrong number of BC\")\n",
    "        \n",
    "    \n",
    "    np.set_printoptions(threshold=np.nan)\n",
    "    np.set_printoptions(suppress=True)\n",
    "    \n",
    "    u2 = np.linalg.solve(M,rhs)\n",
    "\n",
    "    #print(M)\n",
    "    #print(u2)\n",
    "    \n",
    "    return u2"
   ]
  },
  {
   "cell_type": "code",
   "execution_count": 8,
   "metadata": {
    "collapsed": false
   },
   "outputs": [
    {
     "name": "stdout",
     "output_type": "stream",
     "text": [
      "Appending to kdv.py\n"
     ]
    }
   ],
   "source": [
    "%%writefile kdv.py -a\n",
    "\n",
    "def getDxx(u,uprev,dx,dt,a,b):\n",
    "    \n",
    "    nx = u.size-1\n",
    "    \n",
    "    ut = (u-uprev)/dt\n",
    "    \n",
    "    utx = np.zeros(nx+1)\n",
    "    ux = np.zeros(nx+1)\n",
    "    \n",
    "    utx[1:nx] = (ut[2:nx+1] - ut[0:nx-1])/(2.*dx)\n",
    "    utx[0] = (ut[1] - ut[nx-1])/(2.*dx)\n",
    "    utx[nx] = utx[0]\n",
    "    \n",
    "    ux[1:nx] = (u[2:nx+1] - u[0:nx-1])/(2.*dx)\n",
    "    ux[0] = (u[1] - u[nx-1])/(2.*dx)\n",
    "    ux[nx] = ux[0]\n",
    "    \n",
    "    uxx = (-utx -2*b*ux*ux)/(a+2.*b*u)\n",
    "    \n",
    "    return uxx"
   ]
  },
  {
   "cell_type": "code",
   "execution_count": 9,
   "metadata": {
    "collapsed": false
   },
   "outputs": [
    {
     "name": "stdout",
     "output_type": "stream",
     "text": [
      "Appending to kdv.py\n"
     ]
    }
   ],
   "source": [
    "%%writefile kdv.py -a\n",
    "\n",
    "def discretizeSpace(xmin,xmax,dx) :\n",
    "    nx = int((xmax-xmin)/dx)\n",
    "    x = np.linspace(xmin, xmax,nx+1)    \n",
    "    return x"
   ]
  },
  {
   "cell_type": "code",
   "execution_count": 10,
   "metadata": {
    "collapsed": false
   },
   "outputs": [
    {
     "name": "stdout",
     "output_type": "stream",
     "text": [
      "Appending to kdv.py\n"
     ]
    }
   ],
   "source": [
    "%%writefile kdv.py -a\n",
    "\n",
    "def runRk4FVFourierBBM(x,u,t0,tmax,a,b,periodic=1, bc=None, constantBC = True, vardt = True):\n",
    "    t = t0\n",
    "    tall = np.ones(1)*t0\n",
    "    u0 = u\n",
    "    uall = u\n",
    "    u0min = np.amin(u)\n",
    "    u0max = np.amax(u)\n",
    "    dx = np.diff(x)[0]\n",
    "    iter = 0\n",
    "    eps = 1e-6\n",
    "\n",
    "    ##### Parameters\n",
    "    printstep = 5\n",
    "    \n",
    "    if not vardt :\n",
    "        umax = np.amax(np.absolute(u))\n",
    "        dt = dx/(1.*a+2*b*umax) - eps\n",
    "    \n",
    "    while t<tmax:\n",
    "        iter = iter + 1\n",
    "        \n",
    "        if vardt:\n",
    "            umax = np.amax(np.absolute(u))\n",
    "            dt = dx/(1.*a+2*b*umax) - eps     # CFL CONDITION\n",
    "\n",
    "        t = t+dt\n",
    "        u = RK4(u,x,t,dx,dt,a,b,periodic)\n",
    "        \n",
    "        if periodic :\n",
    "            u = FourierSolverBBM2(u,t,dt,dx)\n",
    "        else :\n",
    "            if constantBC :\n",
    "                BC = bc\n",
    "            else :\n",
    "                BC = bc[iter-1,:]\n",
    "            u = FDSolverBBM(u,t,dt,dx,BC)\n",
    "            ###u = ChebyshevSolver(x,u,dt,dx,A,B,C,cl)\n",
    "\n",
    "        uall = np.column_stack((uall,u))\n",
    "        tall = np.hstack((tall,t*np.ones(1)))\n",
    "        \n",
    "        if iter%100 == 0:\n",
    "            print(iter,t)\n",
    "    return uall,tall"
   ]
  },
  {
   "cell_type": "code",
   "execution_count": 11,
   "metadata": {
    "collapsed": false
   },
   "outputs": [],
   "source": [
    "import numpy as np\n",
    "import matplotlib.pyplot as plt\n",
    "import kdv\n",
    "\n",
    "%matplotlib inline\n",
    "\n",
    "nan = float('nan')"
   ]
  },
  {
   "cell_type": "code",
   "execution_count": 12,
   "metadata": {
    "collapsed": false
   },
   "outputs": [
    {
     "name": "stdout",
     "output_type": "stream",
     "text": [
      "*** Wave 3 ***\n",
      "Amplitude : 0.000100\n",
      "Wavelength : 0.100000\n",
      "1/(2.*Wavelength^2) : 50.000000\n",
      "h0min : 0.150000\n",
      "h0max : 0.001592\n",
      "eps : 0.001000\n",
      "B : 0.100000\n",
      "alpha^2 : 0.000957\n",
      "Space steps : 1001\n"
     ]
    }
   ],
   "source": [
    "### Wave 3\n",
    "eps = 0.001\n",
    "B = 0.1\n",
    "A = .0001\n",
    "wvl = .1\n",
    "h0min = 1.5*A/eps\n",
    "h0max = B*wvl/(2.*np.pi)\n",
    "h0 = 0.5*(h0min+h0max)\n",
    "alpha2 = h0*h0/6.\n",
    "\n",
    "L = 50.*wvl\n",
    "xmin = -L\n",
    "xmax = L\n",
    "N = 1000\n",
    "dx = (xmax-xmin)/N\n",
    "x = kdv.discretizeSpace(xmin,xmax,dx)\n",
    "\n",
    "print(r'*** Wave 3 ***')\n",
    "print(r'Amplitude : %f' %A)\n",
    "print(r'Wavelength : %f' %wvl)\n",
    "print(r'1/(2.*Wavelength^2) : %f' %(1./(2.*wvl*wvl)))\n",
    "print(r'h0min : %f' %h0min)\n",
    "print(r'h0max : %f' %h0max)\n",
    "print(r'eps : %f' %eps)\n",
    "print(r'B : %f' %B)\n",
    "print(r'alpha^2 : %f' %alpha2)\n",
    "print(r'Space steps : %d' %x.size)"
   ]
  },
  {
   "cell_type": "code",
   "execution_count": 13,
   "metadata": {
    "collapsed": false
   },
   "outputs": [
    {
     "ename": "TypeError",
     "evalue": "FourierSolverBBM2() takes exactly 5 arguments (4 given)",
     "output_type": "error",
     "traceback": [
      "\u001b[0;31m---------------------------------------------------------------------------\u001b[0m",
      "\u001b[0;31mTypeError\u001b[0m                                 Traceback (most recent call last)",
      "\u001b[0;32m<ipython-input-13-37c9555dea3b>\u001b[0m in \u001b[0;36m<module>\u001b[0;34m()\u001b[0m\n\u001b[1;32m     18\u001b[0m \u001b[0mBC\u001b[0m\u001b[0;34m=\u001b[0m\u001b[0mnp\u001b[0m\u001b[0;34m.\u001b[0m\u001b[0marray\u001b[0m\u001b[0;34m(\u001b[0m\u001b[0;34m[\u001b[0m\u001b[0msource\u001b[0m\u001b[0;34m,\u001b[0m\u001b[0mvz\u001b[0m\u001b[0;34m,\u001b[0m\u001b[0mvnan\u001b[0m\u001b[0;34m,\u001b[0m\u001b[0mvnan\u001b[0m\u001b[0;34m,\u001b[0m\u001b[0mvz\u001b[0m\u001b[0;34m,\u001b[0m\u001b[0mvnan\u001b[0m\u001b[0;34m,\u001b[0m\u001b[0mvnan\u001b[0m\u001b[0;34m,\u001b[0m\u001b[0mvnan\u001b[0m\u001b[0;34m,\u001b[0m\u001b[0mvz\u001b[0m\u001b[0;34m,\u001b[0m\u001b[0mvz\u001b[0m\u001b[0;34m]\u001b[0m\u001b[0;34m)\u001b[0m\u001b[0;34m.\u001b[0m\u001b[0mtranspose\u001b[0m\u001b[0;34m(\u001b[0m\u001b[0;34m)\u001b[0m\u001b[0;34m\u001b[0m\u001b[0m\n\u001b[1;32m     19\u001b[0m \u001b[0;34m\u001b[0m\u001b[0m\n\u001b[0;32m---> 20\u001b[0;31m \u001b[0muall\u001b[0m\u001b[0;34m,\u001b[0m \u001b[0mtall\u001b[0m \u001b[0;34m=\u001b[0m \u001b[0mkdv\u001b[0m\u001b[0;34m.\u001b[0m\u001b[0mrunRk4FVFourierBBM\u001b[0m\u001b[0;34m(\u001b[0m\u001b[0mx\u001b[0m\u001b[0;34m,\u001b[0m\u001b[0mu\u001b[0m\u001b[0;34m,\u001b[0m\u001b[0mt0\u001b[0m\u001b[0;34m=\u001b[0m\u001b[0;36m0\u001b[0m\u001b[0;34m,\u001b[0m\u001b[0mtmax\u001b[0m\u001b[0;34m=\u001b[0m\u001b[0;36m1\u001b[0m\u001b[0;34m,\u001b[0m\u001b[0ma\u001b[0m\u001b[0;34m=\u001b[0m\u001b[0;36m1\u001b[0m\u001b[0;34m,\u001b[0m\u001b[0mb\u001b[0m\u001b[0;34m=\u001b[0m\u001b[0;36m1\u001b[0m\u001b[0;34m,\u001b[0m\u001b[0mperiodic\u001b[0m\u001b[0;34m=\u001b[0m\u001b[0;36m1\u001b[0m\u001b[0;34m,\u001b[0m\u001b[0mbc\u001b[0m\u001b[0;34m=\u001b[0m\u001b[0mBC\u001b[0m\u001b[0;34m,\u001b[0m \u001b[0mconstantBC\u001b[0m\u001b[0;34m=\u001b[0m\u001b[0mTrue\u001b[0m\u001b[0;34m,\u001b[0m \u001b[0mvardt\u001b[0m \u001b[0;34m=\u001b[0m \u001b[0mTrue\u001b[0m\u001b[0;34m)\u001b[0m\u001b[0;34m\u001b[0m\u001b[0m\n\u001b[0m",
      "\u001b[0;32m/Users/joaocaldas/Documents/Work/inriamericwaves/Simulations/kdv.py\u001b[0m in \u001b[0;36mrunRk4FVFourierBBM\u001b[0;34m(x, u, t0, tmax, a, b, periodic, bc, constantBC, vardt)\u001b[0m\n\u001b[1;32m    312\u001b[0m \u001b[0;34m\u001b[0m\u001b[0m\n\u001b[1;32m    313\u001b[0m         \u001b[0;32mif\u001b[0m \u001b[0mperiodic\u001b[0m \u001b[0;34m:\u001b[0m\u001b[0;34m\u001b[0m\u001b[0m\n\u001b[0;32m--> 314\u001b[0;31m             \u001b[0mu\u001b[0m \u001b[0;34m=\u001b[0m \u001b[0mFourierSolverBBM2\u001b[0m\u001b[0;34m(\u001b[0m\u001b[0mu\u001b[0m\u001b[0;34m,\u001b[0m\u001b[0mt\u001b[0m\u001b[0;34m,\u001b[0m\u001b[0mdt\u001b[0m\u001b[0;34m,\u001b[0m\u001b[0mdx\u001b[0m\u001b[0;34m)\u001b[0m\u001b[0;34m\u001b[0m\u001b[0m\n\u001b[0m\u001b[1;32m    315\u001b[0m         \u001b[0;32melse\u001b[0m \u001b[0;34m:\u001b[0m\u001b[0;34m\u001b[0m\u001b[0m\n\u001b[1;32m    316\u001b[0m             \u001b[0;32mif\u001b[0m \u001b[0mconstantBC\u001b[0m \u001b[0;34m:\u001b[0m\u001b[0;34m\u001b[0m\u001b[0m\n",
      "\u001b[0;31mTypeError\u001b[0m: FourierSolverBBM2() takes exactly 5 arguments (4 given)"
     ]
    }
   ],
   "source": [
    "u = np.zeros_like(x)\n",
    "u = A*np.exp(-(x-0.)**2/(2.*wvl*wvl))\n",
    "#u = np.where( (x>=3.*wvl)*(x<=4.*wvl), 1.0, u)\n",
    "T = 100\n",
    "umax = np.amax(np.absolute(u))\n",
    "dt = dx/(1.+2*umax) - eps\n",
    "i = 0\n",
    "iters=np.array([0])\n",
    "\n",
    "while i*dt < T :\n",
    "    i = i+1\n",
    "    iters = np.append(iters,i*dt)\n",
    "\n",
    "source = A*np.cos(np.pi*iters)\n",
    "vz = np.zeros_like(source)\n",
    "vnan = np.ones_like(source)*nan\n",
    "\n",
    "BC=np.array([source,vz,vnan,vnan,vz,vnan,vnan,vnan,vz,vz]).transpose()\n",
    "\n",
    "uall, tall = kdv.runRk4FVFourierBBM(x,u,t0=0,tmax=1,a=1,b=1,periodic=1,bc=BC, constantBC=True, vardt = True)"
   ]
  },
  {
   "cell_type": "code",
   "execution_count": null,
   "metadata": {
    "collapsed": false
   },
   "outputs": [],
   "source": [
    "from matplotlib import animation\n",
    "from JSAnimation import IPython_display\n",
    "\n",
    "fig = plt.figure()\n",
    "ax = plt.axes(xlim=(xmin, xmax), ylim=(-2*A, 2*A))\n",
    "line, = ax.plot([], [], lw=2)\n",
    "ax.set_ylabel(r'$u$')\n",
    "title = ax.set_title(r'$t=0.0 s$')\n",
    "\n",
    "\n",
    "def init():\n",
    "    line.set_data([], [])\n",
    "    return line,\n",
    "\n",
    "def animate(i):\n",
    "    line.set_data(x, uall[:,i])\n",
    "    title.set_text('t=%.3f'%(tall[i]))\n",
    "    return line,\n",
    "\n",
    "animation.FuncAnimation(fig, animate, init_func=init,\n",
    "                        frames=uall.shape[-1], interval=300)"
   ]
  }
 ],
 "metadata": {
  "hide_input": false,
  "kernelspec": {
   "display_name": "Python 2",
   "language": "python",
   "name": "python2"
  },
  "language_info": {
   "codemirror_mode": {
    "name": "ipython",
    "version": 2
   },
   "file_extension": ".py",
   "mimetype": "text/x-python",
   "name": "python",
   "nbconvert_exporter": "python",
   "pygments_lexer": "ipython2",
   "version": "2.7.11"
  },
  "latex_envs": {
   "bibliofile": "biblio.bib",
   "cite_by": "apalike",
   "current_citInitial": 1,
   "eqLabelWithNumbers": true,
   "eqNumInitial": 0
  },
  "toc": {
   "toc_cell": false,
   "toc_number_sections": true,
   "toc_threshold": 6,
   "toc_window_display": false
  }
 },
 "nbformat": 4,
 "nbformat_minor": 0
}
