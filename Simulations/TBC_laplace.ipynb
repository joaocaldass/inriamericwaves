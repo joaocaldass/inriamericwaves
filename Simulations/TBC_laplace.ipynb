{
 "cells": [
  {
   "cell_type": "markdown",
   "metadata": {},
   "source": [
    "# Resolution of the Laplace equation with transparent boundary conditions (TBC)\n",
    "\n",
    "\n",
    "We will consider the 1D problem \n",
    "\n",
    "\\begin{equation}\n",
    "\\begin{cases}\n",
    "-u''(x) = 1 \\ \\ in \\ \\ \\Omega = [0,2]\\\\\n",
    "u(0) = 0 \\\\\n",
    "u(2) = 0\n",
    "\\end{cases}\n",
    "\\end{equation}\n",
    "\n",
    "whose solution is $u(x) = -\\frac{x^2}{2} + x$\n",
    "\n",
    "and, considering the partition of $\\Omega$ in $\\Omega_1 = [0,1]$ and $\\Omega_2 = [1,2]$, we will solve the problem\n",
    "\n",
    "\\begin{equation}\n",
    "\\begin{cases}\n",
    "-u_1''(x) = 1 \\ \\ in \\ \\ \\Omega_1\\\\\n",
    "u_1(0) = 0 \\\\\n",
    "B(u_1) = 0 \\ \\ at \\ \\ \\Gamma=\\{1\\}\n",
    "\\end{cases}\n",
    "\\end{equation}\n",
    "\n",
    "where the transparent boundary condition $B(u)$ is such that $u|_{\\Omega_1} = u_1$.\n",
    "\n",
    "The TBC is written in the form $B(u) = \\frac{\\partial}{\\partial x}u + D2N(u)$, where the D2N (Dirichlet to Neumann) operator is defined by\n",
    "\n",
    "$\\left. D2N : \\alpha(x) \\mapsto \\frac{\\partial}{\\partial x}v \\right\\rvert_\\Gamma$\n",
    "\n",
    "where $\\alpha$ is defined in the boundary $\\Gamma$. In the case treated here, $\\Gamma$ is a point, and therefore $\\alpha$ is a scalar.\n",
    "\n",
    "The function $v$ is solution of\n",
    "\n",
    "\\begin{equation}\n",
    "\\begin{cases}\n",
    "-v''(x) = 1 \\ \\ in \\ \\ \\Omega_2\\\\\n",
    "v(2) = 0 \\\\\n",
    "v(1) = \\alpha \\ \\ at \\ \\ \\Gamma=\\{1\\}\n",
    "\\end{cases}\n",
    "\\end{equation}\n",
    "\n",
    "so\n",
    "\n",
    "$v(x) = -\\frac{x^2}{2} + \\left(\\frac{3}{2} - \\alpha \\right) + 2\\alpha -1$\n",
    "\n",
    "and \n",
    "\n",
    "$\\left. \\frac{\\partial}{\\partial x}v \\right\\rvert_{x=1} = \\frac{1}{2} - \\alpha$\n",
    "\n",
    "Finally, the TBC is \n",
    "\n",
    "$B(u_1) = \\frac{\\partial}{\\partial x}u_1 + D2N(u_1) = \\frac{\\partial}{\\partial x}u_1+ \\frac{1}{2} - u_1$\n"
   ]
  },
  {
   "cell_type": "code",
   "execution_count": 1,
   "metadata": {
    "collapsed": true
   },
   "outputs": [],
   "source": [
    "import numpy as np\n",
    "import matplotlib.pyplot as plt\n",
    "%matplotlib inline"
   ]
  },
  {
   "cell_type": "code",
   "execution_count": 2,
   "metadata": {
    "collapsed": false
   },
   "outputs": [
    {
     "name": "stdout",
     "output_type": "stream",
     "text": [
      "0.0\n",
      "[[ 1.  0.  0.  0.  0.  0.]\n",
      " [ 1. -2.  1.  0.  0.  0.]\n",
      " [ 0.  1. -2.  1.  0.  0.]\n",
      " [ 0.  0.  1. -2.  1.  0.]\n",
      " [ 0.  0.  0.  1. -2.  1.]\n",
      " [ 0.  0.  0.  0. -5.  4.]]\n",
      "[ 0.   -0.04 -0.04 -0.04 -0.04 -0.5 ]\n"
     ]
    },
    {
     "ename": "LinAlgError",
     "evalue": "Singular matrix",
     "output_type": "error",
     "traceback": [
      "\u001b[0;31m---------------------------------------------------------------------------\u001b[0m",
      "\u001b[0;31mLinAlgError\u001b[0m                               Traceback (most recent call last)",
      "\u001b[0;32m<ipython-input-2-95195f50b236>\u001b[0m in \u001b[0;36m<module>\u001b[0;34m()\u001b[0m\n\u001b[1;32m     45\u001b[0m \u001b[0;32mprint\u001b[0m\u001b[0;34m(\u001b[0m\u001b[0mrhs1\u001b[0m\u001b[0;34m)\u001b[0m\u001b[0;34m\u001b[0m\u001b[0m\n\u001b[1;32m     46\u001b[0m \u001b[0;34m\u001b[0m\u001b[0m\n\u001b[0;32m---> 47\u001b[0;31m \u001b[0mu1\u001b[0m \u001b[0;34m=\u001b[0m \u001b[0mnp\u001b[0m\u001b[0;34m.\u001b[0m\u001b[0mlinalg\u001b[0m\u001b[0;34m.\u001b[0m\u001b[0msolve\u001b[0m\u001b[0;34m(\u001b[0m\u001b[0mM1\u001b[0m\u001b[0;34m,\u001b[0m\u001b[0mrhs1\u001b[0m\u001b[0;34m)\u001b[0m\u001b[0;34m\u001b[0m\u001b[0m\n\u001b[0m\u001b[1;32m     48\u001b[0m \u001b[0mu2\u001b[0m \u001b[0;34m=\u001b[0m \u001b[0mnp\u001b[0m\u001b[0;34m.\u001b[0m\u001b[0mlinalg\u001b[0m\u001b[0;34m.\u001b[0m\u001b[0msolve\u001b[0m\u001b[0;34m(\u001b[0m\u001b[0mM2\u001b[0m\u001b[0;34m,\u001b[0m\u001b[0mrhs2\u001b[0m\u001b[0;34m)\u001b[0m\u001b[0;34m\u001b[0m\u001b[0m\n\u001b[1;32m     49\u001b[0m \u001b[0;34m\u001b[0m\u001b[0m\n",
      "\u001b[0;32m/Users/joaocaldas/Softwares/anaconda2/lib/python2.7/site-packages/numpy/linalg/linalg.pyc\u001b[0m in \u001b[0;36msolve\u001b[0;34m(a, b)\u001b[0m\n\u001b[1;32m    382\u001b[0m     \u001b[0msignature\u001b[0m \u001b[0;34m=\u001b[0m \u001b[0;34m'DD->D'\u001b[0m \u001b[0;32mif\u001b[0m \u001b[0misComplexType\u001b[0m\u001b[0;34m(\u001b[0m\u001b[0mt\u001b[0m\u001b[0;34m)\u001b[0m \u001b[0;32melse\u001b[0m \u001b[0;34m'dd->d'\u001b[0m\u001b[0;34m\u001b[0m\u001b[0m\n\u001b[1;32m    383\u001b[0m     \u001b[0mextobj\u001b[0m \u001b[0;34m=\u001b[0m \u001b[0mget_linalg_error_extobj\u001b[0m\u001b[0;34m(\u001b[0m\u001b[0m_raise_linalgerror_singular\u001b[0m\u001b[0;34m)\u001b[0m\u001b[0;34m\u001b[0m\u001b[0m\n\u001b[0;32m--> 384\u001b[0;31m     \u001b[0mr\u001b[0m \u001b[0;34m=\u001b[0m \u001b[0mgufunc\u001b[0m\u001b[0;34m(\u001b[0m\u001b[0ma\u001b[0m\u001b[0;34m,\u001b[0m \u001b[0mb\u001b[0m\u001b[0;34m,\u001b[0m \u001b[0msignature\u001b[0m\u001b[0;34m=\u001b[0m\u001b[0msignature\u001b[0m\u001b[0;34m,\u001b[0m \u001b[0mextobj\u001b[0m\u001b[0;34m=\u001b[0m\u001b[0mextobj\u001b[0m\u001b[0;34m)\u001b[0m\u001b[0;34m\u001b[0m\u001b[0m\n\u001b[0m\u001b[1;32m    385\u001b[0m \u001b[0;34m\u001b[0m\u001b[0m\n\u001b[1;32m    386\u001b[0m     \u001b[0;32mreturn\u001b[0m \u001b[0mwrap\u001b[0m\u001b[0;34m(\u001b[0m\u001b[0mr\u001b[0m\u001b[0;34m.\u001b[0m\u001b[0mastype\u001b[0m\u001b[0;34m(\u001b[0m\u001b[0mresult_t\u001b[0m\u001b[0;34m,\u001b[0m \u001b[0mcopy\u001b[0m\u001b[0;34m=\u001b[0m\u001b[0mFalse\u001b[0m\u001b[0;34m)\u001b[0m\u001b[0;34m)\u001b[0m\u001b[0;34m\u001b[0m\u001b[0m\n",
      "\u001b[0;32m/Users/joaocaldas/Softwares/anaconda2/lib/python2.7/site-packages/numpy/linalg/linalg.pyc\u001b[0m in \u001b[0;36m_raise_linalgerror_singular\u001b[0;34m(err, flag)\u001b[0m\n\u001b[1;32m     88\u001b[0m \u001b[0;34m\u001b[0m\u001b[0m\n\u001b[1;32m     89\u001b[0m \u001b[0;32mdef\u001b[0m \u001b[0m_raise_linalgerror_singular\u001b[0m\u001b[0;34m(\u001b[0m\u001b[0merr\u001b[0m\u001b[0;34m,\u001b[0m \u001b[0mflag\u001b[0m\u001b[0;34m)\u001b[0m\u001b[0;34m:\u001b[0m\u001b[0;34m\u001b[0m\u001b[0m\n\u001b[0;32m---> 90\u001b[0;31m     \u001b[0;32mraise\u001b[0m \u001b[0mLinAlgError\u001b[0m\u001b[0;34m(\u001b[0m\u001b[0;34m\"Singular matrix\"\u001b[0m\u001b[0;34m)\u001b[0m\u001b[0;34m\u001b[0m\u001b[0m\n\u001b[0m\u001b[1;32m     91\u001b[0m \u001b[0;34m\u001b[0m\u001b[0m\n\u001b[1;32m     92\u001b[0m \u001b[0;32mdef\u001b[0m \u001b[0m_raise_linalgerror_nonposdef\u001b[0m\u001b[0;34m(\u001b[0m\u001b[0merr\u001b[0m\u001b[0;34m,\u001b[0m \u001b[0mflag\u001b[0m\u001b[0;34m)\u001b[0m\u001b[0;34m:\u001b[0m\u001b[0;34m\u001b[0m\u001b[0m\n",
      "\u001b[0;31mLinAlgError\u001b[0m: Singular matrix"
     ]
    }
   ],
   "source": [
    "L = 1.\n",
    "\n",
    "n1 = 5\n",
    "n2 = 2*n1\n",
    "\n",
    "dx = L/n1\n",
    "\n",
    "x1 = np.linspace(0,L,n1+1)\n",
    "x2 = np.linspace(0,2*L,n2+1)\n",
    "\n",
    "d1A = -2.*np.ones(n1+1)\n",
    "d1B = 1*np.ones(n1)\n",
    "\n",
    "d2A = -2.*np.ones(n2+1)\n",
    "d2B = 1*np.ones(n2)\n",
    "\n",
    "M1 = np.diag(d1A) + np.diag(d1B,1) + np.diag(d1B,-1)\n",
    "M2 = np.diag(d2A) + np.diag(d2B,1) + np.diag(d2B,-1)\n",
    "\n",
    "M1[0,:] = 0\n",
    "M1[-1,:] = 0\n",
    "\n",
    "M2[0,:] = 0\n",
    "M2[-1,:] = 0\n",
    "\n",
    "M1[0,0] = 1.\n",
    "M1[-1,-1] = 1./dx - 1.\n",
    "M1[-1,-2] = -1./dx\n",
    "\n",
    "\n",
    "M2[0,0] = 1\n",
    "M2[-1,-1] = 1\n",
    "\n",
    "rhs1 = -dx*dx*np.ones(n1+1)\n",
    "rhs2 = -dx*dx*np.ones(n2+1)\n",
    "\n",
    "rhs1[0] = 0\n",
    "rhs1[-1] = -1./2.\n",
    "\n",
    "rhs2[0] = 0\n",
    "rhs2[-1] = 0\n",
    "\n",
    "print(np.linalg.det(M1))\n",
    "print(M1)\n",
    "print(rhs1)\n",
    "\n",
    "u1 = np.linalg.solve(M1,rhs1)\n",
    "u2 = np.linalg.solve(M2,rhs2)\n",
    "\n",
    "u1exact = -x1*x1/2. + x1\n",
    "u2exact = -x2*x2/2. + x2\n",
    "\n",
    "\n",
    "print(u1,u1exact)\n",
    "\n",
    "plt.plot(x1,u1)\n",
    "plt.plot(x1,u1exact)"
   ]
  }
 ],
 "metadata": {
  "kernelspec": {
   "display_name": "Python 2",
   "language": "python",
   "name": "python2"
  },
  "language_info": {
   "codemirror_mode": {
    "name": "ipython",
    "version": 2
   },
   "file_extension": ".py",
   "mimetype": "text/x-python",
   "name": "python",
   "nbconvert_exporter": "python",
   "pygments_lexer": "ipython2",
   "version": "2.7.11"
  }
 },
 "nbformat": 4,
 "nbformat_minor": 0
}
