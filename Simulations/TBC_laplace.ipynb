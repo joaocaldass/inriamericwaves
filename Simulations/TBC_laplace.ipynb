{
 "cells": [
  {
   "cell_type": "markdown",
   "metadata": {},
   "source": [
    "# Resolution of the Laplace equation with transparent boundary conditions (TBC)\n",
    "\n",
    "\n",
    "We will consider the 1D problem \n",
    "\n",
    "\\begin{equation}\n",
    "\\begin{cases}\n",
    "-u''(x) = 1 \\ \\ in \\ \\ \\Omega = [0,2]\\\\\n",
    "u(0) = 0 \\\\\n",
    "u(2) = 0\n",
    "\\end{cases}\n",
    "\\end{equation}\n",
    "\n",
    "whose solution is $u(x) = -\\frac{x^2}{2} + x$\n",
    "\n",
    "and, considering the partition of $\\Omega$ in $\\Omega_1 = [0,1]$ and $\\Omega_2 = [1,2]$, we will solve the problem\n",
    "\n",
    "\\begin{equation}\n",
    "\\begin{cases}\n",
    "-u_1''(x) = 1 \\ \\ in \\ \\ \\Omega_1\\\\\n",
    "u_1(0) = 0 \\\\\n",
    "B(u_1) = 0 \\ \\ at \\ \\ \\Gamma=\\{1\\}\n",
    "\\end{cases}\n",
    "\\end{equation}\n",
    "\n",
    "where the transparent boundary condition $B(u)$ is such that $u|_{\\Omega_1} = u_1$.\n",
    "\n",
    "The TBC is written in the form $B(u) = \\frac{\\partial}{\\partial x}u + D2N(u)$, where the D2N (Dirichlet to Neumann) operator is defined by\n",
    "\n",
    "$\\left. D2N : \\alpha(x) \\mapsto \\frac{\\partial}{\\partial x}v \\right\\rvert_\\Gamma$\n",
    "\n",
    "where $\\alpha$ is defined in the boundary $\\Gamma$. In the case treated here, $\\Gamma$ is a point, and therefore $\\alpha$ is a scalar.\n",
    "\n",
    "The function $v$ is solution of\n",
    "\n",
    "\\begin{equation}\n",
    "\\begin{cases}\n",
    "-v''(x) = 1 \\ \\ in \\ \\ \\Omega_2\\\\\n",
    "v(2) = 0 \\\\\n",
    "v(1) = \\alpha \\ \\ at \\ \\ \\Gamma=\\{1\\}\n",
    "\\end{cases}\n",
    "\\end{equation}\n",
    "\n",
    "so\n",
    "\n",
    "$v(x) = -\\frac{x^2}{2} + \\left(\\frac{3}{2} - \\alpha \\right) + 2\\alpha -1$\n",
    "\n",
    "and \n",
    "\n",
    "$\\left. \\frac{\\partial}{\\partial x}v \\right\\rvert_{x=1} = \\frac{1}{2} - \\alpha$\n",
    "\n",
    "Finally, the TBC is \n",
    "\n",
    "$B(u_1) = \\frac{\\partial}{\\partial x}u_1 + D2N(u_1) = \\frac{\\partial}{\\partial x}u_1+ \\frac{1}{2} - u_1$\n"
   ]
  },
  {
   "cell_type": "code",
   "execution_count": 1,
   "metadata": {
    "collapsed": true
   },
   "outputs": [],
   "source": [
    "import numpy as np\n",
    "import matplotlib.pyplot as plt\n",
    "%matplotlib inline"
   ]
  },
  {
   "cell_type": "code",
   "execution_count": 40,
   "metadata": {
    "collapsed": false
   },
   "outputs": [
    {
     "name": "stdout",
     "output_type": "stream",
     "text": [
      "18.0\n",
      "(10, 20)\n",
      "1.51389633084\n"
     ]
    },
    {
     "data": {
      "image/png": "[encoded data removed]",
      "text/plain": [
       "<matplotlib.figure.Figure at 0x10a00a190>"
      ]
     },
     "metadata": {},
     "output_type": "display_data"
    }
   ],
   "source": [
    "L = 1.\n",
    "\n",
    "n1 = 9\n",
    "n2 = 19\n",
    "\n",
    "\n",
    "x1 = np.linspace(0,L,n1+1)\n",
    "x2 = np.linspace(0,L,n2+1)\n",
    "\n",
    "dx1 = x1[1] - x1[0]\n",
    "dx2 = x2[1] - x2[0]\n",
    "\n",
    "d1A = -2.*np.ones(n1+1)\n",
    "d1B = 1*np.ones(n1)\n",
    "\n",
    "d2A = -2.*np.ones(n2+1)\n",
    "d2B = 1*np.ones(n2)\n",
    "\n",
    "M1 = np.diag(d1A) + np.diag(d1B,1) + np.diag(d1B,-1)\n",
    "M2 = np.diag(d2A) + np.diag(d2B,1) + np.diag(d2B,-1)\n",
    "\n",
    "M1[0,:] = 0\n",
    "M1[-1,:] = 0\n",
    "\n",
    "M2[0,:] = 0\n",
    "M2[-1,:] = 0\n",
    "\n",
    "M1[0,0] = 1.\n",
    "M1[-1,-1] = 1./dx1 + 1.\n",
    "M1[-1,-2] = -1./dx1\n",
    "\n",
    "\n",
    "M2[0,0] = 1.\n",
    "M2[-1,-1] = 1./dx2 + 1.\n",
    "M2[-1,-2] = -1./dx2\n",
    "\n",
    "rhs1 = -dx1*dx1*np.ones(n1+1)\n",
    "rhs2 = -dx2*dx2*np.ones(n2+1)\n",
    "\n",
    "rhs1[0] = 0\n",
    "rhs1[-1] = 1./2.\n",
    "\n",
    "rhs2[0] = 0\n",
    "rhs2[-1] = 1./2.\n",
    "\n",
    "print(np.linalg.det(M1))\n",
    "\n",
    "u1 = np.linalg.solve(M1,rhs1)\n",
    "u2 = np.linalg.solve(M2,rhs2)\n",
    "\n",
    "u1exact = -x1*x1/2. + x1\n",
    "u2exact = -x2*x2/2. + x2\n",
    "\n",
    "\n",
    "print(x1.size,x2.size)\n",
    "print(np.linalg.norm(u1-u1exact)/np.linalg.norm(u2-u2exact))\n",
    "\n",
    "plt.plot(x1,u1, label=r'Computed solution, %d points'%(n1+1))\n",
    "plt.plot(x2,u2, label=r'Computed solution, %d points'%(n2+1))\n",
    "plt.plot(x1,u1exact, label='Exact solution')\n",
    "plt.xlabel('x')\n",
    "plt.ylabel('u')\n",
    "plt.legend(loc=(0.3,0.1))\n",
    "plt.savefig(\"figures/TBClaplace\")"
   ]
  },
  {
   "cell_type": "code",
   "execution_count": 12,
   "metadata": {
    "collapsed": false
   },
   "outputs": [
    {
     "name": "stdout",
     "output_type": "stream",
     "text": [
      "0.01\n",
      "[[ 1.     0.     0.     0.     0.     0.   ]\n",
      " [ 1.    -2.     1.     0.     0.     0.   ]\n",
      " [ 0.     1.    -2.     1.     0.     0.   ]\n",
      " [ 0.     0.     1.    -2.     1.     0.   ]\n",
      " [ 0.     0.     0.     1.    -2.     1.   ]\n",
      " [ 0.     0.     0.     0.    -0.005  0.006]]\n",
      "[     0. -40000. -40000. -40000. -40000.    500.]\n",
      "(array([      0.,  170000.,  300000.,  390000.,  440000.,  450000.]), array([      0.,  -19800.,  -79600., -179400., -319200., -499000.]))\n"
     ]
    },
    {
     "data": {
      "text/plain": [
       "[<matplotlib.lines.Line2D at 0x109508610>]"
      ]
     },
     "execution_count": 12,
     "metadata": {},
     "output_type": "execute_result"
    },
    {
     "data": {
      "image/png": "[encoded data removed]",
      "text/plain": [
       "<matplotlib.figure.Figure at 0x10f8b2390>"
      ]
     },
     "metadata": {},
     "output_type": "display_data"
    }
   ],
   "source": [
    "L = 1000\n",
    "\n",
    "n1 = 5\n",
    "n2 = 2*n1\n",
    "\n",
    "dx = L/n1\n",
    "\n",
    "x1 = np.linspace(0,L,n1+1)\n",
    "x2 = np.linspace(0,2*L,n2+1)\n",
    "\n",
    "d1A = -2.*np.ones(n1+1)\n",
    "d1B = 1*np.ones(n1)\n",
    "\n",
    "d2A = -2.*np.ones(n2+1)\n",
    "d2B = 1*np.ones(n2)\n",
    "\n",
    "M1 = np.diag(d1A) + np.diag(d1B,1) + np.diag(d1B,-1)\n",
    "M2 = np.diag(d2A) + np.diag(d2B,1) + np.diag(d2B,-1)\n",
    "\n",
    "M1[0,:] = 0\n",
    "M1[-1,:] = 0\n",
    "\n",
    "M2[0,:] = 0\n",
    "M2[-1,:] = 0\n",
    "\n",
    "M1[0,0] = 1.\n",
    "M1[-1,-1] = 1./dx + 1./L\n",
    "M1[-1,-2] = -1./dx\n",
    "\n",
    "\n",
    "M2[0,0] = 1\n",
    "M2[-1,-1] = 1\n",
    "\n",
    "rhs1 = -dx*dx*np.ones(n1+1)\n",
    "rhs2 = -dx*dx*np.ones(n2+1)\n",
    "\n",
    "rhs1[0] = 0\n",
    "rhs1[-1] = 1./2. * L\n",
    "\n",
    "rhs2[0] = 0\n",
    "rhs2[-1] = 0\n",
    "\n",
    "print(np.linalg.det(M1))\n",
    "print(M1)\n",
    "print(rhs1)\n",
    "\n",
    "u1 = np.linalg.solve(M1,rhs1)\n",
    "u2 = np.linalg.solve(M2,rhs2)\n",
    "\n",
    "u1exact = -x1*x1/2. + x1\n",
    "u2exact = -x2*x2/2. + x2\n",
    "\n",
    "\n",
    "print(u1,u1exact)\n",
    "\n",
    "plt.plot(x1,u1)\n",
    "plt.plot(x1,u1exact)"
   ]
  }
 ],
 "metadata": {
  "hide_input": false,
  "kernelspec": {
   "display_name": "Python 2",
   "language": "python",
   "name": "python2"
  },
  "language_info": {
   "codemirror_mode": {
    "name": "ipython",
    "version": 2
   },
   "file_extension": ".py",
   "mimetype": "text/x-python",
   "name": "python",
   "nbconvert_exporter": "python",
   "pygments_lexer": "ipython2",
   "version": "2.7.11"
  },
  "latex_envs": {
   "bibliofile": "biblio.bib",
   "cite_by": "apalike",
   "current_citInitial": 1,
   "eqLabelWithNumbers": true,
   "eqNumInitial": 0
  },
  "toc": {
   "toc_cell": false,
   "toc_number_sections": true,
   "toc_threshold": 6,
   "toc_window_display": false
  }
 },
 "nbformat": 4,
 "nbformat_minor": 0
}
