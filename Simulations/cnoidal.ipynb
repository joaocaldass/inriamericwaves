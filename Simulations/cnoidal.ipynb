{
 "cells": [
  {
   "cell_type": "markdown",
   "metadata": {},
   "source": [
    "# Cnoidal wave solutions to the Serre equations"
   ]
  },
  {
   "cell_type": "markdown",
   "metadata": {},
   "source": [
    "# Description\n",
    "According to Carter and Cienfuegos (2011), the Serre equations admit the following family of periodic solutions\n",
    "\n",
    "\\begin{align*}\n",
    "    h(x,t) &= a_0 + a_1 dn^2(\\kappa(x-ct),k) \\\\\n",
    "    u(x,t) &= c\\left( 1 - \\frac{h_0}{h(x,t)}\\right)\n",
    "\\end{align*}\n",
    "\n",
    "\\begin{align*}\n",
    "    \\kappa &= \\frac{\\sqrt{3a_1}}{2\\sqrt{a_0(a_0+a_1)(a_0+(1-k^2)a_1)}} \\\\\n",
    "    c &= \\frac{\\sqrt{g a_0(a_0+a_1)(a_0+(1-k^2)a_1)}}{h_0}\n",
    "\\end{align*}\n",
    "\n",
    "with $k\\in(0,1)$, $a_0>0$ and $a_1>0$, $dn(\\cdot,k)$ is a Jacobi elliptic function with elliptic modulus $k$.\n",
    "\n",
    "The relation between the wavelength $\\lambda$ and $k\\in(0,1)$ is $$\\lambda = \\frac{2K(k)}{\\kappa}$$ and the mean water depth, $h_0$ is computed as $$h_0 = \\frac{1}{\\lambda}\\int_{0}^\\lambda h(x,t)dx = a_0 + a_1 \\frac{E(k)}{K(k)}$$\n",
    "\n",
    "with $K(k)$ and $E(k)$ are the complete elliptic integrals of the first and second kinds.\n",
    "\n",
    "The limit for $k\\to0^+$ is constant water level $a_0+a_1$ at rest. If $k\\to1^-$ it converges to the Rayleight solitary wave solution.\n",
    "\n",
    "\n"
   ]
  },
  {
   "cell_type": "markdown",
   "metadata": {},
   "source": [
    "## Implementation"
   ]
  },
  {
   "cell_type": "code",
   "execution_count": 1,
   "metadata": {
    "collapsed": true
   },
   "outputs": [],
   "source": [
    "import numpy as np\n",
    "from scipy import special"
   ]
  },
  {
   "cell_type": "markdown",
   "metadata": {},
   "source": [
    "Set $a_0$, $a_1$ and $k$"
   ]
  },
  {
   "cell_type": "code",
   "execution_count": 2,
   "metadata": {
    "collapsed": false
   },
   "outputs": [],
   "source": [
    "a0 = 0.3\n",
    "a1 = 0.1\n",
    "k = 0.99\n",
    "g = 9.81"
   ]
  },
  {
   "cell_type": "markdown",
   "metadata": {},
   "source": [
    "Get $\\kappa$, $h_0$ and $c$"
   ]
  },
  {
   "cell_type": "code",
   "execution_count": 3,
   "metadata": {
    "collapsed": false
   },
   "outputs": [],
   "source": [
    "kappa = np.sqrt(3*a1)/(2*np.sqrt(a0*(a0+a1)*(a0+(1-k*k)*a1)))\n",
    "h0 = a0+ a1*special.ellipe(k)/special.ellipk(k)\n",
    "c = np.sqrt(g*a0*(a0+a1)*(a0+(1.-k*k)*a1))/h0"
   ]
  },
  {
   "cell_type": "markdown",
   "metadata": {},
   "source": [
    "Make a discretization"
   ]
  },
  {
   "cell_type": "markdown",
   "metadata": {},
   "source": [
    "$\\lambda = 2K(k)/\\kappa$"
   ]
  },
  {
   "cell_type": "code",
   "execution_count": 4,
   "metadata": {
    "collapsed": false
   },
   "outputs": [
    {
     "name": "stdout",
     "output_type": "stream",
     "text": [
      "Wavelength = 5.138\n",
      "mean depth = 0.327\n"
     ]
    }
   ],
   "source": [
    "lam = 2.*special.ellipk(k)/kappa\n",
    "print 'Wavelength = %.3f'%lam\n",
    "print 'mean depth = %.3f'%h0\n",
    "\n",
    "x = np.linspace(-lam,lam,200)\n",
    "t = 0.0"
   ]
  },
  {
   "cell_type": "code",
   "execution_count": 5,
   "metadata": {
    "collapsed": false
   },
   "outputs": [],
   "source": [
    "sn,cn,dn,ph = special.ellipj(kappa*(x-c*t),k)\n",
    "h = a0+a1*dn**2\n",
    "u = c*(1-h0/h)"
   ]
  },
  {
   "cell_type": "code",
   "execution_count": 6,
   "metadata": {
    "collapsed": false
   },
   "outputs": [
    {
     "data": {
      "image/png": "[encoded data removed]",
      "text/plain": [
       "<matplotlib.figure.Figure at 0x7fb0c1c3ead0>"
      ]
     },
     "metadata": {},
     "output_type": "display_data"
    }
   ],
   "source": [
    "import matplotlib.pyplot as plt\n",
    "%matplotlib inline\n",
    "plt.figure(figsize=(6,2))\n",
    "plt.subplot(121)\n",
    "plt.plot(x,h)\n",
    "plt.plot(x,np.ones_like(x)*h0)\n",
    "plt.ylim(0,0.5)\n",
    "plt.xticks([-lam,0.0,lam],[r'$-\\lambda$','0','$\\lambda$'])\n",
    "plt.yticks([0.0, 0.5],['0','0.5'])\n",
    "plt.subplot(122)\n",
    "plt.plot(x,u)\n",
    "plt.ylim(-0.5,0.5)\n",
    "plt.tight_layout()\n",
    "plt.xticks([-lam,0.0,lam],[r'$-\\lambda$','0','$\\lambda$'])\n",
    "plt.yticks([-0.5,0.5],('-0.5','0.5'));"
   ]
  },
  {
   "cell_type": "markdown",
   "metadata": {},
   "source": [
    "## Write it to a file"
   ]
  },
  {
   "cell_type": "code",
   "execution_count": 7,
   "metadata": {
    "collapsed": false
   },
   "outputs": [
    {
     "name": "stdout",
     "output_type": "stream",
     "text": [
      "Overwriting cnoidal.py\n"
     ]
    }
   ],
   "source": [
    "%%writefile cnoidal.py\n",
    "\n",
    "import numpy as np\n",
    "from scipy import special\n",
    "\n",
    "def WaveLengthDepth(k,a0,a1):\n",
    "    \"\"\"\n",
    "        Returns the wavelength and mean depth\n",
    "        of a cnoidal wave with parameters k,a0,a1\n",
    "    \"\"\"\n",
    "    kappa = np.sqrt(3*a1)/(2*np.sqrt(a0*(a0+a1)*(a0+(1-k*k)*a1)))\n",
    "    h0 = a0+ a1*special.ellipe(k)/special.ellipk(k)    \n",
    "    lam = 2.*special.ellipk(k)/kappa\n",
    "    return lam,h0\n",
    "\n",
    "def analyticalSolution(x,t,k,a0,a1):\n",
    "    \"\"\"\n",
    "        Returns the cnoidal solution with parameters k,a0,a1\n",
    "        at (x,t) (possibly arrays)        \n",
    "    \"\"\"\n",
    "    g = 9.81\n",
    "    kappa = np.sqrt(3*a1)/(2*np.sqrt(a0*(a0+a1)*(a0+(1-k*k)*a1)))\n",
    "    h0 = a0+ a1*special.ellipe(k)/special.ellipk(k)\n",
    "    c = np.sqrt(g*a0*(a0+a1)*(a0+(1.-k*k)*a1))/h0\n",
    "    \n",
    "    sn,cn,dn,ph = special.ellipj(kappa*(x-c*t),k)\n",
    "    h = a0+a1*dn**2\n",
    "    u = c*(1-h0/h)\n",
    "    \n",
    "    return h,u\n",
    "    "
   ]
  },
  {
   "cell_type": "code",
   "execution_count": 8,
   "metadata": {
    "collapsed": false
   },
   "outputs": [],
   "source": [
    "%reset -f"
   ]
  },
  {
   "cell_type": "code",
   "execution_count": 9,
   "metadata": {
    "collapsed": true
   },
   "outputs": [],
   "source": [
    "import numpy as np\n",
    "import cnoidal"
   ]
  },
  {
   "cell_type": "code",
   "execution_count": 10,
   "metadata": {
    "collapsed": true
   },
   "outputs": [],
   "source": [
    "a0 = 0.3\n",
    "a1 = 0.1\n",
    "k = 0.99\n",
    "g = 9.81"
   ]
  },
  {
   "cell_type": "code",
   "execution_count": 11,
   "metadata": {
    "collapsed": false
   },
   "outputs": [],
   "source": [
    "lam, h0 = cnoidal.WaveLengthDepth(k,a0,a1)\n",
    "x = np.linspace(-lam,lam,200)\n",
    "t = 0.0"
   ]
  },
  {
   "cell_type": "code",
   "execution_count": 12,
   "metadata": {
    "collapsed": true
   },
   "outputs": [],
   "source": [
    "h,u = cnoidal.analyticalSolution(x,t,k,a0,a1)"
   ]
  },
  {
   "cell_type": "code",
   "execution_count": 13,
   "metadata": {
    "collapsed": false,
    "scrolled": true
   },
   "outputs": [
    {
     "data": {
      "image/png": "[encoded data removed]",
      "text/plain": [
       "<matplotlib.figure.Figure at 0x7fb0bae4bad0>"
      ]
     },
     "metadata": {},
     "output_type": "display_data"
    }
   ],
   "source": [
    "import matplotlib.pyplot as plt\n",
    "%matplotlib inline\n",
    "plt.figure(figsize=(6,2))\n",
    "plt.subplot(121)\n",
    "plt.plot(x,h)\n",
    "plt.plot(x,np.ones_like(x)*h0)\n",
    "plt.ylim(0,0.5)\n",
    "plt.xticks([-lam,0.0,lam],[r'$-\\lambda$','0','$\\lambda$'])\n",
    "plt.yticks([0.0, 0.5],['0','0.5'])\n",
    "plt.subplot(122)\n",
    "plt.plot(x,u)\n",
    "plt.ylim(-0.5,0.5)\n",
    "plt.tight_layout()\n",
    "plt.xticks([-lam,0.0,lam],[r'$-\\lambda$','0','$\\lambda$'])\n",
    "plt.yticks([-0.5,0.5],('-0.5','0.5'));"
   ]
  }
 ],
 "metadata": {
  "kernelspec": {
   "display_name": "Python 2",
   "language": "python",
   "name": "python2"
  },
  "language_info": {
   "codemirror_mode": {
    "name": "ipython",
    "version": 2
   },
   "file_extension": ".py",
   "mimetype": "text/x-python",
   "name": "python",
   "nbconvert_exporter": "python",
   "pygments_lexer": "ipython2",
   "version": "2.7.11"
  }
 },
 "nbformat": 4,
 "nbformat_minor": 0
}
