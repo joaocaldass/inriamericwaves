{
 "cells": [
  {
   "cell_type": "code",
   "execution_count": 1,
   "metadata": {
    "collapsed": true,
    "init_cell": true,
    "run_control": {
     "frozen": false,
     "read_only": false
    }
   },
   "outputs": [],
   "source": [
    "import notebook\n",
    "notebook.nbextensions.check_nbextension('usability/codefolding', user=True)\n",
    "notebook.nbextensions.check_nbextension('usability/codefolding/main.js', user=True)\n",
    "E = notebook.nbextensions.EnableNBExtensionApp()\n",
    "E.enable_nbextension('usability/codefolding/main')"
   ]
  },
  {
   "cell_type": "code",
   "execution_count": 2,
   "metadata": {
    "collapsed": false,
    "init_cell": true,
    "run_control": {
     "frozen": false,
     "read_only": false
    }
   },
   "outputs": [
    {
     "name": "stdout",
     "output_type": "stream",
     "text": [
      "Overwriting serre.py\n"
     ]
    }
   ],
   "source": [
    "%%writefile serre.py\n",
    "\n",
    "import numpy as np\n",
    "import matplotlib.pyplot as plt\n",
    "import nswe\n",
    "import math\n",
    "import muscl2\n"
   ]
  },
  {
   "cell_type": "markdown",
   "metadata": {},
   "source": [
    "$\\newcommand{\\th}{\\tilde{h}}$\n",
    "$\\newcommand{\\tu}{\\tilde{u}}$\n",
    "\n",
    "$\\newcommand{\\lh}{\\overline{h}}$\n",
    "$\\newcommand{\\lu}{\\overline{u}}$\n",
    "\n",
    "$\\newcommand{\\Atwo}[2]{\\left( \\begin{array}{c} #1 \\\\ #2  \\end{array} \\right)}$"
   ]
  },
  {
   "cell_type": "markdown",
   "metadata": {},
   "source": [
    "# Numerical resolution of the Serre equations"
   ]
  },
  {
   "cell_type": "markdown",
   "metadata": {},
   "source": [
    "## The model"
   ]
  },
  {
   "cell_type": "markdown",
   "metadata": {},
   "source": [
    "The Serre equations are a model to describe higly nonlinear waves propagating in shallow waters. Considering a horizontal bottom, these equations are written as\n",
    "\n",
    "\\begin{equation}\n",
    "\\label{eq:SerreFull}\n",
    "h_t + (hu)_x = 0 \\\\\n",
    "u_t + uu_x + gh_x - \\frac{1}{3h}\\left(h^3 \\left( u_{xt} + uu_{xx} - (u_x)^2  \\right) \\right)_x = 0\n",
    "\\end{equation}\n",
    "\n",
    "where $u = u(x,t)$, $h = h(x,t)$ and $g$ are, respectively, the depth-averaged horizontal velocity of the fluid, the water depth and the gravity acceleration."
   ]
  },
  {
   "cell_type": "markdown",
   "metadata": {},
   "source": [
    "## Discretization"
   ]
  },
  {
   "cell_type": "markdown",
   "metadata": {},
   "source": [
    "As done previously for the numerical resolution of the KdV and the BBM equations, the Serre equations will be numerically solved using a splitting method, in which the system of equations will be decomposed in two : the first one will contain the advection terms, and the second one, all the high-order derivative terms.\n",
    "\n",
    "Therefore, the numerical resolution will consist in solve, in each time step $[t_n, t_{n+1}]$, the following problem :\n",
    "\n",
    "\\begin{equation}\n",
    "\\label{eq:SerreSplit1}\n",
    "\\begin{cases}\n",
    "\\th_t + \\left(\\th\\tu\\right)_x = 0 \\\\\n",
    "\\tu_t + \\tu\\tu_x + g\\th_x = 0, \\ \\, t \\in [t_n, t_{n+1}], \\ \\  (\\th,\\tu)(x,t_n) = (h,u)(x,t_n)\n",
    "\\end{cases}\n",
    "\\end{equation}\n",
    "\n",
    "\\begin{equation}\n",
    "\\label{eq:SerreSplit2}\n",
    "\\begin{cases}\n",
    "\\lh_t   = 0 \\\\\n",
    "\\lu_t - \\frac{1}{3\\lh}\\left(\\lh^3 \\left( \\lu_{xt} + \\lu\\lu_{xx} - (\\lu_x)^2  \\right) \\right)_x = 0, \\ \\, t \\in [t_n, t_{n+1}], \\ \\  (\\lh,\\lu)(x,t_n) = (\\th,\\tu)(x,t_{n+1})\n",
    "\\end{cases}\n",
    "\\end{equation}\n",
    "\n",
    "\\begin{equation}\n",
    "\\begin{cases}\n",
    "(h,u)(x,t_{n+1}) = (\\lh,\\lu)(x,t_{n+1})\n",
    "\\end{cases}\n",
    "\\end{equation}\n",
    "\n",
    "In the following descriptions of the resolution of the two schemes, the tilde and the overbar will be omitted for the sake of clarity."
   ]
  },
  {
   "cell_type": "markdown",
   "metadata": {},
   "source": [
    "### First system of equations"
   ]
  },
  {
   "cell_type": "markdown",
   "metadata": {},
   "source": [
    "In order to solve the advection system (\\ref{eq:SerreSplit1}) with the Roe solver (an approximation of the Riemman solver), one must write it in the classical form $U_t +  F(U)_x = 0$, where $U$ is the vector of unknowns and $F$ is a flux function.\n",
    "\n",
    "We have that\n",
    "\n",
    "$(hu)_t = uh_t + hu_t = -u(hu)_x - h\\left(uu_x + gh_x\\right) = -u\\left (h_xu + 2hu_x \\right) - ghh_x = -\\left(hu^2\\right)_x - \\frac{1}{2}g\\left(h^2\\right)_x = - \\left(hu^2 +  \\frac{1}{2}gh^2 \\right)_x$\n",
    "\n",
    "Therefore, the system can be rewritten as\n",
    "\n",
    "\\begin{equation}\n",
    "\\begin{cases}\n",
    "h_t + \\left(hu \\right)_x = 0 \\\\\n",
    "\\left(hu \\right)_t + \\left(hu^2 +  \\frac{1}{2}gh^2 \\right)_x = 0\n",
    "\\end{cases}\n",
    "\\end{equation}\n",
    "\n",
    "and we will solve it for the unknowns $U = \\Atwo{h}{hu}$, with the flux function $F \\Atwo{h}{hu} = \\Atwo{hu}{hu^2 +  \\frac{1}{2}gh^2} $. The time step is discretized using a 4th order Runge-Kutta scheme."
   ]
  },
  {
   "cell_type": "markdown",
   "metadata": {},
   "source": [
    "### Second system of equations"
   ]
  },
  {
   "cell_type": "markdown",
   "metadata": {},
   "source": [
    "In the second system (\\ref{eq:SerreSplit2}) of the splitted Serre equations , the water depth $h$ is constant in time, and therefore only the velocity $u$ must be updated. Separating the terms containing time derivatives, the second equation of thi suystem can be rewritten as \n",
    "\n",
    "\\begin{equation}\n",
    "\\label{eq:dispersive}\n",
    "\\left( u - hh_xu_x - \\frac{1}{3}h^2u_{xx} \\right)_t  - \\frac{1}{3h}\\left(h^3 \\left( uu_{xx} - (u_x)^2  \\right) \\right)_x = 0\n",
    "\\end{equation}\n",
    "\n",
    "This equation will be solved using an explicit Finite Difference scheme. Defining\n",
    "\n",
    "$g_1 = h^3 \\left( uu_{xx} - (u_x)^2 \\right)$\n",
    "\n",
    "$g_2 = u - h h_x u_x - \\frac{1}{3}h^2 u_{xx}$\n",
    "\n",
    "where the derivatives are evalueated using appropriate finite difference approximations.\n",
    "\n",
    "With this notation, using an one-step forward time discretization, one gets\n",
    "\n",
    "$(g_2)_i^{n+1} = (g_2)_i^n + \\frac{\\Delta t}{3h_i^n} \\left(\\left( g_1 \\right)_x\\right)_i^n = G_i^n$\n",
    "\n",
    "where the superscript and the subscript denotes respectively the time step and the spatial position.\n",
    "\n",
    "Using 2nd order centered approximation for the spatial derivatives in $(g_2)_i^{n+1}$, one gets the following tridiagonal linear system :\n",
    "\n",
    "$\\left( \\frac{h_i^n(h_x)_i^n}{2\\Delta x} - \\frac{(h_i^n)^2}{3\\Delta x^2} \\right)u_{i-1}^{n+1} + \n",
    " \\left( 1 + \\frac{2(h_i^n)^2}{3\\Delta x^2} \\right)u_{i}^{n+1} + \n",
    " \\left( -\\frac{h_i^n(h_x)_i^n}{2\\Delta x} - \\frac{(h_i^n)^2}{3\\Delta x^2} \\right)u_{i+1}^{n+1} = G_i^n $\n",
    " \n",
    " with the appropriate modifications to take in account the boundary conditions.\n",
    " \n",
    " \n",
    " ### Alternative resolution of the second system (for the variables $(h,hu)$)\n",
    " \n",
    " Inspired by the discretization described in the paper of Bonneton et. al (2011), we will rewrite the second system of equations obtained in the splitting of the Serre equations, in order to solve it in the variables $(h,hu)$ and thus keep the formulation of the first system.\n",
    " \n",
    " For this purpose, we will multiply the equation (\\ref{eq:dispersive}) and write the variable $u$ inside the time derivative as $\\frac{1}{h} hu$ :\n",
    " \n",
    " \\begin{equation}\n",
    "\\label{eq:dispersive2}\n",
    "\\left( hu - h^2h_x \\left( \\frac{1}{h} hu \\right)_x - \\frac{1}{3}h^3\\left( \\frac{1}{h} hu \\right)_{xx} \\right)_t  - \\frac{1}{3}\\left(g_1 \\right)_x = 0\n",
    "\\end{equation}\n",
    "\n",
    "Developing the spatial derivatives in (\\ref{eq:dispersive2}), we get\n",
    "\n",
    "\\begin{equation}\n",
    "\\label{eq:dispersive3}\n",
    "       \\left( 1-h^2 - \\frac{h^3}{h_{xx}} \\right)(hu) + \\left( -hh_x - \\frac{2h^3}{3h_{x}} \\right)(hu)_x + \\left( - \\frac{h^2}{3} \\right)(hu)_{xx} - \\frac{1}{3}\\left(g_1 \\right)_x = 0\n",
    "\\end{equation}\n",
    "\n",
    "which can be written as\n",
    "\n",
    "\\begin{equation}\n",
    "    \\tilde{T} (hu)_t = \\frac{1}{3}\\left(g_1 \\right)_x \\rightarrow (hu)_t = \\tilde{T}^{-1}\\left(\\frac{1}{3}\\left(g_1 \\right)_x\\right)\n",
    "\\end{equation}\n",
    "\n",
    "where $\\tilde{T} = 1 + hT\\frac{1}{h} $\n",
    "\n",
    "and $T$ is an operator defined by Bonneton et al and given by (in the 1D case)\n",
    "\n",
    "\\begin{equation}\n",
    "   Tw = -\\frac{h^2}{3}w_{xx} - hh_xw_x\n",
    "\\end{equation}\n",
    "\n",
    "Therefore, for each $i=1,...N-1$, the actualization of the solution in time is given by\n",
    "\n",
    "\\begin{equation}\n",
    "(hu)_i^{n+1} = (hu)_i^n + \\Delta t z_i^n\n",
    "\\end{equation}\n",
    "\n",
    "where $Z = (z_1,z_2,...,z_{n+1})^T$ is solution of $\\tilde{T}Z = \\frac{1}{3}\\left(g_1 \\right)_x$. The left side of this system has the form\n",
    "\n",
    "\\begin{equation}\n",
    "h\\frac{z}{h} - h^2h_x \\left( \\frac{z}{h} \\right)_x - \\frac{1}{3}h^3\\left( \\frac{z}{h}\\right)_{xx}\n",
    "\\end{equation}\n",
    "\n",
    "which is solved in the variable $z/h$ (in order to avoid divisions by spatial derivatives of $h$, that can be equal to zero), leading to the 2nd order discretization\n",
    "\n",
    "$\\left( \\frac{h_i^n(h_x)_i^n}{2\\Delta x} - \\frac{(h_i^n)^2}{3\\Delta x^2} \\right)  \\left( \\frac{z}{h} \\right)_{i-1}^{n+1} + \n",
    " \\left( 1 + \\frac{2(h_i^n)^2}{3\\Delta x^2} \\right)\\left( \\frac{z}{h} \\right)_{i}^{n+1} + \n",
    " \\left( -\\frac{h_i^n(h_x)_i^n}{2\\Delta x} - \\frac{(h_i^n)^2}{3\\Delta x^2} \\right)\\left( \\frac{z}{h} \\right)_{i+1}^{n+1} = \\frac{1}{3} \\left(\\left( g_1 \\right)_x\\right)_i^n $"
   ]
  },
  {
   "cell_type": "markdown",
   "metadata": {},
   "source": [
    " \n",
    " ### Boundary conditions\n",
    " \n",
    " We describe briefly the imposition of boundary conditions to each one of the steps of the splitted Serre equations. \n",
    "\n",
    " \n",
    " #### First step\n",
    "  The spatial domain is discretized in $N+1$ points, homogeneously distributed and numbered from $0$ to $N$. In the resolution of the first step of the splitted Serre equations by the Finite Volume method, these points act as center of the cells (with the average value of the solution in the cell equal to its value on the respective point), and the first and last point are used as ghost cells. Therefore, the solution is effectively computed on the points $x_1,...,x_{N-1}$.\n",
    " \n",
    "For the first step, the boundary conditions are imposed on the interface points $x_{1/2} = \\frac{x_0 + x_1}{2}$ and $x_{N-1/2} = \\frac{x_{N-1} + x_N}{2}$ with the following generic Robin conditions, for the variables $h$ and $hu$ :\n",
    "\n",
    "$\\alpha_L^h h(x_{1/2},t) + \\beta_L^h h_x(x_{1/2},t) = \\sigma_L^h(t)$\n",
    "\n",
    "$\\alpha_R^h h(x_{N-1/2},t) + \\beta_R^h h_x(x_{N-1/2},t) = \\sigma_R^h(t)$\n",
    "\n",
    "$\\alpha_L^{hu} h(x_{1/2},t) + \\beta_L^{hu} h_x(x_{1/2},t) = \\sigma_L^{hu}(t)$\n",
    "\n",
    "$\\alpha_R^{hu} h(x_{N-1/2},t) + \\beta_R^{hu} h_x(x_{N-1/2},t) = \\sigma_R^{hu}(t)$\n",
    "\n",
    "Considering that the computation is made only on the cells' centers, the values of the solutions and its derivative on the interfaces will be approximated by\n",
    "\n",
    "$h(x_{1/2},t) = \\frac{h(x_0) + h(x_1)}{2}$\n",
    "\n",
    "$h_x(x_{1/2},t) = \\frac{h(x_1) - h(x_0)}{\\Delta x}$\n",
    "\n",
    "and similarly to the right boundary and the variable $hu$.\n",
    "\n",
    "Replacing these approximations in the Robin boundary conditions, we obtain the values that must be imposed in the ghost cells :\n",
    "\n",
    "$h_0 = \\frac{\\sigma_L^h(t) - \\left(\\frac{\\alpha_L^h}{2} +\\frac{\\beta_L^h}{\\Delta x} \\right)h_1}{\\frac{\\alpha_L^h}{2} - \\frac{\\beta_L^h}{\\Delta x}}$\n",
    "\n",
    "$h_N = \\frac{\\sigma_R^h(t) - \\left(\\frac{\\alpha_R^h}{2} - \\frac{\\beta_R^h}{\\Delta x} \\right)h_{N+1}}{\\frac{\\alpha_L^h}{2} + \\frac{\\beta_R^h}{\\Delta x}}$\n",
    "\n",
    "and similarly to the variable $hu$.\n",
    "\n",
    "As special cases, these Robin conditions naturally degenerate to Dirichlet, $(\\alpha,\\beta) = (1,0)$, and Neumann, with $(\\alpha,\\beta) = (0,1)$. As expected, in the case of homogeneous conditions ($\\sigma_\\bullet^\\bullet$), these coefficients conduct to $h_0 = -h_1$ (in the Dirichlet case) and $h_0 = h_1$ (in the Neumann case), and simirlarly to the right boundary and the variable $hu$.\n",
    "\n",
    "As a last remark concerning the boundary equations in the first step of the Serre equations, in order to simulate an open and an closed boundary, one could impose the following conditions : \n",
    "\n",
    "* Open boundary : Homogeneous Neumann for $h$ and $hu$ \n",
    "* Closed boundary : Homogeneous Neumann for $h$ and homogeneous Dirichlet for $hu$"
   ]
  },
  {
   "cell_type": "markdown",
   "metadata": {},
   "source": [
    "#### Second step"
   ]
  },
  {
   "cell_type": "markdown",
   "metadata": {},
   "source": [
    "In order to keep the same approach as adopted in the first step of the Serre equations, for the second one we will continue computing the boundary conditions in the interfaces $x_{1/2}$ and $x_{N-1/2}$, even if these points are not used in the finite difference scheme.\n",
    "\n",
    "Therefore, we must approximate the value of the solution and its derivatives on these interfaces. Similarly to the approximations made in the finite volume scheme, we compute\n",
    "\n",
    "$h(x_{1/2},t) = \\frac{h(x_0) + h(x_1)}{2}$\n",
    "\n",
    "$h_x(x_{1/2},t) = \\frac{h(x_1) - h(x_0)}{\\Delta x}$\n",
    "\n",
    "$h_{xx}(x_{1/2},t) = \\frac{h(x_0) - 2h(x_1) + h(x_2)}{\\Delta x^2}$\n",
    "\n",
    "and similarly to the interface $x_{N-1/2}$\n",
    "\n",
    "\n",
    "For the two steps of the Serre equations, higher-order approximations to the values on the interfaces could be used. For his purpose, one should write Taylor expansions around the point $x_0$ (for example, up to $O(\\Delta x^2)$): \n",
    "\n",
    "$h(x_{1/2},t) = h(x_0) + h_x(x_0)\\frac{\\Delta x}{2} + h_{xx}(x_0)\\frac{\\Delta x^2}{8} + O(\\Delta x^2)$\n",
    "\n",
    "$h_x(x_{1/2},t) = h_x(x_0) + h_{xx}(x_0)\\frac{\\Delta x}{2} + h_{xxx}(x_0)\\frac{\\Delta x^2}{8} + O(\\Delta x^2)$\n",
    "\n",
    "$h_{xx}(x_{1/2},t) = h_{xx}(x_0) + h_{xxx}(x_0)\\frac{\\Delta x}{2} + h_{xxxx}(x_0)\\frac{\\Delta x^2}{8} + O(\\Delta x^2)$"
   ]
  },
  {
   "cell_type": "code",
   "execution_count": 3,
   "metadata": {
    "code_folding": [],
    "collapsed": false,
    "init_cell": true,
    "run_control": {
     "frozen": false,
     "read_only": false
    }
   },
   "outputs": [
    {
     "name": "stdout",
     "output_type": "stream",
     "text": [
      "Appending to serre.py\n"
     ]
    }
   ],
   "source": [
    "%%writefile serre.py -a\n",
    "\n",
    "def imposePeriodicity(v,ng) :\n",
    "    for i in range(ng) :\n",
    "        v[0+i] = v[-2*ng+i]\n",
    "        v[-1-i] = v[2*ng-(i+1)]\n",
    "    return v"
   ]
  },
  {
   "cell_type": "code",
   "execution_count": 4,
   "metadata": {
    "code_folding": [],
    "collapsed": false,
    "init_cell": true,
    "run_control": {
     "frozen": false,
     "read_only": false
    }
   },
   "outputs": [
    {
     "name": "stdout",
     "output_type": "stream",
     "text": [
      "Appending to serre.py\n"
     ]
    }
   ],
   "source": [
    "%%writefile serre.py -a\n",
    "\n",
    "def discretizeSpace(xmin,xmax,nx):\n",
    "    dx = (xmax-xmin)/nx\n",
    "    x = np.arange(xmin,xmax,dx)\n",
    "    \n",
    "    return x,dx"
   ]
  },
  {
   "cell_type": "code",
   "execution_count": 5,
   "metadata": {
    "code_folding": [
     2
    ],
    "collapsed": false,
    "init_cell": true,
    "run_control": {
     "frozen": false,
     "read_only": false
    }
   },
   "outputs": [
    {
     "name": "stdout",
     "output_type": "stream",
     "text": [
      "Appending to serre.py\n"
     ]
    }
   ],
   "source": [
    "%%writefile serre.py -a\n",
    "\n",
    "def openDomain(h,hu,BC,dx,t):\n",
    "    hb = 1.*h\n",
    "    hub = 1.*hu\n",
    "    hb[0] = h[1]\n",
    "    hub[0] = hu[1]\n",
    "    hb[-1] = h[-2]\n",
    "    hub[-1] = hu[-2]    \n",
    "    return hb,hub"
   ]
  },
  {
   "cell_type": "code",
   "execution_count": 6,
   "metadata": {
    "code_folding": [
     2
    ],
    "collapsed": false,
    "init_cell": true,
    "run_control": {
     "frozen": false,
     "read_only": true
    }
   },
   "outputs": [
    {
     "name": "stdout",
     "output_type": "stream",
     "text": [
      "Appending to serre.py\n"
     ]
    }
   ],
   "source": [
    "%%writefile serre.py -a\n",
    "\n",
    "def robinBC1(h,hu,BC,dx,t):\n",
    "    \n",
    "    ### Generic Robin conditions\n",
    "    ### BC[0] = BC[4]*u + BC[5]*ux ## hLeft\n",
    "    ### BC[1] = BC[6]*u + BC[7]*ux ## huLeft\n",
    "    ### BC[2] = BC[8]*u + BC[9]*ux ## hRight\n",
    "    ### BC[3] = BC[10]*u + BC[11]*ux ##huRight\n",
    "    \n",
    "    hb = 1.*h\n",
    "    hub = 1.*hu\n",
    "    \n",
    "    denLh = BC[4]/2. - BC[5]/dx\n",
    "    denLhu = BC[6]/2. - BC[7]/dx\n",
    "    denRh = BC[8]/2. + BC[9]/dx\n",
    "    denRhu = BC[10]/2. + BC[11]/dx\n",
    "    \n",
    "    hb[0] = (BC[0] - (BC[4]/2. + BC[5]/dx)*h[1])/denLh\n",
    "    hub[0] = (BC[1] - (BC[6]/2. + BC[7]/dx)*hu[1])/denLhu\n",
    "    hb[-1] = (BC[2] - (BC[8]/2. - BC[9]/dx)*h[-2])/denRh\n",
    "    hub[-1] = (BC[3] - (BC[10]/2. - BC[11]/dx)*hu[-2])/denRhu  \n",
    "    return hb,hub"
   ]
  },
  {
   "cell_type": "code",
   "execution_count": null,
   "metadata": {
    "code_folding": [
     2
    ],
    "collapsed": false,
    "run_control": {
     "frozen": false,
     "read_only": false
    }
   },
   "outputs": [],
   "source": [
    "%%writefile serre.py -a\n",
    "\n",
    "def robinBC1newBC(h,hu,BC,dx,t):\n",
    "    \n",
    "    ### Generic Robin conditions\n",
    "    ### BC[0] = BC[4]*u + BC[5]*ux ## hLeft\n",
    "    ### BC[1] = BC[6]*u + BC[7]*ux ## huLeft\n",
    "    ### BC[2] = BC[8]*u + BC[9]*ux ## hRight\n",
    "    ### BC[3] = BC[10]*u + BC[11]*ux ##huRight\n",
    "    \n",
    "    hb = 1.*h\n",
    "    hub = 1.*hu\n",
    "    \n",
    "    denLh = 5./8.*(BC[4] - BC[5]/dx)\n",
    "    denLhu = 5./8.*(BC[6] - BC[7]/dx)\n",
    "    denRh = 5./8.*(BC[8] + BC[9]/dx)\n",
    "    denRhu = 5./8.*(BC[10] + BC[11]/dx)\n",
    "    \n",
    "    hb[0] = (BC[0] - (BC[4]/4. + 3./8.*BC[5]/dx)*h[1] - (BC[4]/8. + 1./8.*BC[5]/dx)*h[2] - 1./8.*BC[5]/dx*h[3])/denLh\n",
    "    hub[0] = (BC[1] - (BC[6]/4. + 3./8.*BC[7]/dx)*hu[1] - (BC[6]/8. + 1./8.*BC[7]/dx)*hu[2] - 1./8.*BC[7]/dx*hu[3])/denLhu\n",
    "    hb[-1] = (BC[2] - (BC[8]/4. - 3./8.*BC[9]/dx)*h[-2] - (BC[8]/8. - 1./8.*BC[9]/dx)*h[-3] + 1./8.*BC[9]/dx*h[-4])/denRh\n",
    "    hub[-1] = (BC[3] - (BC[10]/4. - 3./8.*BC[11]/dx)*hu[-2] - (BC[10]/8. - 1./8.*BC[11]/dx)*hu[-3] + 1./8.*BC[11]/dx*hu[-4])/denRhu\n",
    "    return hb,hub"
   ]
  },
  {
   "cell_type": "code",
   "execution_count": 7,
   "metadata": {
    "code_folding": [
     2
    ],
    "collapsed": false,
    "init_cell": true,
    "run_control": {
     "frozen": false,
     "read_only": false
    }
   },
   "outputs": [
    {
     "name": "stdout",
     "output_type": "stream",
     "text": [
      "Appending to serre.py\n"
     ]
    }
   ],
   "source": [
    "%%writefile serre.py -a\n",
    "\n",
    "def leftPerturbation(h,hu,BC,dx,t):\n",
    "    \n",
    "    sol = 10. + 2.*np.cos(5.*t)\n",
    "    BC[0] = sol\n",
    "    BC[1] = sol*hu[1]/h[1]\n",
    "    \n",
    "    hb, hub = robinBC1(h,hu,BC,dx,t)\n",
    "    \n",
    "    return hb,hub"
   ]
  },
  {
   "cell_type": "code",
   "execution_count": 8,
   "metadata": {
    "code_folding": [
     2
    ],
    "collapsed": false,
    "init_cell": true,
    "run_control": {
     "frozen": false,
     "read_only": false
    }
   },
   "outputs": [
    {
     "name": "stdout",
     "output_type": "stream",
     "text": [
      "Appending to serre.py\n"
     ]
    }
   ],
   "source": [
    "%%writefile serre.py -a\n",
    "\n",
    "def closedDomain(h,hu,t):\n",
    "    hb = 1.*h\n",
    "    hub = 1.*hu\n",
    "    hb[0] = h[1]\n",
    "    hub[0] = -hu[1]\n",
    "    hb[-1] = h[-2]\n",
    "    hub[-1] = -hu[-2]    \n",
    "    return hb,hub"
   ]
  },
  {
   "cell_type": "code",
   "execution_count": 9,
   "metadata": {
    "code_folding": [
     2
    ],
    "collapsed": false,
    "init_cell": true,
    "run_control": {
     "frozen": false,
     "read_only": false
    }
   },
   "outputs": [
    {
     "name": "stdout",
     "output_type": "stream",
     "text": [
      "Appending to serre.py\n"
     ]
    }
   ],
   "source": [
    "%%writefile serre.py -a\n",
    "\n",
    "def closedDomainTwoGC(h,hu,BC,dx,t):\n",
    "    hb = 1.*h\n",
    "    hub = 1.*hu\n",
    "    hb[0] = h[2]\n",
    "    hub[0] = -hu[2]\n",
    "    hb[1] = h[2]\n",
    "    hub[1] = -hu[2]\n",
    "    \n",
    "    hb[-1] = h[-3]\n",
    "    hub[-1] = -hu[-3]\n",
    "    hb[-2] = h[-3]\n",
    "    hub[-2] = -hu[-3]    \n",
    "    return hb,hub"
   ]
  },
  {
   "cell_type": "code",
   "execution_count": 10,
   "metadata": {
    "code_folding": [],
    "collapsed": false,
    "init_cell": true,
    "run_control": {
     "frozen": false,
     "read_only": false
    }
   },
   "outputs": [
    {
     "name": "stdout",
     "output_type": "stream",
     "text": [
      "Appending to serre.py\n"
     ]
    }
   ],
   "source": [
    "%%writefile serre.py -a\n",
    "\n",
    "def periodicDomain(h,hu,BC,dx,t):\n",
    "    hb = 1.*h\n",
    "    hub = 1.*hu\n",
    "    hb[0] = h[-2]\n",
    "    hub[0] = hu[-2]\n",
    "    hb[-1] = h[1]\n",
    "    hub[-1] = hu[1]    \n",
    "    return hb,hub"
   ]
  },
  {
   "cell_type": "code",
   "execution_count": 11,
   "metadata": {
    "code_folding": [],
    "collapsed": false,
    "init_cell": true,
    "run_control": {
     "frozen": false,
     "read_only": false
    }
   },
   "outputs": [
    {
     "name": "stdout",
     "output_type": "stream",
     "text": [
      "Appending to serre.py\n"
     ]
    }
   ],
   "source": [
    "%%writefile serre.py -a\n",
    "\n",
    "def periodicDomainTwoGC(h,hu,BC,dx,t):\n",
    "    hb = 1.*h\n",
    "    hub = 1.*hu\n",
    "    \n",
    "    hb[0] = h[-4]\n",
    "    hub[0] = hu[-4]\n",
    "    hb[-1] = h[3]\n",
    "    hub[-1] = hu[3]\n",
    "    \n",
    "    hb[1] = h[-3]\n",
    "    hub[1] = hu[-3]\n",
    "    hb[-2] = h[2]\n",
    "    hub[-2] = hu[2]\n",
    "    \n",
    "    return hb,hub"
   ]
  },
  {
   "cell_type": "code",
   "execution_count": 12,
   "metadata": {
    "code_folding": [],
    "collapsed": false,
    "init_cell": true,
    "run_control": {
     "frozen": false,
     "read_only": true
    }
   },
   "outputs": [
    {
     "name": "stdout",
     "output_type": "stream",
     "text": [
      "Appending to serre.py\n"
     ]
    }
   ],
   "source": [
    "%%writefile serre.py -a\n",
    "\n",
    "def periodicDomain2(M,rhs,t,dx,BC):\n",
    "    M[0,:] = 0.\n",
    "    M[-1,:] = 0.\n",
    "    \n",
    "    M[0,0] = 1.\n",
    "    M[0,-2] = -1.\n",
    "    \n",
    "    M[-1,-1] = 1.\n",
    "    M[-1,1] = -1.\n",
    "    \n",
    "    rhs[0] = 0.\n",
    "    rhs[-1] = 0.\n",
    "    \n",
    "    return M,rhs"
   ]
  },
  {
   "cell_type": "code",
   "execution_count": 13,
   "metadata": {
    "code_folding": [],
    "collapsed": false,
    "init_cell": true,
    "run_control": {
     "frozen": false,
     "read_only": true
    }
   },
   "outputs": [
    {
     "name": "stdout",
     "output_type": "stream",
     "text": [
      "Appending to serre.py\n"
     ]
    }
   ],
   "source": [
    "%%writefile serre.py -a\n",
    "\n",
    "def periodicDomain2TwoGC(M,rhs,t,dx,BC):\n",
    "    M[0,:] = 0.\n",
    "    M[1,:] = 0.\n",
    "    M[-1,:] = 0.\n",
    "    M[-2,:] = 0.\n",
    "    \n",
    "    M[0,0] = 1.\n",
    "    M[0,-4] = -1.\n",
    "    \n",
    "    M[1,1] = 1.\n",
    "    M[1,-3] = -1.\n",
    "    \n",
    "    M[-1,-1] = 1.\n",
    "    M[-1,3] = -1.\n",
    "    \n",
    "    M[-2,-2] = 1.\n",
    "    M[-2,2] = -1.\n",
    "    \n",
    "    rhs[0] = 0.\n",
    "    rhs[1] = 0.\n",
    "    rhs[-1] = 0.\n",
    "    rhs[-2] = 0.\n",
    "    \n",
    "    return M,rhs"
   ]
  },
  {
   "cell_type": "code",
   "execution_count": 14,
   "metadata": {
    "code_folding": [
     5,
     34,
     56,
     72,
     89
    ],
    "collapsed": false,
    "init_cell": true,
    "run_control": {
     "frozen": false,
     "read_only": true
    }
   },
   "outputs": [
    {
     "name": "stdout",
     "output_type": "stream",
     "text": [
      "Appending to serre.py\n"
     ]
    }
   ],
   "source": [
    "%%writefile serre.py -a\n",
    "\n",
    "keepFirstSolL = 0\n",
    "keepFirstSolR = 0\n",
    "\n",
    "def genericOpenDomain2(M,rhs,t,dx,BC):\n",
    "\n",
    "    ### Boundary conditions\n",
    "    ## Structure : BC=[u(left),ux(left),uxx(left),alpha1*u(left) + beta1*ux(right) + gamma1*uxx(right),\n",
    "    ##                 u(right),ux(right),uxx(right),alpha2*u(right) + beta2*ux(right) + gamma2*uxx(right),\n",
    "    ##                 alpha1,beta1,gamma1,alpha2,beta2,gamma2,Fleft,Fright] \n",
    "    cntBC = 0\n",
    "    if not math.isnan(BC[0]) : # u L\n",
    "        cntBC = cntBC+1\n",
    "        M[0,:] = 0.\n",
    "        M[0,0] = 1.\n",
    "        if (not math.isnan(BC[14])) and (BC[14]!=keepFirstSolL) : # time-dependent function\n",
    "            rhs[0] = BC[14](t)\n",
    "        else:\n",
    "            rhs[0] = BC[0]\n",
    "    if not math.isnan(BC[1]) : # ux L\n",
    "        cntBC = cntBC+1\n",
    "        row = 0\n",
    "        if not math.isnan(BC[0]):\n",
    "            row = row + 1\n",
    "        M[row,:] = 0.\n",
    "        M[row,0] = -1./dx\n",
    "        M[row,1] = 1./dx\n",
    "        rhs[row] = BC[1]\n",
    "    if not math.isnan(BC[2]) : # uxx L\n",
    "        cntBC = cntBC+1\n",
    "        row = 0\n",
    "        if not math.isnan(BC[0]):\n",
    "            row = row + 1\n",
    "        if not math.isnan(BC[1]):\n",
    "            row = row + 1\n",
    "        M[row,:] = 0.\n",
    "        M[row,0] = 1./(dx*dx)\n",
    "        M[row,1] = -2./(dx*dx)\n",
    "        M[row,2] = 1./(dx*dx)\n",
    "        rhs[row] = BC[2]\n",
    "    if not math.isnan(BC[3]) : # Robin L\n",
    "        cntBC = cntBC+1\n",
    "        if not (math.isnan(BC[0]) and math.isnan(BC[1]) and math.isnan(BC[2])) :\n",
    "            sys.exit(\"Error in left BC : Robin defined with Dirichlet and/or Neumann\")\n",
    "        M[0,:] = 0.\n",
    "        M[0,0] = BC[8] - BC[9]/dx + BC[10]/(dx*dx)\n",
    "        M[0,1] = BC[9]/dx  - 2.*BC[10]/(dx*dx)\n",
    "        M[0,2] = BC[10]/(dx*dx)\n",
    "        rhs[0] = BC[3]\n",
    "    if not math.isnan(BC[4]) : # u R\n",
    "        cntBC = cntBC+1\n",
    "        M[-1,:] = 0.\n",
    "        M[-1,-1] = 1.\n",
    "        if (not math.isnan(BC[15])) and (BC[15]!=keepFirstSolR) : # time-dependent function\n",
    "            rhs[-1] = BC[15](t)\n",
    "        else:\n",
    "            rhs[-1] = BC[4]\n",
    "    if not math.isnan(BC[5]) : # ux R\n",
    "        cntBC = cntBC+1\n",
    "        row = -1\n",
    "        if not math.isnan(BC[4]):\n",
    "            row = row - 1\n",
    "        M[row,:] = 0.\n",
    "        M[row,-1] = 1./dx\n",
    "        M[row,-2] = -1./dx\n",
    "        rhs[row] = BC[5]\n",
    "    if not math.isnan(BC[6]) : # uxx R\n",
    "        cntBC = cntBC+1\n",
    "        row = -1\n",
    "        if not math.isnan(BC[4]):\n",
    "            row = row - 1\n",
    "        if not math.isnan(BC[5]):\n",
    "            row = row - 1\n",
    "        M[row,:] = 0.\n",
    "        M[row,-1] = 1./(dx*dx)\n",
    "        M[row,-2] = -2. /(dx*dx)  \n",
    "        M[row,-3] = 1./(dx*dx)\n",
    "        rhs[row] = BC[6]\n",
    "    if not math.isnan(BC[7]) : # Robin R\n",
    "        cntBC = cntBC+1\n",
    "        if not (math.isnan(BC[4]) and math.isnan(BC[5]) and math.isnan(BC[6])) :\n",
    "            sys.exit(\"Error in right BC : Robin defined with Dirichlet and/or Neumann\")\n",
    "        M[-1,:] = 0.\n",
    "        M[-1,-1] = BC[11] + BC[12]/dx + BC[13]/(dx*dx)\n",
    "        M[-1,-2] = -BC[12]/dx - 2.*BC[13]/(dx*dx)\n",
    "        M[-1,-3] = BC[13]/(dx*dx)\n",
    "        rhs[-1] = BC[7]\n",
    "     \n",
    "    if cntBC != 3 :\n",
    "        print(cntBC)\n",
    "        print(BC)\n",
    "        sys.exit(\"Wrong number of BC\")\n",
    "    \n",
    "    return M,rhs"
   ]
  },
  {
   "cell_type": "code",
   "execution_count": 15,
   "metadata": {
    "code_folding": [
     5,
     32,
     34,
     56,
     72,
     89
    ],
    "collapsed": false,
    "init_cell": true,
    "run_control": {
     "frozen": false,
     "read_only": true
    }
   },
   "outputs": [
    {
     "name": "stdout",
     "output_type": "stream",
     "text": [
      "Appending to serre.py\n"
     ]
    }
   ],
   "source": [
    "%%writefile serre.py -a\n",
    "\n",
    "keepFirstSolL = 0\n",
    "keepFirstSolR = 0\n",
    "\n",
    "def genericOpenDomain2O2(M,rhs,t,dx,BC):\n",
    "\n",
    "    ### Boundary conditions\n",
    "    ## Structure : BC=[u(left),ux(left),uxx(left),alpha1*u(left) + beta1*ux(right) + gamma1*uxx(right),\n",
    "    ##                 u(right),ux(right),uxx(right),alpha2*u(right) + beta2*ux(right) + gamma2*uxx(right),\n",
    "    ##                 alpha1,beta1,gamma1,alpha2,beta2,gamma2,Fleft,Fright] \n",
    "    cntBC = 0\n",
    "    if not math.isnan(BC[0]) : # u L\n",
    "        cntBC = cntBC+1\n",
    "        M[0,:] = 0.\n",
    "        M[0,0] = 1.\n",
    "        if (not math.isnan(BC[14])) and (BC[14]!=keepFirstSolL) : # time-dependent function\n",
    "            rhs[0] = BC[14](t)\n",
    "        else:\n",
    "            rhs[0] = BC[0]\n",
    "    if not math.isnan(BC[1]) : # ux L\n",
    "        cntBC = cntBC+1\n",
    "        row = 0\n",
    "        if not math.isnan(BC[0]):\n",
    "            row = row + 1\n",
    "        M[row,:] = 0.\n",
    "        M[row,0] = -3./2./dx\n",
    "        M[row,1] = 2./dx\n",
    "        M[row,2] = -1./2./dx\n",
    "        rhs[row] = BC[1]\n",
    "    if not math.isnan(BC[2]) : # uxx L\n",
    "        cntBC = cntBC+1\n",
    "        row = 0\n",
    "        if not math.isnan(BC[0]):\n",
    "            row = row + 1\n",
    "        if not math.isnan(BC[1]):\n",
    "            row = row + 1\n",
    "        M[row,:] = 0.\n",
    "        M[row,0] = 2./(dx*dx)\n",
    "        M[row,1] = -5./(dx*dx)\n",
    "        M[row,2] = 4./(dx*dx)\n",
    "        M[row,3] = -1./(dx*dx)\n",
    "        rhs[row] = BC[2]\n",
    "    if not math.isnan(BC[3]) : # Robin L\n",
    "        cntBC = cntBC+1\n",
    "        if not (math.isnan(BC[0]) and math.isnan(BC[1]) and math.isnan(BC[2])) :\n",
    "            sys.exit(\"Error in left BC : Robin defined with Dirichlet and/or Neumann\")\n",
    "        M[0,:] = 0.\n",
    "        M[0,0] = BC[8] - 3./2.*BC[9]/dx + 2.*BC[10]/(dx*dx)\n",
    "        M[0,1] = 2.*BC[9]/dx  - 5.*BC[10]/(dx*dx)\n",
    "        M[0,2] = - 1./2.*BC[9]/dx + 4.*BC[10]/(dx*dx)\n",
    "        M[0,3] = - BC[10]/(dx*dx)\n",
    "        rhs[0] = BC[3]\n",
    "    if not math.isnan(BC[4]) : # u R\n",
    "        cntBC = cntBC+1\n",
    "        M[-1,:] = 0.\n",
    "        M[-1,-1] = 1.\n",
    "        if (not math.isnan(BC[15])) and (BC[15]!=keepFirstSolR) : # time-dependent function\n",
    "            rhs[-1] = BC[15](t)\n",
    "        else:\n",
    "            rhs[-1] = BC[4]\n",
    "    if not math.isnan(BC[5]) : # ux R\n",
    "        cntBC = cntBC+1\n",
    "        row = -1\n",
    "        if not math.isnan(BC[4]):\n",
    "            row = row - 1\n",
    "        M[row,:] = 0.\n",
    "        M[row,-1] = 3./2./dx\n",
    "        M[row,-2] = -2./dx\n",
    "        M[row,-3] = 1./2./dx\n",
    "        rhs[row] = BC[5]\n",
    "    if not math.isnan(BC[6]) : # uxx R\n",
    "        cntBC = cntBC+1\n",
    "        row = -1\n",
    "        if not math.isnan(BC[4]):\n",
    "            row = row - 1\n",
    "        if not math.isnan(BC[5]):\n",
    "            row = row - 1\n",
    "        M[row,:] = 0.\n",
    "        M[row,-1] = 2./(dx*dx)\n",
    "        M[row,-2] = -5. /(dx*dx)  \n",
    "        M[row,-3] = 4./(dx*dx)\n",
    "        M[row,-4] = -1./(dx*dx)\n",
    "        rhs[row] = BC[6]\n",
    "    if not math.isnan(BC[7]) : # Robin R\n",
    "        cntBC = cntBC+1\n",
    "        if not (math.isnan(BC[4]) and math.isnan(BC[5]) and math.isnan(BC[6])) :\n",
    "            sys.exit(\"Error in right BC : Robin defined with Dirichlet and/or Neumann\")\n",
    "        M[-1,:] = 0.\n",
    "        M[-1,-1] = BC[11] + 3./2.*BC[12]/dx + 2.*BC[13]/(dx*dx)\n",
    "        M[-1,-2] = -2.*BC[12]/dx - 5.*BC[13]/(dx*dx)\n",
    "        M[-1,-3] = 1./2.*BC[12]/dx + 4.*BC[13]/(dx*dx)\n",
    "        M[-1,-4] = - BC[10]/(dx*dx)\n",
    "        rhs[-1] = BC[7]\n",
    "     \n",
    "    if cntBC != 3 :\n",
    "        print(cntBC)\n",
    "        print(BC)\n",
    "        sys.exit(\"Wrong number of BC\")\n",
    "    \n",
    "    return M,rhs"
   ]
  },
  {
   "cell_type": "code",
   "execution_count": 16,
   "metadata": {
    "code_folding": [
     7
    ],
    "collapsed": false,
    "init_cell": true,
    "run_control": {
     "frozen": false,
     "read_only": false
    }
   },
   "outputs": [
    {
     "name": "stdout",
     "output_type": "stream",
     "text": [
      "Appending to serre.py\n"
     ]
    }
   ],
   "source": [
    "%%writefile serre.py -a\n",
    "\n",
    "import sys\n",
    "\n",
    "keepFirstSolL = 0\n",
    "keepFirstSolR = 0\n",
    "\n",
    "def genericOpenDomain2newBC(M,rhs,t,dx,BC):\n",
    "\n",
    "    ### Boundary conditions\n",
    "    ## Structure : BC=[u(left),ux(left),uxx(left),alpha1*u(left) + beta1*ux(right) + gamma1*uxx(right),\n",
    "    ##                 u(right),ux(right),uxx(right),alpha2*u(right) + beta2*ux(right) + gamma2*uxx(right),\n",
    "    ##                 alpha1,beta1,gamma1,alpha2,beta2,gamma2,Fleft,Fright] \n",
    "    cntBC = 0\n",
    "    if not math.isnan(BC[0]) : # u L\n",
    "        cntBC = cntBC+1\n",
    "        M[0,:] = 0.\n",
    "        M[0,0] = 1. - 1./2. + 1./8.\n",
    "        M[0,1] = 1./2. - 2./8.\n",
    "        M[0,2] = 1./8.\n",
    "        if (not math.isnan(BC[14])) and (BC[14]!=keepFirstSolL) : # time-dependent function\n",
    "            rhs[0] = BC[14](t)\n",
    "        else:\n",
    "            rhs[0] = BC[0]\n",
    "    if not math.isnan(BC[1]) : # ux L\n",
    "        cntBC = cntBC+1\n",
    "        row = 0\n",
    "        if not math.isnan(BC[0]):\n",
    "            row = row + 1\n",
    "        M[row,:] = 0.\n",
    "        M[row,0] = (-1. + 1./2. - 1./8.)/dx\n",
    "        M[row,1] = (1. - 1. + 3./8.)/dx\n",
    "        M[row,2] = (1./2. - 3./8.)/dx\n",
    "        M[row,3] = (1./8.)/dx\n",
    "        rhs[row] = BC[1]\n",
    "    if not math.isnan(BC[2]) : # uxx L\n",
    "        cntBC = cntBC+1\n",
    "        row = 0\n",
    "        if not math.isnan(BC[0]):\n",
    "            row = row + 1\n",
    "        if not math.isnan(BC[1]):\n",
    "            row = row + 1\n",
    "        M[row,:] = 0.\n",
    "        M[row,0] = (1. - 1./2. + 1./8.)/(dx*dx)\n",
    "        M[row,1] = (-2. + 3./2. - 4./8.)/(dx*dx)\n",
    "        M[row,2] = (1. - 3./2. + 6./8.)/(dx*dx)\n",
    "        M[row,3] = (1./2. - 4./8.)/(dx*dx)\n",
    "        M[row,4] = (1./8.)/(dx*dx)\n",
    "        rhs[row] = BC[2]\n",
    "    if not math.isnan(BC[3]) : # Robin L\n",
    "        cntBC = cntBC+1\n",
    "        if not (math.isnan(BC[0]) and math.isnan(BC[1]) and math.isnan(BC[2])) :\n",
    "            sys.exit(\"Error in left BC : Robin defined with Dirichlet and/or Neumann\")\n",
    "        M[0,:] = 0.\n",
    "        M[0,0] = BC[8]*(1. - 1./2. + 1./8.) + BC[9]*(-1. + 1./2. - 1./8.)/dx + BC[10]*(1. - 1./2. + 1./8.)/(dx*dx)\n",
    "        M[0,1] = BC[8]*(1./2. - 2./8.) + BC[9]*(1. - 1. + 3./8.)/dx  + BC[10]*(-2. + 3./2. - 4./8.)/(dx*dx)\n",
    "        M[0,2] = BC[8]*(1./8.) + BC[9]*(1./2. - 3./8.)/dx + BC[10]*(1. - 3./2. + 6./8.)/(dx*dx)\n",
    "        M[0,3] = BC[9]*(1./8.)/dx + BC[10]*(1./2. - 4./8.)/(dx*dx)\n",
    "        M[0,4] = BC[10]*(1./8.)/(dx*dx)\n",
    "        rhs[0] = BC[3]\n",
    "    if not math.isnan(BC[4]) : # u R\n",
    "        cntBC = cntBC+1\n",
    "        M[-1,:] = 0.\n",
    "        #M[-1,-1] = 1.\n",
    "        M[-1,-1] = 1. - 1./2. + 1./8.\n",
    "        M[-1,-2] = 1./2. - 2./8.\n",
    "        M[-1,-3] = 1./8.\n",
    "        if (not math.isnan(BC[15])) and (BC[15]!=keepFirstSolR) : # time-dependent function\n",
    "            rhs[-1] = BC[15](t)\n",
    "        else:\n",
    "            rhs[-1] = BC[4]\n",
    "    if not math.isnan(BC[5]) : # ux R\n",
    "        cntBC = cntBC+1\n",
    "        row = -1\n",
    "        if not math.isnan(BC[4]):\n",
    "            row = row - 1\n",
    "        M[row,:] = 0.\n",
    "        #M[row,-1] = 1./dx\n",
    "        #M[row,-2] = -1./dx\n",
    "        M[row,-1] = (1. - 1./2. + 1./8.)/dx\n",
    "        M[row,-2] = (-1. + 1. - 3./8.)/dx\n",
    "        M[row,-3] = (-1./2. + 3./8.)/dx\n",
    "        M[row,-4] = (-1./8.)/dx\n",
    "        rhs[row] = BC[5]\n",
    "    if not math.isnan(BC[6]) : # uxx R\n",
    "        cntBC = cntBC+1\n",
    "        row = -1\n",
    "        if not math.isnan(BC[4]):\n",
    "            row = row - 1\n",
    "        if not math.isnan(BC[5]):\n",
    "            row = row - 1\n",
    "        M[row,:] = 0.\n",
    "        #M[row,-1] = 1./(dx*dx)\n",
    "        #M[row,-2] = -2. /(dx*dx)  \n",
    "        #M[row,-3] = 1./(dx*dx)\n",
    "        M[row,-1] = (1. - 1./2. + 1./8.)/(dx*dx)\n",
    "        M[row,-2] = (-2. + 3./2. - 4./8.)/(dx*dx)\n",
    "        M[row,-3] = (1. - 3./2. + 6./8.)/(dx*dx)\n",
    "        M[row,-4] = (1./2. - 4./8.)/(dx*dx)\n",
    "        M[row,-5] = (1./8.)/(dx*dx)\n",
    "        rhs[row] = BC[6]\n",
    "    if not math.isnan(BC[7]) : # Robin R\n",
    "        cntBC = cntBC+1\n",
    "        if not (math.isnan(BC[4]) and math.isnan(BC[5]) and math.isnan(BC[6])) :\n",
    "            sys.exit(\"Error in right BC : Robin defined with Dirichlet and/or Neumann\")\n",
    "        M[-1,:] = 0.\n",
    "        #M[-1,-1] = BC[11] + BC[12]/dx + BC[13]/(dx*dx)\n",
    "        #M[-1,-2] = -BC[12]/dx - 2.*BC[13]/(dx*dx)\n",
    "        #M[-1,-3] = BC[13]/(dx*dx)\n",
    "        M[-1,-1] = BC[11]*(1. - 1./2. + 1./8.) - BC[12]*(-1. + 1./2. - 1./8.)/dx + BC[13]*(1. - 1./2. + 1./8.)/(dx*dx)\n",
    "        M[-1,-2] = BC[11]*(1./2. - 2./8.) - BC[12]*(1. - 1. + 3./8.)/dx  + BC[13]*(-2. + 3./2. - 4./8.)/(dx*dx)\n",
    "        M[-1,-3] = BC[11]*(1./8.) - BC[12]*(1./2. - 3./8.)/dx + BC[13]*(1. - 3./2. + 6./8.)/(dx*dx)\n",
    "        M[-1,-4] = -BC[12]*(1./8.)/dx + BC[13]*(1./2. - 4./8.)/(dx*dx)\n",
    "        M[-1,-5] = BC[13]*(1./8.)/(dx*dx)\n",
    "        rhs[-1] = BC[7]\n",
    "     \n",
    "    if cntBC != 3 :\n",
    "        print(cntBC)\n",
    "        print(BC)\n",
    "        sys.exit(\"Wrong number of BC\")\n",
    "    \n",
    "    return M,rhs"
   ]
  },
  {
   "cell_type": "code",
   "execution_count": 17,
   "metadata": {
    "code_folding": [
     6
    ],
    "collapsed": false,
    "init_cell": true,
    "run_control": {
     "frozen": false,
     "read_only": false
    }
   },
   "outputs": [
    {
     "name": "stdout",
     "output_type": "stream",
     "text": [
      "Appending to serre.py\n"
     ]
    }
   ],
   "source": [
    "%%writefile serre.py -a\n",
    "\n",
    "def getRK4coef(x,uA,uB,f,dx,dt,nx):\n",
    "    F = f(uA,uB,nx)\n",
    "    return -dt/dx*(F[0,1:] - F[0,0:-1]), -dt/dx*(F[1,1:] - F[1,0:-1])\n",
    "\n",
    "def extend2GhostCells(v,ng):\n",
    "    return np.concatenate((np.zeros(ng),v,np.zeros(ng)))\n",
    "\n",
    "def RK4(x,uA,uB,f,bcf,bcp,dx,dt,nx,t,ng):\n",
    "\n",
    "        uuA = np.copy(uA)\n",
    "        uuB = np.copy(uB)\n",
    "        uuA,uuB = bcf(uuA,uuB,bcp,dx,t)\n",
    "        k1A,k1B = getRK4coef(x,uuA,uuB,f,dx,dt,nx)\n",
    "        k1A = extend2GhostCells(k1A,ng)\n",
    "        k1B = extend2GhostCells(k1B,ng)\n",
    "        \n",
    "        uuA = uA+k1A/2.\n",
    "        uuB = uB+k1B/2.\n",
    "        uuA,uuB = bcf(uuA,uuB,bcp,dx,t)\n",
    "        k2A,k2B = getRK4coef(x,uuA,uuB,f,dx,dt,nx)\n",
    "        k2A = extend2GhostCells(k2A,ng)\n",
    "        k2B = extend2GhostCells(k2B,ng)\n",
    "        \n",
    "        uuA = uA+k2A/2.\n",
    "        uuB = uB+k2B/2.\n",
    "        uuA,uuB = bcf(uuA,uuB,bcp,dx,t)\n",
    "        k3A,k3B = getRK4coef(x,uuA,uuB,f,dx,dt,nx)\n",
    "        k3A = extend2GhostCells(k3A,ng)\n",
    "        k3B = extend2GhostCells(k3B,ng)\n",
    "        \n",
    "        uuA = uA+k3A\n",
    "        uuB = uB+k3B\n",
    "        uuA,uuB = bcf(uuA,uuB,bcp,dx,t)\n",
    "        k4A,k4B = getRK4coef(x,uuA,uuB,f,dx,dt,nx)\n",
    "        k4A = extend2GhostCells(k4A,ng)\n",
    "        k4B = extend2GhostCells(k4B,ng)\n",
    "\n",
    "        return uA + 1./6.*(k1A+2.*k2A+2.*k3A+k4A), uB + 1./6.*(k1B+2.*k2B+2.*k3B+k4B)"
   ]
  },
  {
   "cell_type": "code",
   "execution_count": 18,
   "metadata": {
    "code_folding": [
     24,
     42
    ],
    "collapsed": false,
    "init_cell": true,
    "run_control": {
     "frozen": false,
     "read_only": false
    }
   },
   "outputs": [
    {
     "name": "stdout",
     "output_type": "stream",
     "text": [
      "Appending to serre.py\n"
     ]
    }
   ],
   "source": [
    "%%writefile serre.py -a\n",
    "\n",
    "def get1d(u,dx,periodic,order):\n",
    "    a = np.zeros_like(u)\n",
    "    if order == 1:\n",
    "        a[1:-1] = 1./(2.*dx)*(u[2:] - u[0:-2])\n",
    "        a[0] = a[1]\n",
    "        a[-1] = a[-2]\n",
    "    elif order == 2:\n",
    "        a[1:-1] = 1./(2.*dx)*(u[2:] - u[0:-2])\n",
    "#        if periodic : \n",
    "#            a[0] = 1./(2.*dx)*(u[1] - u[-2])\n",
    "#            a[-1] = a[0]\n",
    "#        else :\n",
    "#            a[0] = 1./dx * (-3./2.*u[0] + 2.*u[1] - 1./2.*u[2])\n",
    "#            a[-1] = 1./dx * (+3./2.*u[-1] - 2.*u[-2] + 1./2.*u[-3])\n",
    "    elif order == 4 :\n",
    "        a[2:-2] = 1./(12.*dx)*(u[0:-4] - 8.* u[1:-3] + 8.*u[3:-1] - u[4,:])\n",
    "        if (periodic) :\n",
    "            a[0] = 1./(12.*dx)*(u[-3] - 8.* u[-2] + 8.*u[1] - u[2])\n",
    "            ##### Todo Boundaries\n",
    "            #a[1] = 1./(12.*dx)*(u[-2] - 8.* u[-1] + 8.*u[1] - u[2])\n",
    "    return a\n",
    "\n",
    "def get2d(u,dx,periodic,order=2):\n",
    "    a = np.zeros_like(u)\n",
    "    a[1:-1] = 1./(dx*dx)*(u[2:] - 2.*u[1:-1] + u[0:-2])\n",
    "    if order == 1:\n",
    "        a[0] = a[1]\n",
    "        a[-1] = a[-2]\n",
    "    elif order == 2:\n",
    "        if periodic :\n",
    "            a[0] = 1./(dx*dx)*(u[1] - 2.*u[0] - u[-2])\n",
    "            a[-1] = a[0]\n",
    "        else :\n",
    "            a[0] = 1./(dx*dx)*(2.*u[0] - 5.*u[1] + 4.*u[2] - u[3])\n",
    "            a[-1] = 1./(dx*dx)*(2.*u[-1] - 5.*u[-2] + 4.*u[-3] - u[-4])\n",
    "    elif order == 4 :\n",
    "        a[2:-2] = 1./(12.*dx*dx)*(-u[0:-4] + 16.* u[1:-3] - 30*u[2:-2] + 16.*u[3:-1] - u[4,:])\n",
    "        #### TODO Boundaries\n",
    "    return a\n",
    "\n",
    "def get3d(u,dx,periodic,order=2):\n",
    "    a = np.zeros_like(u)\n",
    "    a[2:-2] = 1./(2.*dx*dx)*(-u[0:-4] + 2.*u[1:-3] - 2.*u[3:-1] + u[4:])\n",
    "    return a"
   ]
  },
  {
   "cell_type": "code",
   "execution_count": 19,
   "metadata": {
    "code_folding": [
     2
    ],
    "collapsed": false,
    "init_cell": true,
    "run_control": {
     "frozen": false,
     "read_only": true
    }
   },
   "outputs": [
    {
     "name": "stdout",
     "output_type": "stream",
     "text": [
      "Appending to serre.py\n"
     ]
    }
   ],
   "source": [
    "%%writefile serre.py -a\n",
    "\n",
    "def EFDSolverB(h,u,dx,dt,t,BCfunction,BCparam):\n",
    "    ux = get1d(u,dx)\n",
    "    uxx = get2d(u,dx)\n",
    "    hx = get1d(h,dx)\n",
    "    \n",
    "    g1 = h*h*h*(u*uxx - ux*ux)\n",
    "    g1x = get1d(g1,dx)\n",
    "    \n",
    "    g2 = u - h*hx*ux - h*h*uxx/3.\n",
    "       \n",
    "    d0 = 1. + 2./(3.*dx*dx)*h*h\n",
    "    dp1 = -h*hx/(2.*dx) - h*h/(3.*dx*dx)\n",
    "    dp1 = dp1[0:-1]\n",
    "    dm1 = h*hx/(2.*dx) - h*h/(3.*dx*dx)\n",
    "    dm1 = dm1[1:]\n",
    "    \n",
    "    M = np.diag(d0) + np.diag(dp1,1) + np.diag(dm1,-1)\n",
    "\n",
    "        \n",
    "    np.set_printoptions(threshold=np.nan)\n",
    "    np.set_printoptions(suppress=True)\n",
    "\n",
    "    \n",
    "    rhs = g2 + dt/(3.*h)*g1x\n",
    "    \n",
    "    if BCparam != None:\n",
    "        if BCparam[14] == keepFirstSolL :\n",
    "            BCparam[0] = u[0]\n",
    "        if BCparam[15] == keepFirstSolL :\n",
    "            BCparam[4] = u[-1]    \n",
    "    \n",
    "    M,rhs = BCfunction(M,rhs,t,dx,BCparam)\n",
    "    \n",
    "    u2 = np.linalg.solve(M,rhs)\n",
    "    \n",
    "    return u2"
   ]
  },
  {
   "cell_type": "code",
   "execution_count": 20,
   "metadata": {
    "code_folding": [],
    "collapsed": false,
    "init_cell": true,
    "run_control": {
     "frozen": false,
     "read_only": false
    }
   },
   "outputs": [
    {
     "name": "stdout",
     "output_type": "stream",
     "text": [
      "Appending to serre.py\n"
     ]
    }
   ],
   "source": [
    "%%writefile serre.py -a\n",
    "\n",
    "def EFDSolver(h,u,dx,dt,t,order,BCfunction,BCparam=None,periodic=False,ng=2):\n",
    "    \n",
    "    \"\"\"\n",
    "    Finite Difference Solver for the second step of the splitted Serre equations.\n",
    "    \n",
    "    - Parameters\n",
    "        * h,u (1D array) : solution\n",
    "        * dx,dt,t (integers) : space step, time step, time\n",
    "        * BCfunction (function) : function that modifies the linear system to impose the BCs\n",
    "        * BCparam (1D array) : argument for BCfunction; contains the BCs in the form\n",
    "             BC=[u(left),ux(left),uxx(left),alpha1*u(left) + beta1*ux(right) + gamma1*uxx(right),\n",
    "                u(right),ux(right),uxx(right),alpha2*u(right) + beta2*ux(right) + gamma2*uxx(right),\n",
    "                alpha1,beta1,gamma1,alpha2,beta2,gamma2,Fleft,Fright] \n",
    "        * periodic (boolean) : indicates if the function is periodic\n",
    "        \n",
    "    - Returns\n",
    "        * u2 (1D array) : solution (velocity)\n",
    "    \"\"\"\n",
    "    \n",
    "    h,u=periodicDomain(h,u,None,dx,t)\n",
    "\n",
    "    ux = get1d(u,dx,periodic,order=2)\n",
    "    uxx = get2d(u,dx,periodic,order=2)\n",
    "    uxxx = get3d(u,dx,periodic,order=2)\n",
    "    uux = u*ux\n",
    "    uuxdx = get1d(uux,dx,periodic,order=2)\n",
    "    hx = get1d(h,dx,periodic,order=2)\n",
    "    h2x = get1d(h*h,dx,periodic,order=2)\n",
    "    \n",
    "    g1 = h*h*h*(u*uxx - ux*ux)\n",
    "    #g1 = h*h*h*(uuxdx - 2.*ux*ux)\n",
    "    g1x = get1d(g1,dx,periodic,order=2)\n",
    "    #g1x = 3.*h*h*hx*(u*uxx-ux*ux) + h*h*h*(-ux*uxx + u*uxxx)\n",
    "    \n",
    "    g2 = u - 1./2.*h2x*ux - h*h*uxx/3.\n",
    "       \n",
    "    d0 = 1. + 2./(3.*dx*dx)*h*h\n",
    "    dp1 = -h2x/(4.*dx) - h*h/(3.*dx*dx)\n",
    "    dp1 = dp1[0:-1]\n",
    "    dm1 = h2x/(4.*dx) - h*h/(3.*dx*dx)\n",
    "    dm1 = dm1[1:]\n",
    "    \n",
    "    M = np.diag(d0) + np.diag(dp1,1) + np.diag(dm1,-1)\n",
    "\n",
    "    M[0,:] = 0\n",
    "    M[-1,:] = 0\n",
    "    \n",
    "    M[0,0] = 1. - 3./4.*h2x[0]/dx - 2./3.*h[0]*h[0]/(dx*dx)\n",
    "    M[0,1] = h2x[0]/dx + 5./3.*h[0]*h[0]/(dx*dx)\n",
    "    M[0,2] = -1./4.*h2x[0]/dx - 4./3.*h[0]*h[0]/(dx*dx)\n",
    "    M[0,3] = 1./3.*h[0]*h[0]/(dx*dx)\n",
    "\n",
    "    M[-1,-1] = 1. + 3./4.*h2x[-1]/dx - 2./3.*h[-1]*h[-1]/(dx*dx)\n",
    "    M[-1,-2] = -h2x[-1]/dx + 5./3.*h[-1]*h[-1]/(dx*dx)\n",
    "    M[-1,-3] = 1./4.*h2x[-1]/dx - 4./3.*h[-1]*h[-1]/(dx*dx)\n",
    "    M[-1,-4] = 1./3.*h[-1]*h[-1]/(dx*dx)\n",
    "\n",
    "\n",
    "    np.set_printoptions(threshold=np.nan)\n",
    "    np.set_printoptions(suppress=True)\n",
    "\n",
    "    \n",
    "    rhs = g2 + dt/(3.*h)*g1x\n",
    "    \n",
    "    if BCparam != None:\n",
    "        if BCparam[14] == keepFirstSolL :\n",
    "            BCparam[0] = u[0]\n",
    "        if BCparam[15] == keepFirstSolL :\n",
    "            BCparam[4] = u[-1]    \n",
    "    \n",
    "    M,rhs = BCfunction(M,rhs,t,dx,BCparam)\n",
    "    \n",
    "    u2 = np.linalg.solve(M,rhs)\n",
    "        \n",
    "    return u2"
   ]
  },
  {
   "cell_type": "code",
   "execution_count": 21,
   "metadata": {
    "code_folding": [],
    "collapsed": false,
    "init_cell": true,
    "run_control": {
     "frozen": false,
     "read_only": false
    }
   },
   "outputs": [
    {
     "name": "stdout",
     "output_type": "stream",
     "text": [
      "Appending to serre.py\n"
     ]
    }
   ],
   "source": [
    "%%writefile serre.py -a\n",
    "\n",
    "def EFDSolverFM(h,u,dx,dt,t,order,BCfunction,BCparam=None,periodic=False,ng=2):\n",
    "    \n",
    "    \"\"\"\n",
    "    Finite Difference Solver for the second step of the splitted Serre equations.\n",
    "    \n",
    "    - Parameters\n",
    "        * h,u (1D array) : solution\n",
    "        * dx,dt,t (integers) : space step, time step, time\n",
    "        * BCfunction (function) : function that modifies the linear system to impose the BCs\n",
    "        * BCparam (1D array) : argument for BCfunction; contains the BCs in the form\n",
    "             BC=[u(left),ux(left),uxx(left),alpha1*u(left) + beta1*ux(right) + gamma1*uxx(right),\n",
    "                u(right),ux(right),uxx(right),alpha2*u(right) + beta2*ux(right) + gamma2*uxx(right),\n",
    "                alpha1,beta1,gamma1,alpha2,beta2,gamma2,Fleft,Fright] \n",
    "        * periodic (boolean) : indicates if the function is periodic\n",
    "        \n",
    "    - Returns\n",
    "        * u2 (1D array) : solution (velocity)\n",
    "    \"\"\"\n",
    "    \n",
    "    ### cleaner cheat\n",
    "    if periodic :\n",
    "        for v in [u,h] :\n",
    "            v = imposePeriodicity(v,ng)\n",
    "    ###\n",
    "    \n",
    "    hu = h*u\n",
    "    \n",
    "    ux = get1d(u,dx,periodic,order=2)\n",
    "    uxx = get2d(u,dx,periodic,order=2)\n",
    "    uux = u*ux\n",
    "    uuxdx = get1d(uux,dx,periodic,order=2)\n",
    "    hx = get1d(h,dx,periodic,order=2)\n",
    "    h2x = get1d(h*h,dx,periodic,order=2)\n",
    "    hhx = h*hx    \n",
    "    \n",
    "\n",
    "    if periodic :\n",
    "        for v in [ux,uux,uxx,uuxdx,h2x,hx,hhx] :\n",
    "            v = imposePeriodicity(v,ng)\n",
    "    ###\n",
    "    \n",
    "    #g1 = 0.*hhx + 2.*h*h*hx*ux*ux + 4./3.*h*h*h*ux*uxx\n",
    "    g1 = -1./3.*h*h*h*(uuxdx - 2.*ux*ux)\n",
    "    g1x = get1d(g1,dx,periodic,order=2)    \n",
    "    g1 = g1x\n",
    "    \n",
    "    d0 = h*(1. + 2./(3.*dx*dx)*h*h)\n",
    "    dp1 = h*(-h2x/(4.*dx) - h*h/(3.*dx*dx))\n",
    "    dp1 = dp1[0:-1]\n",
    "    dm1 = h*(h2x/(4.*dx) - h*h/(3.*dx*dx))\n",
    "    dm1 = dm1[1:]\n",
    "    \n",
    "    M = np.diag(d0) + np.diag(dp1,1) + np.diag(dm1,-1)\n",
    "\n",
    "    M[0,:] = 0\n",
    "    M[-1,:] = 0\n",
    "    \n",
    "    M[0,0] = h[0]*(1. - 3./4.*h2x[0]/dx - 2./3.*h[0]*h[0]/(dx*dx))\n",
    "    M[0,1] = h[0]*(h2x[0]/dx + 5./3.*h[0]*h[0]/(dx*dx))\n",
    "    M[0,2] = h[0]*(-1./4.*h2x[0]/dx - 4./3.*h[0]*h[0]/(dx*dx))\n",
    "    M[0,3] = h[0]*(1./3.*h[0]*h[0]/(dx*dx))\n",
    "\n",
    "    M[-1,-1] = h[-1]*(1. + 3./4.*h2x[-1]/dx - 2./3.*h[-1]*h[-1]/(dx*dx))\n",
    "    M[-1,-2] = h[-1]*(-h2x[-1]/dx + 5./3.*h[-1]*h[-1]/(dx*dx))\n",
    "    M[-1,-3] = h[-1]*(1./4.*h2x[-1]/dx - 4./3.*h[-1]*h[-1]/(dx*dx))\n",
    "    M[-1,-4] = h[-1]*(1./3.*h[-1]*h[-1]/(dx*dx))\n",
    "\n",
    "\n",
    "    np.set_printoptions(threshold=np.nan)\n",
    "    np.set_printoptions(suppress=True)\n",
    "\n",
    "    \n",
    "    rhs = g1\n",
    "    \n",
    "    if BCparam != None:\n",
    "        if BCparam[14] == keepFirstSolL :\n",
    "            BCparam[0] = u[0]\n",
    "        if BCparam[15] == keepFirstSolL :\n",
    "            BCparam[4] = u[-1]    \n",
    "    \n",
    "    M,rhs = BCfunction(M,rhs,t,dx,BCparam)\n",
    "    \n",
    "    z = np.linalg.solve(M,rhs)\n",
    "    z = z*h\n",
    "    hu2 = hu + dt*(hhx*0. - z)\n",
    "    \n",
    "    return hu2/h"
   ]
  },
  {
   "cell_type": "code",
   "execution_count": 22,
   "metadata": {
    "code_folding": [
     2
    ],
    "collapsed": false,
    "init_cell": true,
    "run_control": {
     "frozen": false,
     "read_only": true
    }
   },
   "outputs": [
    {
     "name": "stdout",
     "output_type": "stream",
     "text": [
      "Appending to serre.py\n"
     ]
    }
   ],
   "source": [
    "%%writefile serre.py -a\n",
    "\n",
    "def EFDSolverO2hu(h,u,dx,dt,t,BCfunction,order,BCparam=None,periodic=False):\n",
    "    \n",
    "    \"\"\"\n",
    "    Finite Difference Solver for the second step of the splitted Serre equations.\n",
    "    \n",
    "    - Parameters\n",
    "        * h,u (1D array) : solution\n",
    "        * dx,dt,t (integers) : space step, time step, time\n",
    "        * BCfunction (function) : function that modifies the linear system to impose the BCs\n",
    "        * BCparam (1D array) : argument for BCfunction; contains the BCs in the form\n",
    "             BC=[u(left),ux(left),uxx(left),alpha1*u(left) + beta1*ux(right) + gamma1*uxx(right),\n",
    "                u(right),ux(right),uxx(right),alpha2*u(right) + beta2*ux(right) + gamma2*uxx(right),\n",
    "                alpha1,beta1,gamma1,alpha2,beta2,gamma2,Fleft,Fright] \n",
    "        * periodic (boolean) : indicates if the function is periodic\n",
    "        \n",
    "    - Returns\n",
    "        * u2 (1D array) : solution (velocity)\n",
    "    \"\"\"\n",
    "    hu = h*u\n",
    "    \n",
    "    ux = get1d(u,dx,periodic,order)\n",
    "    uxx = get2d(u,dx,periodic,order)\n",
    "    hx = get1d(h,dx,periodic,order)\n",
    "    hxx = get2d(h,dx,periodic,order)\n",
    "    hux = get1d(hu,dx,periodic,order)\n",
    "    huxx = get2d(hu,dx,periodic,order)\n",
    "    h2x = get1d(h*h,dx,periodic,order)\n",
    "    \n",
    "    g1 = h*h*h*(u*uxx - ux*ux)\n",
    "    g1x = get1d(g1,dx,periodic,order)\n",
    "    \n",
    "    C0 = hx*hxx - hx*hxx*h*h - hx*h*h*h/3.\n",
    "    C1 = -hx*hx*hxx*h - 2./3.*hxx*h*h*h\n",
    "    C2 = -hx*hxx*h*h/3.\n",
    "    \n",
    "    g2 = C0*hu + C1*hux + C2*huxx\n",
    "       \n",
    "    d0 = C0 - 2.*C2/(dx*dx)\n",
    "    dp1 = C1/(2.*dx) + C2/(dx*dx)\n",
    "    dp1 = dp1[0:-1]\n",
    "    dm1 = -C1/(2.*dx) + C2/(dx*dx)\n",
    "    dm1 = dm1[1:]\n",
    "    \n",
    "    M = np.diag(d0) + np.diag(dp1,1) + np.diag(dm1,-1)\n",
    "    \n",
    "    M[0,:] = 0\n",
    "    M[-1,:] = 0\n",
    "    \n",
    "    M[0,0] = 1. - 3./4.*h2x[0]/dx - 2./3.*h[0]*h[0]/(dx*dx)\n",
    "    M[0,1] = h2x[0]/dx + 5./3.*h[0]*h[0]/(dx*dx)\n",
    "    M[0,2] = -1./4.*h2x[0]/dx - 4./3.*h[0]*h[0]/(dx*dx)\n",
    "    M[0,3] = 1./3.*h[0]*h[0]/(dx*dx)\n",
    "\n",
    "    M[-1,-1] = 1. + 3./4.*h2x[-1]/dx - 2./3.*h[-1]*h[-1]/(dx*dx)\n",
    "    M[-1,-2] = -h2x[-1]/dx + 5./3.*h[-1]*h[-1]/(dx*dx)\n",
    "    M[-1,-3] = 1./4.*h2x[-1]/dx - 4./3.*h[-1]*h[-1]/(dx*dx)\n",
    "    M[-1,-4] = 1./3.*h[-1]*h[-1]/(dx*dx)\n",
    "\n",
    "\n",
    "    np.set_printoptions(threshold=np.nan)\n",
    "    np.set_printoptions(suppress=True)\n",
    "\n",
    "    \n",
    "    rhs = g2 + dt/3.*hx*hxx*g1x\n",
    "    \n",
    "    if BCparam != None:\n",
    "        if BCparam[14] == keepFirstSolL :\n",
    "            BCparam[0] = u[0]\n",
    "        if BCparam[15] == keepFirstSolL :\n",
    "            BCparam[4] = u[-1]    \n",
    "    \n",
    "    M,rhs = BCfunction(M,rhs,t,dx,BCparam)\n",
    "    \n",
    "    hu2 = np.linalg.solve(M,rhs)\n",
    "    \n",
    "    return hu2/h"
   ]
  },
  {
   "cell_type": "code",
   "execution_count": 23,
   "metadata": {
    "code_folding": [],
    "collapsed": false,
    "init_cell": true,
    "run_control": {
     "frozen": false,
     "read_only": false
    }
   },
   "outputs": [
    {
     "name": "stdout",
     "output_type": "stream",
     "text": [
      "Appending to serre.py\n"
     ]
    }
   ],
   "source": [
    "%%writefile serre.py -a\n",
    "\n",
    "def splitSerre(x,h,u,t0,tmax,bcfunction1,bcfunction2,bcparam1,bcparam2,dx,nx,vardt = True, dt = 0.05,\n",
    "               splitSteps = 3, periodic=False,order=2,fvsolver=muscl2.fluxes2,fvTimesolver=RK4,fdsolver=EFDSolver,\n",
    "              ghostcells = 2):\n",
    "    t = t0\n",
    "    grav = 9.8\n",
    "    \n",
    "    uall = u\n",
    "    hall = h\n",
    "    tall = np.ones(1)*t0\n",
    "\n",
    "    print(r'CFL = %f' %(dt/(dx*dx*dx)))\n",
    "    \n",
    "    while t < tmax and dt > 1e-9:\n",
    "        if vardt :\n",
    "            if (np.amax(np.absolute(u)) + np.sqrt(grav*np.amax(h))) > 1.e-6:\n",
    "                dt = dx/(np.amax(np.absolute(u)) + np.sqrt(grav*np.amax(h)))\n",
    "            print(r'dt = %f; t = %f' %(dt,t))\n",
    "        t = t+dt\n",
    "        \n",
    "        hu = h*u\n",
    "\n",
    "        h,hu = bcfunction1(h,hu,bcparam1,dx,t)\n",
    "        #F = nswe.fluxes(h,hu,nx)\n",
    "        #h[1:-1] = h[1:-1] - dt/dx*(F[0,1:] - F[0,0:-1])\n",
    "        #hu[1:-1] = hu[1:-1] - dt/dx*(F[1,1:] - F[1,0:-1])\n",
    "        \n",
    "        if splitSteps == 3:\n",
    "            h,hu = fvTimesolver(x,h,hu,fvsolver,bcfunction1,bcparam1,dx,dt/2.,nx,t,ng=ghostcells)\n",
    "            u = np.where(h[:]>1e-5, hu[:]/h[:], 0.)\n",
    "            u = fdsolver(h,u,dx,dt,t,order,bcfunction2,bcparam2,periodic=periodic,ng=ghostcells)\n",
    "            hu = h*u\n",
    "            h,hu = bcfunction1(h,hu,bcparam1,dx,t)  \n",
    "            h,hu = fvTimesolver(x,h,hu,fvsolver,bcfunction1,bcparam1,dx,dt/2.,nx,t,ng=ghostcells)\n",
    "            u = np.where(h[:]>1e-5, hu[:]/h[:], 0.)\n",
    "        elif splitSteps == 2 :\n",
    "            h,hu = fvTimesolver(x,h,hu,fvsolver,bcfunction1,bcparam1,dx,dt,nx,t,ng=ghostcells)\n",
    "            u = np.where(h[:]>1e-5, hu[:]/h[:], 0.)\n",
    "            u = fdsolver(h,u,dx,dt,t,order,bcfunction2,bcparam2,periodic,ng=ghostcells)\n",
    "        elif splitSteps == -2 :\n",
    "            u = np.where(h[:]>1e-5, hu[:]/h[:], 0.)\n",
    "            u = fdsolver(h,u,dx,dt,t,order,bcfunction2,bcparam2,periodic,ng=ghostcells)            \n",
    "            hu = h*u\n",
    "            h,hu = bcfunction1(h,hu,bcparam1,dx,t)  \n",
    "            h,hu = fvTimesolver(x,h,hu,fvsolver,bcfunction1,bcparam1,dx,dt/2.,nx,t,ng=ghostcells)\n",
    "            u = np.where(h[:]>1e-5, hu[:]/h[:], 0.)\n",
    "        elif splitSteps == -3 :\n",
    "            u = np.where(h[:]>1e-5, hu[:]/h[:], 0.)\n",
    "            u = fdsolver(h,u,dx,dt/2.,t,order,bcfunction2,bcparam2,periodic,ng=ghostcells)            \n",
    "            hu = h*u\n",
    "            h,hu = bcfunction1(h,hu,bcparam1,dx,t)  \n",
    "            h,hu = fvTimesolver(x,h,hu,fvsolver,bcfunction1,bcparam1,dx,dt/2.,nx,t,ng=ghostcells)\n",
    "            u = np.where(h[:]>1e-5, hu[:]/h[:], 0.)\n",
    "            u = fdsolver(h,u,dx,dt/2.,t,order,bcfunction2,bcparam2,periodic,ng=ghostcells)\n",
    "\n",
    "        hall = np.column_stack((hall,h))\n",
    "        uall = np.column_stack((uall,u))\n",
    "        tall = np.hstack((tall,t*np.ones(1)))\n",
    "        \n",
    "    return hall,uall,tall"
   ]
  },
  {
   "cell_type": "code",
   "execution_count": 24,
   "metadata": {
    "code_folding": [],
    "collapsed": false,
    "init_cell": true,
    "run_control": {
     "frozen": false,
     "read_only": false
    }
   },
   "outputs": [
    {
     "name": "stdout",
     "output_type": "stream",
     "text": [
      "Appending to serre.py\n"
     ]
    }
   ],
   "source": [
    "%%writefile serre.py -a\n",
    "\n",
    "## comparision\n",
    "def NSWE(x,h,u,t0,tmax,bcfunction,bcparam,dx,nx,vardt = True, dt = 0.05, fvsolver=muscl2.fluxes2,fvTimesolver=RK4,\n",
    "         ghostcells = 2):\n",
    "    t = t0\n",
    "    grav = 9.8\n",
    "    \n",
    "    uall = u\n",
    "    hall = h\n",
    "    tall = np.ones(1)*t0\n",
    "\n",
    "    print(r'CFL = %f' %(dt/(dx*dx*dx)))\n",
    "    \n",
    "    while t < tmax and dt > 1e-9:\n",
    "        if vardt:\n",
    "            if (np.amax(np.absolute(u)) + np.sqrt(grav*np.amax(h))) > 1.e-6:\n",
    "                dt = dx*dx*dx/(np.amax(np.absolute(u)) + np.sqrt(grav*np.amax(h)))\n",
    "            print(r'dt = %f; t = %f' %(dt,t))\n",
    "        t = t+dt\n",
    "        \n",
    "        hu = h*u\n",
    "        \n",
    "        h,hu = bcfunction(h,hu,bcparam,dx,t)\n",
    "        #F = nswe.fluxes(h,hu,nx)\n",
    "        #h[1:-1] = h[1:-1] - dt/dx*(F[0,1:] - F[0,0:-1])\n",
    "        #hu[1:-1] = hu[1:-1] - dt/dx*(F[1,1:] - F[1,0:-1])\n",
    "        #F = muscl2.fluxes2(h,hu,nx)\n",
    "        #h[1:-1] = h[1:-1] - dt/dx*(F[0,1:] - F[0,0:-1])\n",
    "        #hu[1:-1] = hu[1:-1] - dt/dx*(F[1,1:] - F[1,0:-1])\n",
    "        #h[2:-2] = h[2:-2] -dt/dx*(F[0,1:] - F[0,:-1])\n",
    "        #hu[2:-2] = hu[2:-2] -dt/dx*(F[1,1:] - F[1,:-1])\n",
    "        \n",
    "        h,hu = fvTimesolver(x,h,hu,fvsolver,bcfunction,bcparam,dx,dt,nx,t,ghostcells)\n",
    "            \n",
    "        u = np.where(h[:]>1e-5, hu[:]/h[:], 0.)\n",
    "        \n",
    "        #u = EFDSolver(h,u,dx,dt)\n",
    "\n",
    "        hall = np.column_stack((hall,h))\n",
    "        uall = np.column_stack((uall,u))\n",
    "        tall = np.hstack((tall,t*np.ones(1)))\n",
    "        \n",
    "    return hall,uall,tall"
   ]
  },
  {
   "cell_type": "markdown",
   "metadata": {},
   "source": [
    "## Test cases"
   ]
  },
  {
   "cell_type": "markdown",
   "metadata": {},
   "source": [
    "In order to validate the implementation of the Serre equations, some tests were realized, with different initial and boundary conditions. The same conditions were also applied in the resolution of the nonlinear shallow water equations  (NSWE), and the results ($u(x,t)$ and $h(x,t)$) of both simulations were plotted in the same graphs to compare the results. This comparison imposed the utilization of fixed time steps."
   ]
  },
  {
   "cell_type": "code",
   "execution_count": 25,
   "metadata": {
    "collapsed": false,
    "init_cell": true,
    "run_control": {
     "frozen": false,
     "read_only": false
    }
   },
   "outputs": [],
   "source": [
    "import serre\n",
    "import numpy as np\n",
    "import matplotlib.pyplot as plt\n",
    "import generalFunctions as gF\n",
    "import cnoidal\n",
    "import nswe\n",
    "import muscl2\n",
    "%matplotlib inline\n",
    "\n",
    "nan = float('nan')"
   ]
  },
  {
   "cell_type": "markdown",
   "metadata": {},
   "source": [
    "### Test case 1 : Oscillatory left boundary in a fluid at rest"
   ]
  },
  {
   "cell_type": "markdown",
   "metadata": {},
   "source": [
    "For a initial solution $(h,u)(x,0) = (h_0,0), \\ h_0 > 0$, we impose a periodic oscillation of the water depth in the left boundary of the domain :\n",
    "\n",
    "$h(0,t) = \\alpha cos(\\omega t)$"
   ]
  },
  {
   "cell_type": "code",
   "execution_count": null,
   "metadata": {
    "code_folding": [],
    "collapsed": false,
    "run_control": {
     "frozen": false,
     "read_only": false
    }
   },
   "outputs": [],
   "source": [
    "### First test case\n",
    "L = 30.\n",
    "xmin = 0.\n",
    "xmax = L\n",
    "nx = 40\n",
    "alpha = 1.\n",
    "h0 = 10.\n",
    "x,dx = serre.discretizeSpace(xmin,xmax,nx)\n",
    "\n",
    "u = np.zeros(nx)\n",
    "h = np.zeros(nx) + h0\n",
    "\n",
    "#h = np.where(x<L/2, 10., 1.)\n",
    "\n",
    "\n",
    "u2 = np.copy(u)\n",
    "h2 = np.copy(h)\n",
    "\n",
    "BC1=np.array([0.,0.,0.,0.,1.,0.,1.,0.,0.,1.,0.,1.]) ## dirichlet Left; neumann right\n",
    "BC2=np.array([0.,nan,nan,nan,nan,0.,0.,nan,0,0,0,0,0,0,serre.keepFirstSolL,nan])\n",
    "\n",
    "\n",
    "hall1,uall1,tall1 = serre.splitSerre(x,h,u,0,10.,serre.leftPerturbation,\n",
    "                                    serre.genericOpenDomain2,BC1,BC2,dx,nx,vardt = False, dt = 0.05,\n",
    "                                    splitSteps = 3, order=2, fdsolver=serre.EFDSolver)\n",
    "hall2,uall2,tall2 = serre.NSWE(x,h2,u2,0,10.,serre.leftPerturbation,BC1,dx,nx,vardt = False, dt = 0.05)\n",
    "\n",
    "umin = np.amin(np.concatenate((uall1,uall2)))\n",
    "umax = np.amax(np.concatenate((uall1,uall2)))\n",
    "hmin = np.amin(np.concatenate((hall1,hall2)))\n",
    "hmax = np.amax(np.concatenate((hall1,hall2)))"
   ]
  },
  {
   "cell_type": "code",
   "execution_count": null,
   "metadata": {
    "collapsed": false,
    "run_control": {
     "frozen": false,
     "read_only": false
    },
    "scrolled": true
   },
   "outputs": [],
   "source": [
    "gF.plotAnimationNSolutions(2,x,np.array([uall1,uall2]),tall1,xmin,xmax,umin,umax,[\"Serre\",\"NSWE\"],r'$u$')"
   ]
  },
  {
   "cell_type": "code",
   "execution_count": null,
   "metadata": {
    "collapsed": false,
    "run_control": {
     "frozen": false,
     "read_only": false
    }
   },
   "outputs": [],
   "source": [
    "gF.plotAnimationNSolutions(2,x,np.array([hall1,hall2]),tall1,xmin,xmax,hmin,hmax,[\"Serre\",\"NSWE\"],r'$h$')"
   ]
  },
  {
   "cell_type": "markdown",
   "metadata": {},
   "source": [
    "### Test case 2 : Perturbation and open domain"
   ]
  },
  {
   "cell_type": "markdown",
   "metadata": {},
   "source": [
    "For a fluid with initial velocity equals to zero, we impose a small gaussian perturbation in the water depth :\n",
    "\n",
    "$h(x,0) = \\alpha e^{-\\frac{(x-x_0)^2}{\\sigma^2}}$\n",
    "\n",
    "Neumann conditions are imposed in both boundaries, simulating an \"open\" domain"
   ]
  },
  {
   "cell_type": "code",
   "execution_count": null,
   "metadata": {
    "collapsed": false,
    "run_control": {
     "frozen": false,
     "read_only": false
    }
   },
   "outputs": [],
   "source": [
    "### Second test case\n",
    "L = 30.\n",
    "xmin = 0.\n",
    "xmax = L\n",
    "nx = 40\n",
    "alpha = 5.\n",
    "h0 = 10.\n",
    "x,dx = serre.discretizeSpace(xmin,xmax,nx)\n",
    "\n",
    "u = np.zeros(nx)\n",
    "\n",
    "h = h0 + alpha*np.exp(-((x-L/2.)*(x-L/2.))/(L/100.))\n",
    "\n",
    "u2 = np.copy(u)\n",
    "h2 = np.copy(h)\n",
    "\n",
    "BC1=np.array([0.,0.,0.,0.,0.,1.,0.,1.,0.,1.,0.,1.])\n",
    "BC2=np.array([0.,nan,nan,nan,0.,0.,nan,nan,0,0,0,0,0,0,nan,nan])\n",
    "\n",
    "hall1,uall1,tall1 = serre.splitSerre(x,h,u,0,10.,serre.robinBC1,\n",
    "                                     serre.genericOpenDomain2,BC1,BC2,dx,nx,vardt = False, dt = 0.05, splitSteps=2)\n",
    "hall2,uall2,tall2 = serre.NSWE(x,h2,u2,0,10.,serre.robinBC1,BC1,dx,nx,vardt = False, dt = 0.05)\n",
    "\n",
    "umin = np.amin(np.concatenate((uall1,uall2)))\n",
    "umax = np.amax(np.concatenate((uall1,uall2)))\n",
    "hmin = np.amin(np.concatenate((hall1,hall2)))\n",
    "hmax = np.amax(np.concatenate((hall1,hall2)))"
   ]
  },
  {
   "cell_type": "code",
   "execution_count": null,
   "metadata": {
    "collapsed": false,
    "run_control": {
     "frozen": false,
     "read_only": false
    },
    "scrolled": true
   },
   "outputs": [],
   "source": [
    "gF.plotAnimationNSolutions(2,x,np.array([uall1,uall2]),tall1,xmin,xmax,umin,umax,[\"Serre\",\"NSWE\"],r'$u$')"
   ]
  },
  {
   "cell_type": "code",
   "execution_count": null,
   "metadata": {
    "collapsed": false,
    "run_control": {
     "frozen": false,
     "read_only": false
    },
    "scrolled": true
   },
   "outputs": [],
   "source": [
    "gF.plotAnimationNSolutions(2,x,np.array([hall1,hall2]),tall1,xmin,xmax,hmin,hmax,[\"Serre\",\"NSWE\"],r'$h$')"
   ]
  },
  {
   "cell_type": "markdown",
   "metadata": {},
   "source": [
    "### Test case 2b : Perturbation and open domain (with Robin conditions)"
   ]
  },
  {
   "cell_type": "markdown",
   "metadata": {},
   "source": [
    "The previous test will be repeated, but with a larger domain and the initial perturbation closer to the right boundary.\n",
    "\n",
    "The objective here is to apply and test Robin conditions on the right boundary; the other two necessary boundary conditions can be applied in the left boundary (Dirichlet and Neumann) without affecting the solution (because this boundary is far enough of the perturbation)."
   ]
  },
  {
   "cell_type": "code",
   "execution_count": null,
   "metadata": {
    "collapsed": false,
    "run_control": {
     "frozen": false,
     "read_only": false
    }
   },
   "outputs": [],
   "source": [
    "### Second test case\n",
    "L = 300.\n",
    "xmin = 0.\n",
    "xmax = L\n",
    "nx = 100\n",
    "alpha = 5.\n",
    "h0 = 10.\n",
    "x,dx = serre.discretizeSpace(xmin,xmax,nx)\n",
    "\n",
    "u = np.zeros(nx)\n",
    "\n",
    "h = h0 + alpha*np.exp(-((x-.8*L)*(x-.8*L))/(L/100.))\n",
    "\n",
    "u2 = np.copy(u)\n",
    "h2 = np.copy(h)\n",
    "\n",
    "BC1=np.array([0.,0.,0.,0.,0.,1.,0.,1.,0.,1.,0.,1.,0.])\n",
    "BC2=np.array([0.,0.,nan,nan,nan,nan,nan,0.,0,0,0,1.,1000.,0,nan,nan])\n",
    "\n",
    "hall1,uall1,tall1 = serre.splitSerre(x,h,u,0,10.,serre.robinBC1,\n",
    "                                     serre.genericOpenDomain2,BC1,BC2,dx,nx,vardt = False, dt = 0.05,\n",
    "                                     fdsolver = serre.EFDSolverFM)\n",
    "hall2,uall2,tall2 = serre.NSWE(x,h2,u2,0,10.,serre.robinBC1,BC1,dx,nx,vardt = False, dt = 0.05)\n",
    "\n",
    "umin = np.amin(np.concatenate((uall1,uall2)))\n",
    "umax = np.amax(np.concatenate((uall1,uall2)))\n",
    "hmin = np.amin(np.concatenate((hall1,hall2)))\n",
    "hmax = np.amax(np.concatenate((hall1,hall2)))"
   ]
  },
  {
   "cell_type": "code",
   "execution_count": null,
   "metadata": {
    "collapsed": false,
    "run_control": {
     "frozen": false,
     "read_only": false
    },
    "scrolled": true
   },
   "outputs": [],
   "source": [
    "gF.plotAnimationNSolutions(2,x,np.array([uall1,uall2]),tall1,.5*(xmax-xmin),xmax,umin,umax,[\"Serre\",\"NSWE\"],r'$u$')"
   ]
  },
  {
   "cell_type": "code",
   "execution_count": null,
   "metadata": {
    "collapsed": false,
    "run_control": {
     "frozen": false,
     "read_only": false
    },
    "scrolled": false
   },
   "outputs": [],
   "source": [
    "gF.plotAnimationNSolutions(2,x,np.array([hall1,hall2]),tall1,.5*(xmax-xmin),xmax,hmin,hmax,[\"Serre\",\"NSWE\"],r'$h$')"
   ]
  },
  {
   "cell_type": "markdown",
   "metadata": {},
   "source": [
    "### Test case 3 : Small perturbation and periodic domain"
   ]
  },
  {
   "cell_type": "markdown",
   "metadata": {},
   "source": [
    "Similar to the previous test case, but with periodic boundary conditions. The perturbation is displaced from the center of the domain to make the periodicty more evident."
   ]
  },
  {
   "cell_type": "code",
   "execution_count": null,
   "metadata": {
    "collapsed": false,
    "run_control": {
     "frozen": false,
     "read_only": false
    }
   },
   "outputs": [],
   "source": [
    "### Third test case\n",
    "L = 30.\n",
    "xmin = 0.\n",
    "xmax = L\n",
    "nx = 40\n",
    "alpha = 5.\n",
    "h0 = 10.\n",
    "x,dx = serre.discretizeSpace(xmin,xmax,nx)\n",
    "\n",
    "u = np.zeros(nx)\n",
    "\n",
    "#h = np.where(x<L/2, 10., 1.)\n",
    "h = h0 + alpha*np.exp(-((x-2.*L/3.)*(x-2.*L/3.))/(L/1000.))\n",
    "\n",
    "u2 = np.copy(u)\n",
    "h2 = np.copy(h)\n",
    "\n",
    "hall1,uall1,tall1 = serre.splitSerre(x,h,u,0,12.,serre.periodicDomain,\n",
    "                                     serre.periodicDomain2,None,None,dx,nx,vardt = False, dt = 0.05)\n",
    "hall2,uall2,tall2 = serre.NSWE(x,h2,u2,0,12.,serre.periodicDomain,None,dx,nx,vardt = False, dt = 0.05)\n",
    "\n",
    "umin = np.amin(np.concatenate((uall1,uall2)))\n",
    "umax = np.amax(np.concatenate((uall1,uall2)))\n",
    "hmin = np.amin(np.concatenate((hall1,hall2)))\n",
    "hmax = np.amax(np.concatenate((hall1,hall2)))"
   ]
  },
  {
   "cell_type": "code",
   "execution_count": null,
   "metadata": {
    "collapsed": false,
    "run_control": {
     "frozen": false,
     "read_only": false
    },
    "scrolled": false
   },
   "outputs": [],
   "source": [
    "gF.plotAnimationNSolutions(2,x,np.array([uall1,uall2]),tall1,xmin,xmax,umin,umax,[\"Serre\",\"NSWE\"],r'$u$')"
   ]
  },
  {
   "cell_type": "code",
   "execution_count": null,
   "metadata": {
    "collapsed": false,
    "run_control": {
     "frozen": false,
     "read_only": false
    },
    "scrolled": true
   },
   "outputs": [],
   "source": [
    "gF.plotAnimationNSolutions(2,x,np.array([hall1,hall2]),tall1,xmin,xmax,hmin,hmax,[\"Serre\",\"NSWE\"],r'$h$')"
   ]
  },
  {
   "cell_type": "markdown",
   "metadata": {},
   "source": [
    "### Test case 4 : Analytical solution"
   ]
  },
  {
   "cell_type": "markdown",
   "metadata": {},
   "source": [
    "The periodic solutions of the Serre equations (see the Cnoidal notebook for a more detailed description) were used as initial solution; the numerical results were compared to the analytic solution."
   ]
  },
  {
   "cell_type": "markdown",
   "metadata": {},
   "source": [
    "#### Some remarks and conclusions concerning the results presented below"
   ]
  },
  {
   "cell_type": "markdown",
   "metadata": {},
   "source": [
    "* The results given by the simulation of the Serre equations and the NSWE are very similar (we don't see the differences observed in the previous tests);\n",
    "* There is a large reduction of the wave amplitudes, mainly in the leftmost peak (all the others have a similar reduction). It could indicate a problem in the boundary conditions, but when the peaks reach the end of the domain and return to the left boundary, their reductions do not become stronger."
   ]
  },
  {
   "cell_type": "code",
   "execution_count": null,
   "metadata": {
    "collapsed": false,
    "run_control": {
     "frozen": false,
     "read_only": false
    }
   },
   "outputs": [],
   "source": [
    "### Fourth test case\n",
    "\n",
    "a0 = 0.3\n",
    "a1 = 0.1\n",
    "k = 0.99\n",
    "g = 9.81\n",
    "t = 0.0\n",
    "\n",
    "lam, h0 = cnoidal.WaveLengthDepth(k,a0,a1)\n",
    "\n",
    "L = 2*lam\n",
    "xmin = -L\n",
    "xmax = L\n",
    "nx = 100\n",
    "\n",
    "#x,dx = serre.discretizeSpace(xmin,xmax,nx)\n",
    "\n",
    "#h,u = cnoidal.analyticalSolution(x,t,k,a0,a1)\n",
    "\n",
    "dx1 = (xmax-xmin)/(nx)\n",
    "\n",
    "x,dx = serre.discretizeSpace(xmin-2.*dx1,xmax+2.*dx1,nx+4)\n",
    "\n",
    "h,u = cnoidal.analyticalSolution(x[2:-2],t,k,a0,a1)\n",
    "h = serre.extend2GhostCells(h,2)\n",
    "u = serre.extend2GhostCells(u,2)\n",
    "h,u = serre.periodicDomainTwoGC(h,u,None,dx,0)\n",
    "\n",
    "u2 = np.copy(u)\n",
    "h2 = np.copy(h)\n",
    "\n",
    "hall1,uall1,tall1 = serre.splitSerre(x,h,u,0,10.,serre.periodicDomainTwoGC,\n",
    "                                     serre.periodicDomain2TwoGC,None,None,dx,nx,vardt = False, dt = 0.05, splitSteps=3,\n",
    "                                     order=2, periodic=True,\n",
    "                                     fvsolver = muscl2.fluxes2, fdsolver = serre.EFDSolverFM, ghostcells=2)\n",
    "hall2,uall2,tall2 = serre.NSWE(x,h2,u2,0,10.,serre.periodicDomainTwoGC,None,dx,nx,vardt = False, dt = 0.05,\n",
    "                              fvsolver=muscl2.fluxes2, ghostcells=2)\n",
    "\n",
    "nx = nx\n",
    "dx1 = (xmax-xmin)/(nx)\n",
    "\n",
    "print(x.shape)\n",
    "x,dx = serre.discretizeSpace(xmin-1.*dx1,xmax+1.*dx1,nx+2)\n",
    "print(x.shape)\n",
    "h,u = cnoidal.analyticalSolution(x[1:-1],t,k,a0,a1)\n",
    "h = serre.extend2GhostCells(h,1)\n",
    "u = serre.extend2GhostCells(u,1)\n",
    "h,u = serre.periodicDomain(h,u,None,dx,0)\n",
    "\n",
    "hall3,uall3,tall3 = serre.splitSerre(x,h,u,0,10.,serre.periodicDomain,\n",
    "                                     serre.periodicDomain2,None,None,dx,nx+2,vardt = False, dt = 0.05, splitSteps=3,\n",
    "                                     order=2, periodic=True,\n",
    "                                     fvsolver = nswe.fluxes, fdsolver = serre.EFDSolverFM, ghostcells=1)\n",
    "\n",
    "h = serre.extend2GhostCells(h,1)\n",
    "u = serre.extend2GhostCells(u,1)\n",
    "x = serre.extend2GhostCells(x,1)\n",
    "x[0] = x[1]-dx\n",
    "x[-1] = x[-2]+dx\n",
    "\n",
    "umin = np.amin(np.concatenate((uall1,uall2,uall3)))\n",
    "umax = np.amax(np.concatenate((uall1,uall2,uall3)))\n",
    "hmin = np.amin(np.concatenate((hall1,hall2,hall3)))\n",
    "hmax = np.amax(np.concatenate((hall1,hall2,hall3)))\n",
    "\n",
    "print(np.linalg.norm(uall1-uall2))\n",
    "print(np.linalg.norm(hall1-hall2))"
   ]
  },
  {
   "cell_type": "code",
   "execution_count": null,
   "metadata": {
    "collapsed": false
   },
   "outputs": [],
   "source": [
    "print(hall3[:,1])"
   ]
  },
  {
   "cell_type": "code",
   "execution_count": null,
   "metadata": {
    "collapsed": false,
    "run_control": {
     "frozen": false,
     "read_only": false
    }
   },
   "outputs": [],
   "source": [
    "hallexact = np.copy(hall1)\n",
    "uallexact = np.copy(uall1)\n",
    "\n",
    "for i in range (tall1.size):\n",
    "    hallexact[:,i],uallexact[:,i] = cnoidal.analyticalSolution(x,tall1[i],k,a0,a1)\n",
    "\n",
    "lb = [\"Serre\",\"NSWE\",\"Serre FV Order 1\", \"Analytical solution\"]\n",
    "gF.plotAnimationNSolutions(3,x,np.array([uall1,uall2,uallexact]),tall1,xmin,xmax,umin,umax,lb,ylabel=r'$u$')"
   ]
  },
  {
   "cell_type": "code",
   "execution_count": null,
   "metadata": {
    "collapsed": false,
    "run_control": {
     "frozen": false,
     "read_only": false
    }
   },
   "outputs": [],
   "source": [
    "gF.plotAnimationNSolutions(4,x,np.array([hall1,hall2,hall3,hallexact]),tall1,xmin,xmax,hmin,hmax,lb,ylabel=r'$h$')"
   ]
  },
  {
   "cell_type": "markdown",
   "metadata": {},
   "source": [
    "### Test 5 : analytical solution (Rayleigh solitary wave)"
   ]
  },
  {
   "cell_type": "markdown",
   "metadata": {},
   "source": [
    "#### Some remarks and conclusions concerning the results presented below"
   ]
  },
  {
   "cell_type": "markdown",
   "metadata": {},
   "source": [
    "* Similarly to the results given with the cnoidal solution as initial condition, the tests with the Rqyleigh solitary wave didn't presented the expected analytical result. In fact, we observe the formation of secondary waves, instead of the conservation of the wave shape.\n",
    "* The similarity of the results given by the Serre equations and by the NSWE is even strong than the case of the cnoidal waves."
   ]
  },
  {
   "cell_type": "code",
   "execution_count": null,
   "metadata": {
    "collapsed": false,
    "run_control": {
     "frozen": false,
     "read_only": false
    }
   },
   "outputs": [],
   "source": [
    "\n",
    "a0 = .3\n",
    "a1 = .1\n",
    "k = 0.\n",
    "g = 9.81\n",
    "t = 0.0\n",
    "\n",
    "lam, h0 = cnoidal.WaveLengthDepth(k,a0,a1)\n",
    "\n",
    "\n",
    "L = 10.*lam\n",
    "xmin = -L\n",
    "xmax = 3.*L\n",
    "nx = 100\n",
    "\n",
    "x,dx = serre.discretizeSpace(xmin,xmax,nx)\n",
    "\n",
    "h,u = cnoidal.analyticalSolutionSolitary(x,t,a0,a1)\n",
    "\n",
    "\n",
    "u2 = np.copy(u)\n",
    "h2 = np.copy(h)\n",
    "u3 = np.copy(u)\n",
    "h3 = np.copy(h)\n",
    "\n",
    "BC1=np.array([0.,0.,0.,0.,0.,1.,0.,1.,0.,1.,0.,1.,0.])\n",
    "BC2=np.array([0.,0.,nan,nan,0.,nan,nan,nan,0,0,0,0.,0.,0,nan,nan])\n",
    "hall1,uall1,tall1 = serre.splitSerre(x,h,u,0,2.,serre.periodicDomainTwoGC,\n",
    "                                     serre.periodicDomain2,None,None,dx,nx,vardt = False, dt = 0.05, splitSteps=3,\n",
    "                                     order=2, fvsolver = muscl2.fluxes2, fdsolver = serre.EFDSolverFM)\n",
    "hall2,uall2,tall2 = serre.NSWE(x,h2,u2,0,2.,serre.periodicDomainTwoGC,None,dx,nx,vardt = False, dt = 0.05)\n",
    "hall3,uall3,tall3 = serre.splitSerre(x,h3,u3,0,2.,serre.periodicDomain,\n",
    "                                     serre.periodicDomain2,BC1,BC2,dx,nx,vardt = False, dt = 0.05, splitSteps=3,\n",
    "                                     order=2, fvsolver=nswe.fluxes, fdsolver=serre.EFDSolverFM, ghostcells=1)\n",
    "\n",
    "umin = np.amin(np.concatenate((uall1,uall2,uall3)))\n",
    "umax = np.amax(np.concatenate((uall1,uall2,uall3)))\n",
    "hmin = np.amin(np.concatenate((hall1,hall2,hall3)))\n",
    "hmax = np.amax(np.concatenate((hall1,hall2,hall3)))\n",
    "\n",
    "print(np.linalg.norm(uall1-uall2))\n",
    "print(np.linalg.norm(hall1-hall2))"
   ]
  },
  {
   "cell_type": "code",
   "execution_count": null,
   "metadata": {
    "collapsed": false,
    "run_control": {
     "frozen": false,
     "read_only": false
    }
   },
   "outputs": [],
   "source": [
    "hallexact = np.copy(hall1)\n",
    "uallexact = np.copy(uall1)\n",
    "\n",
    "for i in range (tall1.size):\n",
    "    hallexact[:,i],uallexact[:,i] = cnoidal.analyticalSolutionSolitary(x,tall1[i],a0,a1)\n",
    "\n",
    "lb = [\"Serre\",\"NSWE\",\"Serre FV Order 1\", \"Analytical solution\"]\n",
    "gF.plotAnimationNSolutions(4,x,np.array([hall1,hall2,hall3,hallexact]),tall1,xmin,xmax,hmin,hmax,lb,ylabel=r'$h$',location=(0.,0.8))"
   ]
  },
  {
   "cell_type": "code",
   "execution_count": null,
   "metadata": {
    "collapsed": false,
    "run_control": {
     "frozen": false,
     "read_only": false
    }
   },
   "outputs": [],
   "source": [
    "\n",
    "lb = [\"Serre\",\"NSWE\",\"Serre FV Order 1\", \"Analytical solution\"]\n",
    "gF.plotAnimationNSolutions(4,x,np.array([uall1,uall2,uall3,uallexact]),tall1,xmin,xmax,umin,umax,lb,ylabel=r'$u$',location=(0.,.7))"
   ]
  },
  {
   "cell_type": "code",
   "execution_count": null,
   "metadata": {
    "collapsed": false,
    "run_control": {
     "frozen": false,
     "read_only": false
    }
   },
   "outputs": [],
   "source": [
    "print(np.linalg.norm(uall1-uallexact))\n",
    "print(np.linalg.norm(hall1-hallexact))"
   ]
  },
  {
   "cell_type": "code",
   "execution_count": null,
   "metadata": {
    "collapsed": false,
    "run_control": {
     "frozen": false,
     "read_only": false
    }
   },
   "outputs": [],
   "source": [
    "## G-N solitary wave solution (Marche paper)\n",
    "\n",
    "h0 = 0.5\n",
    "a1 = 0.2*h0\n",
    "k = 0.\n",
    "g = 9.81\n",
    "t = 0.0\n",
    "H = 10.\n",
    "\n",
    "L = 15.\n",
    "xmin = -L\n",
    "xmax = L\n",
    "nx = 100\n",
    "\n",
    "x,dx = serre.discretizeSpace(xmin,xmax,nx)\n",
    "dt = .05\n",
    "\n",
    "kappa = np.sqrt(3.*H)/(2.*h0*np.sqrt(h0+H))\n",
    "h = h0 + a1*np.power(np.cosh(kappa*x),-2)\n",
    "c = np.sqrt(g*(h+H))\n",
    "u = c*(1.-h0/h)\n",
    "\n",
    "u2 = np.copy(u)\n",
    "h2 = np.copy(h)\n",
    "u3 = np.copy(u)\n",
    "h3 = np.copy(h)\n",
    "\n",
    "\n",
    "\n",
    "BC1=np.array([0.,0.,0.,0.,0.,1.,0.,1.,0.,1.,0.,1.,0.])\n",
    "BC2=np.array([0.,0.,nan,nan,0.,nan,nan,nan,0,0,0,0.,0.,0,nan,nan])\n",
    "hall1,uall1,tall1 = serre.splitSerre(x,h,u,0,5.,serre.periodicDomainTwoGC,\n",
    "                                     serre.periodicDomain2,BC1,BC2,dx,nx,vardt = False, dt = dt, splitSteps=3,\n",
    "                                     order=2, fvsolver=muscl2.fluxes2, fdsolver=serre.EFDSolver)\n",
    "hall2,uall2,tall2 = serre.NSWE(x,h2,u2,0,5.,serre.periodicDomainTwoGC,BC1,dx,nx,vardt = False, dt = dt)\n",
    "hall3,uall3,tall3 = serre.splitSerre(x,h3,u3,0,5.,serre.periodicDomain,\n",
    "                                     serre.periodicDomain2,BC1,BC2,dx,nx,vardt = False, dt = dt, splitSteps=3,\n",
    "                                     order=2, fvsolver=nswe.fluxes, fdsolver=serre.EFDSolver, ghostcells=1)\n",
    "\n",
    "umin = np.amin(np.concatenate((uall1,uall2,uall3)))\n",
    "umax = np.amax(np.concatenate((uall1,uall2,uall3)))\n",
    "hmin = np.amin(np.concatenate((hall1,hall2,hall3)))\n",
    "hmax = np.amax(np.concatenate((hall1,hall2,hall3)))\n",
    "\n",
    "print(np.linalg.norm(uall1-uall2))\n",
    "print(np.linalg.norm(hall1-hall2))"
   ]
  },
  {
   "cell_type": "code",
   "execution_count": null,
   "metadata": {
    "collapsed": false,
    "run_control": {
     "frozen": false,
     "read_only": false
    }
   },
   "outputs": [],
   "source": [
    "hallexact = np.copy(hall1)\n",
    "uallexact = np.copy(uall1)\n",
    "\n",
    "for i in range (tall1.size):\n",
    "    hallexact[:,i] = h0 + a1*np.power(np.cosh(kappa*x-c*tall1[i]),-2)\n",
    "    c = np.sqrt(g*(hallexact[:,i]+H))\n",
    "    uallexact[:,i] = c*(1.-h0/hallexact[:,i])\n",
    "    \n",
    "print(np.linalg.norm(uall1-uallexact))\n",
    "print(np.linalg.norm(hall1-hallexact))"
   ]
  },
  {
   "cell_type": "code",
   "execution_count": null,
   "metadata": {
    "collapsed": false,
    "run_control": {
     "frozen": false,
     "read_only": false
    }
   },
   "outputs": [],
   "source": [
    "lb = [\"Serre\",\"NSWE\",\"Serre FV O1\", \"Analytical solution\"]\n",
    "gF.plotAnimationNSolutions(4,x,np.array([uall1,uall2,uall3,uallexact]),tall1,xmin,xmax,umin,umax,lb,ylabel=r'$u$',\n",
    "                          location=(0.,.7))"
   ]
  },
  {
   "cell_type": "code",
   "execution_count": null,
   "metadata": {
    "collapsed": false,
    "run_control": {
     "frozen": false,
     "read_only": false
    }
   },
   "outputs": [],
   "source": [
    "gF.plotAnimationNSolutions(4,x,np.array([hall1,hall2,hall3,hallexact]),tall1,xmin,xmax,hmin,hmax,lb,ylabel=r'$h$',\n",
    "                          location=(0.,.7))"
   ]
  },
  {
   "cell_type": "code",
   "execution_count": null,
   "metadata": {
    "collapsed": true,
    "run_control": {
     "frozen": false,
     "read_only": false
    }
   },
   "outputs": [],
   "source": []
  },
  {
   "cell_type": "code",
   "execution_count": null,
   "metadata": {
    "collapsed": true,
    "run_control": {
     "frozen": false,
     "read_only": false
    }
   },
   "outputs": [],
   "source": []
  },
  {
   "cell_type": "code",
   "execution_count": null,
   "metadata": {
    "collapsed": false,
    "run_control": {
     "frozen": false,
     "read_only": false
    },
    "scrolled": true
   },
   "outputs": [],
   "source": [
    "### Fourth test case\n",
    "\n",
    "a0 = 0.3\n",
    "a1 = 0.1\n",
    "k = 0.99\n",
    "g = 9.81\n",
    "t = 0.0\n",
    "\n",
    "lam, h0 = cnoidal.WaveLengthDepth(k,a0,a1)\n",
    "\n",
    "L = 2*lam\n",
    "xmin = -L\n",
    "xmax = L\n",
    "nx = 100\n",
    "\n",
    "dx1 = (xmax-xmin)/(nx)\n",
    "\n",
    "x,dx = serre.discretizeSpace(xmin-2.*dx1,xmax+2.*dx1,nx+4)\n",
    "\n",
    "h,u = cnoidal.analyticalSolution(x[2:-2],t,k,a0,a1)\n",
    "h = serre.extend2GhostCells(h,2)\n",
    "u = serre.extend2GhostCells(u,2)\n",
    "h,u = serre.periodicDomainTwoGC(h,u,None,dx,0)\n",
    "\n",
    "u2 = np.copy(u)\n",
    "h2 = np.copy(h)\n",
    "\n",
    "hall1,uall1,tall1 = serre.splitSerre(x,h,u,0,5.,serre.periodicDomainTwoGC,\n",
    "                                     serre.periodicDomain2TwoGC,None,None,dx,nx,vardt = True, dt = 0.05, splitSteps=3,\n",
    "                                     order=2, periodic=True,\n",
    "                                     fvsolver = muscl2.fluxes2, fdsolver = serre.EFDSolverFM, ghostcells=2)\n",
    "hall2,uall2,tall2 = serre.NSWE(x,h2,u2,0,5.,serre.periodicDomainTwoGC,None,dx,nx,vardt = False, dt = 0.05)\n",
    "\n",
    "umin = np.amin(np.concatenate((uall1[2:-2])))\n",
    "umax = np.amax(np.concatenate((uall1[2:-2])))\n",
    "hmin = np.amin(np.concatenate((hall1[2:-2])))\n",
    "hmax = np.amax(np.concatenate((hall1[2:-2])))\n",
    "\n",
    "\n",
    "hallexact = np.copy(hall1)\n",
    "uallexact = np.copy(uall1)\n",
    "\n",
    "for i in range (tall1.size):\n",
    "    hallexact[2:-2,i],uallexact[2:-2,i] = cnoidal.analyticalSolution(x[2:-2],tall1[i],k,a0,a1)\n",
    "\n",
    "\n",
    "\n",
    "lb = [\"Serre\", \"Analytical solution\"]\n",
    "gF.plotAnimationNSolutions(2,x[2:-2],np.array([hall1[2:-2],hallexact[2:-2]]),tall1,xmin,xmax,hmin,hmax,lb,ylabel=r'$h$',location=(.7,.7))\n"
   ]
  },
  {
   "cell_type": "code",
   "execution_count": null,
   "metadata": {
    "collapsed": false,
    "run_control": {
     "frozen": false,
     "read_only": false
    }
   },
   "outputs": [],
   "source": [
    "gF.plotAnimationNSolutions(2,x,np.array([uall1,uallexact]),tall1,xmin,xmax,umin,umax,lb,ylabel=r'$u$',location=(.7,.7))"
   ]
  },
  {
   "cell_type": "code",
   "execution_count": null,
   "metadata": {
    "collapsed": false,
    "run_control": {
     "frozen": false,
     "read_only": false
    }
   },
   "outputs": [],
   "source": [
    "print(hall1[:,1])"
   ]
  },
  {
   "cell_type": "code",
   "execution_count": null,
   "metadata": {
    "collapsed": true,
    "run_control": {
     "frozen": false,
     "read_only": false
    }
   },
   "outputs": [],
   "source": []
  },
  {
   "cell_type": "code",
   "execution_count": null,
   "metadata": {
    "collapsed": false,
    "run_control": {
     "frozen": false,
     "read_only": false
    }
   },
   "outputs": [],
   "source": [
    "\n",
    "a0 = .3\n",
    "a1 = .1\n",
    "k = 0.\n",
    "g = 9.81\n",
    "t = 0.0\n",
    "\n",
    "lam, h0 = cnoidal.WaveLengthDepth(k,a0,a1)\n",
    "\n",
    "\n",
    "L = 10.*lam\n",
    "xmin = -L\n",
    "xmax = L\n",
    "nx = 1000\n",
    "\n",
    "x,dx = serre.discretizeSpace(xmin,xmax,nx-2)\n",
    "\n",
    "x = serre.extend2GhostCells(x,2)\n",
    "x[0] = x[2] - dx\n",
    "x[1] = x[2] - 2.*dx\n",
    "x[-1] = x[-3] + 2.*dx\n",
    "x[-2] = x[-3] + dx\n",
    "\n",
    "h,u = cnoidal.analyticalSolutionSolitary(x,t,a0,a1)\n",
    "\n",
    "BC1=np.array([0.,0.,0.,0.,0.,1.,0.,1.,0.,1.,0.,1.,0.])\n",
    "BC2=np.array([0.,0.,nan,nan,0.,nan,nan,nan,0,0,0,0.,0.,0,nan,nan])\n",
    "hall1,uall1,tall1 = serre.splitSerre(x,h,u,0,2.,serre.periodicDomainTwoGC,\n",
    "                                     serre.periodicDomain2,None,None,dx,nx,vardt = True, dt = 0.05, splitSteps=3,\n",
    "                                     order=2, fvsolver = muscl2.fluxes2, fdsolver = serre.EFDSolverFM,\n",
    "                                    periodic = True, ghostcells=2)\n",
    "\n",
    "umin = np.amin(np.concatenate((uall1)))\n",
    "umax = np.amax(np.concatenate((uall1)))\n",
    "hmin = np.amin(np.concatenate((hall1)))\n",
    "hmax = np.amax(np.concatenate((hall1)))\n",
    "\n",
    "\n",
    "hallexact = np.copy(hall1)\n",
    "uallexact = np.copy(uall1)\n",
    "\n",
    "for i in range (tall1.size):\n",
    "    hallexact[:,i],uallexact[:,i] = cnoidal.analyticalSolutionSolitary(x,tall1[i],a0,a1)\n",
    "    \n",
    "lb = [\"Serre\", \"Analytical solution\"]\n",
    "gF.plotAnimationNSolutions(2,x,np.array([hall1,hallexact]),tall1,xmin,xmax,hmin,hmax,lb,ylabel=r'$h$',location=(0,0.7))\n",
    "\n"
   ]
  },
  {
   "cell_type": "code",
   "execution_count": null,
   "metadata": {
    "collapsed": false,
    "run_control": {
     "frozen": false,
     "read_only": false
    }
   },
   "outputs": [],
   "source": [
    "gF.plotAnimationNSolutions(2,x,np.array([uall1,uallexact]),tall1,xmin,xmax,umin,umax,lb,ylabel=r'$u$')"
   ]
  },
  {
   "cell_type": "code",
   "execution_count": null,
   "metadata": {
    "collapsed": true
   },
   "outputs": [],
   "source": []
  },
  {
   "cell_type": "markdown",
   "metadata": {},
   "source": [
    "# Validation : NSWE"
   ]
  },
  {
   "cell_type": "code",
   "execution_count": null,
   "metadata": {
    "collapsed": true
   },
   "outputs": [],
   "source": [
    "def newtonMethod(x0,f,fx) :\n",
    "    \n",
    "    x = x0\n",
    "    eps = 1e-6\n",
    "    while np.absolute(f(x)) > eps :\n",
    "        x = x - f(x)/fx(x)\n",
    "  \n",
    "    return x"
   ]
  },
  {
   "cell_type": "code",
   "execution_count": null,
   "metadata": {
    "collapsed": false
   },
   "outputs": [],
   "source": [
    "def SWAnalyticalSolutionDry(x,t,x0,hl,g) :\n",
    "    c = np.sqrt(g*hl)\n",
    "    xa = x0 - t*c\n",
    "    xb = x0 + 2.*t*c\n",
    "    g = 9.81\n",
    "\n",
    "    h[:] = np.where(x[:]<=xa, hl, np.where(x<xb,4./(9.*g)*np.power(c-(x[:]-x0)/(2.*t),2),0))\n",
    "    u[:] = np.where(x[:]<=xa, 0,np.where(x<xb, 2./3.*(c+(x[:]-x0)/t),0))\n",
    "\n",
    "    \n",
    "    return h,u\n",
    "\n",
    "t = 0.385\n",
    "\n",
    "h,u =  SWAnalyticalSolution(x,t,x0,hl,g)\n",
    "\n",
    "plt.plot(x,h)"
   ]
  },
  {
   "cell_type": "code",
   "execution_count": null,
   "metadata": {
    "collapsed": false
   },
   "outputs": [],
   "source": [
    "def SWAnalyticalSolutionWet(x,t,x0,hl,hr,g) :\n",
    "    c = np.sqrt(g*hl)\n",
    "    cm = newtonMethod(x0,cmEquation,cmEquationdx)\n",
    "    xa = x0 - t*c\n",
    "    xb = x0 + t*(2.*c - 3.*cm)\n",
    "    xc = x0 + t*(2*cm*cm*(c-cm)/(cm*cm-g*hr))\n",
    "\n",
    "    h[:] = np.where(x[:]<=xa, hl, np.where(x<xb,4./(9.*g)*np.power(c-(x[:]-x0)/(2.*t),2),np.where(x<xc,cm*cm/g,hr)))\n",
    "    u[:] = np.where(x[:]<=xa, 0,np.where(x<xb, 2./3.*(c+(x[:]-x0)/t),np.where(x<xc, 2*(c-cm), 0)))\n",
    "    \n",
    "    return h,u\n",
    "\n",
    "t = 0.8\n",
    "\n",
    "hr = 5.\n",
    "h,u =  SWAnalyticalSolutionWet(x,t,x0,hl,hr,g)\n",
    "\n",
    "plt.plot(x,h)"
   ]
  },
  {
   "cell_type": "code",
   "execution_count": null,
   "metadata": {
    "collapsed": false
   },
   "outputs": [],
   "source": [
    "def cmEquation(x) :\n",
    "    return -8.*g*hr*x*x*np.power(np.sqrt(g*hl)-x,2) + np.power(x*x-g*hr,2)*(x*x+g*hr)\n",
    "    \n",
    "def cmEquationdx(x) :\n",
    "    return 6.*x*x*x*x*x - 36.*g*hr*x*x*x + 48.*g*hr*np.sqrt(g*hl)*x*x + (-2.*g*g*hr*hr -16.*g*g*hr*hl)*x\n",
    "\n",
    "\n",
    "hl = 10.\n",
    "hr = 5.\n",
    "x0 = (hr+hl)/2.\n",
    "print(cmEquation(x0))\n",
    "x = newtonMethod(x0,cmEquation,cmEquationdx)\n",
    "\n",
    "    "
   ]
  },
  {
   "cell_type": "code",
   "execution_count": null,
   "metadata": {
    "collapsed": false
   },
   "outputs": [],
   "source": [
    "### DRY\n",
    "\n",
    "L = 50.\n",
    "npoints = 40\n",
    "dx = L/npoints\n",
    "x = np.arange(0,L,dx)\n",
    "dx = np.min(np.diff(x))\n",
    "nx = x.shape[0]\n",
    "cfl = 0.3\n",
    "t0  = 0.\n",
    "nt = 300\n",
    "xmin = 0\n",
    "xmax = L\n",
    "x0 = L/2.\n",
    "g = 9.81\n",
    "hl = 10.\n",
    "hr = 0.\n",
    "\n",
    "h = np.zeros(x.shape[0])\n",
    "u = np.zeros(x.shape[0])\n",
    "h[:] = np.where(x<x0, hl, hr)\n",
    "u[:] = 0.\n",
    "\n",
    "BC1=np.array([0.,0.,0.,0.,0.,1.,1.,0.,0.,1.,1.,0.])\n",
    "BC2=np.array([0.,0.,nan,nan,0.,nan,nan,nan,0,0,0,0.,0.,0,nan,nan])\n",
    "\n",
    "hall1,uall1,tall1 = serre.NSWE(x,h,u,0,.5,serre.closedDomainTwoGC,BC1,dx,nx,vardt = False, dt = 0.005,\n",
    "                               fvsolver=muscl2.fluxes2, ghostcells = 2)\n",
    "#hall2,uall2,tall2 = serre.splitSerre(x,h,u,0,1.,serre.closedDomainTwoGC,\n",
    "#                                     serre.genericOpenDomain2,None,BC2,dx,nx,vardt = False, dt = 0.05, splitSteps=3,\n",
    "#                                     order=2, fvsolver = muscl2.fluxes2, fdsolver = serre.EFDSolverFM,\n",
    "#                                    periodic = False, ghostcells=2)\n",
    "\n",
    "hexact = np.copy(hall1)\n",
    "uexact = np.copy(hall1)\n",
    "\n",
    "for i in range(1,tall1.size):\n",
    "    t = tall1[i]\n",
    "    hexact[:,i],uexact[:,i] = SWAnalyticalSolutionDry(x,t,x0,hl,g)\n",
    "    \n",
    "\n",
    "hmin = np.amin(np.concatenate((hall1[2:-2])))\n",
    "hmax = np.amax(np.concatenate((hall1[2:-2])))\n",
    "\n",
    "lb = np.array([\"Numerical\",\"Exact\"])\n",
    "gF.plotAnimationNSolutions(2,x,np.array([hall1,hexact]),tall1,xmin,xmax,hmin,hmax,lb,ylabel=r'$h$',location=(.7,.7))"
   ]
  },
  {
   "cell_type": "code",
   "execution_count": null,
   "metadata": {
    "collapsed": false
   },
   "outputs": [],
   "source": [
    "### WET\n",
    "\n",
    "L = 50.\n",
    "npoints = 40\n",
    "dx = L/npoints\n",
    "x = np.arange(0,L,dx)\n",
    "dx = np.min(np.diff(x))\n",
    "nx = x.shape[0]\n",
    "cfl = 0.3\n",
    "t0  = 0.\n",
    "nt = 300\n",
    "xmin = 0\n",
    "xmax = L\n",
    "x0 = L/2.\n",
    "g = 9.81\n",
    "hl = 10.\n",
    "hr = 5.\n",
    "\n",
    "h = np.zeros(x.shape[0])\n",
    "u = np.zeros(x.shape[0])\n",
    "h[:] = np.where(x<x0, hl, hr)\n",
    "u[:] = 0.\n",
    "\n",
    "BC1=np.array([0.,0.,0.,0.,0.,1.,1.,0.,0.,1.,1.,0.])\n",
    "BC2=np.array([0.,0.,nan,nan,0.,nan,nan,nan,0,0,0,0.,0.,0,nan,nan])\n",
    "\n",
    "hall1,uall1,tall1 = serre.NSWE(x,h,u,0,5.,serre.closedDomainTwoGC,BC1,dx,nx,vardt = False, dt = 0.005,\n",
    "                               fvsolver=nswe.fluxes, ghostcells = 1)\n",
    "#hall2,uall2,tall2 = serre.splitSerre(x,h,u,0,1.,serre.closedDomainTwoGC,\n",
    "#                                     serre.genericOpenDomain2,None,BC2,dx,nx,vardt = False, dt = 0.05, splitSteps=3,\n",
    "#                                     order=2, fvsolver = muscl2.fluxes2, fdsolver = serre.EFDSolverFM,\n",
    "#                                    periodic = False, ghostcells=2)\n",
    "\n",
    "hexact = np.copy(hall1)\n",
    "uexact = np.copy(hall1)\n",
    "\n",
    "for i in range(1,tall1.size):\n",
    "    t = tall1[i]\n",
    "    hexact[:,i],uexact[:,i] = SWAnalyticalSolutionWet(x,t,x0,hl,hr,g)\n",
    "    \n",
    "\n",
    "hmin = np.amin(np.concatenate((hall1[2:-2])))\n",
    "hmax = np.amax(np.concatenate((hall1[2:-2])))\n",
    "\n",
    "lb = np.array([\"Numerical\",\"Exact\"])\n",
    "gF.plotAnimationNSolutions(2,x,np.array([hall1,hexact]),tall1,xmin,xmax,hmin,hmax,lb,ylabel=r'$h$',location=(.7,.7))"
   ]
  },
  {
   "cell_type": "code",
   "execution_count": null,
   "metadata": {
    "collapsed": false
   },
   "outputs": [],
   "source": [
    "gF.plotAnimationNSolutions(2,x,np.array([uall1,uexact]),tall1,xmin,xmax,umin,umax+.1,lb,ylabel=r'$u$',location=(.7,.7))"
   ]
  }
 ],
 "metadata": {
  "celltoolbar": "Initialisation Cell",
  "hide_input": false,
  "kernelspec": {
   "display_name": "Python 2",
   "language": "python",
   "name": "python2"
  },
  "language_info": {
   "codemirror_mode": {
    "name": "ipython",
    "version": 2
   },
   "file_extension": ".py",
   "mimetype": "text/x-python",
   "name": "python",
   "nbconvert_exporter": "python",
   "pygments_lexer": "ipython2",
   "version": "2.7.11"
  },
  "latex_envs": {
   "bibliofile": "biblio.bib",
   "cite_by": "apalike",
   "current_citInitial": 1,
   "eqLabelWithNumbers": true,
   "eqNumInitial": 0
  },
  "toc": {
   "toc_cell": false,
   "toc_number_sections": true,
   "toc_threshold": 6,
   "toc_window_display": false
  }
 },
 "nbformat": 4,
 "nbformat_minor": 0
}
