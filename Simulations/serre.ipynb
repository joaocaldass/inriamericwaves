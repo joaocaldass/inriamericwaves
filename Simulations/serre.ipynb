{
 "cells": [
  {
   "cell_type": "code",
   "execution_count": null,
   "metadata": {
    "collapsed": true
   },
   "outputs": [],
   "source": [
    "%%writefile serre.py\n",
    "\n",
    "import numpy as np\n",
    "import matplotlib.pyplot as plt\n",
    "import nswe\n",
    "%matplotlib inline"
   ]
  },
  {
   "cell_type": "markdown",
   "metadata": {},
   "source": [
    "# Numerical resolution of the Serre equations\n",
    "\n",
    "Splitting method\n",
    "\n",
    "* 1st equation : Advection terms (in u and h); resolution using the Roe solver\n",
    "* 2nd equation : Dispersive and mixed-derivative terms; resolution by explicit FD (first attempt)"
   ]
  },
  {
   "cell_type": "code",
   "execution_count": null,
   "metadata": {
    "collapsed": true
   },
   "outputs": [],
   "source": [
    "%%writefile serre.py -a\n",
    "\n",
    "def discretizeSpace(xmin,xmax,nx):\n",
    "    dx = (xmax-xmin)/nx\n",
    "    x = np.arange(xmin,xmax,dx)\n",
    "    \n",
    "    return x,dx"
   ]
  },
  {
   "cell_type": "code",
   "execution_count": null,
   "metadata": {
    "collapsed": true
   },
   "outputs": [],
   "source": [
    "### First test case\n",
    "L = 1.\n",
    "xmin = 0.\n",
    "xmax = L\n",
    "nx = 100\n",
    "\n",
    "x,dx = serre.discretizeSpace(xmin,xmax,nx)\n",
    "\n",
    "u = np.zeros(nx)\n",
    "h = np.zeros(nx)"
   ]
  }
 ],
 "metadata": {
  "kernelspec": {
   "display_name": "Python 2",
   "language": "python",
   "name": "python2"
  },
  "language_info": {
   "codemirror_mode": {
    "name": "ipython",
    "version": 2
   },
   "file_extension": ".py",
   "mimetype": "text/x-python",
   "name": "python",
   "nbconvert_exporter": "python",
   "pygments_lexer": "ipython2",
   "version": "2.7.11"
  }
 },
 "nbformat": 4,
 "nbformat_minor": 0
}
