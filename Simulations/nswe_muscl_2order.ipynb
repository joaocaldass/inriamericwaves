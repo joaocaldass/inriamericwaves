{
 "cells": [
  {
   "cell_type": "markdown",
   "metadata": {},
   "source": [
    "# Second order MUSCL scheme for the NSWE"
   ]
  },
  {
   "cell_type": "code",
   "execution_count": 1,
   "metadata": {
    "collapsed": false,
    "run_control": {
     "frozen": false,
     "read_only": false
    }
   },
   "outputs": [
    {
     "name": "stdout",
     "output_type": "stream",
     "text": [
      "Overwriting muscl2.py\n"
     ]
    }
   ],
   "source": [
    "%%writefile muscl2.py\n",
    "\n",
    "import numpy as np\n",
    "import matplotlib.pyplot as plt"
   ]
  },
  {
   "cell_type": "markdown",
   "metadata": {},
   "source": [
    "## Roe solver"
   ]
  },
  {
   "cell_type": "code",
   "execution_count": 2,
   "metadata": {
    "collapsed": false,
    "run_control": {
     "frozen": false,
     "read_only": false
    }
   },
   "outputs": [
    {
     "name": "stdout",
     "output_type": "stream",
     "text": [
      "Appending to muscl2.py\n"
     ]
    }
   ],
   "source": [
    "%%writefile muscl2.py -a\n",
    "\n",
    "g = 9.81\n",
    "def roe2(hl,hul,hr,hur):\n",
    "    \"\"\"\n",
    "        otra version del solver de roe\n",
    "    \"\"\"\n",
    "    if hl<0 or hr<0:\n",
    "        print 'NEGATIVE DEPTH :('\n",
    "    ul = 0.0\n",
    "    if hl>0: ul = hul/hl\n",
    "    \n",
    "    ur = 0.0\n",
    "    if hr>0: ur = hur/hr\n",
    "        \n",
    "    #averaged state\n",
    "    uhat = 0.5*(ul+hr)\n",
    "    chat = 0.5*(np.sqrt(g*hl)+np.sqrt(g*hr))\n",
    "    \n",
    "    #averaged eigenvalues\n",
    "    #notice l1 <= l3\n",
    "    lhat_1 = uhat - chat\n",
    "    lhat_3 = uhat + chat\n",
    "    \n",
    "    #interface state\n",
    "    us = ul\n",
    "    hs = hl\n",
    "    if lhat_1>0:\n",
    "        us = ul\n",
    "        hs = hl\n",
    "    elif lhat_3 <0:\n",
    "        us = ur\n",
    "        hs = hr\n",
    "    else:\n",
    "        cs = chat- 0.25*(ur-ul)\n",
    "        hs = cs*cs/g\n",
    "        us = uhat - (np.sqrt(g*hr)-np.sqrt(g*hl))\n",
    "        \n",
    "    return hs,us    "
   ]
  },
  {
   "cell_type": "code",
   "execution_count": 3,
   "metadata": {
    "collapsed": false,
    "run_control": {
     "frozen": false,
     "read_only": false
    }
   },
   "outputs": [
    {
     "name": "stdout",
     "output_type": "stream",
     "text": [
      "Appending to muscl2.py\n"
     ]
    }
   ],
   "source": [
    "%%writefile muscl2.py -a\n",
    "\n",
    "g = 9.81\n",
    "def roe(hl,hul,hr,hur):\n",
    "    \"\"\"\n",
    "        El solver de roe del paper de Marche (2006?)\n",
    "    \"\"\"\n",
    "    if hl<0 or hr<0:\n",
    "        print hl,hr\n",
    "    ul = 0\n",
    "    if hl>0: ul = hul/hl\n",
    "    \n",
    "    ur = 0\n",
    "    if hr>0: ur = hur/hr\n",
    "        \n",
    "    wl1 = ul - 2*np.sqrt(g*hl)\n",
    "    wl2 = ul + 2*np.sqrt(g*hl)\n",
    "\n",
    "    wr1 = ur - 2*np.sqrt(g*hr)\n",
    "    wr2 = ur + 2*np.sqrt(g*hr)\n",
    "\n",
    "    uhat = 0.5*(ul+ur)\n",
    "    hhat = 0.25*(np.sqrt(hl) + np.sqrt(hr))**2\n",
    "\n",
    "    l1 = uhat - np.sqrt(g*hhat)\n",
    "    l2 = uhat + np.sqrt(g*hhat)\n",
    "    l1l = ul - np.sqrt(g*hl)\n",
    "    l2l = ul + np.sqrt(g*hl)\n",
    "    l1r = ur - np.sqrt(g*hr)\n",
    "    l2r = ur + np.sqrt(g*hr)    \n",
    "  \n",
    "    #entropy fix programado en el surfwb-uc\n",
    "    if l1>0:\n",
    "        ws1 = wl1\n",
    "        ws2 = wl2\n",
    "    else:\n",
    "        ws1 = wr1        \n",
    "        if l2>0:\n",
    "            ws2 = wl2\n",
    "        else:\n",
    "            ws2 = wr2\n",
    "\n",
    "    us = 0.5*(ws1+ws2)\n",
    "    hs = (ws2-ws1)**2/(16.*g)\n",
    "    \n",
    "    #entropy fix de marche\n",
    "    if l1l<0 and l1r > 0:\n",
    "        us = uhat\n",
    "        hs = hhat\n",
    "        \n",
    "    if l2l<0 and l2r > 0:\n",
    "        us = uhat\n",
    "        hs = hhat\n",
    "    #print hs,us\n",
    "    return hs,us"
   ]
  },
  {
   "cell_type": "markdown",
   "metadata": {},
   "source": [
    "# Muscl Reconstruction"
   ]
  },
  {
   "cell_type": "code",
   "execution_count": 4,
   "metadata": {
    "collapsed": false,
    "run_control": {
     "frozen": false,
     "read_only": false
    }
   },
   "outputs": [
    {
     "name": "stdout",
     "output_type": "stream",
     "text": [
      "Appending to muscl2.py\n"
     ]
    }
   ],
   "source": [
    "%%writefile muscl2.py -a\n",
    "\n",
    "def minmod(slope1, slope2):\n",
    "    if (slope1>0 and slope2 > 0):\n",
    "        return min(slope1,slope2)\n",
    "    if (slope1<0 and slope2<0):\n",
    "        return max(slope1,slope2)\n",
    "    return 0.\n",
    "\n",
    "minmod = np.vectorize(minmod)"
   ]
  },
  {
   "cell_type": "markdown",
   "metadata": {},
   "source": [
    "The $\\verb;np.vectorize;$ helps to evaluate the minmod function several times along an array of data."
   ]
  },
  {
   "cell_type": "markdown",
   "metadata": {},
   "source": [
    "Now do the MUSCL reconstruction"
   ]
  },
  {
   "cell_type": "code",
   "execution_count": 5,
   "metadata": {
    "collapsed": false,
    "run_control": {
     "frozen": false,
     "read_only": false
    }
   },
   "outputs": [
    {
     "name": "stdout",
     "output_type": "stream",
     "text": [
      "Appending to muscl2.py\n"
     ]
    }
   ],
   "source": [
    "%%writefile muscl2.py -a\n",
    "\n",
    "def musclrecontr(q0,q1,q2,dx=1):\n",
    "    \"\"\"\n",
    "        Receives states q=(h,hu) from a cell (call it 1) \n",
    "        and its first neighbors (0 and 2) \n",
    "        and returns muscl reconstruction q_{il} and q_{ir} of \n",
    "        conserved variables and bathymetry at  cell boundaries\n",
    "        \n",
    "        dx is irrelevant for regular grids\n",
    "        but is kept for code semantic and mantainability        \n",
    "    \"\"\"\n",
    "    \n",
    "    #conserved variables u\n",
    "    slope1 = (q1-q0)/dx\n",
    "    slope2 = (q2-q1)/dx\n",
    "#     slope = map(minmod,slope1,slope2)\n",
    "    slope = minmod(slope1,slope2)\n",
    "    qil = q1-0.5*dx*slope\n",
    "    qir = q1+0.5*dx*slope\n",
    "    \n",
    "    return qil, qir"
   ]
  },
  {
   "cell_type": "code",
   "execution_count": 6,
   "metadata": {
    "collapsed": false,
    "run_control": {
     "frozen": false,
     "read_only": false
    }
   },
   "outputs": [
    {
     "name": "stdout",
     "output_type": "stream",
     "text": [
      "Appending to muscl2.py\n"
     ]
    }
   ],
   "source": [
    "%%writefile muscl2.py -a\n",
    "\n",
    "def getMusclReconstr(h,hu):\n",
    "    \"\"\"\n",
    "    Receives 1d arrays h,hu (1xNx+4)\n",
    "    and returns hl,hr, hul,hur (1\\times nx+2)\n",
    "    \"\"\"\n",
    "    nx = h.shape[0]-4\n",
    "    hl = np.zeros((nx+2,))\n",
    "    hr = np.zeros((nx+2,))\n",
    "    hul = np.zeros((nx+2,))\n",
    "    hur = np.zeros((nx+2,))\n",
    "    for i in range(1,nx+3,1):\n",
    "        q0 = np.array([h[i-1],hu[i-1]])\n",
    "        q1 = np.array([h[i],hu[i]])\n",
    "        q2 = np.array([h[i+1],hu[i+1]])\n",
    "        (hl[i-1],hul[i-1]), (hr[i-1],hur[i-1]) = musclrecontr(q0,q1,q2)\n",
    "    return hl, hr, hul, hur  "
   ]
  },
  {
   "cell_type": "code",
   "execution_count": 7,
   "metadata": {
    "collapsed": false,
    "run_control": {
     "frozen": false,
     "read_only": false
    }
   },
   "outputs": [
    {
     "name": "stdout",
     "output_type": "stream",
     "text": [
      "Appending to muscl2.py\n"
     ]
    }
   ],
   "source": [
    "%%writefile muscl2.py -a\n",
    "\n",
    "def setdt(h,hu,n,dx,cfl):\n",
    "    \"\"\"\n",
    "        Calcula el dt segun condicion de CFL\n",
    "    \"\"\"\n",
    "    u_n = np.where(h[n,:]>1e-5, hu[n,:]/h[n,:], 0.)\n",
    "    s = np.max(np.abs(u_n)+np.sqrt(9.81*h[n,:]))\n",
    "    dt = cfl*dx/np.max(s)\n",
    "    return dt"
   ]
  },
  {
   "cell_type": "markdown",
   "metadata": {},
   "source": [
    "## Verification of MUSCL reconstruction"
   ]
  },
  {
   "cell_type": "markdown",
   "metadata": {},
   "source": [
    "The idea is to see the MUSCL interpolations. What has to be verified is that at each cell the slopes follow the minmod rule."
   ]
  },
  {
   "cell_type": "markdown",
   "metadata": {},
   "source": [
    "### Simple test with one cell only"
   ]
  },
  {
   "cell_type": "markdown",
   "metadata": {},
   "source": [
    "Simple test: \n",
    "\n",
    "    h = [0,1,0]\n",
    "    hu = [1,2,5]\n",
    "\n",
    "Should result in\n",
    "\n",
    "    [h1l,h1r] = [1,1] (opposite sign slopes)\n",
    "    [hu1l, hu1r] = [1.5, 2.5] (lowest slope = 1.0)"
   ]
  },
  {
   "cell_type": "code",
   "execution_count": 8,
   "metadata": {
    "collapsed": true,
    "run_control": {
     "frozen": false,
     "read_only": false
    }
   },
   "outputs": [],
   "source": [
    "import numpy as np\n",
    "import matplotlib.pyplot as plt\n",
    "import muscl2\n",
    "%matplotlib inline\n",
    "\n",
    "g = 9.81"
   ]
  },
  {
   "cell_type": "code",
   "execution_count": 9,
   "metadata": {
    "collapsed": false,
    "run_control": {
     "frozen": false,
     "read_only": false
    }
   },
   "outputs": [
    {
     "name": "stdout",
     "output_type": "stream",
     "text": [
      "h1l, h1r =  1.0 1.0\n",
      "hu1l, hu1r =  1.5 2.5\n"
     ]
    }
   ],
   "source": [
    "u0 = np.array([0.,1.])\n",
    "u1 = np.array([1.,2.])\n",
    "u2 = np.array([0.,5.])\n",
    "(hl,hul), (hr,hur) = muscl2.musclrecontr(u0,u1,u2)\n",
    "print 'h1l, h1r = ',hl,hr\n",
    "print 'hu1l, hu1r = ',hul, hur"
   ]
  },
  {
   "cell_type": "markdown",
   "metadata": {},
   "source": [
    "### Test an array"
   ]
  },
  {
   "cell_type": "markdown",
   "metadata": {},
   "source": [
    "The arrays to be tested"
   ]
  },
  {
   "cell_type": "code",
   "execution_count": 10,
   "metadata": {
    "collapsed": true,
    "run_control": {
     "frozen": false,
     "read_only": false
    }
   },
   "outputs": [],
   "source": [
    "nx = 5 \n",
    "x = np.linspace(0,5,6)\n",
    "h = 10-(x-2)**2\n",
    "hu = np.linspace(0,0.5,6)**2"
   ]
  },
  {
   "cell_type": "markdown",
   "metadata": {},
   "source": [
    "Plot them to see what to expect. Notice that I am plotting the cell-centered values with the help of the step function"
   ]
  },
  {
   "cell_type": "code",
   "execution_count": 11,
   "metadata": {
    "collapsed": false,
    "run_control": {
     "frozen": false,
     "read_only": false
    }
   },
   "outputs": [
    {
     "data": {
      "text/plain": [
       "<matplotlib.text.Text at 0x7fb2384d0c50>"
      ]
     },
     "execution_count": 11,
     "metadata": {},
     "output_type": "execute_result"
    },
    {
     "data": {
      "image/png": "[encoded data removed]",
      "text/plain": [
       "<matplotlib.figure.Figure at 0x7fb23a5dae50>"
      ]
     },
     "metadata": {},
     "output_type": "display_data"
    }
   ],
   "source": [
    "plt.subplot(211)\n",
    "plt.step(x,h,'o',where='mid')\n",
    "plt.xlim(-1,6)\n",
    "plt.ylim(-1,11)\n",
    "plt.ylabel('h')\n",
    "\n",
    "plt.subplot(212)\n",
    "plt.step(x,hu,'o',where='mid')\n",
    "plt.xlim(-1,6)\n",
    "plt.ylim(-0.01,0.26)\n",
    "plt.ylabel('hu')"
   ]
  },
  {
   "cell_type": "code",
   "execution_count": 12,
   "metadata": {
    "collapsed": false,
    "run_control": {
     "frozen": false,
     "read_only": false
    }
   },
   "outputs": [],
   "source": [
    "hl, hr, hul, hur   = muscl2.getMusclReconstr(h,hu)"
   ]
  },
  {
   "cell_type": "markdown",
   "metadata": {},
   "source": [
    "This function is for plotting "
   ]
  },
  {
   "cell_type": "code",
   "execution_count": 13,
   "metadata": {
    "collapsed": true,
    "run_control": {
     "frozen": false,
     "read_only": false
    }
   },
   "outputs": [],
   "source": [
    "def check_muscl(x,h,hl,hr,ylim=0):\n",
    "    plt.figure(figsize=(16,4))\n",
    "    plt.subplot(121)\n",
    "    plt.step(x,h,'ko',where='mid')\n",
    "    for i in range(hl.shape[0]):\n",
    "        s1 = h[i+1]-h[i]\n",
    "        s2 = h[i+2]-h[i+1]   \n",
    "        l1 = plt.plot([x[i+1]-0.5,x[i+1]+0.5],[h[i+1]-0.5*s1,h[i+1]+0.5*s1],'g')\n",
    "        l2 = plt.plot([x[i+1]-0.5,x[i+1]+0.5],[h[i+1]-0.5*s2,h[i+1]+0.5*s2],'b')\n",
    "#     plt.xlim(-1,6)\n",
    "    if ylim!=0:\n",
    "        plt.ylim(ylim)\n",
    "    plt.title('s1,s2')\n",
    "\n",
    "    plt.subplot(122)\n",
    "    plt.step(x,h,'ko',where='mid')\n",
    "    for i in range(hl.shape[0]):\n",
    "        s1 = h[i+1]-h[i]\n",
    "        s2 = h[i+2]-h[i+1]\n",
    "        plt.plot([x[i+1]-0.5,x[i+1]+0.5],[hl[i],hr[i]],'r')\n",
    "    if ylim!=0:\n",
    "        plt.ylim(ylim)\n",
    "    plt.title('minmod(s1,s2)')\n",
    "    plt.legend(loc=0)\n",
    "    # plt.ylim(-0.1,1.1)"
   ]
  },
  {
   "cell_type": "markdown",
   "metadata": {},
   "source": [
    "The figure to the left shows the original step function along with the two possible interpolators (in green and blue). The figure to the right shows in red the chosen interpolator that should be following the minmod rule."
   ]
  },
  {
   "cell_type": "code",
   "execution_count": 14,
   "metadata": {
    "collapsed": false,
    "run_control": {
     "frozen": false,
     "read_only": false
    },
    "scrolled": true
   },
   "outputs": [
    {
     "name": "stderr",
     "output_type": "stream",
     "text": [
      "/home/jose/anaconda2/lib/python2.7/site-packages/matplotlib/axes/_axes.py:519: UserWarning: No labelled objects found. Use label='...' kwarg on individual plots.\n",
      "  warnings.warn(\"No labelled objects found. \"\n"
     ]
    },
    {
     "data": {
      "image/png": "[encoded data removed]",
      "text/plain": [
       "<matplotlib.figure.Figure at 0x7fb23a5bcb50>"
      ]
     },
     "metadata": {},
     "output_type": "display_data"
    }
   ],
   "source": [
    "check_muscl(x,h,hl,hr,ylim=[0,12])\n",
    "plt.ylim(0,12);"
   ]
  },
  {
   "cell_type": "code",
   "execution_count": 15,
   "metadata": {
    "collapsed": false,
    "run_control": {
     "frozen": false,
     "read_only": false
    },
    "scrolled": false
   },
   "outputs": [
    {
     "data": {
      "image/png": "[encoded data removed]",
      "text/plain": [
       "<matplotlib.figure.Figure at 0x7fb238057610>"
      ]
     },
     "metadata": {},
     "output_type": "display_data"
    }
   ],
   "source": [
    "check_muscl(x,hu,hul,hur,ylim=[-0.05,0.26])"
   ]
  },
  {
   "cell_type": "markdown",
   "metadata": {},
   "source": [
    "# Flux function"
   ]
  },
  {
   "cell_type": "code",
   "execution_count": 16,
   "metadata": {
    "collapsed": false,
    "run_control": {
     "frozen": false,
     "read_only": false
    }
   },
   "outputs": [
    {
     "name": "stdout",
     "output_type": "stream",
     "text": [
      "Appending to muscl2.py\n"
     ]
    }
   ],
   "source": [
    "%%writefile muscl2.py -a\n",
    "\n",
    "def flux(h,u):\n",
    "    \"\"\"\n",
    "        Receives scalars h,u\n",
    "        Returns array F(u) of size 2\n",
    "    \"\"\"\n",
    "    return np.array([h*u, 0.5*g*h**2 + h*u**2])"
   ]
  },
  {
   "cell_type": "code",
   "execution_count": 17,
   "metadata": {
    "collapsed": false,
    "run_control": {
     "frozen": false,
     "read_only": false
    }
   },
   "outputs": [
    {
     "data": {
      "text/plain": [
       "<module 'muscl2' from 'muscl2.py'>"
      ]
     },
     "execution_count": 17,
     "metadata": {},
     "output_type": "execute_result"
    }
   ],
   "source": [
    "reload(muscl2)"
   ]
  },
  {
   "cell_type": "markdown",
   "metadata": {},
   "source": [
    "### Prototype of one iteration"
   ]
  },
  {
   "cell_type": "markdown",
   "metadata": {},
   "source": [
    "#### Initial condition"
   ]
  },
  {
   "cell_type": "code",
   "execution_count": 18,
   "metadata": {
    "collapsed": false,
    "run_control": {
     "frozen": false,
     "read_only": false
    }
   },
   "outputs": [
    {
     "data": {
      "text/plain": [
       "(-1, 2)"
      ]
     },
     "execution_count": 18,
     "metadata": {},
     "output_type": "execute_result"
    },
    {
     "data": {
      "image/png": "[encoded data removed]",
      "text/plain": [
       "<matplotlib.figure.Figure at 0x7fb2380929d0>"
      ]
     },
     "metadata": {},
     "output_type": "display_data"
    }
   ],
   "source": [
    "nx = 2\n",
    "nt = 2\n",
    "x = np.linspace(0,5,nx+4)\n",
    "dx = np.diff(x)[0]\n",
    "\n",
    "h = np.zeros((nt,nx+4))\n",
    "hu = np.zeros((nt,nx+4))\n",
    "h[0,:] = np.where(x<=2, 1.0, 0.5)\n",
    "\n",
    "cfl = 0.4\n",
    "dt = muscl2.setdt(h,hu,0,dx,cfl)\n",
    "\n",
    "plt.step(x,h[0,:],'o',where='mid')\n",
    "plt.xlim(-1,6)\n",
    "plt.ylim(-1,2)\n"
   ]
  },
  {
   "cell_type": "markdown",
   "metadata": {},
   "source": [
    "#### Reconstruct interface vecinity values "
   ]
  },
  {
   "cell_type": "code",
   "execution_count": 19,
   "metadata": {
    "collapsed": false,
    "run_control": {
     "frozen": false,
     "read_only": false
    }
   },
   "outputs": [
    {
     "data": {
      "text/plain": [
       "(2, 3)"
      ]
     },
     "execution_count": 19,
     "metadata": {},
     "output_type": "execute_result"
    }
   ],
   "source": [
    "hl, hr, hul, hur   = muscl2.getMusclReconstr(h[0,:],hu[0,:]);\n",
    "fs = np.zeros((2,nx+1))\n",
    "fs.shape"
   ]
  },
  {
   "cell_type": "markdown",
   "metadata": {},
   "source": [
    "#### Calculate the fluxes in the interfaces"
   ]
  },
  {
   "cell_type": "code",
   "execution_count": 20,
   "metadata": {
    "collapsed": false,
    "run_control": {
     "frozen": false,
     "read_only": false
    }
   },
   "outputs": [],
   "source": [
    "for i in range(nx+1):        \n",
    "    hs,us = muscl2.roe(hr[i],hur[i],hl[i+1],hul[i+1])\n",
    "    fs[:,i] = muscl2.flux(hs,us) "
   ]
  },
  {
   "cell_type": "code",
   "execution_count": 21,
   "metadata": {
    "collapsed": false,
    "run_control": {
     "frozen": false,
     "read_only": false
    }
   },
   "outputs": [
    {
     "data": {
      "text/plain": [
       "array([[ 0.        ,  0.66835193,  0.        ],\n",
       "       [ 4.905     ,  3.21665016,  1.22625   ]])"
      ]
     },
     "execution_count": 21,
     "metadata": {},
     "output_type": "execute_result"
    }
   ],
   "source": [
    "fs"
   ]
  },
  {
   "cell_type": "markdown",
   "metadata": {},
   "source": [
    "#### Step one iteration"
   ]
  },
  {
   "cell_type": "code",
   "execution_count": 22,
   "metadata": {
    "collapsed": false,
    "run_control": {
     "frozen": false,
     "read_only": false
    }
   },
   "outputs": [],
   "source": [
    "n = 0\n",
    "h[n+1,2:-2] = h[n,2:-2] -dt/dx*(fs[0,1:] - fs[0,:-1])\n",
    "hu[n+1,2:-2] = hu[n,2:-2] -dt/dx*(fs[1,1:] - fs[1,:-1])"
   ]
  },
  {
   "cell_type": "markdown",
   "metadata": {},
   "source": [
    "#### Results"
   ]
  },
  {
   "cell_type": "code",
   "execution_count": 23,
   "metadata": {
    "collapsed": false,
    "run_control": {
     "frozen": false,
     "read_only": false
    }
   },
   "outputs": [
    {
     "name": "stdout",
     "output_type": "stream",
     "text": [
      "[[ 1.          1.          1.          0.5         0.5         0.5       ]\n",
      " [ 0.          0.          0.91464466  0.58535534  0.          0.        ]]\n"
     ]
    }
   ],
   "source": [
    "print h"
   ]
  },
  {
   "cell_type": "code",
   "execution_count": 24,
   "metadata": {
    "collapsed": false,
    "run_control": {
     "frozen": false,
     "read_only": false
    }
   },
   "outputs": [
    {
     "name": "stdout",
     "output_type": "stream",
     "text": [
      "[[ 0.          0.          0.          0.          0.          0.        ]\n",
      " [ 0.          0.          0.21561945  0.25419435  0.          0.        ]]\n"
     ]
    }
   ],
   "source": [
    "print hu"
   ]
  },
  {
   "cell_type": "markdown",
   "metadata": {},
   "source": [
    "### Generic functions from this example"
   ]
  },
  {
   "cell_type": "code",
   "execution_count": 25,
   "metadata": {
    "collapsed": false,
    "run_control": {
     "frozen": false,
     "read_only": false
    }
   },
   "outputs": [
    {
     "name": "stdout",
     "output_type": "stream",
     "text": [
      "Appending to muscl2.py\n"
     ]
    }
   ],
   "source": [
    "%%writefile muscl2.py -a\n",
    "\n",
    "def fluxes(h,hu,n,riemann_solver=roe):\n",
    "    \"\"\"\n",
    "        Calcula loos flujos en cada interfaz,\n",
    "        retorna la matriz de 2xninterfaces\n",
    "    \"\"\"\n",
    "    nx = h.shape[1]-4\n",
    "    hl, hr, hul, hur   = getMusclReconstr(h[n,:],hu[n,:])\n",
    "    fs = np.zeros((2,nx+1))\n",
    "    for i in range(nx+1):\n",
    "        hs,us = riemann_solver(hr[i],hur[i],hl[i+1],hul[i+1])\n",
    "        fs[:,i] = flux(hs,us)\n",
    "    return fs\n",
    "\n",
    "def fluxes2(h,hu,n):\n",
    "    \"\"\"\n",
    "        Calcula loos flujos en cada interfaz,\n",
    "        retorna la matriz de 2xninterfaces\n",
    "    \"\"\"\n",
    "    nx = h.shape[0]-4\n",
    "    hl, hr, hul, hur   = getMusclReconstr(h[:],hu[:])\n",
    "    fs = np.zeros((2,nx+1))\n",
    "    for i in range(nx+1):\n",
    "        hs,us = roe(hr[i],hur[i],hl[i+1],hul[i+1])\n",
    "        fs[:,i] = flux(hs,us)\n",
    "    return fs"
   ]
  },
  {
   "cell_type": "code",
   "execution_count": 26,
   "metadata": {
    "collapsed": false,
    "run_control": {
     "frozen": false,
     "read_only": false
    }
   },
   "outputs": [
    {
     "name": "stdout",
     "output_type": "stream",
     "text": [
      "Appending to muscl2.py\n"
     ]
    }
   ],
   "source": [
    "%%writefile muscl2.py -a\n",
    "\n",
    "def bcs_closed(h,hu,n):\n",
    "    \"\"\" \n",
    "        recibe las matrices y coloca los valores \n",
    "        correspondientes a la celda cerrada.\n",
    "        \n",
    "        Este es el tipico borde cerrado.\n",
    "        \n",
    "        No estoy seguro\n",
    "        si modificar h,hu aqui dentro\n",
    "        hace que se modifique fuera,\n",
    "        asi que uso hb,hub\n",
    "    \"\"\"\n",
    "    hb = 1.*h\n",
    "    hub = 1.*hu\n",
    "    hb[n,0] = h[n,2]\n",
    "    hb[n,1] = h[n,2]\n",
    "    hub[n,0] = -hu[n,2]\n",
    "    hub[n,1] = -hu[n,2]\n",
    "    \n",
    "    hb[n,-1] = h[n,-3]\n",
    "    hb[n,-2] = h[n,-3]\n",
    "    hub[n,-1] = -hu[n,-3]   \n",
    "    hub[n,-2] = -hu[n,-3]    \n",
    "    return hb,hub"
   ]
  },
  {
   "cell_type": "code",
   "execution_count": 27,
   "metadata": {
    "collapsed": false,
    "run_control": {
     "frozen": false,
     "read_only": false
    }
   },
   "outputs": [
    {
     "name": "stdout",
     "output_type": "stream",
     "text": [
      "Appending to muscl2.py\n"
     ]
    }
   ],
   "source": [
    "%%writefile muscl2.py -a\n",
    "\n",
    "def bcs_closed_2(h,hu,n):\n",
    "    \"\"\" \n",
    "        recibe las matrices y coloca los valores \n",
    "        correspondientes a la celda cerrada.\n",
    "        \n",
    "        Este es el tipico borde cerrado.\n",
    "        \n",
    "        No estoy seguro\n",
    "        si modificar h,hu aqui dentro\n",
    "        hace que se modifique fuera,\n",
    "        asi que uso hb,hub\n",
    "    \"\"\"\n",
    "    hb = 1.*h\n",
    "    hub = 1.*hu\n",
    "    hb[n,0] = h[n,3]\n",
    "    hb[n,1] = h[n,2]\n",
    "    hub[n,0] = -hu[n,3]\n",
    "    hub[n,1] = -hu[n,2]\n",
    "    \n",
    "    hb[n,-1] = h[n,-4]\n",
    "    hb[n,-2] = h[n,-3]\n",
    "    hub[n,-1] = -hu[n,-4]   \n",
    "    hub[n,-2] = -hu[n,-3]    \n",
    "    return hb,hub"
   ]
  },
  {
   "cell_type": "code",
   "execution_count": 28,
   "metadata": {
    "collapsed": false,
    "run_control": {
     "frozen": false,
     "read_only": false
    }
   },
   "outputs": [
    {
     "name": "stdout",
     "output_type": "stream",
     "text": [
      "Appending to muscl2.py\n"
     ]
    }
   ],
   "source": [
    "%%writefile muscl2.py -a\n",
    "\n",
    "def bcs_open(h,hu,n):\n",
    "    \"\"\" \n",
    "        recibe las matrices y coloca los valores \n",
    "        correspondientes a la celda cerrada.\n",
    "        \n",
    "        Este es el tipico borde cerrado.\n",
    "        \n",
    "        No estoy seguro\n",
    "        si modificar h,hu aqui dentro\n",
    "        hace que se modifique fuera,\n",
    "        asi que uso hb,hub\n",
    "    \"\"\"\n",
    "    hb = 1.*h\n",
    "    hub = 1.*hu\n",
    "    hb[n,0] = h[n,2]\n",
    "    hb[n,1] = h[n,2]\n",
    "    hub[n,0] = hu[n,2]\n",
    "    hub[n,1] = hu[n,2]\n",
    "    \n",
    "    hb[n,-1] = h[n,-3]\n",
    "    hb[n,-2] = h[n,-3]\n",
    "    hub[n,-1] = hu[n,-3]   \n",
    "    hub[n,-2] = hu[n,-3]    \n",
    "    return hb,hub"
   ]
  },
  {
   "cell_type": "code",
   "execution_count": 29,
   "metadata": {
    "collapsed": false,
    "run_control": {
     "frozen": false,
     "read_only": false
    }
   },
   "outputs": [
    {
     "name": "stdout",
     "output_type": "stream",
     "text": [
      "Appending to muscl2.py\n"
     ]
    }
   ],
   "source": [
    "%%writefile muscl2.py -a\n",
    "\n",
    "def simulate(h,hu,bcs,dx,cfl,t0,nt,riemann_solver=roe):\n",
    "    \"\"\"\n",
    "        Rutina principal que corre la simulacion\n",
    "    \"\"\"\n",
    "    t = np.zeros((nt,))\n",
    "    for n in range(nt-1):     \n",
    "        \n",
    "        dt = setdt(h,hu,n,dx,cfl)\n",
    "        \n",
    "        t[n+1] = t[n] + dt\n",
    "\n",
    "        h,hu = bcs(h,hu,n)    \n",
    "        \n",
    "        f = fluxes(h,hu,n,riemann_solver=roe)\n",
    "\n",
    "        h[n+1,2:-2] = h[n,2:-2] -dt/dx*(f[0,1:] - f[0,:-1])\n",
    "        hu[n+1,2:-2] = hu[n,2:-2] -dt/dx*(f[1,1:] - f[1,:-1])\n",
    "        \n",
    "    return t,h,hu"
   ]
  },
  {
   "cell_type": "code",
   "execution_count": 30,
   "metadata": {
    "collapsed": false,
    "run_control": {
     "frozen": false,
     "read_only": false
    }
   },
   "outputs": [
    {
     "data": {
      "text/plain": [
       "<module 'muscl2' from 'muscl2.pyc'>"
      ]
     },
     "execution_count": 30,
     "metadata": {},
     "output_type": "execute_result"
    }
   ],
   "source": [
    "reload(muscl2)"
   ]
  },
  {
   "cell_type": "markdown",
   "metadata": {},
   "source": [
    "### Comparison of first iteration"
   ]
  },
  {
   "cell_type": "code",
   "execution_count": 31,
   "metadata": {
    "collapsed": true,
    "run_control": {
     "frozen": false,
     "read_only": false
    }
   },
   "outputs": [],
   "source": [
    "t0 = 0.0"
   ]
  },
  {
   "cell_type": "code",
   "execution_count": 32,
   "metadata": {
    "collapsed": false,
    "run_control": {
     "frozen": false,
     "read_only": false
    }
   },
   "outputs": [
    {
     "name": "stdout",
     "output_type": "stream",
     "text": [
      "[[ 1.   1.   1.   0.5  0.5  0.5]\n",
      " [ 0.   0.   0.   0.   0.   0. ]]\n",
      "[[ 0.  0.  0.  0.  0.  0.]\n",
      " [ 0.  0.  0.  0.  0.  0.]]\n"
     ]
    }
   ],
   "source": [
    "h2 = 1.*h\n",
    "hu2 = 1.*hu\n",
    "\n",
    "h2[1,:] = 0.0\n",
    "hu2[1,:] = 0.0\n",
    "\n",
    "print h2\n",
    "print hu2"
   ]
  },
  {
   "cell_type": "code",
   "execution_count": 33,
   "metadata": {
    "collapsed": false
   },
   "outputs": [
    {
     "data": {
      "text/plain": [
       "<module 'muscl2' from 'muscl2.pyc'>"
      ]
     },
     "execution_count": 33,
     "metadata": {},
     "output_type": "execute_result"
    }
   ],
   "source": [
    "reload(muscl2)"
   ]
  },
  {
   "cell_type": "code",
   "execution_count": 34,
   "metadata": {
    "collapsed": false,
    "run_control": {
     "frozen": false,
     "read_only": false
    }
   },
   "outputs": [
    {
     "ename": "AttributeError",
     "evalue": "'module' object has no attribute 'simulate'",
     "output_type": "error",
     "traceback": [
      "\u001b[1;31m---------------------------------------------------------------------------\u001b[0m",
      "\u001b[1;31mAttributeError\u001b[0m                            Traceback (most recent call last)",
      "\u001b[1;32m<ipython-input-34-c43a5793f4e2>\u001b[0m in \u001b[0;36m<module>\u001b[1;34m()\u001b[0m\n\u001b[1;32m----> 1\u001b[1;33m \u001b[0mt\u001b[0m\u001b[1;33m,\u001b[0m\u001b[0mh2\u001b[0m\u001b[1;33m,\u001b[0m\u001b[0mhu2\u001b[0m \u001b[1;33m=\u001b[0m \u001b[0mmuscl2\u001b[0m\u001b[1;33m.\u001b[0m\u001b[0msimulate\u001b[0m\u001b[1;33m(\u001b[0m\u001b[0mh\u001b[0m\u001b[1;33m,\u001b[0m\u001b[0mhu\u001b[0m\u001b[1;33m,\u001b[0m\u001b[0mmuscl2\u001b[0m\u001b[1;33m.\u001b[0m\u001b[0mbcs_closed\u001b[0m\u001b[1;33m,\u001b[0m\u001b[0mdx\u001b[0m\u001b[1;33m,\u001b[0m\u001b[0mcfl\u001b[0m\u001b[1;33m,\u001b[0m\u001b[0mt0\u001b[0m\u001b[1;33m,\u001b[0m\u001b[0mnt\u001b[0m\u001b[1;33m)\u001b[0m\u001b[1;33m\u001b[0m\u001b[0m\n\u001b[0m",
      "\u001b[1;31mAttributeError\u001b[0m: 'module' object has no attribute 'simulate'"
     ]
    }
   ],
   "source": [
    "t,h2,hu2 = muscl2.simulate(h,hu,muscl2.bcs_closed,dx,cfl,t0,nt)"
   ]
  },
  {
   "cell_type": "code",
   "execution_count": null,
   "metadata": {
    "collapsed": false,
    "run_control": {
     "frozen": false,
     "read_only": false
    }
   },
   "outputs": [],
   "source": [
    "print h2\n",
    "print hu2"
   ]
  },
  {
   "cell_type": "code",
   "execution_count": null,
   "metadata": {
    "collapsed": false,
    "run_control": {
     "frozen": false,
     "read_only": false
    }
   },
   "outputs": [],
   "source": [
    "print h\n",
    "print hu"
   ]
  },
  {
   "cell_type": "markdown",
   "metadata": {},
   "source": [
    "Cool. They are the same :)"
   ]
  },
  {
   "cell_type": "markdown",
   "metadata": {},
   "source": [
    "# Validation: Dambreak 1D"
   ]
  },
  {
   "cell_type": "markdown",
   "metadata": {},
   "source": [
    "### Closed boundaries"
   ]
  },
  {
   "cell_type": "code",
   "execution_count": null,
   "metadata": {
    "collapsed": false,
    "run_control": {
     "frozen": false,
     "read_only": false
    }
   },
   "outputs": [],
   "source": [
    "L = 30.\n",
    "npoints = 40\n",
    "dx = L/npoints\n",
    "x = np.arange(-L,L,dx)\n",
    "dx = np.min(np.diff(x))\n",
    "nx = x.shape[0]\n",
    "cfl = 0.3\n",
    "t0  = 0.\n",
    "nt = 300\n",
    "\n",
    "h = np.zeros((nt,x.shape[0]))\n",
    "hu = np.zeros((nt,x.shape[0]))\n",
    "h[0,:] = np.where(x<=0, 10., 1e-5)\n",
    "hu[0,:] = 0.\n",
    "\n",
    "plt.step(x,h[0,:],'o',where='mid')\n",
    "plt.ylim(0,11)"
   ]
  },
  {
   "cell_type": "code",
   "execution_count": null,
   "metadata": {
    "collapsed": false,
    "run_control": {
     "frozen": false,
     "read_only": false
    }
   },
   "outputs": [],
   "source": [
    "import nswe1\n",
    "t1,h1,hu1 = muscl2.simulate(h,hu,muscl2.bcs_closed_2,dx,cfl,t0,nt,nswe1.roe)\n",
    "t1,h2,hu2 = muscl2.simulate(h,hu,muscl2.bcs_open,dx,cfl,t0,nt,nswe1.roe)"
   ]
  },
  {
   "cell_type": "code",
   "execution_count": null,
   "metadata": {
    "collapsed": false,
    "run_control": {
     "frozen": false,
     "read_only": false
    }
   },
   "outputs": [],
   "source": [
    "from matplotlib import animation\n",
    "from JSAnimation import IPython_display\n",
    "\n",
    "fig = plt.figure()\n",
    "ax = plt.axes(xlim=(-L, L), ylim=(-0.1, 10.1))\n",
    "line1, = ax.plot([], [])\n",
    "line2, = ax.plot([], [])\n",
    "\n",
    "def animate(i):\n",
    "    i=min(i*10,nt-2)\n",
    "    line1.set_data(x[1:-1], h1[i,1:-1])\n",
    "    line2.set_data(x[1:-1], h2[i,1:-1])\n",
    "    return line1,line2\n",
    "\n",
    "animation.FuncAnimation(fig, animate, frames=nt/10-1, interval=45)"
   ]
  },
  {
   "cell_type": "code",
   "execution_count": null,
   "metadata": {
    "collapsed": false
   },
   "outputs": [],
   "source": [
    "import dambreak as dbsol\n",
    "hadry = np.zeros((nt,x.shape[0]))\n",
    "huadry = np.zeros((nt,x.shape[0]))\n",
    "uadry = np.zeros((nt,x.shape[0]))\n",
    "\n",
    "for i in range(nt):\n",
    "    hadry[i,:],uadry[i,:] = dbsol.SWAnalyticalSolutionDry(x,t1[i],0.0,hl=10.0, g=9.81)\n",
    "huadry = hadry*uadry    "
   ]
  },
  {
   "cell_type": "code",
   "execution_count": null,
   "metadata": {
    "collapsed": false,
    "scrolled": true
   },
   "outputs": [],
   "source": [
    "plt.figure(figsize=(6,2))\n",
    "dit = 20\n",
    "plt.subplot(121)\n",
    "plt.plot(x[1:-1],hadry[::dit,1:-1].T,'-k',lw=0.5);\n",
    "plt.plot(x[1:-1],h1[::dit,1:-1].T,'-b',lw=0.5);\n",
    "plt.ylim(0.0,10.5)\n",
    "plt.xlabel('x (m)')\n",
    "plt.ylabel('h (m)')\n",
    "\n",
    "plt.subplot(122)\n",
    "plt.plot(x[1:-1],hadry[::dit,1:-1].T,'-k',lw=0.5);\n",
    "plt.plot(x[1:-1],h2[::dit,1:-1].T,'-b',lw=0.5);\n",
    "plt.ylim(0.0,10.5)\n",
    "plt.xlabel('x (m)')\n",
    "plt.ylabel('h (m)')\n",
    "plt.tight_layout()\n",
    "plt.savefig('figures/NsweSolvers/db2_hdry.png',dpi=300,bbox_inches='tight')"
   ]
  },
  {
   "cell_type": "code",
   "execution_count": null,
   "metadata": {
    "collapsed": false
   },
   "outputs": [],
   "source": [
    "plt.figure(figsize=(6,2))\n",
    "dit = 20\n",
    "plt.subplot(121)\n",
    "plt.plot(x[1:-1],huadry[::dit,1:-1].T,'-k',lw=0.5);\n",
    "plt.plot(x[1:-1],hu1[::dit,1:-1].T,'-b',lw=0.5);\n",
    "plt.ylim(-5.,30.)\n",
    "plt.xlabel('x (m)')\n",
    "plt.ylabel('h (m)')\n",
    "\n",
    "plt.subplot(122)\n",
    "plt.plot(x[1:-1],huadry[::dit,1:-1].T,'-k',lw=0.5);\n",
    "plt.plot(x[1:-1],hu2[::dit,1:-1].T,'-b',lw=0.5);\n",
    "plt.ylim(-5.,30.)\n",
    "plt.xlabel('x (m)')\n",
    "plt.ylabel('h (m)')\n",
    "plt.tight_layout()\n",
    "# plt.savefig('figures/NsweSolvers/db2_hdry.png',dpi=300,bbox_inches='tight')"
   ]
  },
  {
   "cell_type": "markdown",
   "metadata": {},
   "source": [
    "### Open boundaries"
   ]
  },
  {
   "cell_type": "code",
   "execution_count": null,
   "metadata": {
    "collapsed": true
   },
   "outputs": [],
   "source": [
    "import nswe1\n",
    "t1,ho2,huo2 = muscl2.simulate(h,hu,muscl2.bcs_open,dx,cfl,t0,nt,nswe1.roe_surf)\n",
    "t2,ho1,huo1 = nswe1.simulate(h,hu,nswe1.bcs_open,dx,cfl,0.0,nt,nswe1.roe_surf)"
   ]
  },
  {
   "cell_type": "code",
   "execution_count": null,
   "metadata": {
    "collapsed": false
   },
   "outputs": [],
   "source": [
    "plt.figure(figsize=(6,2))\n",
    "dit = 20\n",
    "plt.subplot(121)\n",
    "plt.plot(x[1:-1],hadry[::dit,1:-1].T,'-k',lw=0.5);\n",
    "plt.plot(x[1:-1],ho1[::dit,1:-1].T,'-b',lw=0.5);\n",
    "plt.ylim(0.0,10.5)\n",
    "plt.xlabel('x (m)')\n",
    "plt.ylabel('h (m)')\n",
    "\n",
    "plt.subplot(122)\n",
    "plt.plot(x[1:-1],hadry[::dit,1:-1].T,'-k',lw=0.5);\n",
    "plt.plot(x[1:-1],ho2[::dit,1:-1].T,'-b',lw=0.5);\n",
    "plt.ylim(0.0,10.5)\n",
    "plt.xlabel('x (m)')\n",
    "plt.ylabel('h (m)')\n",
    "plt.tight_layout()\n",
    "plt.savefig('figures/NsweSolvers/db2_hdry_open.png',dpi=300,bbox_inches='tight')"
   ]
  },
  {
   "cell_type": "code",
   "execution_count": null,
   "metadata": {
    "collapsed": true
   },
   "outputs": [],
   "source": []
  }
 ],
 "metadata": {
  "hide_input": false,
  "kernelspec": {
   "display_name": "Python 2",
   "language": "python",
   "name": "python2"
  },
  "language_info": {
   "codemirror_mode": {
    "name": "ipython",
    "version": 2
   },
   "file_extension": ".py",
   "mimetype": "text/x-python",
   "name": "python",
   "nbconvert_exporter": "python",
   "pygments_lexer": "ipython2",
   "version": "2.7.11"
  },
  "latex_envs": {
   "bibliofile": "biblio.bib",
   "cite_by": "apalike",
   "current_citInitial": 1,
   "eqLabelWithNumbers": true,
   "eqNumInitial": 0
  },
  "toc": {
   "toc_cell": false,
   "toc_number_sections": true,
   "toc_threshold": 6,
   "toc_window_display": false
  }
 },
 "nbformat": 4,
 "nbformat_minor": 0
}
