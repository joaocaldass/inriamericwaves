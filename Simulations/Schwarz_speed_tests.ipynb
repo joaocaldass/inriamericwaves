{
 "cells": [
  {
   "cell_type": "markdown",
   "metadata": {},
   "source": [
    "# Speed of convergence of the Schwarz method with modified TBC"
   ]
  },
  {
   "cell_type": "markdown",
   "metadata": {},
   "source": [
    "In this notebook, we will implement the Schwarz method with modified TBC conditions to solve the linearized KdV equation in a domain splitted in two, as described in the notebook TBC_besse_application.\n",
    "\n",
    "The TBC and the proposed modifications depend on the coefficients $c_L$ and $c_R$ (the constant polynomial approximation proposed for the TBCs derived by Besse et al (2015)). After validating the modified TBCs with the pair of coefficients $(c_L,c_R) = (1.6,1.0)$ that minimized the error of the solution computed in the monodomain, we will now search the pair $(c_L,c_R)$ that produces the faster convergence.\n",
    "\n",
    "\n",
    "# Study in the first time step\n",
    "\n",
    "As we done for the optimization process mentioned above, we will perform the computation with severals pairs $(c_L,c_R)$. In order to analyze exclusively the errors and the convergence behavior of the domain decomposition method (without influence of the time evolution), we will solve the problem along only one time step $\\Delta t$. For each calculation, we will compute the number of iterations to reach some convergence criteria and the error $e(c_L,c_R)$ computed in the whole domain : \n",
    "\n",
    "$$e(c_L,c_R) = ||(u_1,u_2)(c_L,c_R) - u_{ref}(c_L,c_R)||$$\n",
    "\n",
    "where $(u_1,u_2)$ is the vector containing the solutions $u_1$ and $u_2$ of each subdomain, and $u_{ref}$ is the reference solution (computed in the monodomain with the same coefficients $(c_L,c_R)$).\n",
    "\n",
    "We will perform two series of tests, with different criteria of convergence that could be used in practice : \n",
    "\n",
    "* 1 : The method is stopped when the difference between two iterations, $max{||(u_1)^{k+1} - (u_1)^k||,||(u_2)^{k+1} - (u_2)^k||}$ gets smaller than a defined limit.\n",
    "* 2 : The method is stopped when the difference of the solution in the interface point for $\\Omega_1$ and $\\Omega_2$ $\\left(||(u_1)_N^{k+1} - (u_2)_N^k||\\right)$ gets smaller than a defined limit.\n"
   ]
  },
  {
   "cell_type": "code",
   "execution_count": 2,
   "metadata": {
    "collapsed": true,
    "init_cell": true,
    "run_control": {
     "frozen": false,
     "read_only": false
    }
   },
   "outputs": [],
   "source": [
    "import numpy as np\n",
    "import kdv\n",
    "import besseTBC\n",
    "import matplotlib.pyplot as plt\n",
    "import pickle\n",
    "import generalFunctions as gF\n",
    "import besseSchwarz as bS\n",
    "\n",
    "%matplotlib inline"
   ]
  },
  {
   "cell_type": "markdown",
   "metadata": {},
   "source": [
    "## First series of tests\n",
    "\n",
    "Stop criteria : difference between two iterations"
   ]
  },
  {
   "cell_type": "code",
   "execution_count": 20,
   "metadata": {
    "collapsed": false,
    "run_control": {
     "frozen": false,
     "read_only": false
    },
    "scrolled": true
   },
   "outputs": [],
   "source": [
    "reload(bS)\n",
    "\n",
    "cLs = np.arange(0.3,2.25,0.05)\n",
    "cRs = np.arange(0.3,2.25,0.05)\n",
    "\n",
    "computeExactSolution = False\n",
    "\n",
    "L = 6.\n",
    "xmin = -L\n",
    "xmax = L\n",
    "N = 499\n",
    "U2 = 1.\n",
    "t0 = 0.\n",
    "\n",
    "dt = 5*4/2560.\n",
    "tmax = dt\n",
    "\n",
    "dx = (xmax-xmin)/N\n",
    "x = np.linspace(xmin,xmax,N)\n",
    "xx = np.linspace(xmin,xmax,N+1)\n",
    "\n",
    "dx = np.diff(x)[0]\n",
    "\n",
    "x1 = x[0:x.size/2+1]\n",
    "x2 = x[x.size/2:]\n",
    "\n",
    "u = besseTBC.initGauss(x)\n",
    "u1 = besseTBC.initGauss(x1)\n",
    "u2 = besseTBC.initGauss(x2)\n",
    "\n",
    "tallaux = np.arange(t0,tmax+dt,dt)\n",
    "\n",
    "# Main\n",
    "\n",
    "filename = 'speedTestsDiffIteration.json'\n",
    "testsSpeed = besseTBC.loadTests(filename)\n",
    "\n",
    "testsSpeed= bS.optimizeSpeed(x,x1,x2,u,cLs,cRs,testsSpeed,t0,tmax,dx,dt)\n",
    "                                \n",
    "besseTBC.saveTests(testsSpeed,filename)"
   ]
  },
  {
   "cell_type": "code",
   "execution_count": 21,
   "metadata": {
    "collapsed": false
   },
   "outputs": [
    {
     "data": {
      "text/plain": [
       "[7, 1.5977254033911784e-08]"
      ]
     },
     "execution_count": 21,
     "metadata": {},
     "output_type": "execute_result"
    }
   ],
   "source": [
    "bS.getTestResult(testsSpeed,.25,.25)"
   ]
  },
  {
   "cell_type": "code",
   "execution_count": 22,
   "metadata": {
    "collapsed": false,
    "run_control": {
     "frozen": false,
     "read_only": false
    },
    "scrolled": true
   },
   "outputs": [
    {
     "name": "stdout",
     "output_type": "stream",
     "text": [
      "Best results\n",
      "('(0.000,0.000)', 3, 0.0044152593947872866)\n",
      "('(0.250,0.250)', 7, 1.5977254033911784e-08)\n",
      "('(0.850,1.550)', 8, 2.289705888752448e-10)\n",
      "('(0.650,1.400)', 8, 1.5448065743295838e-10)\n",
      "('(0.650,1.400)', 8, 1.5450416275683102e-10)\n",
      "('(0.250,0.350)', 9, 6.261921355517609e-08)\n",
      "('(0.350,0.750)', 9, 2.192017846067233e-09)\n",
      "('(0.350,0.700)', 9, 8.33472257472852e-08)\n",
      "('(1.450,1.700)', 9, 1.5407537360472682e-09)\n",
      "('(0.700,1.450)', 9, 2.772052379572924e-09)\n",
      "('(1.150,1.650)', 9, 2.8228505151164473e-08)\n",
      "('(0.300,0.250)', 9, 1.924738855146774e-08)\n",
      "('(0.400,0.900)', 9, 2.353132449222931e-08)\n",
      "('(0.400,0.900)', 9, 2.3531291191571312e-08)\n",
      "('(0.300,0.500)', 9, 4.519454844700106e-09)\n",
      "('(0.450,1.050)', 9, 1.3273277669732598e-08)\n",
      "('(0.250,0.300)', 9, 2.094392277884137e-09)\n",
      "('(1.150,1.650)', 9, 2.8228399181858716e-08)\n",
      "('(0.600,1.350)', 9, 5.572630134432466e-08)\n",
      "('(0.300,0.550)', 9, 1.7812610861836198e-08)\n"
     ]
    }
   ],
   "source": [
    "a = bS.showRankingSpeed(testsSpeed,20,criteria=\"speed\")"
   ]
  },
  {
   "cell_type": "code",
   "execution_count": 24,
   "metadata": {
    "collapsed": false,
    "run_control": {
     "frozen": false,
     "read_only": false
    },
    "scrolled": true
   },
   "outputs": [
    {
     "name": "stdout",
     "output_type": "stream",
     "text": [
      "Best results\n",
      "('(0.650,1.400)', 8, 1.5448065743295838e-10)\n",
      "('(0.650,1.400)', 8, 1.5450416275683102e-10)\n",
      "('(0.850,1.550)', 8, 2.289705888752448e-10)\n",
      "('(1.450,1.700)', 9, 1.5407537360472682e-09)\n",
      "('(0.250,0.300)', 9, 2.094392277884137e-09)\n",
      "('(0.350,0.750)', 9, 2.192017846067233e-09)\n",
      "('(0.550,1.250)', 11, 2.6115628681898846e-09)\n",
      "('(0.550,1.300)', 12, 2.7204177649404664e-09)\n",
      "('(0.700,1.450)', 9, 2.772052379572924e-09)\n",
      "('(1.000,1.600)', 12, 2.8633258122936035e-09)\n",
      "('(1.000,1.600)', 12, 2.8633997940683422e-09)\n",
      "('(0.450,1.000)', 12, 2.9679662950100566e-09)\n",
      "('(1.500,1.700)', 12, 3.0854749470346746e-09)\n",
      "('(0.300,0.450)', 11, 3.9369705502236064e-09)\n",
      "('(1.100,1.650)', 12, 3.976589630884358e-09)\n",
      "('(0.950,1.600)', 11, 4.22319436367565e-09)\n",
      "('(0.950,1.600)', 11, 4.223249006337585e-09)\n",
      "('(2.150,1.750)', 12, 4.467631292161814e-09)\n",
      "('(2.150,1.750)', 12, 4.467921963133833e-09)\n",
      "('(0.300,0.500)', 9, 4.519454844700106e-09)\n"
     ]
    }
   ],
   "source": [
    "a = bS.showRankingSpeed(testsSpeed,20,criteria=\"error\")"
   ]
  },
  {
   "cell_type": "markdown",
   "metadata": {},
   "source": [
    "## Second series of tests\n",
    "\n",
    "Stop criteria : difference between the values on the interface"
   ]
  },
  {
   "cell_type": "code",
   "execution_count": 6,
   "metadata": {
    "collapsed": false,
    "run_control": {
     "frozen": false,
     "read_only": false
    }
   },
   "outputs": [],
   "source": [
    "cLs = np.arange(0.0,2.25,0.05)\n",
    "cRs = np.arange(0.0,2.25,0.05)\n",
    "\n",
    "computeExactSolution = False\n",
    "\n",
    "L = 6.\n",
    "xmin = -L\n",
    "xmax = L\n",
    "N = 499\n",
    "U2 = 1.\n",
    "t0 = 0.\n",
    "\n",
    "dt = 5*4/2560.\n",
    "tmax = dt\n",
    "\n",
    "dx = (xmax-xmin)/N\n",
    "x = np.linspace(xmin,xmax,N)\n",
    "xx = np.linspace(xmin,xmax,N+1)\n",
    "\n",
    "dx = np.diff(x)[0]\n",
    "\n",
    "x1 = x[0:x.size/2+1]\n",
    "x2 = x[x.size/2:]\n",
    "\n",
    "u = besseTBC.initGauss(x)\n",
    "u1 = besseTBC.initGauss(x1)\n",
    "u2 = besseTBC.initGauss(x2)\n",
    "\n",
    "tallaux = np.arange(t0,tmax+dt,dt)\n",
    "\n",
    "# Main\n",
    "\n",
    "filename = 'speedTestsDiffInterface.json'\n",
    "testsSpeed = besseTBC.loadTests(filename)\n",
    "\n",
    "for cL in cLs:\n",
    "    for cR in cRs:\n",
    "        \n",
    "        if (str((cL,cR)) not in testsSpeed.keys()) :\n",
    "        \n",
    "\n",
    "            coefTBC = np.zeros((1,2))\n",
    "            coefTBC[0,0] = cL\n",
    "            coefTBC[0,1] = cR\n",
    "\n",
    "            ## Compute referential solution\n",
    "            uallref,tallref = besseTBC.runDispKdV(x,u,t0,tmax,1., coefTBC , periodic = 0, vardt = False, dt = dt,\n",
    "                                                          order = 0, modifyDiscret = 1)  \n",
    "\n",
    "            nx = u1.size\n",
    "            u1 = uallref[:nx,0]\n",
    "            u2 = uallref[nx-1:,0]\n",
    "\n",
    "            uall1Speed,uall2Speed,tall,niterallSpeed,diff1allSpeed,\\\n",
    "            diff2allSpeed,diffitallSpeed,errallSpeed,errIntLSpeed,errIntRSpeed = bS.runSimulation(x1,\n",
    "                                                                                x2,u1,u2,t0,tmax,dx,dt,cL,cR,\n",
    "                                                                               uref=uallref,maxiter = 1000,eps = 1e-7,\n",
    "                                                                                printstep=100, debug=0,corrTBC=1, verbose=0,\n",
    "                                                                                fourConditions = 0, pointR = 0)\n",
    "            print(cL,cR,niterallSpeed[1],errallSpeed[-1,1])\n",
    "            #if errallSpeed[-1,1] != 'nan' and  errallSpeed[-1,1] != 'inf' and errallSpeed[-1,1]  < 1e6:\n",
    "            testsSpeed[str((cL,cR))] = (niterallSpeed[1],errallSpeed[-1,1])\n",
    "                                \n",
    "besseTBC.saveTests(testsSpeed,filename)"
   ]
  },
  {
   "cell_type": "code",
   "execution_count": 7,
   "metadata": {
    "collapsed": false,
    "run_control": {
     "frozen": false,
     "read_only": false
    },
    "scrolled": true
   },
   "outputs": [
    {
     "name": "stdout",
     "output_type": "stream",
     "text": [
      "Best results\n",
      "('(0.000,0.000)', 1, 0.0042428420185223765)\n",
      "('(1.000,0.250)', 3, 0.00020307844495694925)\n",
      "('(0.400,0.950)', 6, 1.8157432778734043e-06)\n",
      "('(0.400,0.900)', 6, 5.604174818780966e-07)\n",
      "('(0.600,0.200)', 7, 8.734463590126772e-09)\n",
      "('(1.500,0.200)', 7, 6.2754745177883344e-09)\n",
      "('(0.250,0.200)', 7, 2.399977999647033e-08)\n",
      "('(1.100,0.200)', 7, 6.653342935601465e-09)\n",
      "('(0.650,0.200)', 7, 8.279383935233881e-09)\n",
      "('(2.200,0.200)', 7, 6.046590516124813e-09)\n",
      "('(1.350,0.200)', 7, 6.37739032091623e-09)\n",
      "('(1.750,0.200)', 7, 6.16135037918791e-09)\n",
      "('(2.000,0.200)', 7, 6.087962407991089e-09)\n",
      "('(0.900,0.200)', 7, 7.0695645747590625e-09)\n",
      "('(2.050,0.200)', 7, 6.076459744608284e-09)\n",
      "('(0.950,0.200)', 7, 6.939233116346338e-09)\n",
      "('(1.850,0.200)', 7, 6.12835181878623e-09)\n",
      "('(1.050,0.200)', 7, 6.734554706535815e-09)\n",
      "('(0.700,0.200)', 7, 7.923798015237615e-09)\n",
      "('(0.500,0.200)', 7, 1.0124112173889814e-08)\n"
     ]
    }
   ],
   "source": [
    "bS.showRankingSpeed(testsSpeed,20,criteria=\"speed\")"
   ]
  },
  {
   "cell_type": "code",
   "execution_count": 70,
   "metadata": {
    "collapsed": false,
    "run_control": {
     "frozen": false,
     "read_only": false
    }
   },
   "outputs": [
    {
     "name": "stdout",
     "output_type": "stream",
     "text": [
      "Best results\n",
      "('(0.650,1.400)', 8, 1.5448065743295838e-10)\n",
      "('(0.650,1.400)', 8, 1.5450416275683102e-10)\n",
      "('(0.850,1.550)', 8, 2.289705888752448e-10)\n",
      "('(1.450,1.700)', 9, 1.5407537360472682e-09)\n",
      "('(0.350,0.750)', 9, 2.192017846067233e-09)\n",
      "('(0.550,1.250)', 11, 2.6115628681898846e-09)\n",
      "('(0.550,1.300)', 12, 2.7204177649404664e-09)\n",
      "('(0.700,1.450)', 9, 2.772052379572924e-09)\n",
      "('(1.000,1.600)', 12, 2.8633258122936035e-09)\n",
      "('(0.450,1.000)', 12, 2.9679662950100566e-09)\n",
      "('(1.500,1.700)', 12, 3.0854749470346746e-09)\n",
      "('(0.300,0.450)', 11, 3.9369705502236064e-09)\n",
      "('(1.100,1.650)', 12, 3.976589630884358e-09)\n",
      "('(0.950,1.600)', 11, 4.22319436367565e-09)\n",
      "('(2.150,1.750)', 12, 4.467631292161814e-09)\n",
      "('(0.300,0.500)', 9, 4.519454844700106e-09)\n",
      "('(0.400,0.950)', 11, 4.596591736297902e-09)\n",
      "('(0.400,1.050)', 16, 4.697360635401558e-09)\n",
      "('(0.350,0.900)', 16, 4.951679767754654e-09)\n",
      "('(0.800,1.500)', 12, 5.632739376920893e-09)\n"
     ]
    }
   ],
   "source": [
    "reload(bS)\n",
    "a = bS.showRankingSpeed(testsSpeed,20,criteria=\"error\")"
   ]
  },
  {
   "cell_type": "code",
   "execution_count": 9,
   "metadata": {
    "collapsed": false
   },
   "outputs": [
    {
     "data": {
      "text/plain": [
       "[61, 2.126951934791963e-08]"
      ]
     },
     "execution_count": 9,
     "metadata": {},
     "output_type": "execute_result"
    }
   ],
   "source": [
    "bS.getTestResult(testsSpeed,1.15,1.0)"
   ]
  },
  {
   "cell_type": "markdown",
   "metadata": {},
   "source": [
    "# Tests starting from different instants\n",
    "\n",
    "Now we want to see if there are any parameters that provide a fast convergence of the Schwarz method independently of the initial solution. For this purpose, we will repeat the testes realized above (we will keep the stopping criteria based on the difference between two consecutive iterations), also executing the method over only one time step, but starting from different instants."
   ]
  },
  {
   "cell_type": "code",
   "execution_count": 25,
   "metadata": {
    "collapsed": false
   },
   "outputs": [],
   "source": [
    "reload(bS)\n",
    "\n",
    "cLs = np.arange(0.1,2.25,0.05)\n",
    "cRs = np.arange(0.1,2.25,0.05)\n",
    "\n",
    "#cLs = np.arange(0.3,0.4,0.05)\n",
    "#cLs = np.arange(0.3,0.4,0.05)\n",
    "\n",
    "computeExactSolution = False\n",
    "\n",
    "L = 6.\n",
    "xmin = -L\n",
    "xmax = L\n",
    "N = 499\n",
    "U2 = 1.\n",
    "\n",
    "dt = 5*4/2560.\n",
    "\n",
    "tallaux = np.arange(t0,tmax+dt,dt)\n",
    "\n",
    "dx = (xmax-xmin)/N\n",
    "x = np.linspace(xmin,xmax,N)\n",
    "xx = np.linspace(xmin,xmax,N+1)\n",
    "\n",
    "dx = np.diff(x)[0]\n",
    "\n",
    "x1 = x[0:x.size/2+1]\n",
    "x2 = x[x.size/2:]\n",
    "\n",
    "\n",
    "# Main\n",
    "\n",
    "filename = 'speedTeststestDiffdt.json'\n",
    "testsSpeedtestDiffdt = besseTBC.loadTests(filename)\n",
    "\n",
    "t0s = np.array([0.,dt,2.*dt,10.*dt,50.*dt,100.*dt,200.*dt,400.*dt,500*dt])\n",
    "\n",
    "for t0 in t0s :\n",
    "    \n",
    "    if t0 == 0. :\n",
    "        u = besseTBC.initGauss(x)\n",
    "    else :\n",
    "        u = besseTBC.exactSolution(x,t0,besseTBC.initGauss)\n",
    "\n",
    "    \n",
    "    if str(t0) in testsSpeedtestDiffdt.keys() :\n",
    "        tests = testsSpeedtestDiffdt[str(t0)]\n",
    "    else :\n",
    "        tests = {}\n",
    "        \n",
    "    tmax = t0 + dt\n",
    "\n",
    "    tests = bS.optimizeSpeed(x,x1,x2,u,cLs,cRs,tests,t0,tmax,dx,dt,maxiter = 100,equalCoef=True)\n",
    "    \n",
    "    testsSpeedtestDiffdt[str(t0)] = tests\n",
    "    \n",
    "besseTBC.saveTests(testsSpeedtestDiffdt,filename)"
   ]
  },
  {
   "cell_type": "code",
   "execution_count": 26,
   "metadata": {
    "collapsed": false
   },
   "outputs": [
    {
     "name": "stdout",
     "output_type": "stream",
     "text": [
      "[11, 1.0220591242503954e-08]\n",
      "[11, 1.0220591242503954e-08]\n"
     ]
    }
   ],
   "source": [
    "test0 = bS.getTestResultVariableT0(testsSpeedtestDiffdt,0.000)\n",
    "print(bS.getTestResult(test0,0.3,0.3))\n",
    "print(bS.getTestResult(testsSpeed,0.3,0.3))"
   ]
  },
  {
   "cell_type": "code",
   "execution_count": 27,
   "metadata": {
    "collapsed": false
   },
   "outputs": [
    {
     "data": {
      "text/plain": [
       "['0.015625',\n",
       " '3.90625',\n",
       " '0.0',\n",
       " '0.0078125',\n",
       " '0.78125',\n",
       " '0.078125',\n",
       " '1.5625',\n",
       " '0.390625',\n",
       " '3.125']"
      ]
     },
     "execution_count": 27,
     "metadata": {},
     "output_type": "execute_result"
    }
   ],
   "source": [
    "testsSpeedtestDiffdt.keys()"
   ]
  },
  {
   "cell_type": "code",
   "execution_count": 28,
   "metadata": {
    "collapsed": false
   },
   "outputs": [
    {
     "name": "stdout",
     "output_type": "stream",
     "text": [
      "t0 = 0.015625 --> min it = 7 for cL = cR = 0.250000 and error = 1.068567e-08\n",
      "t0 = 3.906250 --> min it = 5 for cL = cR = 0.250000 and error = 5.564682e-09\n",
      "t0 = 0.000000 --> min it = 7 for cL = cR = 0.250000 and error = 1.597726e-08\n",
      "t0 = 0.007812 --> min it = 7 for cL = cR = 0.250000 and error = 1.353099e-08\n",
      "t0 = 0.781250 --> min it = 6 for cL = cR = 0.250000 and error = 2.020281e-09\n",
      "t0 = 0.078125 --> min it = 7 for cL = cR = 0.250000 and error = 2.287709e-09\n",
      "t0 = 1.562500 --> min it = 5 for cL = cR = 0.250000 and error = 1.386505e-08\n",
      "t0 = 0.390625 --> min it = 6 for cL = cR = 0.250000 and error = 2.875538e-09\n",
      "t0 = 3.125000 --> min it = 5 for cL = cR = 0.250000 and error = 7.190769e-09\n"
     ]
    },
    {
     "data": {
      "text/plain": [
       "<matplotlib.legend.Legend at 0x10de20950>"
      ]
     },
     "execution_count": 28,
     "metadata": {},
     "output_type": "execute_result"
    },
    {
     "data": {
      "image/png": "[encoded data removed]",
      "text/plain": [
       "<matplotlib.figure.Figure at 0x10e763810>"
      ]
     },
     "metadata": {},
     "output_type": "display_data"
    }
   ],
   "source": [
    "reload(bS)\n",
    "a = bS.getTestResumeVariableT0(testsSpeedtestDiffdt)\n",
    "\n",
    "for t0 in a.keys():   \n",
    "    b = a[t0][0]\n",
    "    plt.plot(b[:,0],b[:,1],label=r't0 = %f'%float(t0))\n",
    "    niterMin = a[t0][2][1]\n",
    "    cLiterMin = a[t0][2][0]\n",
    "    \n",
    "    for i in range(len(b[:,0])) :\n",
    "        cL = b[i,0]\n",
    "        if np.absolute(cL - cLiterMin) < 1e-9:\n",
    "            errIterMin = b[i,2]\n",
    "            break\n",
    "    \n",
    "    print(\"t0 = %f --> min it = %d for cL = cR = %f and error = %e\" % (float(t0),niterMin,cLiterMin,errIterMin))\n",
    "\n",
    "plt.legend(loc = (1.2,0.))\n"
   ]
  }
 ],
 "metadata": {
  "celltoolbar": "Initialisation Cell",
  "hide_input": false,
  "kernelspec": {
   "display_name": "Python 2",
   "language": "python",
   "name": "python2"
  },
  "language_info": {
   "codemirror_mode": {
    "name": "ipython",
    "version": 2
   },
   "file_extension": ".py",
   "mimetype": "text/x-python",
   "name": "python",
   "nbconvert_exporter": "python",
   "pygments_lexer": "ipython2",
   "version": "2.7.11"
  },
  "latex_envs": {
   "bibliofile": "biblio.bib",
   "cite_by": "apalike",
   "current_citInitial": 1,
   "eqLabelWithNumbers": true,
   "eqNumInitial": 0
  },
  "toc": {
   "toc_cell": false,
   "toc_number_sections": true,
   "toc_threshold": 6,
   "toc_window_display": false
  }
 },
 "nbformat": 4,
 "nbformat_minor": 0
}
