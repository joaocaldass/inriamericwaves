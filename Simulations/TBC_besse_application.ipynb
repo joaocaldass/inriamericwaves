{
 "cells": [
  {
   "cell_type": "markdown",
   "metadata": {
    "run_control": {
     "frozen": false,
     "read_only": false
    }
   },
   "source": [
    "# Application of approximate TBCs to the Schwarz method"
   ]
  },
  {
   "cell_type": "markdown",
   "metadata": {},
   "source": [
    "$ \\newcommand{\\laplinv}{\\mathcal{L}^{-1}}$\n",
    "\n",
    "\n",
    "## Description of the problem\n",
    "\n",
    "In this notebook, we will apply approximate Transparent Boundary Conditions to the Schwarz method, for the resolution of the linearized KdV equation in a decomposed domain.\n",
    "\n",
    "The problem to be solved in the full domain $\\Omega = [-L,L]$ is\n",
    "\n",
    "\\begin{equation}\n",
    "    \\begin{cases}\n",
    "        u_t + u_{xxx} = 0 , \\ \\ x \\in \\Omega, \\ \\ t \\leq 0\\\\\n",
    "        u(0,x) = u_0(x) , \\ \\ x \\in \\Omega \\\\\n",
    "        \\text{+ Boundary conditions}\n",
    "    \\end{cases}\n",
    "\\end{equation}\n",
    "\n",
    "As described previously, following the paper of Besse et al (2015), the TBCs for this problem have the form\n",
    "\n",
    "\\begin{equation}\n",
    "\\label{eq:TBC}\n",
    "    \\begin{cases}\n",
    "        u(t,-L) -\\laplinv \\left( \\frac{\\lambda(s)^2}{s} \\right) * u_x(t,-L) -  \\laplinv \\left( \\frac{\\lambda(s)}{s} \\right) * u_{xx}(t,-L) = 0 \\\\\n",
    "        u(t,L) - \\laplinv \\left( \\frac{1}{\\lambda(s)^2} \\right) * u_{xx}(t,L) = 0 \\\\\n",
    "        u_x(t,L) - \\laplinv \\left( \\frac{1}{\\lambda(s)} \\right) * u_{xx}(t,L) = 0 \n",
    "    \\end{cases}\n",
    "\\end{equation}\n",
    "\n",
    "where $\\laplinv$ denotes the inverse Laplace transform (with complex frequencies $s$ such that $Re(s) > 0$) and $\\lambda(s) = -\\sqrt[3]{s}$ is one of the roots of the cubic characteristic polynomial obtained when solving the equation in the Laplace domain.\n",
    "\n",
    "The approach proposed here consisted in approximating $\\frac{\\lambda^2}{s}$ by a constant polynomial $P_0(s) = c$, leading to\n",
    "\n",
    "\\begin{equation}\n",
    "\\label{eq:TBC3}\n",
    "    \\begin{cases}\n",
    "        \\Theta_1^{c_L}(u,-L) = u(t,-L) - c_L u_x(t,-L)  + c_L^2   u_{xx}(t,-L) = 0 \\\\\n",
    "        \\Theta_2^{c_R}(u,L) = u(t,L) - c_R^2    \\hat{u}_{xx}(t,L) = 0 \\\\\n",
    "        \\Theta_3^{c_R}(u,L) = u_x(t,L) + c_R u_{xx}(t,L)= 0 \n",
    "    \\end{cases}\n",
    "\\end{equation}\n",
    "\n",
    "For a given initial solution, the coefficients $c_L$ (on the left boundary) and $c_R$ (on the right boundary) were optimized, in a sense of minimizing the error between the computed and the exacted solution. The optimal coefficients will be noted as $c_L^* and c_R^*$\n",
    "\n",
    "Now we will implement the optimal approximate TBCs to the resolution of the linearized KdV equation in a decomposed domain, $\\Omega = \\Omega_1 \\bigcup \\Omega_2, \\ \\ \\Omega_1 = [-L,0], \\ \\ \\Omega_2 = [0,L]$ :\n",
    "\n",
    "\\begin{equation}\n",
    "    \\begin{cases}\n",
    "        (u_i)_t + (u_i)_{xxx} = 0 , \\ \\ x \\in \\Omega_i, \\ \\ t \\leq 0\\\\\n",
    "        u_i(0,x) = u_0(x) , \\ \\ x \\in \\Omega_i \\\\\n",
    "        \\text{+ Boundary conditions}\n",
    "    \\end{cases}\n",
    "\\end{equation}\n",
    "\n",
    "for $i=1,2$"
   ]
  },
  {
   "cell_type": "markdown",
   "metadata": {},
   "source": [
    "## The additive Schwarz method\n",
    "\n",
    "As described in the paper of Japhet and Nataf (2003), the additive Schwarz method is an iterative algorithm for solving a problem in a decomposed domain. In each time step $t_n$, the solution $u_i^{n,\\infty}$ is computed as the convergence of the solution obtained in each iteration, $u_i^{n,k}, \\ \\ k\\geq 0$. For computing this solution $u_i^{n,k}$, the problem is solved with TBCs constructed using the solution $u_j^{n,k-1}, \\ \\ j \\neq i$ in the other partitions of the domain, in the previous iteration. In each interface between the domains $\\Omega_i$ and $\\Omega_j$, the boundary condition for the problem in $\\Omega_i$ is\n",
    "\n",
    "$$\\mathcal{B}(u_i^{n,k+1}) = \\mathcal{B}(u_j^{n,k})$$\n",
    "\n",
    "where $\\mathcal{B}$ denotes the operator of the TBC.\n",
    "\n",
    "We will use the optimal approximate TBCs for solving the linearized KdV equation with the Schwarz method. Therefore, the problem to be solved can be written as, in each time step\n",
    "\n",
    "\\begin{equation}\n",
    "    \\begin{cases}\n",
    "        (u_1^{n,k+1})_t + (u_1^{n,k+1})_{xxx} = 0 , \\ \\ x \\in \\Omega_1, \\ \\ t \\leq 0\\\\\n",
    "        u_1^{n,0} = u_1^{n-1,\\infty} , \\ \\ x \\in \\Omega_1 \\\\\n",
    "        \\Theta_1^{c_L^*}(u_1^{n,k+1},-L) = 0 \\\\\n",
    "        \\Theta_2^{c_R^*}(u_1^{n,k+1},0) = \\Omega_2^{c_R^*}(u_2^{n,k}) \\\\\n",
    "        \\Theta_3^{c_R^*}(u_1^{n,k+1},0) = \\Omega_3^{c_R^*}(u_2^{n,k})\n",
    "     \\end{cases}\n",
    "\\end{equation}\n",
    "\n",
    "\\begin{equation}\n",
    "    \\begin{cases}\n",
    "        (u_2^{n,k+1})_t + (u_2^{n,k+1})_{xxx} = 0 , \\ \\ x \\in \\Omega_2, \\ \\ t \\leq 0\\\\\n",
    "        u_2^{n,0} = u_2^{n-1,\\infty} , \\ \\ x \\in \\Omega_2 \\\\\n",
    "        \\Theta_1^{c_L^*}(u_2^{n,k+1},0) = \\Omega_1^{c_L^*}(u_1^{n,k}) \\\\\n",
    "        \\Theta_2^{c_R^*}(u_2^{n,k+1},L) = 0 \\\\\n",
    "        \\Theta_3^{c_R^*}(u_2^{n,k+1},L) = 0\n",
    "     \\end{cases}\n",
    "\\end{equation}\n"
   ]
  },
  {
   "cell_type": "code",
   "execution_count": 45,
   "metadata": {
    "collapsed": true,
    "run_control": {
     "frozen": false,
     "read_only": false
    }
   },
   "outputs": [],
   "source": [
    "import numpy as np\n",
    "import kdv\n",
    "import besseTBC\n",
    "import matplotlib.pyplot as plt\n",
    "import pickle\n",
    "\n",
    "%matplotlib inline"
   ]
  },
  {
   "cell_type": "code",
   "execution_count": 46,
   "metadata": {
    "collapsed": true,
    "run_control": {
     "frozen": false,
     "read_only": false
    }
   },
   "outputs": [],
   "source": [
    "## Returns TBC computed in \\Omega_j for the resolution in \\Omega_i\n",
    "\n",
    "def computeExteriorTBC(u,dx,cL,cR,cond,order=2) :\n",
    "    \n",
    "    if cond == 1:\n",
    "        if order == 2:\n",
    "            return u[-1] - cL/dx*(3./2.*u[-1] - 2.*u[-2] + 1./2.*u[-3]) + cL*cL/(dx*dx)*(u[-1] - 2.*u[-2] + u[-3])\n",
    "    elif cond == 2:\n",
    "        if order == 2:\n",
    "            return u[0] - cR*cR/(dx*dx)*(u[0] - 2.*u[1] + u[2])\n",
    "    elif cond == 3:\n",
    "        if order == 2:\n",
    "            return 1./dx*(u[1]-u[0]) + cR/(dx*dx)*(u[0] - 2.*u[1] + u[2])"
   ]
  },
  {
   "cell_type": "code",
   "execution_count": 47,
   "metadata": {
    "collapsed": true,
    "run_control": {
     "frozen": false,
     "read_only": false
    }
   },
   "outputs": [],
   "source": [
    "def verifyConvergence(u1,u1prev,u2,u2prev,eps):\n",
    "    if (np.linalg.norm(u1-u1prev) < eps) and (np.linalg.norm(u2-u2prev) < eps):\n",
    "        return True\n",
    "    else:\n",
    "        return False"
   ]
  },
  {
   "cell_type": "code",
   "execution_count": 51,
   "metadata": {
    "collapsed": true,
    "run_control": {
     "frozen": false,
     "read_only": false
    }
   },
   "outputs": [],
   "source": [
    "## Additive Schwarz method (for solving one time step)\n",
    "\n",
    "def ASM(x1,x2,u1,u2,t,dx,dt,order,cL,cR,maxiter,eps):\n",
    "    \n",
    "    converg = False\n",
    "    niter = 0\n",
    "    u1prev = np.copy(u1)\n",
    "    u2prev = np.copy(u2)\n",
    "    while converg == False and niter <= maxiter :\n",
    "        niter = niter + 1\n",
    "        \n",
    "        BC1 = np.zeros(3)\n",
    "        BC1[1] = computeExteriorTBC(u2,dx,cL,cR,2) \n",
    "        BC1[2] = computeExteriorTBC(u2,dx,cL,cR,3)\n",
    "\n",
    "        BC2 = np.zeros(3)\n",
    "        BC2[1] = computeExteriorTBC(u1,dx,cL,cR,1)\n",
    "\n",
    "        u1m = np.copy(u1)\n",
    "        u2m = np.copy(u2)\n",
    "\n",
    "        coef = np.zeros((1,2))\n",
    "        coef[0,0] = cL\n",
    "        coef[0,1] = cR\n",
    "\n",
    "        u1 = besseTBC.IFDBesse(u1,None,None,t,dt,dx,1.,0,coef,BC1)\n",
    "        u2 = besseTBC.IFDBesse(u2,None,None,t,dt,dx,1.,0,coef,BC2)\n",
    "\n",
    "        converg = verifyConvergence(u1,u1m,u2,u2m,eps)\n",
    "        \n",
    "    return u1,u2,niter, np.linalg.norm(u1-u1prev), np.linalg.norm(u2-u2prev)"
   ]
  },
  {
   "cell_type": "code",
   "execution_count": 52,
   "metadata": {
    "collapsed": true,
    "run_control": {
     "frozen": false,
     "read_only": false
    }
   },
   "outputs": [],
   "source": [
    "def runSimulation(x1,x2,u1,u2,t0,tmax,dx,dt,cL,cR,maxiter = 10,eps = 1e-6) :\n",
    "\n",
    "    print(\"\")\n",
    "    print(\"*** Computing solution ...\")\n",
    "    \n",
    "    t = t0\n",
    "    uall1 = np.copy(u1)\n",
    "    uall2 = np.copy(u2)\n",
    "    tall = np.ones(1)*t0\n",
    "    niterall = np.zeros(1)\n",
    "    err1all = np.zeros(1)\n",
    "    err2all = np.zeros(1)\n",
    "    \n",
    "    while t < tmax :\n",
    "        \n",
    "        t = t+dt\n",
    "        print(t)\n",
    "        u1,u2,niter,err1,err2 = ASM(x1,x2,u1,u2,t,dx,dt,0,cL,cR,maxiter,eps)\n",
    "\n",
    "        uall1 = np.column_stack((uall1,u1))\n",
    "        uall2 = np.column_stack((uall2,u2))\n",
    "        tall = np.hstack((tall,t*np.ones(1)))\n",
    "        niterall = np.hstack((niterall,niter*np.ones(1)))\n",
    "        err1all = np.hstack((err1all,err1*np.ones(1)))\n",
    "        err2all = np.hstack((err2all,err1*np.ones(1)))\n",
    "        if niter%100 == 0 and verbose:\n",
    "            print(niter,t)\n",
    "            \n",
    "    print(\"*** End of computation ***\")        \n",
    "    return uall1,uall2,tall,niterall,err1all,err2all"
   ]
  },
  {
   "cell_type": "code",
   "execution_count": 61,
   "metadata": {
    "collapsed": false
   },
   "outputs": [
    {
     "name": "stdout",
     "output_type": "stream",
     "text": [
      "\n",
      "*** Computing solution ...\n",
      "0.0078125\n",
      "0.015625\n",
      "0.0234375\n",
      "0.03125\n",
      "0.0390625\n",
      "0.046875\n",
      "0.0546875\n",
      "0.0625\n",
      "0.0703125\n",
      "0.078125\n",
      "0.0859375\n",
      "0.09375\n",
      "0.1015625\n",
      "0.109375\n",
      "0.1171875\n",
      "0.125\n",
      "0.1328125\n",
      "0.140625\n",
      "0.1484375\n",
      "0.15625\n",
      "0.1640625\n",
      "0.171875\n",
      "0.1796875\n",
      "0.1875\n",
      "0.1953125\n",
      "0.203125\n",
      "*** End of computation ***\n"
     ]
    }
   ],
   "source": [
    "computeExactSolution = False\n",
    "\n",
    "L = 6.\n",
    "xmin = -L\n",
    "xmax = L\n",
    "N = 499.\n",
    "U2 = 1.\n",
    "t0 = 0.\n",
    "tmax = .2\n",
    "dt = 5*4/2560.\n",
    "\n",
    "dx = (xmax-xmin)/N\n",
    "x = kdv.discretizeSpace(xmin,xmax,dx)\n",
    "x = np.linspace(xmin,xmax,N)\n",
    "xx = np.linspace(xmin,xmax,N+1)\n",
    "cLs = np.arange(1.0,1.22,0.01)\n",
    "cRs = np.array([1.])\n",
    "\n",
    "x1 = x[0:x.size/2+1]\n",
    "x2 = x[x.size/2:]\n",
    "\n",
    "u = besseTBC.initGauss(x)\n",
    "u1 = besseTBC.initGauss(x1)\n",
    "u2 = besseTBC.initGauss(x2)\n",
    "\n",
    "tallaux = np.arange(t0,tmax+dt,dt)\n",
    "\n",
    "uallexact = np.zeros((u.size,tallaux.size))\n",
    "uallexact[:,0] = np.copy(u)\n",
    "\n",
    "if computeExactSolution :\n",
    "    print(\"*** Computing initial solution\")\n",
    "    for i in range(1,tallaux.size) :\n",
    "        if i%10 == 0:\n",
    "            print(r\"t = %.6f\"%tallaux[i])\n",
    "        uallexact[:,i] = besseTBC.exactSolution(x,tallaux[i],besseTBC.initGauss)\n",
    "\n",
    "    #Save initial solution\n",
    "    fn = \"initGauss\"\n",
    "    with open(fn,'w') as f:\n",
    "        pickle.dump(uallexact,f)\n",
    "    uallexact2 = np.copy(uallexact)\n",
    "else :\n",
    "    #Load initial solution\n",
    "    fn = \"initGauss\"\n",
    "    with open(fn,'r') as f:\n",
    "        uallexact = pickle.load(f)\n",
    "#print(np.linalg.norm(uallexact-uallexact2))\n",
    "\n",
    "\n",
    "cL = 1.16\n",
    "cR = 1.\n",
    "uall1,uall2,tall,niterall,err1all,err2all = runSimulation(x1,x2,u1,u2,t0,tmax,dx,dt,cL,cR,maxiter = 100,eps = 1e-6)\n"
   ]
  },
  {
   "cell_type": "code",
   "execution_count": 63,
   "metadata": {
    "collapsed": false
   },
   "outputs": [
    {
     "name": "stdout",
     "output_type": "stream",
     "text": [
      "(array([   0.,  101.,  101.,  101.,  101.,  101.,  101.,  101.,  101.,\n",
      "        101.,  101.,  101.,  101.,  101.,  101.,  101.,  101.,  101.,\n",
      "        101.,  101.,  101.,  101.,  101.,  101.,  101.,  101.,  101.]), array([ 0.        ,  5.36105239,  4.98455379,  2.76095468,  3.78301724,\n",
      "        3.07623975,  2.62977278,  2.73440081,  1.47201924,  2.00020071,\n",
      "        1.3178267 ,  1.54267397,  1.49035956,  1.29351127,  1.17913376,\n",
      "        0.99801949,  0.63945129,  0.76296629,  0.44618995,  0.62197649,\n",
      "        0.52635346,  0.4427659 ,  0.45737916,  0.25806231,  0.31618106,\n",
      "        0.23492922,  0.24871144]), array([ 0.        ,  5.36105239,  4.98455379,  2.76095468,  3.78301724,\n",
      "        3.07623975,  2.62977278,  2.73440081,  1.47201924,  2.00020071,\n",
      "        1.3178267 ,  1.54267397,  1.49035956,  1.29351127,  1.17913376,\n",
      "        0.99801949,  0.63945129,  0.76296629,  0.44618995,  0.62197649,\n",
      "        0.52635346,  0.4427659 ,  0.45737916,  0.25806231,  0.31618106,\n",
      "        0.23492922,  0.24871144]))\n"
     ]
    },
    {
     "data": {
      "image/png": "[encoded data removed]",
      "text/plain": [
       "<matplotlib.figure.Figure at 0x112612350>"
      ]
     },
     "metadata": {},
     "output_type": "display_data"
    }
   ],
   "source": [
    "i=10\n",
    "plt.plot(x1,uall1[:,i],x2,uall2[:,i],xx,uallexact[:,i])\n",
    "print(niterall,err1all,err2all)"
   ]
  },
  {
   "cell_type": "code",
   "execution_count": null,
   "metadata": {
    "collapsed": true
   },
   "outputs": [],
   "source": []
  }
 ],
 "metadata": {
  "hide_input": false,
  "kernelspec": {
   "display_name": "Python 2",
   "language": "python",
   "name": "python2"
  },
  "language_info": {
   "codemirror_mode": {
    "name": "ipython",
    "version": 2
   },
   "file_extension": ".py",
   "mimetype": "text/x-python",
   "name": "python",
   "nbconvert_exporter": "python",
   "pygments_lexer": "ipython2",
   "version": "2.7.11"
  },
  "latex_envs": {
   "bibliofile": "biblio.bib",
   "cite_by": "apalike",
   "current_citInitial": 1,
   "eqLabelWithNumbers": true,
   "eqNumInitial": 0
  },
  "toc": {
   "toc_cell": false,
   "toc_number_sections": true,
   "toc_threshold": 6,
   "toc_window_display": false
  }
 },
 "nbformat": 4,
 "nbformat_minor": 0
}
