{
 "cells": [
  {
   "cell_type": "code",
   "execution_count": 1,
   "metadata": {
    "init_cell": true,
    "run_control": {
     "frozen": false,
     "read_only": false
    }
   },
   "outputs": [
    {
     "data": {
      "text/plain": [
       "False"
      ]
     },
     "execution_count": 1,
     "metadata": {},
     "output_type": "execute_result"
    }
   ],
   "source": [
    "import notebook\n",
    "notebook.nbextensions.check_nbextension('usability/codefolding', user=True)\n",
    "notebook.nbextensions.check_nbextension('usability/codefolding/main.js', user=True)\n",
    "# E = notebook.nbextensions.EnableNBExtensionApp()\n",
    "# E.enable_nbextension('usability/codefolding/main')"
   ]
  },
  {
   "cell_type": "code",
   "execution_count": 2,
   "metadata": {
    "init_cell": true,
    "run_control": {
     "frozen": false,
     "read_only": false
    }
   },
   "outputs": [],
   "source": [
    "import sys\n",
    "sys.path.append('../')\n",
    "sys.path.append('../nswe')\n",
    "\n",
    "import numpy as np\n",
    "import matplotlib.pyplot as plt\n",
    "import math\n",
    "%matplotlib inline\n",
    "%matplotlib notebook\n",
    "\n",
    "nan = float('nan')"
   ]
  },
  {
   "cell_type": "code",
   "execution_count": 3,
   "metadata": {
    "init_cell": true,
    "run_control": {
     "frozen": false,
     "read_only": false
    }
   },
   "outputs": [],
   "source": [
    "import generalFunctions as gF\n",
    "import cnoidal\n",
    "import nswe\n",
    "import muscl2\n"
   ]
  },
  {
   "cell_type": "code",
   "execution_count": 4,
   "metadata": {},
   "outputs": [
    {
     "name": "stdout",
     "output_type": "stream",
     "text": [
      "Overwriting serre.py\n"
     ]
    }
   ],
   "source": [
    "%%writefile serre.py\n",
    "## Numerical resolution of the Serre equations\n",
    "import numpy as np\n",
    "import matplotlib.pyplot as plt\n",
    "import math\n",
    "import generalFunctions as gF\n",
    "import cnoidal\n",
    "import nswe\n",
    "import muscl2\n",
    "\n"
   ]
  },
  {
   "cell_type": "markdown",
   "metadata": {},
   "source": [
    "$\\newcommand{\\th}{\\tilde{h}}$\n",
    "$\\newcommand{\\tu}{\\tilde{u}}$\n",
    "\n",
    "$\\newcommand{\\lh}{\\overline{h}}$\n",
    "$\\newcommand{\\lu}{\\overline{u}}$\n",
    "\n",
    "$\\newcommand{\\Atwo}[2]{\\left( \\begin{array}{c} #1 \\\\ #2  \\end{array} \\right)}$"
   ]
  },
  {
   "cell_type": "markdown",
   "metadata": {},
   "source": [
    "# Numerical resolution of the Serre equations"
   ]
  },
  {
   "cell_type": "markdown",
   "metadata": {},
   "source": [
    "## The model"
   ]
  },
  {
   "cell_type": "markdown",
   "metadata": {},
   "source": [
    "The Serre equations are a model to describe higly nonlinear waves propagating in shallow waters. Considering a horizontal bottom, these equations are written as\n",
    "\n",
    "\\begin{equation}\n",
    "\\label{eq:SerreFull}\n",
    "h_t + (hu)_x = 0 \\\\\n",
    "u_t + uu_x + gh_x - \\frac{1}{3h}\\left(h^3 \\left( u_{xt} + uu_{xx} - (u_x)^2  \\right) \\right)_x = 0\n",
    "\\end{equation}\n",
    "\n",
    "where $u = u(x,t)$, $h = h(x,t)$ and $g$ are, respectively, the depth-averaged horizontal velocity of the fluid, the water depth and the gravity acceleration."
   ]
  },
  {
   "cell_type": "markdown",
   "metadata": {},
   "source": [
    "## Discretization"
   ]
  },
  {
   "cell_type": "markdown",
   "metadata": {},
   "source": [
    "As done previously for the numerical resolution of the KdV and the BBM equations, the Serre equations will be numerically solved using a splitting method, in which the system of equations will be decomposed in two : the first one will contain the advection terms, and the second one, all the high-order derivative terms.\n",
    "\n",
    "Therefore, the numerical resolution will consist in solve, in each time step $[t_n, t_{n+1}]$, the following problem :\n",
    "\n",
    "\\begin{equation}\n",
    "\\label{eq:SerreSplit1}\n",
    "\\begin{cases}\n",
    "\\th_t + \\left(\\th\\tu\\right)_x = 0 \\\\\n",
    "\\tu_t + \\tu\\tu_x + g\\th_x = 0, \\ \\, t \\in [t_n, t_{n+1}], \\ \\  (\\th,\\tu)(x,t_n) = (h,u)(x,t_n)\n",
    "\\end{cases}\n",
    "\\end{equation}\n",
    "\n",
    "\\begin{equation}\n",
    "\\label{eq:SerreSplit2}\n",
    "\\begin{cases}\n",
    "\\lh_t   = 0 \\\\\n",
    "\\lu_t - \\frac{1}{3\\lh}\\left(\\lh^3 \\left( \\lu_{xt} + \\lu\\lu_{xx} - (\\lu_x)^2  \\right) \\right)_x = 0, \\ \\, t \\in [t_n, t_{n+1}], \\ \\  (\\lh,\\lu)(x,t_n) = (\\th,\\tu)(x,t_{n+1})\n",
    "\\end{cases}\n",
    "\\end{equation}\n",
    "\n",
    "\\begin{equation}\n",
    "\\begin{cases}\n",
    "(h,u)(x,t_{n+1}) = (\\lh,\\lu)(x,t_{n+1})\n",
    "\\end{cases}\n",
    "\\end{equation}\n",
    "\n",
    "In the following descriptions of the resolution of the two schemes, the tilde and the overbar will be omitted for the sake of clarity."
   ]
  },
  {
   "cell_type": "markdown",
   "metadata": {},
   "source": [
    "### First system of equations"
   ]
  },
  {
   "cell_type": "markdown",
   "metadata": {},
   "source": [
    "In order to solve the advection system (\\ref{eq:SerreSplit1}) with the Roe solver (an approximation of the Riemman solver), one must write it in the classical form $U_t +  F(U)_x = 0$, where $U$ is the vector of unknowns and $F$ is a flux function.\n",
    "\n",
    "We have that\n",
    "\n",
    "$(hu)_t = uh_t + hu_t = -u(hu)_x - h\\left(uu_x + gh_x\\right) = -u\\left (h_xu + 2hu_x \\right) - ghh_x = -\\left(hu^2\\right)_x - \\frac{1}{2}g\\left(h^2\\right)_x = - \\left(hu^2 +  \\frac{1}{2}gh^2 \\right)_x$\n",
    "\n",
    "Therefore, the system can be rewritten as\n",
    "\n",
    "\\begin{equation}\n",
    "\\begin{cases}\n",
    "h_t + \\left(hu \\right)_x = 0 \\\\\n",
    "\\left(hu \\right)_t + \\left(hu^2 +  \\frac{1}{2}gh^2 \\right)_x = 0\n",
    "\\end{cases}\n",
    "\\end{equation}\n",
    "\n",
    "and we will solve it for the unknowns $U = \\Atwo{h}{hu}$, with the flux function $F \\Atwo{h}{hu} = \\Atwo{hu}{hu^2 +  \\frac{1}{2}gh^2} $. The time step is discretized using a 4th order Runge-Kutta scheme."
   ]
  },
  {
   "cell_type": "markdown",
   "metadata": {},
   "source": [
    "### Second system of equations"
   ]
  },
  {
   "cell_type": "markdown",
   "metadata": {},
   "source": [
    "In the second system (\\ref{eq:SerreSplit2}) of the splitted Serre equations , the water depth $h$ is constant in time, and therefore only the velocity $u$ must be updated. Separating the terms containing time derivatives, the second equation of thi suystem can be rewritten as \n",
    "\n",
    "\\begin{equation}\n",
    "\\label{eq:dispersive}\n",
    "\\left( u - hh_xu_x - \\frac{1}{3}h^2u_{xx} \\right)_t  - \\frac{1}{3h}\\left(h^3 \\left( uu_{xx} - (u_x)^2  \\right) \\right)_x = 0\n",
    "\\end{equation}\n",
    "\n",
    "This equation will be solved using an explicit Finite Difference scheme. Defining\n",
    "\n",
    "$g_1 = h^3 \\left( uu_{xx} - (u_x)^2 \\right)$\n",
    "\n",
    "$g_2 = u - h h_x u_x - \\frac{1}{3}h^2 u_{xx}$\n",
    "\n",
    "where the derivatives are evalueated using appropriate finite difference approximations.\n",
    "\n",
    "With this notation, using an one-step forward time discretization, one gets\n",
    "\n",
    "$(g_2)_i^{n+1} = (g_2)_i^n + \\frac{\\Delta t}{3h_i^n} \\left(\\left( g_1 \\right)_x\\right)_i^n = G_i^n$\n",
    "\n",
    "where the superscript and the subscript denotes respectively the time step and the spatial position.\n",
    "\n",
    "Using 2nd order centered approximation for the spatial derivatives in $(g_2)_i^{n+1}$, one gets the following tridiagonal linear system :\n",
    "\n",
    "$\\left( \\frac{h_i^n(h_x)_i^n}{2\\Delta x} - \\frac{(h_i^n)^2}{3\\Delta x^2} \\right)u_{i-1}^{n+1} + \n",
    " \\left( 1 + \\frac{2(h_i^n)^2}{3\\Delta x^2} \\right)u_{i}^{n+1} + \n",
    " \\left( -\\frac{h_i^n(h_x)_i^n}{2\\Delta x} - \\frac{(h_i^n)^2}{3\\Delta x^2} \\right)u_{i+1}^{n+1} = G_i^n $\n",
    " \n",
    " with the appropriate modifications to take in account the boundary conditions.\n",
    " \n",
    " \n",
    " ### Alternative resolution of the second system (for the variables $(h,hu)$)\n",
    " \n",
    " Inspired by the discretization described in the paper of Bonneton et. al (2011), we will rewrite the second system of equations obtained in the splitting of the Serre equations, in order to solve it in the variables $(h,hu)$ and thus keep the formulation of the first system.\n",
    " \n",
    " For this purpose, we will multiply the equation (\\ref{eq:dispersive}) and write the variable $u$ inside the time derivative as $\\frac{1}{h} hu$ :\n",
    " \n",
    " \\begin{equation}\n",
    "\\label{eq:dispersive2}\n",
    "\\left( hu - h^2h_x \\left( \\frac{1}{h} hu \\right)_x - \\frac{1}{3}h^3\\left( \\frac{1}{h} hu \\right)_{xx} \\right)_t  - \\frac{1}{3}\\left(g_1 \\right)_x = 0\n",
    "\\end{equation}\n",
    "\n",
    "Developing the spatial derivatives in (\\ref{eq:dispersive2}), we get\n",
    "\n",
    "\\begin{equation}\n",
    "\\label{eq:dispersive3}\n",
    "       \\left( 1-h^2 - \\frac{h^3}{h_{xx}} \\right)(hu) + \\left( -hh_x - \\frac{2h^3}{3h_{x}} \\right)(hu)_x + \\left( - \\frac{h^2}{3} \\right)(hu)_{xx} - \\frac{1}{3}\\left(g_1 \\right)_x = 0\n",
    "\\end{equation}\n",
    "\n",
    "which can be written as\n",
    "\n",
    "\\begin{equation}\n",
    "    \\tilde{T} (hu)_t = \\frac{1}{3}\\left(g_1 \\right)_x \\rightarrow (hu)_t = \\tilde{T}^{-1}\\left(\\frac{1}{3}\\left(g_1 \\right)_x\\right)\n",
    "\\end{equation}\n",
    "\n",
    "where $\\tilde{T} = 1 + hT\\frac{1}{h} $\n",
    "\n",
    "and $T$ is an operator defined by Bonneton et al and given by (in the 1D case)\n",
    "\n",
    "\\begin{equation}\n",
    "   Tw = -\\frac{h^2}{3}w_{xx} - hh_xw_x\n",
    "\\end{equation}\n",
    "\n",
    "Therefore, for each $i=1,...N-1$, the actualization of the solution in time is given by\n",
    "\n",
    "\\begin{equation}\n",
    "(hu)_i^{n+1} = (hu)_i^n + \\Delta t z_i^n\n",
    "\\end{equation}\n",
    "\n",
    "where $Z = (z_1,z_2,...,z_{n+1})^T$ is solution of $\\tilde{T}Z = \\frac{1}{3}\\left(g_1 \\right)_x$. The left side of this system has the form\n",
    "\n",
    "\\begin{equation}\n",
    "h\\frac{z}{h} - h^2h_x \\left( \\frac{z}{h} \\right)_x - \\frac{1}{3}h^3\\left( \\frac{z}{h}\\right)_{xx}\n",
    "\\end{equation}\n",
    "\n",
    "which is solved in the variable $z/h$ (in order to avoid divisions by spatial derivatives of $h$, that can be equal to zero), leading to the 2nd order discretization\n",
    "\n",
    "$\\left( \\frac{h_i^n(h_x)_i^n}{2\\Delta x} - \\frac{(h_i^n)^2}{3\\Delta x^2} \\right)  \\left( \\frac{z}{h} \\right)_{i-1}^{n+1} + \n",
    " \\left( 1 + \\frac{2(h_i^n)^2}{3\\Delta x^2} \\right)\\left( \\frac{z}{h} \\right)_{i}^{n+1} + \n",
    " \\left( -\\frac{h_i^n(h_x)_i^n}{2\\Delta x} - \\frac{(h_i^n)^2}{3\\Delta x^2} \\right)\\left( \\frac{z}{h} \\right)_{i+1}^{n+1} = \\frac{1}{3} \\left(\\left( g_1 \\right)_x\\right)_i^n $"
   ]
  },
  {
   "cell_type": "markdown",
   "metadata": {},
   "source": [
    " \n",
    " ### Boundary conditions\n",
    " \n",
    " We describe briefly the imposition of boundary conditions to each one of the steps of the splitted Serre equations. \n",
    "\n",
    " \n",
    " #### First step\n",
    "  The spatial domain is discretized in $N+1$ points, homogeneously distributed and numbered from $0$ to $N$. In the resolution of the first step of the splitted Serre equations by the Finite Volume method, these points act as center of the cells (with the average value of the solution in the cell equal to its value on the respective point), and the first and last point are used as ghost cells. Therefore, the solution is effectively computed on the points $x_1,...,x_{N-1}$.\n",
    " \n",
    "For the first step, the boundary conditions are imposed on the interface points $x_{1/2} = \\frac{x_0 + x_1}{2}$ and $x_{N-1/2} = \\frac{x_{N-1} + x_N}{2}$ with the following generic Robin conditions, for the variables $h$ and $hu$ :\n",
    "\n",
    "$\\alpha_L^h h(x_{1/2},t) + \\beta_L^h h_x(x_{1/2},t) = \\sigma_L^h(t)$\n",
    "\n",
    "$\\alpha_R^h h(x_{N-1/2},t) + \\beta_R^h h_x(x_{N-1/2},t) = \\sigma_R^h(t)$\n",
    "\n",
    "$\\alpha_L^{hu} h(x_{1/2},t) + \\beta_L^{hu} h_x(x_{1/2},t) = \\sigma_L^{hu}(t)$\n",
    "\n",
    "$\\alpha_R^{hu} h(x_{N-1/2},t) + \\beta_R^{hu} h_x(x_{N-1/2},t) = \\sigma_R^{hu}(t)$\n",
    "\n",
    "Considering that the computation is made only on the cells' centers, the values of the solutions and its derivative on the interfaces will be approximated by\n",
    "\n",
    "$h(x_{1/2},t) = \\frac{h(x_0) + h(x_1)}{2}$\n",
    "\n",
    "$h_x(x_{1/2},t) = \\frac{h(x_1) - h(x_0)}{\\Delta x}$\n",
    "\n",
    "and similarly to the right boundary and the variable $hu$.\n",
    "\n",
    "Replacing these approximations in the Robin boundary conditions, we obtain the values that must be imposed in the ghost cells :\n",
    "\n",
    "$h_0 = \\frac{\\sigma_L^h(t) - \\left(\\frac{\\alpha_L^h}{2} +\\frac{\\beta_L^h}{\\Delta x} \\right)h_1}{\\frac{\\alpha_L^h}{2} - \\frac{\\beta_L^h}{\\Delta x}}$\n",
    "\n",
    "$h_N = \\frac{\\sigma_R^h(t) - \\left(\\frac{\\alpha_R^h}{2} - \\frac{\\beta_R^h}{\\Delta x} \\right)h_{N+1}}{\\frac{\\alpha_L^h}{2} + \\frac{\\beta_R^h}{\\Delta x}}$\n",
    "\n",
    "and similarly to the variable $hu$.\n",
    "\n",
    "As special cases, these Robin conditions naturally degenerate to Dirichlet, $(\\alpha,\\beta) = (1,0)$, and Neumann, with $(\\alpha,\\beta) = (0,1)$. As expected, in the case of homogeneous conditions ($\\sigma_\\bullet^\\bullet$), these coefficients conduct to $h_0 = -h_1$ (in the Dirichlet case) and $h_0 = h_1$ (in the Neumann case), and simirlarly to the right boundary and the variable $hu$.\n",
    "\n",
    "As a last remark concerning the boundary equations in the first step of the Serre equations, in order to simulate an open and an closed boundary, one could impose the following conditions : \n",
    "\n",
    "* Open boundary : Homogeneous Neumann for $h$ and $hu$ \n",
    "* Closed boundary : Homogeneous Neumann for $h$ and homogeneous Dirichlet for $hu$"
   ]
  },
  {
   "cell_type": "markdown",
   "metadata": {},
   "source": [
    "#### Second step"
   ]
  },
  {
   "cell_type": "markdown",
   "metadata": {},
   "source": [
    "In order to keep the same approach as adopted in the first step of the Serre equations, for the second one we will continue computing the boundary conditions in the interfaces $x_{1/2}$ and $x_{N-1/2}$, even if these points are not used in the finite difference scheme.\n",
    "\n",
    "Therefore, we must approximate the value of the solution and its derivatives on these interfaces. Similarly to the approximations made in the finite volume scheme, we compute\n",
    "\n",
    "$h(x_{1/2},t) = \\frac{h(x_0) + h(x_1)}{2}$\n",
    "\n",
    "$h_x(x_{1/2},t) = \\frac{h(x_1) - h(x_0)}{\\Delta x}$\n",
    "\n",
    "$h_{xx}(x_{1/2},t) = \\frac{h(x_0) - 2h(x_1) + h(x_2)}{\\Delta x^2}$\n",
    "\n",
    "and similarly to the interface $x_{N-1/2}$\n",
    "\n",
    "\n",
    "For the two steps of the Serre equations, higher-order approximations to the values on the interfaces could be used. For his purpose, one should write Taylor expansions around the point $x_0$ (for example, up to $O(\\Delta x^2)$): \n",
    "\n",
    "$h(x_{1/2},t) = h(x_0) + h_x(x_0)\\frac{\\Delta x}{2} + h_{xx}(x_0)\\frac{\\Delta x^2}{8} + O(\\Delta x^2)$\n",
    "\n",
    "$h_x(x_{1/2},t) = h_x(x_0) + h_{xx}(x_0)\\frac{\\Delta x}{2} + h_{xxx}(x_0)\\frac{\\Delta x^2}{8} + O(\\Delta x^2)$\n",
    "\n",
    "$h_{xx}(x_{1/2},t) = h_{xx}(x_0) + h_{xxx}(x_0)\\frac{\\Delta x}{2} + h_{xxxx}(x_0)\\frac{\\Delta x^2}{8} + O(\\Delta x^2)$"
   ]
  },
  {
   "cell_type": "code",
   "execution_count": 5,
   "metadata": {
    "code_folding": [],
    "init_cell": true,
    "run_control": {
     "frozen": false,
     "read_only": false
    }
   },
   "outputs": [
    {
     "name": "stdout",
     "output_type": "stream",
     "text": [
      "Appending to serre.py\n"
     ]
    }
   ],
   "source": [
    "%%writefile serre.py -a\n",
    "\n",
    "## Impose periodicity to ng ghost cells\n",
    "def imposePeriodicity(v,ng) :\n",
    "    for i in range(ng) :\n",
    "        v[0+i] = v[-2*ng+i]\n",
    "        v[-1-i] = v[2*ng-(i+1)]\n",
    "    return v"
   ]
  },
  {
   "cell_type": "code",
   "execution_count": 6,
   "metadata": {
    "code_folding": [],
    "init_cell": true,
    "run_control": {
     "frozen": false,
     "read_only": false
    }
   },
   "outputs": [
    {
     "name": "stdout",
     "output_type": "stream",
     "text": [
      "Appending to serre.py\n"
     ]
    }
   ],
   "source": [
    "%%writefile serre.py -a\n",
    "\n",
    "## Create an array with nx points in [xmin,xmax)\n",
    "def discretizeSpace(xmin,xmax,nx):\n",
    "    dx = (xmax-xmin)/nx\n",
    "    x = np.arange(xmin,xmax,dx)\n",
    "    \n",
    "    return x,dx"
   ]
  },
  {
   "cell_type": "markdown",
   "metadata": {
    "collapsed": true,
    "run_control": {
     "frozen": false,
     "read_only": false
    }
   },
   "source": [
    "##### FUNCTIONS TO IMPOSE BOUNDARY CONDITIONS FOR THE FV SCHEME"
   ]
  },
  {
   "cell_type": "code",
   "execution_count": 7,
   "metadata": {
    "code_folding": [],
    "init_cell": true,
    "run_control": {
     "frozen": false,
     "read_only": false
    }
   },
   "outputs": [
    {
     "name": "stdout",
     "output_type": "stream",
     "text": [
      "Appending to serre.py\n"
     ]
    }
   ],
   "source": [
    "%%writefile serre.py -a\n",
    "\n",
    "## Impose Robin conditions to FV scheme, 1st order\n",
    "## u_{1/2} = (u_0 + u_1)/2\n",
    "## u_x_{1/2} = (u_1 - u_0)/dx\n",
    "def robinBC1(h,hu,BC,dx,t):\n",
    "    \n",
    "    ### Generic Robin conditions\n",
    "    ### BC[0] = BC[4]*u + BC[5]*ux ## hLeft\n",
    "    ### BC[1] = BC[6]*u + BC[7]*ux ## huLeft\n",
    "    ### BC[2] = BC[8]*u + BC[9]*ux ## hRight\n",
    "    ### BC[3] = BC[10]*u + BC[11]*ux ##huRight\n",
    "    \n",
    "    hb = 1.*h\n",
    "    hub = 1.*hu\n",
    "    \n",
    "    denLh = BC[4]/2. - BC[5]/dx\n",
    "    denLhu = BC[6]/2. - BC[7]/dx\n",
    "    denRh = BC[8]/2. + BC[9]/dx\n",
    "    denRhu = BC[10]/2. + BC[11]/dx\n",
    "    \n",
    "    hb[0] = (BC[0] - (BC[4]/2. + BC[5]/dx)*h[1])/denLh\n",
    "    hub[0] = (BC[1] - (BC[6]/2. + BC[7]/dx)*hu[1])/denLhu\n",
    "    hb[-1] = (BC[2] - (BC[8]/2. - BC[9]/dx)*h[-2])/denRh\n",
    "    hub[-1] = (BC[3] - (BC[10]/2. - BC[11]/dx)*hu[-2])/denRhu  \n",
    "    return hb,hub"
   ]
  },
  {
   "cell_type": "code",
   "execution_count": 8,
   "metadata": {
    "code_folding": [],
    "init_cell": true,
    "run_control": {
     "frozen": false,
     "read_only": false
    }
   },
   "outputs": [
    {
     "name": "stdout",
     "output_type": "stream",
     "text": [
      "Appending to serre.py\n"
     ]
    }
   ],
   "source": [
    "%%writefile serre.py -a\n",
    "\n",
    "## BC for a closed domain with 1 ghost cell\n",
    "## The function robinBC1 can do the same with BC = [0.,0.,0.,0.,0.,1.,1.,0.,0.,1.,1.,0.]\n",
    "def closedDomain(h,hu,t):\n",
    "    hb = 1.*h\n",
    "    hub = 1.*hu\n",
    "    hb[0] = h[1]\n",
    "    hub[0] = -hu[1]\n",
    "    hb[-1] = h[-2]\n",
    "    hub[-1] = -hu[-2]    \n",
    "    return hb,hub"
   ]
  },
  {
   "cell_type": "code",
   "execution_count": 9,
   "metadata": {
    "code_folding": [
     2
    ],
    "init_cell": true,
    "run_control": {
     "frozen": false,
     "read_only": false
    }
   },
   "outputs": [
    {
     "name": "stdout",
     "output_type": "stream",
     "text": [
      "Appending to serre.py\n"
     ]
    }
   ],
   "source": [
    "%%writefile serre.py -a\n",
    "\n",
    "## BC for a closed domain with 2 ghost cells\n",
    "## The function robinBC1 CANNOT do the same\n",
    "def closedDomainTwoGC(h,hu,BC,dx,t):\n",
    "    hb = 1.*h\n",
    "    hub = 1.*hu\n",
    "    hb[0] = h[2]\n",
    "    hub[0] = -hu[2]\n",
    "    hb[1] = h[2]\n",
    "    hub[1] = -hu[2]\n",
    "    \n",
    "    hb[-1] = h[-3]\n",
    "    hub[-1] = -hu[-3]\n",
    "    hb[-2] = h[-3]\n",
    "    hub[-2] = -hu[-3]    \n",
    "    return hb,hub"
   ]
  },
  {
   "cell_type": "code",
   "execution_count": 10,
   "metadata": {
    "code_folding": [
     2
    ],
    "init_cell": true,
    "run_control": {
     "frozen": false,
     "read_only": false
    }
   },
   "outputs": [
    {
     "name": "stdout",
     "output_type": "stream",
     "text": [
      "Appending to serre.py\n"
     ]
    }
   ],
   "source": [
    "%%writefile serre.py -a\n",
    "\n",
    "## BC for an open domain\n",
    "## The function robinBC1 can do the same with BC = [0.,0.,0.,0.,0.,1.,0.,1.,0.,1.,0.,1.]\n",
    "def openDomain(h,hu,BC,dx,t):\n",
    "    hb = 1.*h\n",
    "    hub = 1.*hu\n",
    "    hb[0] = h[1]\n",
    "    hub[0] = hu[1]\n",
    "    hb[-1] = h[-2]\n",
    "    hub[-1] = hu[-2]    \n",
    "    return hb,hub"
   ]
  },
  {
   "cell_type": "code",
   "execution_count": 11,
   "metadata": {
    "code_folding": [
     2
    ],
    "init_cell": true,
    "run_control": {
     "frozen": false,
     "read_only": false
    }
   },
   "outputs": [
    {
     "name": "stdout",
     "output_type": "stream",
     "text": [
      "Appending to serre.py\n"
     ]
    }
   ],
   "source": [
    "%%writefile serre.py -a\n",
    "\n",
    "## BC for an open domain with 2 ghost cells\n",
    "## The function robinBC1 can do the same with BC = [0.,0.,0.,0.,0.,1.,0.,1.,0.,1.,0.,1.]\n",
    "def openDomain2GC(h,hu,BC,dx,t):\n",
    "    hb = 1.*h\n",
    "    hub = 1.*hu\n",
    "    hb[0] = h[2]\n",
    "    hb[1] = h[2]\n",
    "    hub[0] = hu[2]\n",
    "    hub[1] = hu[2]\n",
    "    hb[-1] = h[-3]\n",
    "    hb[-2] = h[-3]\n",
    "    hub[-1] = hu[-3]    \n",
    "    hub[-2] = h[-3]\n",
    "    return hb,hub"
   ]
  },
  {
   "cell_type": "code",
   "execution_count": 12,
   "metadata": {
    "code_folding": [],
    "init_cell": true,
    "run_control": {
     "frozen": false,
     "read_only": false
    }
   },
   "outputs": [
    {
     "name": "stdout",
     "output_type": "stream",
     "text": [
      "Appending to serre.py\n"
     ]
    }
   ],
   "source": [
    "%%writefile serre.py -a\n",
    "\n",
    "## Impose periodic BC for 1 ghost cell in the FV scheme\n",
    "## The function robinBC1 CANNOT do the same\n",
    "def periodicDomain(h,hu,BC,dx,t):\n",
    "    hb = 1.*h\n",
    "    hub = 1.*hu\n",
    "    hb[0] = h[-2]\n",
    "    hub[0] = hu[-2]\n",
    "    hb[-1] = h[1]\n",
    "    hub[-1] = hu[1]    \n",
    "    return hb,hub"
   ]
  },
  {
   "cell_type": "code",
   "execution_count": 13,
   "metadata": {
    "code_folding": [],
    "init_cell": true,
    "run_control": {
     "frozen": false,
     "read_only": false
    }
   },
   "outputs": [
    {
     "name": "stdout",
     "output_type": "stream",
     "text": [
      "Appending to serre.py\n"
     ]
    }
   ],
   "source": [
    "%%writefile serre.py -a\n",
    "\n",
    "## Impose periodic BC for 2 ghost cells in the FV scheme\n",
    "## The function robinBC1 CANNOT do the same \n",
    "def periodicDomainTwoGC(h,hu,BC,dx,t):\n",
    "    hb = 1.*h\n",
    "    hub = 1.*hu\n",
    "    \n",
    "    hb[0] = h[-4]\n",
    "    hub[0] = hu[-4]\n",
    "    hb[-1] = h[3]\n",
    "    hub[-1] = hu[3]\n",
    "    \n",
    "    hb[1] = h[-3]\n",
    "    hub[1] = hu[-3]\n",
    "    hb[-2] = h[2]\n",
    "    hub[-2] = hu[2]\n",
    "    \n",
    "    return hb,hub"
   ]
  },
  {
   "cell_type": "markdown",
   "metadata": {},
   "source": [
    "##### FV SCHEME"
   ]
  },
  {
   "cell_type": "code",
   "execution_count": 14,
   "metadata": {
    "init_cell": true,
    "run_control": {
     "frozen": false,
     "read_only": false
    }
   },
   "outputs": [],
   "source": [
    "import nswe_wbmuscl4 as wb4\n",
    "def fluxes_periodic(h,hu,n,periodic):\n",
    "    nx = h.shape[0]-4\n",
    "    h0 = np.zeros(nx+6)\n",
    "    u0 = np.zeros(nx+6)\n",
    "    d0 = np.zeros(nx+6)\n",
    "\n",
    "    h0[3:-3] = h[2:-2]\n",
    "    u0[3:-3] = hu[2:-2] #hu\n",
    "    u0 = np.where(h0>1e-10,u0/h0,h0)#hu/h\n",
    "    \n",
    "    if periodic:\n",
    "        h0[:3] = h0[-6:-3]\n",
    "        h0[-3:] = h0[3:6]\n",
    "        u0[:3] = u0[-6:-3]\n",
    "        u0[-3:] = u0[3:6]\n",
    "        \n",
    "    else:\n",
    "        h0[:3]  = h0[3:6]\n",
    "        h0[-3:] = h0[-6:-3]\n",
    "        u0[:3]  = u0[3:6]\n",
    "        u0[-3:] = u0[-6:-3]\n",
    "    \n",
    "    fp, fm, sc = wb4.fluxes_sources(d0,h0,u0)\n",
    "    return fp"
   ]
  },
  {
   "cell_type": "code",
   "execution_count": 15,
   "metadata": {
    "code_folding": [],
    "init_cell": true,
    "run_control": {
     "frozen": false,
     "read_only": false
    }
   },
   "outputs": [
    {
     "name": "stdout",
     "output_type": "stream",
     "text": [
      "Appending to serre.py\n"
     ]
    }
   ],
   "source": [
    "%%writefile serre.py -a\n",
    "\n",
    "# compute any of the RK4 coefficients (k_i)\n",
    "def getRK4coef(x,uA,uB,f,dx,dt,nx,periodic):\n",
    "    F = f(uA,uB,nx,periodic)\n",
    "    return -dt/dx*(F[0,1:] - F[0,:-1]), -dt/dx*(F[1,1:] - F[1,:-1])\n",
    "\n",
    "# complete the vector of RK4 coefficients with zeros in the ghost cells (to perform the sum u  + k_i)\n",
    "def extend2GhostCells(v,ng):\n",
    "    return np.concatenate((np.zeros(ng),v,np.zeros(ng)))\n",
    "\n",
    "# RK4 for one time step\n",
    "def RK4(x,uA,uB,f,bcf,bcp,dx,dt,nx,t,periodic,ng):\n",
    "        \n",
    "    uuA = np.copy(uA)\n",
    "    uuB = np.copy(uB)\n",
    "    uuA,uuB = bcf(uuA,uuB,bcp,dx,t)\n",
    "    k1A,k1B = getRK4coef(x,uuA,uuB,f,dx,dt,nx,periodic)\n",
    "    k1A = extend2GhostCells(k1A,ng)\n",
    "    k1B = extend2GhostCells(k1B,ng)\n",
    "\n",
    "    uuA = uA+k1A/2.\n",
    "    uuB = uB+k1B/2.\n",
    "    uuA,uuB = bcf(uuA,uuB,bcp,dx,t)\n",
    "    k2A,k2B = getRK4coef(x,uuA,uuB,f,dx,dt,nx,periodic)\n",
    "    k2A = extend2GhostCells(k2A,ng)\n",
    "    k2B = extend2GhostCells(k2B,ng)\n",
    "\n",
    "    uuA = uA+k2A/2.\n",
    "    uuB = uB+k2B/2.\n",
    "    uuA,uuB = bcf(uuA,uuB,bcp,dx,t)\n",
    "    k3A,k3B = getRK4coef(x,uuA,uuB,f,dx,dt,nx,periodic)\n",
    "    k3A = extend2GhostCells(k3A,ng)\n",
    "    k3B = extend2GhostCells(k3B,ng)\n",
    "\n",
    "    uuA = uA+k3A\n",
    "    uuB = uB+k3B\n",
    "    uuA,uuB = bcf(uuA,uuB,bcp,dx,t)\n",
    "    k4A,k4B = getRK4coef(x,uuA,uuB,f,dx,dt,nx,periodic)\n",
    "    k4A = extend2GhostCells(k4A,ng)\n",
    "    k4B = extend2GhostCells(k4B,ng)\n",
    "\n",
    "    return uA + 1./6.*(k1A+2.*k2A+2.*k3A+k4A), uB + 1./6.*(k1B+2.*k2B+2.*k3B+k4B)\n",
    "\n",
    "# Euler for one time step\n",
    "def Euler(x,uA,uB,f,bcf,bcp,dx,dt,nx,t,ng):\n",
    "\n",
    "        uuA = np.copy(uA)\n",
    "        uuB = np.copy(uB)\n",
    "        uuA,uuB = bcf(uuA,uuB,bcp,dx,t)\n",
    "        k1A,k1B = getRK4coef(x,uuA,uuB,f,dx,dt,nx)\n",
    "        k1A = extend2GhostCells(k1A,ng)\n",
    "        k1B = extend2GhostCells(k1B,ng)\n",
    "\n",
    "        return uA + k1A, uB + k1B"
   ]
  },
  {
   "cell_type": "markdown",
   "metadata": {
    "collapsed": true,
    "run_control": {
     "frozen": false,
     "read_only": false
    }
   },
   "source": [
    "##### FUNCTIONS TO IMPOSE BOUNDARY CONDITIONS FOR THE FD SCHEME"
   ]
  },
  {
   "cell_type": "code",
   "execution_count": 16,
   "metadata": {
    "code_folding": [
     5,
     34,
     56,
     72,
     89
    ],
    "init_cell": true,
    "run_control": {
     "frozen": false,
     "read_only": false
    }
   },
   "outputs": [
    {
     "name": "stdout",
     "output_type": "stream",
     "text": [
      "Appending to serre.py\n"
     ]
    }
   ],
   "source": [
    "%%writefile serre.py -a\n",
    "\n",
    "keepFirstSolL = 0\n",
    "keepFirstSolR = 0\n",
    "\n",
    "## Robin BC for the FD scheme (order 1, imposed in the center of the ghost cell)\n",
    "## Terrible name :p Choose a better one, like robinBC2\n",
    "def genericOpenDomain2(M,rhs,t,dx,BC):\n",
    "\n",
    "    ### Boundary conditions\n",
    "    ## Structure : BC=[u(left),ux(left),uxx(left),alpha1*u(left) + beta1*ux(right) + gamma1*uxx(right),\n",
    "    ##                 u(right),ux(right),uxx(right),alpha2*u(right) + beta2*ux(right) + gamma2*uxx(right),\n",
    "    ##                 alpha1,beta1,gamma1,alpha2,beta2,gamma2,Fleft,Fright] \n",
    "    cntBC = 0\n",
    "    if not math.isnan(BC[0]) : # u L\n",
    "        cntBC = cntBC+1\n",
    "        M[0,:] = 0.\n",
    "        M[0,0] = 1.\n",
    "        if (not math.isnan(BC[14])) and (BC[14]!=keepFirstSolL) : # time-dependent function\n",
    "            rhs[0] = BC[14](t)\n",
    "        else:\n",
    "            rhs[0] = BC[0]\n",
    "    if not math.isnan(BC[1]) : # ux L\n",
    "        cntBC = cntBC+1\n",
    "        row = 0\n",
    "        if not math.isnan(BC[0]):\n",
    "            row = row + 1\n",
    "        M[row,:] = 0.\n",
    "        M[row,0] = -1./dx\n",
    "        M[row,1] = 1./dx\n",
    "        rhs[row] = BC[1]\n",
    "    if not math.isnan(BC[2]) : # uxx L\n",
    "        cntBC = cntBC+1\n",
    "        row = 0\n",
    "        if not math.isnan(BC[0]):\n",
    "            row = row + 1\n",
    "        if not math.isnan(BC[1]):\n",
    "            row = row + 1\n",
    "        M[row,:] = 0.\n",
    "        M[row,0] = 1./(dx*dx)\n",
    "        M[row,1] = -2./(dx*dx)\n",
    "        M[row,2] = 1./(dx*dx)\n",
    "        rhs[row] = BC[2]\n",
    "    if not math.isnan(BC[3]) : # Robin L\n",
    "        cntBC = cntBC+1\n",
    "        if not (math.isnan(BC[0]) and math.isnan(BC[1]) and math.isnan(BC[2])) :\n",
    "            sys.exit(\"Error in left BC : Robin defined with Dirichlet and/or Neumann\")\n",
    "        M[0,:] = 0.\n",
    "        M[0,0] = BC[8] - BC[9]/dx + BC[10]/(dx*dx)\n",
    "        M[0,1] = BC[9]/dx  - 2.*BC[10]/(dx*dx)\n",
    "        M[0,2] = BC[10]/(dx*dx)\n",
    "        rhs[0] = BC[3]\n",
    "    if not math.isnan(BC[4]) : # u R\n",
    "        cntBC = cntBC+1\n",
    "        M[-1,:] = 0.\n",
    "        M[-1,-1] = 1.\n",
    "        if (not math.isnan(BC[15])) and (BC[15]!=keepFirstSolR) : # time-dependent function\n",
    "            rhs[-1] = BC[15](t)\n",
    "        else:\n",
    "            rhs[-1] = BC[4]\n",
    "    if not math.isnan(BC[5]) : # ux R\n",
    "        cntBC = cntBC+1\n",
    "        row = -1\n",
    "        if not math.isnan(BC[4]):\n",
    "            row = row - 1\n",
    "        M[row,:] = 0.\n",
    "        M[row,-1] = 1./dx\n",
    "        M[row,-2] = -1./dx\n",
    "        rhs[row] = BC[5]\n",
    "    if not math.isnan(BC[6]) : # uxx R\n",
    "        cntBC = cntBC+1\n",
    "        row = -1\n",
    "        if not math.isnan(BC[4]):\n",
    "            row = row - 1\n",
    "        if not math.isnan(BC[5]):\n",
    "            row = row - 1\n",
    "        M[row,:] = 0.\n",
    "        M[row,-1] = 1./(dx*dx)\n",
    "        M[row,-2] = -2. /(dx*dx)  \n",
    "        M[row,-3] = 1./(dx*dx)\n",
    "        rhs[row] = BC[6]\n",
    "    if not math.isnan(BC[7]) : # Robin R\n",
    "        cntBC = cntBC+1\n",
    "        if not (math.isnan(BC[4]) and math.isnan(BC[5]) and math.isnan(BC[6])) :\n",
    "            sys.exit(\"Error in right BC : Robin defined with Dirichlet and/or Neumann\")\n",
    "        M[-1,:] = 0.\n",
    "        M[-1,-1] = BC[11] + BC[12]/dx + BC[13]/(dx*dx)\n",
    "        M[-1,-2] = -BC[12]/dx - 2.*BC[13]/(dx*dx)\n",
    "        M[-1,-3] = BC[13]/(dx*dx)\n",
    "        rhs[-1] = BC[7]\n",
    "     \n",
    "    if cntBC != 3 :\n",
    "        print(cntBC)\n",
    "        print(BC)\n",
    "        sys.exit(\"Wrong number of BC\")\n",
    "    \n",
    "    return M,rhs"
   ]
  },
  {
   "cell_type": "code",
   "execution_count": 17,
   "metadata": {
    "code_folding": [],
    "init_cell": true,
    "run_control": {
     "frozen": false,
     "read_only": false
    }
   },
   "outputs": [
    {
     "name": "stdout",
     "output_type": "stream",
     "text": [
      "Appending to serre.py\n"
     ]
    }
   ],
   "source": [
    "%%writefile serre.py -a\n",
    "\n",
    "## Impose periodic BC for 1 ghost cell in the FD scheme\n",
    "## The function genericOpenDomain2 (and equivalents) CANNOT do the same\n",
    "def periodicDomain2(M,rhs,t,dx,BC):\n",
    "    M[0,:] = 0.\n",
    "    M[-1,:] = 0.\n",
    "    \n",
    "    M[0,0] = 1.\n",
    "    M[0,-2] = -1.\n",
    "    \n",
    "    M[-1,-1] = 1.\n",
    "    M[-1,1] = -1.\n",
    "    \n",
    "    rhs[0] = 0.\n",
    "    rhs[-1] = 0.\n",
    "    \n",
    "    return M,rhs"
   ]
  },
  {
   "cell_type": "code",
   "execution_count": 18,
   "metadata": {
    "code_folding": [],
    "init_cell": true,
    "run_control": {
     "frozen": false,
     "read_only": false
    }
   },
   "outputs": [
    {
     "name": "stdout",
     "output_type": "stream",
     "text": [
      "Appending to serre.py\n"
     ]
    }
   ],
   "source": [
    "%%writefile serre.py -a\n",
    "\n",
    "## Impose periodic BC for 2 ghost cells in the FD scheme\n",
    "## The function genericOpenDomain2 (and equivalents) CANNOT do the same\n",
    "def periodicDomain2TwoGC(M,rhs,t,dx,BC):\n",
    "    M[0,:] = 0.\n",
    "    M[1,:] = 0.\n",
    "    M[-1,:] = 0.\n",
    "    M[-2,:] = 0.\n",
    "    \n",
    "    M[0,0] = 1.\n",
    "    M[0,-4] = -1.\n",
    "    \n",
    "    M[1,1] = 1.\n",
    "    M[1,-3] = -1.\n",
    "    \n",
    "    M[-1,-1] = 1.\n",
    "    M[-1,3] = -1.\n",
    "    \n",
    "    M[-2,-2] = 1.\n",
    "    M[-2,2] = -1.\n",
    "    \n",
    "    rhs[0] = 0.\n",
    "    rhs[1] = 0.\n",
    "    rhs[-1] = 0.\n",
    "    rhs[-2] = 0.\n",
    "    \n",
    "    return M,rhs"
   ]
  },
  {
   "cell_type": "code",
   "execution_count": 19,
   "metadata": {},
   "outputs": [
    {
     "name": "stdout",
     "output_type": "stream",
     "text": [
      "Appending to serre.py\n"
     ]
    }
   ],
   "source": [
    "%%writefile serre.py -a\n",
    "\n",
    "import convolution as cvl\n",
    "\n",
    "# impose transparent boundary conditions\n",
    "def DTBC(M,rhs,BCs,hm1,h,u,hm1x,hx,hu,dx,dt,nit,Y=[],uall=None):\n",
    "    \n",
    "    \"\"\"\n",
    "    Impose three boundary conditions for the dispersive part\n",
    "    \n",
    "    - Inputs :\n",
    "        * M : matrix of the FD scheme\n",
    "        * rhs : right-hand side of the FD scheme\n",
    "        * BCs : array of dimensions 3x3 containing one TBC in each line, in the form\n",
    "            [Position,Type,Value,Opt], where\n",
    "                ::: Position (int) : indicates the point to be modified (0,1,...,-2,-1)\n",
    "                ::: Type (str) : indicates the type of BC : \"Dirichlet\"/\"Neumann\"/\"TBC\"\n",
    "                ::: Value (float) : value of the BC\n",
    "                ::: Opt [int,float,array] : optional coefficients for the TBC; depends on the Type \n",
    "        * h,hx,hu : informations from the last computation\n",
    "        * hm1 : h before the advection step (not supposed to change during the dispersion step)\n",
    "        * hp1 : information about h at this iteration (is already computed at the advection part)\n",
    "        * dt\n",
    "        \n",
    "    - Outputs :\n",
    "        * M\n",
    "        * rhs\n",
    "    \"\"\"\n",
    "    gr = 9.81\n",
    "    \n",
    "    ## first loop to compute TBC related parameters only once\n",
    "    convol = False\n",
    "    for i in range(BCs.shape[0]):\n",
    "        [pos,typ,val] = BCs[i,:3]\n",
    "        if typ == 'DTBC_Y':\n",
    "            convol = True\n",
    "            Ct = cvl.convolution_exact(nit, Y, uall)\n",
    "            uu = (1./h)*(hm1*u + dt*gr*hm1*hm1x) \n",
    "            break\n",
    "        \n",
    "    ## impose BCs\n",
    "    for i in range(BCs.shape[0]) :\n",
    "        [pos,typ,val] = BCs[i,:3]\n",
    "        pos = int(pos)\n",
    "        val = float(val)\n",
    "        if typ == \"Dirichlet\" :\n",
    "            M[pos,:] = 0.\n",
    "            M[pos,pos] = 1.\n",
    "            rhs[pos] = -(val*h[pos]-hu[pos] - dt*gr*h[pos]*hx[pos])/dt\n",
    "            # rhs[pos] = val*h[pos]\n",
    "        elif typ == \"Neumann\" :\n",
    "            M[pos,:] = 0.\n",
    "            if pos == 0:\n",
    "                M[0,0] = -h[1]\n",
    "                M[0,1] = h[0]\n",
    "                rhs[0] = h[0]*h[1]/dt*(u[1]-u[0] + dt*gr*(hx[1]-hx[0]) - val*dx)\n",
    "            else:\n",
    "                M[pos,pos] = h[pos-1]\n",
    "                M[pos,pos-1] = -h[pos]\n",
    "                rhs[pos] = h[pos]*h[pos-1]/dt*(u[pos]-u[pos-1] + dt*gr*(hx[pos]-hx[pos-1]) - val*dx)\n",
    "        elif typ == \"Robin\" :\n",
    "            alpha = float(BCs[i,3])\n",
    "            beta = float(BCs[i,4])\n",
    "            M[pos,:] = 0.\n",
    "            if pos == 0 or pos == -2 :\n",
    "                M[pos,pos] = dt*h[pos+1]*(alpha*dx - beta)\n",
    "                M[pos,pos+1] = beta*dt*h[pos]\n",
    "                rhs[pos] = h[pos]*h[pos+1]*(\\\n",
    "                                    alpha*dx*(u[pos]+dt*gr*hx[pos]) + \\\n",
    "                                    beta*(u[pos+1] - u[pos] + dt*gr*(hx[pos+1]-hx[pos])) - dx*val)\n",
    "            elif pos == 1 or pos == -1 :\n",
    "                M[pos,pos] = dt*h[pos-1]*(alpha*dx + beta)\n",
    "                M[pos,pos-1] = -beta*dt*h[pos]\n",
    "                rhs[pos] = h[pos]*h[pos-1]*(\\\n",
    "                                            alpha*dx*(u[pos]+dt*gr*hx[pos]) + \\\n",
    "                                            beta*(u[pos] - u[pos-1] + dt*gr*(hx[pos]-hx[pos-1])) - dx*val)\n",
    "                            \n",
    "        elif typ == \"DTBC_Y\":\n",
    "            \n",
    "            M[pos,:] = 0.\n",
    "            \n",
    "            if pos == 0:\n",
    "                # Left TBC 1 ==> unknown = U[0]\n",
    "                M[pos,0]   =  1.\n",
    "                M[pos,1]   = -   Y[4,0]*h[0]/h[1]\n",
    "                M[pos,2]   =     Y[6,0]*h[0]/h[2]\n",
    "                val        = Ct[4,1] - Ct[6,2]\n",
    "                rhs[pos]   = -(h[0]/dt)*( val - uu[0] + Y[4,0]*uu[1] - Y[6,0]*uu[2] )                \n",
    "            elif pos == 1:\n",
    "                # Left TBC 2 ==> unknown = U[1]\n",
    "                M[pos,0]   =  1.\n",
    "                M[pos,2]   = -   Y[5,0]*h[0]/h[2]\n",
    "                M[pos,3]   =  2.*Y[8,0]*h[0]/h[3]\n",
    "                M[pos,4]   = -   Y[7,0]*h[0]/h[4]\n",
    "                val        = Ct[5,2] - 2*Ct[8,3] + Ct[7,4]\n",
    "                rhs[pos]   = -(h[0]/dt)*( val - uu[0] + Y[5,0]*uu[2] - 2*Y[8,0]*uu[3] + Y[7,0]*uu[4] ) \n",
    "            elif pos == -1:\n",
    "                ## Right TBC 1 ==> unknown = U[J]\n",
    "                M[pos,-1]  =  1.\n",
    "                M[pos,-2]  = -   Y[0,0]*h[-1]/h[-2]\n",
    "                M[pos,-3]  =     Y[2,0]*h[-1]/h[-3]\n",
    "                val        =  Ct[0,-2] - Ct[2,-3]\n",
    "                rhs[pos]   = -(h[-1]/dt)*( val - uu[-1] + Y[0,0]*uu[-2] - Y[2,0]*uu[-3] )\n",
    "            elif pos == -2:\n",
    "                ## Right TBC 2 ==> unknown = U[J-1]\n",
    "                M[pos,-1] =  1.\n",
    "                M[pos,-2] = -2.*Y[0,0]*h[-1]/h[-2]\n",
    "                M[pos,-3] =     Y[1,0]*h[-1]/h[-3]\n",
    "                M[pos,-5] = -   Y[3,0]*h[-1]/h[-5]\n",
    "                val       = 2*Ct[0,-2] - Ct[1,-3] + Ct[3,-5]\n",
    "                rhs[pos]  = -(h[-1]/dt)*( val - uu[-1] + 2*Y[0,0]*uu[-2] - Y[1,0]*uu[-3] + Y[3,0]*uu[-5] )    \n",
    "                \n",
    "        else :\n",
    "            sys.exit(\"Wrong type of TBC!! Please use Dirichlet/Neumann/TBC/DTBC_Y\")\n",
    "        \n",
    "    if convol:\n",
    "        return M,rhs,Ct\n",
    "    else:\n",
    "        return M,rhs,[]"
   ]
  },
  {
   "cell_type": "markdown",
   "metadata": {},
   "source": [
    "##### FD SCHEME"
   ]
  },
  {
   "cell_type": "code",
   "execution_count": 20,
   "metadata": {
    "code_folding": [],
    "init_cell": true,
    "run_control": {
     "frozen": false,
     "read_only": false
    }
   },
   "outputs": [
    {
     "name": "stdout",
     "output_type": "stream",
     "text": [
      "Appending to serre.py\n"
     ]
    }
   ],
   "source": [
    "%%writefile serre.py -a\n",
    "\n",
    "# Compute first derivative\n",
    "def get1d(u,dx,periodic,order):\n",
    "    a = np.zeros_like(u)\n",
    "    if order == 1:\n",
    "        a[1:-1] = 1./(2.*dx)*(u[2:] - u[0:-2])\n",
    "        a[0] = a[1]\n",
    "        a[-1] = a[-2]\n",
    "    elif order == 2:\n",
    "        a[1:-1] = 1./(2.*dx)*(u[2:] - u[0:-2])\n",
    "        a[0] = (-3*u[0] + 4.*u[1] - u[2])/(2.*dx)\n",
    "        a[-1] = (3*u[-1] - 4.*u[-2] + u[-3])/(2.*dx)\n",
    "    elif order == 4 :\n",
    "        a[2:-2] = 1./(12.*dx)*(u[0:-4] - 8.* u[1:-3] + 8.*u[3:-1] - u[4:])\n",
    "        #if (periodic) :\n",
    "        #    a[0] = 1./(12.*dx)*(u[-3] - 8.* u[-2] + 8.*u[1] - u[2])\n",
    "            ##### Todo Boundaries\n",
    "            #a[1] = 1./(12.*dx)*(u[-2] - 8.* u[-1] + 8.*u[1] - u[2])\n",
    "    return a\n",
    "\n",
    "# Compute first derivative\n",
    "def get2d(u,dx,periodic,order=2):\n",
    "    a = np.zeros_like(u)\n",
    "    a[1:-1] = 1./(dx*dx)*(u[2:] - 2.*u[1:-1] + u[0:-2])\n",
    "    if order == 1:\n",
    "        a[0] = a[1]\n",
    "        a[-1] = a[-2]\n",
    "    elif order == 2:\n",
    "        if periodic :\n",
    "            a[0] = 1./(dx*dx)*(u[1] - 2.*u[0] - u[-2])\n",
    "            a[-1] = a[0]\n",
    "        else :\n",
    "            a[0] = 1./(dx*dx)*(2.*u[0] - 5.*u[1] + 4.*u[2] - u[3])\n",
    "            a[-1] = 1./(dx*dx)*(2.*u[-1] - 5.*u[-2] + 4.*u[-3] - u[-4])\n",
    "    elif order == 4 :\n",
    "        a[2:-2] = 1./(12.*dx*dx)*(-u[0:-4] + 16.* u[1:-3] - 30*u[2:-2] + 16.*u[3:-1] - u[4:])\n",
    "        #### TODO Boundaries\n",
    "    return a\n",
    "\n",
    "# Compute first derivative\n",
    "def get3d(u,dx,periodic,order=2):\n",
    "    a = np.zeros_like(u)\n",
    "    a[2:-2] = 1./(2.*dx*dx)*(-u[0:-4] + 2.*u[1:-3] - 2.*u[3:-1] + u[4:])\n",
    "    a[0] = 1./(dx*dx)*(-u[0] + 3.*u[1] - 3.*u[2] + u[3])\n",
    "    a[1] = 1./(dx*dx)*(-u[1] + 3.*u[2] - 3.*u[3] + u[4])\n",
    "    a[-1] = 1./(dx*dx)*(u[-1] - 3.*u[-2] + 3.*u[-3] - u[-4])\n",
    "    a[-2] = 1./(dx*dx)*(u[-2] - 3.*u[-3] + 3.*u[-4] - u[-5])\n",
    "    return a"
   ]
  },
  {
   "cell_type": "code",
   "execution_count": 21,
   "metadata": {
    "code_folding": [],
    "init_cell": true,
    "run_control": {
     "frozen": false,
     "read_only": false
    }
   },
   "outputs": [
    {
     "name": "stdout",
     "output_type": "stream",
     "text": [
      "Appending to serre.py\n"
     ]
    }
   ],
   "source": [
    "%%writefile serre.py -a\n",
    "\n",
    "def EFDSolver(h,u,dx,dt,t,order,BCfunction,BCparam=None,periodic=False,ng=2):\n",
    "    \n",
    "    \"\"\"\n",
    "    Finite Difference Solver for the second step of the splitted Serre equations.\n",
    "    \n",
    "    - Parameters\n",
    "        * h,u (1D array) : solution\n",
    "        * dx,dt,t (integers) : space step, time step, time\n",
    "        * BCfunction (function) : function that modifies the linear system to impose the BCs\n",
    "        * BCparam (1D array) : argument for BCfunction; contains the BCs in the form\n",
    "             BC=[u(left),ux(left),uxx(left),alpha1*u(left) + beta1*ux(right) + gamma1*uxx(right),\n",
    "                u(right),ux(right),uxx(right),alpha2*u(right) + beta2*ux(right) + gamma2*uxx(right),\n",
    "                alpha1,beta1,gamma1,alpha2,beta2,gamma2,Fleft,Fright] \n",
    "        * periodic (boolean) : indicates if the function is periodic\n",
    "        \n",
    "    - Returns\n",
    "        * u2 (1D array) : solution (velocity)\n",
    "    \"\"\"\n",
    "\n",
    "    if periodic :\n",
    "        for v in [u,h] :\n",
    "            v = imposePeriodicity(v,ng)\n",
    "    #h,u=periodicDomain(h,u,None,dx,t)\n",
    "\n",
    "    ux = get1d(u,dx,periodic,order=2)\n",
    "    uxx = get2d(u,dx,periodic,order=2)\n",
    "    uxxx = get3d(u,dx,periodic,order=2)\n",
    "    uux = u*ux\n",
    "    uuxdx = get1d(uux,dx,periodic,order=2)\n",
    "    hx = get1d(h,dx,periodic,order=2)\n",
    "    h2x = get1d(h*h,dx,periodic,order=2)\n",
    "\n",
    "    if periodic :\n",
    "        for v in [ux,uux,uxx,uuxdx,h2x,hx] :\n",
    "            v = imposePeriodicity(v,ng)\n",
    "    \n",
    "    g1 = h*h*h*(u*uxx - ux*ux)\n",
    "    #g1 = h*h*h*(uuxdx - 2.*ux*ux)\n",
    "    g1x = get1d(g1,dx,periodic,order=2)\n",
    "    #g1x = 3.*h*h*hx*(u*uxx-ux*ux) + h*h*h*(-ux*uxx + u*uxxx)\n",
    "    \n",
    "    \n",
    "    ################\n",
    "    #g1x = 3.*h*h*hx*(u*uxx-ux*ux) + h*h*h*(ux*uxx + u*uxxx - 2.*ux*uxx)    \n",
    "    #################\n",
    "    \n",
    "    g2 = u - 1./2.*h2x*ux - h*h*uxx/3.\n",
    "       \n",
    "    d0 = 1. + 2./(3.*dx*dx)*h*h\n",
    "    dp1 = -h2x/(4.*dx) - h*h/(3.*dx*dx)\n",
    "    dp1 = dp1[0:-1]\n",
    "    dm1 = h2x/(4.*dx) - h*h/(3.*dx*dx)\n",
    "    dm1 = dm1[1:]\n",
    "    \n",
    "    M = np.diag(d0) + np.diag(dp1,1) + np.diag(dm1,-1)\n",
    "\n",
    "    M[0,:] = 0\n",
    "    M[-1,:] = 0\n",
    "    \n",
    "    M[0,0] = 1. - 3./4.*h2x[0]/dx - 2./3.*h[0]*h[0]/(dx*dx)\n",
    "    M[0,1] = h2x[0]/dx + 5./3.*h[0]*h[0]/(dx*dx)\n",
    "    M[0,2] = -1./4.*h2x[0]/dx - 4./3.*h[0]*h[0]/(dx*dx)\n",
    "    M[0,3] = 1./3.*h[0]*h[0]/(dx*dx)\n",
    "\n",
    "    M[-1,-1] = 1. + 3./4.*h2x[-1]/dx - 2./3.*h[-1]*h[-1]/(dx*dx)\n",
    "    M[-1,-2] = -h2x[-1]/dx + 5./3.*h[-1]*h[-1]/(dx*dx)\n",
    "    M[-1,-3] = 1./4.*h2x[-1]/dx - 4./3.*h[-1]*h[-1]/(dx*dx)\n",
    "    M[-1,-4] = 1./3.*h[-1]*h[-1]/(dx*dx)\n",
    "\n",
    "\n",
    "    np.set_printoptions(threshold=np.nan)\n",
    "    np.set_printoptions(suppress=True)\n",
    "\n",
    "    \n",
    "    rhs = g2 + dt/(3.*h)*g1x\n",
    "    \n",
    "    if BCparam != None:\n",
    "        if BCparam[14] == keepFirstSolL :\n",
    "            BCparam[0] = u[0]\n",
    "        if BCparam[15] == keepFirstSolL :\n",
    "            BCparam[4] = u[-1]    \n",
    "    \n",
    "    M,rhs = BCfunction(M,rhs,t,dx,BCparam)\n",
    "    \n",
    "    u2 = np.linalg.solve(M,rhs)\n",
    "        \n",
    "    return u2"
   ]
  },
  {
   "cell_type": "code",
   "execution_count": 22,
   "metadata": {
    "code_folding": [],
    "init_cell": true,
    "run_control": {
     "frozen": false,
     "read_only": true
    }
   },
   "outputs": [
    {
     "name": "stdout",
     "output_type": "stream",
     "text": [
      "Appending to serre.py\n"
     ]
    }
   ],
   "source": [
    "%%writefile serre.py -a\n",
    "\n",
    "def EFDSolverFM4(hm1,h,u,dx,dt,t,order,BCfunction,BCparam=None,periodic=False,ng=2,Y=[],nit=0,uall=None):\n",
    "    \n",
    "    \"\"\"\n",
    "    Finite Difference Solver for the second step of the splitted Serre equations, using the discretization derived\n",
    "    in the paper of Fabien Marche\n",
    "    \n",
    "    - Parameters\n",
    "        * h,u (1D array) : solution\n",
    "        * dx,dt,t (integers) : space step, time step, time\n",
    "        * BCfunction (function) : function that modifies the linear system to impose the BCs\n",
    "        * BCparam (1D array) : argument for BCfunction; contains the BCs in the form\n",
    "             BC=[u(left),ux(left),uxx(left),alpha1*u(left) + beta1*ux(right) + gamma1*uxx(right),\n",
    "                u(right),ux(right),uxx(right),alpha2*u(right) + beta2*ux(right) + gamma2*uxx(right),\n",
    "                alpha1,beta1,gamma1,alpha2,beta2,gamma2,Fleft,Fright] \n",
    "        * periodic (boolean) : indicates if the function is periodic\n",
    "        \n",
    "    - Returns\n",
    "        * u2 (1D array) : solution (velocity)\n",
    "    \"\"\"\n",
    "    \n",
    "    gr = 9.81\n",
    "\n",
    "    if periodic :\n",
    "        for v in [u,h] :\n",
    "            v = imposePeriodicity(v,ng)\n",
    "    \n",
    "    hu = h*u\n",
    "    \n",
    "    order = 2\n",
    "    ux = get1d(u,dx,periodic,order=4)\n",
    "    uxx = get2d(u,dx,periodic,order=4)\n",
    "    uux = u*ux\n",
    "    uuxdx = get1d(uux,dx,periodic,order=4)\n",
    "    hx = get1d(h,dx,periodic,order=4)\n",
    "    hm1x = get1d(hm1,dx,periodic,order=2)\n",
    "    hxx = get2d(h,dx,periodic,order=4)\n",
    "    h2x = get1d(h*h,dx,periodic,order=4)\n",
    "    hhx = h*hx\n",
    "    \n",
    "    Q = 2.*h*hx*ux*ux + 4./3.*h*h*ux*uxx\n",
    "    rhs = gr*h*hx + h*Q  \n",
    "\n",
    "    if periodic :\n",
    "        for v in [ux,uux,uxx,uuxdx,h2x,hx,hhx] :\n",
    "            v = imposePeriodicity(v,ng)   \n",
    "    \n",
    "    d0 = 1. + hx*hx/3. + h*hxx/3. + 5.*h*h/(6.*dx*dx)\n",
    "    dp1 = -2./3.*h*hx/(3.*dx) - 4./3.*h*h/(3.*dx*dx)\n",
    "    dp1 = dp1[0:-1]\n",
    "    dm1 = +2./3.*h*hx/(3.*dx) - 4./3.*h*h/(3.*dx*dx)\n",
    "    dm1 = dm1[1:]\n",
    "    dp2 = 1./3.*h*hx/(12.*dx) + 1./3.*h*h/(12.*dx*dx)\n",
    "    dp2 = dp2[0:-2]\n",
    "    dm2 = -1./3.*h*hx/(12.*dx) + 1./3.*h*h/(12.*dx*dx)\n",
    "    dm2 = dm2[2:]\n",
    "    \n",
    "    M = np.diag(d0) + np.diag(dp1,1) + np.diag(dm1,-1) + np.diag(dp2,2) + np.diag(dm2,-2)\n",
    "\n",
    "    M[0,:] = 0\n",
    "    M[1,:] = 0\n",
    "    M[-1,:] = 0\n",
    "    M[-2,:] = 0\n",
    "\n",
    "    ### Correct it (but in general these lines are replaced by the BC)\n",
    "    M[0,0] = h[0]*(1. - 3./4.*h2x[0]/dx - 2./3.*h[0]*h[0]/(dx*dx))\n",
    "    M[0,1] = h[0]*(h2x[0]/dx + 5./3.*h[0]*h[0]/(dx*dx))\n",
    "    M[0,2] = h[0]*(-1./4.*h2x[0]/dx - 4./3.*h[0]*h[0]/(dx*dx))\n",
    "    M[0,3] = h[0]*(1./3.*h[0]*h[0]/(dx*dx))\n",
    "\n",
    "    M[1,1] = h[1]*(1. - 3./4.*h2x[1]/dx - 2./3.*h[1]*h[1]/(dx*dx))\n",
    "    M[1,2] = h[1]*(h2x[1]/dx + 5./3.*h[1]*h[1]/(dx*dx))\n",
    "    M[1,3] = h[1]*(-1./4.*h2x[1]/dx - 4./3.*h[1]*h[1]/(dx*dx))\n",
    "    M[1,4] = h[1]*(1./3.*h[1]*h[1]/(dx*dx))    \n",
    "    \n",
    "    M[-1,-1] = h[-1]*(1. + 3./4.*h2x[-1]/dx - 2./3.*h[-1]*h[-1]/(dx*dx))\n",
    "    M[-1,-2] = h[-1]*(-h2x[-1]/dx + 5./3.*h[-1]*h[-1]/(dx*dx))\n",
    "    M[-1,-3] = h[-1]*(1./4.*h2x[-1]/dx - 4./3.*h[-1]*h[-1]/(dx*dx))\n",
    "    M[-1,-4] = h[-1]*(1./3.*h[-1]*h[-1]/(dx*dx))\n",
    "      \n",
    "    M[-2,-2] = h[-2]*(1. + 3./4.*h2x[-2]/dx - 2./3.*h[-2]*h[-2]/(dx*dx))\n",
    "    M[-2,-3] = h[-2]*(-h2x[-2]/dx + 5./3.*h[-2]*h[-2]/(dx*dx))\n",
    "    M[-2,-4] = h[-2]*(1./4.*h2x[-2]/dx - 4./3.*h[-2]*h[-2]/(dx*dx))\n",
    "    M[-2,-5] = h[-2]*(1./3.*h[-2]*h[-2]/(dx*dx))\n",
    "    ######\n",
    "\n",
    "    np.set_printoptions(threshold=np.nan)\n",
    "    np.set_printoptions(suppress=True)\n",
    "    \n",
    "    if BCfunction != DTBC:\n",
    "        M,rhs = BCfunction(M,rhs,t,dx,BCparam)\n",
    "    else:\n",
    "        M,rhs,Ct = BCfunction(M,rhs,BCparam,hm1,h,u,hm1x,hx,hu,dx,dt,nit,Y,uall)\n",
    "\n",
    "    z = np.linalg.solve(M,rhs)\n",
    "    hu2 = hu + dt*(gr*h*hx-z)\n",
    "\n",
    "    return hu2/h"
   ]
  },
  {
   "cell_type": "code",
   "execution_count": 23,
   "metadata": {
    "code_folding": [],
    "init_cell": true,
    "run_control": {
     "frozen": false,
     "read_only": false
    }
   },
   "outputs": [
    {
     "name": "stdout",
     "output_type": "stream",
     "text": [
      "Appending to serre.py\n"
     ]
    }
   ],
   "source": [
    "%%writefile serre.py -a\n",
    "\n",
    "def EFDSolverFM4Bottom(h,u,dx,dt,t,order,BCfunction,BCparam=None,periodic=False,ng=2,eta=0.):\n",
    "    \n",
    "    \"\"\"\n",
    "    Finite Difference Solver for the second step of the splitted Serre equations,\n",
    "    with a flart but non necessarily horizontal bottom, using the discretization derived\n",
    "    in the paper of Fabien Marche\n",
    "    \n",
    "    - Parameters\n",
    "        * h,u (1D array) : solution\n",
    "        * dx,dt,t (integers) : space step, time step, time\n",
    "        * BCfunction (function) : function that modifies the linear system to impose the BCs\n",
    "        * BCparam (1D array) : argument for BCfunction; contains the BCs in the form\n",
    "             BC=[u(left),ux(left),uxx(left),alpha1*u(left) + beta1*ux(right) + gamma1*uxx(right),\n",
    "                u(right),ux(right),uxx(right),alpha2*u(right) + beta2*ux(right) + gamma2*uxx(right),\n",
    "                alpha1,beta1,gamma1,alpha2,beta2,gamma2,Fleft,Fright] \n",
    "        * periodic (boolean) : indicates if the function is periodic\n",
    "        * eta : slope of the bottom\n",
    "        \n",
    "    - Returns\n",
    "        * u2 (1D array) : solution (velocity)\n",
    "    \"\"\"\n",
    "    \n",
    "    gr = 9.81\n",
    "\n",
    "    if periodic :\n",
    "        for v in [u,h] :\n",
    "            v = imposePeriodicity(v,ng)\n",
    "    \n",
    "    hu = h*u\n",
    "    \n",
    "    ux = get1d(u,dx,periodic,order=4)\n",
    "    uxx = get2d(u,dx,periodic,order=4)\n",
    "    uux = u*ux\n",
    "    uuxdx = get1d(uux,dx,periodic,order=4)\n",
    "    hx = get1d(h,dx,periodic,order=4)\n",
    "    hxx = get2d(h,dx,periodic,order=4)\n",
    "    h2x = get1d(h*h,dx,periodic,order=4)\n",
    "    hhx = h*hx\n",
    "    \n",
    "    Q = 2.*h*hx*ux*ux + 4./3.*h*h*ux*uxx + eta*eta*h*u*ux + eta*eta*(hx+eta)*u*u\n",
    "    rhs = gr*h*hx + h*Q + gr*h*eta  \n",
    "\n",
    "    if periodic :\n",
    "        for v in [ux,uux,uxx,uuxdx,h2x,hx,hhx] :\n",
    "            v = imposePeriodicity(v,ng)   \n",
    "    \n",
    "    d0 = 1. + hx*hx/3. + h*hxx/3. + 5.*h*h/(6.*dx*dx) + eta*(hx+eta)\n",
    "    dp1 = -2./3.*h*hx/(3.*dx) - 4./3.*h*h/(3.*dx*dx)\n",
    "    dp1 = dp1[0:-1]\n",
    "    dm1 = +2./3.*h*hx/(3.*dx) - 4./3.*h*h/(3.*dx*dx)\n",
    "    dm1 = dm1[1:]\n",
    "    dp2 = 1./3.*h*hx/(12.*dx) + 1./3.*h*h/(12.*dx*dx)\n",
    "    dp2 = dp2[0:-2]\n",
    "    dm2 = -1./3.*h*hx/(12.*dx) + 1./3.*h*h/(12.*dx*dx)\n",
    "    dm2 = dm2[2:]\n",
    "    \n",
    "    M = np.diag(d0) + np.diag(dp1,1) + np.diag(dm1,-1) + np.diag(dp2,2) + np.diag(dm2,-2)\n",
    "\n",
    "    M[0,:] = 0\n",
    "    M[1,:] = 0\n",
    "    M[-1,:] = 0\n",
    "    M[-2,:] = 0\n",
    "\n",
    "    ### Correct it (but in general these lines are replaced by the BC)\n",
    "    M[0,0] = h[0]*(1. - 3./4.*h2x[0]/dx - 2./3.*h[0]*h[0]/(dx*dx))\n",
    "    M[0,1] = h[0]*(h2x[0]/dx + 5./3.*h[0]*h[0]/(dx*dx))\n",
    "    M[0,2] = h[0]*(-1./4.*h2x[0]/dx - 4./3.*h[0]*h[0]/(dx*dx))\n",
    "    M[0,3] = h[0]*(1./3.*h[0]*h[0]/(dx*dx))\n",
    "\n",
    "    M[1,1] = h[1]*(1. - 3./4.*h2x[1]/dx - 2./3.*h[1]*h[1]/(dx*dx))\n",
    "    M[1,2] = h[1]*(h2x[1]/dx + 5./3.*h[1]*h[1]/(dx*dx))\n",
    "    M[1,3] = h[1]*(-1./4.*h2x[1]/dx - 4./3.*h[1]*h[1]/(dx*dx))\n",
    "    M[1,4] = h[1]*(1./3.*h[1]*h[1]/(dx*dx))    \n",
    "    \n",
    "    M[-1,-1] = h[-1]*(1. + 3./4.*h2x[-1]/dx - 2./3.*h[-1]*h[-1]/(dx*dx))\n",
    "    M[-1,-2] = h[-1]*(-h2x[-1]/dx + 5./3.*h[-1]*h[-1]/(dx*dx))\n",
    "    M[-1,-3] = h[-1]*(1./4.*h2x[-1]/dx - 4./3.*h[-1]*h[-1]/(dx*dx))\n",
    "    M[-1,-4] = h[-1]*(1./3.*h[-1]*h[-1]/(dx*dx))\n",
    "      \n",
    "    M[-2,-2] = h[-2]*(1. + 3./4.*h2x[-2]/dx - 2./3.*h[-2]*h[-2]/(dx*dx))\n",
    "    M[-2,-3] = h[-2]*(-h2x[-2]/dx + 5./3.*h[-2]*h[-2]/(dx*dx))\n",
    "    M[-2,-4] = h[-2]*(1./4.*h2x[-2]/dx - 4./3.*h[-2]*h[-2]/(dx*dx))\n",
    "    M[-2,-5] = h[-2]*(1./3.*h[-2]*h[-2]/(dx*dx))\n",
    "    ######\n",
    "\n",
    "    np.set_printoptions(threshold=np.nan)\n",
    "    np.set_printoptions(suppress=True)\n",
    "\n",
    "    if BCparam != None:\n",
    "        if BCparam[14] == keepFirstSolL :\n",
    "            BCparam[0] = u[0]\n",
    "        if BCparam[15] == keepFirstSolL :\n",
    "            BCparam[4] = u[-1]    \n",
    "    \n",
    "    M,rhs = BCfunction(M,rhs,t,dx,BCparam)\n",
    "\n",
    "    z = np.linalg.solve(M,rhs)\n",
    "    hu2 = hu + dt*(gr*h*(hx+eta)-z)\n",
    "\n",
    "    return hu2/h"
   ]
  },
  {
   "cell_type": "code",
   "execution_count": 24,
   "metadata": {
    "code_folding": [],
    "init_cell": true,
    "run_control": {
     "frozen": false,
     "read_only": true
    }
   },
   "outputs": [
    {
     "name": "stdout",
     "output_type": "stream",
     "text": [
      "Appending to serre.py\n"
     ]
    }
   ],
   "source": [
    "%%writefile serre.py -a\n",
    "\n",
    "def EFDSolverFM(h,u,dx,dt,t,order,BCfunction,BCparam=None,periodic=False,ng=2):\n",
    "    \n",
    "    \"\"\"\n",
    "    Finite Difference Solver for the second step of the splitted Serre equations, using the discretization derived\n",
    "    in the paper of Fabien Marche\n",
    "    \n",
    "    - Parameters\n",
    "        * h,u (1D array) : solution\n",
    "        * dx,dt,t (integers) : space step, time step, time\n",
    "        * BCfunction (function) : function that modifies the linear system to impose the BCs\n",
    "        * BCparam (1D array) : argument for BCfunction; contains the BCs in the form\n",
    "             BC=[u(left),ux(left),uxx(left),alpha1*u(left) + beta1*ux(right) + gamma1*uxx(right),\n",
    "                u(right),ux(right),uxx(right),alpha2*u(right) + beta2*ux(right) + gamma2*uxx(right),\n",
    "                alpha1,beta1,gamma1,alpha2,beta2,gamma2,Fleft,Fright] \n",
    "        * periodic (boolean) : indicates if the function is periodic\n",
    "        \n",
    "    - Returns\n",
    "        * u2 (1D array) : solution (velocity)\n",
    "    \"\"\"\n",
    "    \n",
    "    gr = 9.81\n",
    "\n",
    "    if periodic :\n",
    "        for v in [u,h] :\n",
    "            v = imposePeriodicity(v,ng)\n",
    "    \n",
    "    hu = h*u\n",
    "    \n",
    "    ux = get1d(u,dx,periodic,order=2)\n",
    "    uxx = get2d(u,dx,periodic,order=2)\n",
    "    uux = u*ux\n",
    "    uuxdx = get1d(uux,dx,periodic,order=2)\n",
    "    hx = get1d(h,dx,periodic,order=2)\n",
    "    hxx = get2d(h,dx,periodic,order=2)\n",
    "    h2x = get1d(h*h,dx,periodic,order=2)\n",
    "    hhx = h*hx\n",
    "    \n",
    "    Q = 2.*h*hx*ux*ux + 4./3.*h*h*ux*uxx\n",
    "    rhs = gr*h*hx + h*Q  \n",
    "\n",
    "    if periodic :\n",
    "        for v in [ux,uux,uxx,uuxdx,h2x,hx,hhx] :\n",
    "            v = imposePeriodicity(v,ng)   \n",
    "    \n",
    "    d0 = 1. + hx*hx/3. + h*hxx/3. + 2.*h*h/(3.*dx*dx)\n",
    "    dp1 = -h*hx/(3.*2.*dx) - h*h/(3.*dx*dx)\n",
    "    dp1 = dp1[0:-1]\n",
    "    dm1 = h*hx/(3.*2.*dx) - h*h/(3.*dx*dx)\n",
    "    dm1 = dm1[1:]\n",
    "    \n",
    "    M = np.diag(d0) + np.diag(dp1,1) + np.diag(dm1,-1)\n",
    "\n",
    "    M[0,:] = 0\n",
    "    M[-1,:] = 0\n",
    "\n",
    "    ### Correct it (but in general these lines are replaced by the BC)\n",
    "    M[0,0] = h[0]*(1. - 3./4.*h2x[0]/dx - 2./3.*h[0]*h[0]/(dx*dx))\n",
    "    M[0,1] = h[0]*(h2x[0]/dx + 5./3.*h[0]*h[0]/(dx*dx))\n",
    "    M[0,2] = h[0]*(-1./4.*h2x[0]/dx - 4./3.*h[0]*h[0]/(dx*dx))\n",
    "    M[0,3] = h[0]*(1./3.*h[0]*h[0]/(dx*dx))\n",
    "\n",
    "    M[-1,-1] = h[-1]*(1. + 3./4.*h2x[-1]/dx - 2./3.*h[-1]*h[-1]/(dx*dx))\n",
    "    M[-1,-2] = h[-1]*(-h2x[-1]/dx + 5./3.*h[-1]*h[-1]/(dx*dx))\n",
    "    M[-1,-3] = h[-1]*(1./4.*h2x[-1]/dx - 4./3.*h[-1]*h[-1]/(dx*dx))\n",
    "    M[-1,-4] = h[-1]*(1./3.*h[-1]*h[-1]/(dx*dx))\n",
    "    ######\n",
    "\n",
    "    np.set_printoptions(threshold=np.nan)\n",
    "    np.set_printoptions(suppress=True)\n",
    "\n",
    "    if BCparam.all() != None:\n",
    "        if BCparam[14] == keepFirstSolL :\n",
    "            BCparam[0] = u[0]\n",
    "        if BCparam[15] == keepFirstSolL :\n",
    "            BCparam[4] = u[-1]    \n",
    "    \n",
    "    M,rhs = BCfunction(M,rhs,t,dx,BCparam)\n",
    "\n",
    "    z = np.linalg.solve(M,rhs)\n",
    "    hu2 = hu + dt*(gr*h*(hx+eta)-z)\n",
    "\n",
    "    return hu2/h"
   ]
  },
  {
   "cell_type": "markdown",
   "metadata": {},
   "source": [
    "##### SPLITTING SCHEME"
   ]
  },
  {
   "cell_type": "code",
   "execution_count": 25,
   "metadata": {
    "code_folding": [],
    "init_cell": true,
    "run_control": {
     "frozen": false,
     "read_only": false
    }
   },
   "outputs": [
    {
     "name": "stdout",
     "output_type": "stream",
     "text": [
      "Appending to serre.py\n"
     ]
    }
   ],
   "source": [
    "%%writefile serre.py -a\n",
    "\n",
    "# solve the Serre equation\n",
    "def splitSerre(x,h,u,t0,tmax,bcfunction1,bcfunction2,bcparam1,bcparam2,dx,nx,vardt = True, dt = 0.05,\n",
    "               splitSteps = 3, periodic=False,order=2,fvsolver=muscl2.fluxes2,fvTimesolver=RK4,fdsolver=EFDSolver,\n",
    "               ghostcells = 2,eta=0.,Y=[]):\n",
    "    t = t0\n",
    "    it = 0\n",
    "    grav = 9.8\n",
    "    ng = ghostcells\n",
    "    \n",
    "    uall = u\n",
    "    hall = h\n",
    "    tall = np.ones(1)*t0\n",
    "\n",
    "    print(r'CFL = %f' %(dt/(dx*dx*dx)))\n",
    "    \n",
    "    while t < tmax and dt > 1e-9:\n",
    "        if vardt :\n",
    "            if (np.amax(np.absolute(u)) + np.sqrt(grav*np.amax(h))) > 1.e-6:\n",
    "                dt = dx/(np.amax(np.absolute(u)) + np.sqrt(grav*np.amax(h)))\n",
    "            print(r'dt = %f; t = %f' %(dt,t))\n",
    "        t = t+dt\n",
    "        it += 1\n",
    "        \n",
    "        hu = h*u\n",
    "\n",
    "        h,hu = bcfunction1(h,hu,bcparam1,dx,t)\n",
    "        hm1 = np.copy(h)\n",
    "        #F = nswe.fluxes(h,hu,nx)\n",
    "        #h[1:-1] = h[1:-1] - dt/dx*(F[0,1:] - F[0,0:-1])\n",
    "        #hu[1:-1] = hu[1:-1] - dt/dx*(F[1,1:] - F[1,0:-1])\n",
    "        \n",
    "        if splitSteps == 3: ## Adv Disp Adv\n",
    "            h,hu = fvTimesolver(x,h,hu,fvsolver,bcfunction1,bcparam1,dx,dt/2.,nx,t,periodic,ng=ghostcells)\n",
    "            u = np.where(h[:]>1e-5, hu[:]/h[:], 0.)\n",
    "            if not periodic:\n",
    "                u = fdsolver(h[ng:-ng],u[ng:-ng],dx,dt,t,order,bcfunction2,bcparam2,periodic=False,ng=0,Y=Y,nit=it,uall=uall[ng:-ng])\n",
    "                u = extend2GhostCells(u,ng)\n",
    "            else:\n",
    "                u = fdsolver(h,u,dx,dt,t,order,bcfunction2,bcparam2,periodic=periodic,ng=ghostcells)\n",
    "            hu = h*u\n",
    "            h,hu = bcfunction1(h,hu,bcparam1,dx,t)  \n",
    "            h,hu = fvTimesolver(x,h,hu,fvsolver,bcfunction1,bcparam1,dx,dt/2.,nx,t,periodic,ng=ghostcells)\n",
    "            u = np.where(h[:]>1e-5, hu[:]/h[:], 0.)\n",
    "        elif splitSteps == 2 : ## Adv Disp\n",
    "            h,hu = fvTimesolver(x,h,hu,fvsolver,bcfunction1,bcparam1,dx,dt,nx,t,periodic,ng=ghostcells)\n",
    "            u = np.where(h[:]>1e-5, hu[:]/h[:], 0.)\n",
    "            if not periodic:\n",
    "                u = fdsolver(hm1[ng:-ng],h[ng:-ng],u[ng:-ng],dx,dt,t,order,bcfunction2,bcparam2,periodic=False,ng=0,Y=Y,nit=it,uall=uall[ng:-ng])\n",
    "                u = extend2GhostCells(u,ng)\n",
    "            else:\n",
    "                u = fdsolver(hm1,h,u,dx,dt,t,order,bcfunction2,bcparam2,periodic=periodic,ng=ghostcells)\n",
    "        elif splitSteps == -2 : ## Disp Adv\n",
    "            u = np.where(h[:]>1e-5, hu[:]/h[:], 0.)\n",
    "            u = fdsolver(h,u,dx,dt,t,order,bcfunction2,bcparam2,periodic,ng=ghostcells)            \n",
    "            hu = h*u\n",
    "            h,hu = bcfunction1(h,hu,bcparam1,dx,t)  \n",
    "            h,hu = fvTimesolver(x,h,hu,fvsolver,bcfunction1,bcparam1,dx,dt/2.,nx,t,ng=ghostcells)\n",
    "            u = np.where(h[:]>1e-5, hu[:]/h[:], 0.)\n",
    "        elif splitSteps == -3 : ## Adv Disp\n",
    "            u = np.where(h[:]>1e-5, hu[:]/h[:], 0.)\n",
    "            u = fdsolver(h,u,dx,dt/2.,t,order,bcfunction2,bcparam2,periodic,ng=ghostcells)            \n",
    "            hu = h*u\n",
    "            h,hu = bcfunction1(h,hu,bcparam1,dx,t)  \n",
    "            h,hu = fvTimesolver(x,h,hu,fvsolver,bcfunction1,bcparam1,dx,dt/2.,nx,t,ng=ghostcells)\n",
    "            u = np.where(h[:]>1e-5, hu[:]/h[:], 0.)\n",
    "            u = fdsolver(h,u,dx,dt/2.,t,order,bcfunction2,bcparam2,periodic,ng=ghostcells)\n",
    "\n",
    "        hall = np.column_stack((hall,h))\n",
    "        uall = np.column_stack((uall,u))\n",
    "        tall = np.hstack((tall,t*np.ones(1)))\n",
    "        \n",
    "    return hall,uall,tall"
   ]
  },
  {
   "cell_type": "markdown",
   "metadata": {},
   "source": [
    "### Test case"
   ]
  },
  {
   "cell_type": "markdown",
   "metadata": {},
   "source": [
    "#### Some remarks and conclusions concerning the results presented below"
   ]
  },
  {
   "cell_type": "markdown",
   "metadata": {},
   "source": []
  },
  {
   "cell_type": "code",
   "execution_count": 26,
   "metadata": {
    "run_control": {
     "frozen": false,
     "read_only": false
    }
   },
   "outputs": [],
   "source": [
    "import serre\n",
    "\n",
    "## Parameters\n",
    "\n",
    "a0 = 1.\n",
    "a1 = .1\n",
    "k = 0.\n",
    "g = 9.81\n",
    "t = 0.0\n",
    "tmax = 20.\n",
    "dt = 0.05\n",
    "\n",
    "lam, h0 = cnoidal.WaveLengthDepth(k,a0,a1)\n",
    "\n",
    "L = 3.*lam\n",
    "xmin = -L\n",
    "xmax = L\n",
    "nx = 100\n",
    "x,dx = serre.discretizeSpace(xmin,xmax,nx)\n",
    "\n",
    "h,u = cnoidal.analyticalSolutionSolitary(x,t,a0,a1)"
   ]
  },
  {
   "cell_type": "code",
   "execution_count": 27,
   "metadata": {},
   "outputs": [
    {
     "name": "stdout",
     "output_type": "stream",
     "text": [
      "1.1\n",
      "*** Starting computations of Ys\n",
      "*** Computation of Ys (in Fourier space) --> done\n",
      "\n",
      "*** Applying iFFT on Ys\n",
      " *  max(Y1) = 0.322305619392\n",
      " *  max(Y2) = 0.322305619392\n",
      "*** iFFT --> done\n",
      "\n"
     ]
    }
   ],
   "source": [
    "## Convolution coefficients\n",
    "\n",
    "import Zt_tools as Z\n",
    "print h0\n",
    "Nf = 10**3\n",
    "ps = Z.Parameters(h0, dx, nx, xmin, xmax, dt, Nf)\n",
    "# we assume we don't go too far from the initial value of u so we keep the same mean for all the process\n",
    "# Y = Z.compute_Y3(ps)\n",
    "ub = np.mean(u)\n",
    "Y = Z.compute_Y2(ps, ub)\n",
    "# Y = Z.compute_Y(ps)\n",
    "# Z.plot_Y(Y, Nf, log_scale = True, export = False, save = False)\n",
    "# K = Z.compute_K(dx, 1)"
   ]
  },
  {
   "cell_type": "code",
   "execution_count": 28,
   "metadata": {
    "run_control": {
     "frozen": false,
     "read_only": false
    }
   },
   "outputs": [
    {
     "name": "stdout",
     "output_type": "stream",
     "text": [
      "CFL = 0.115207\n"
     ]
    },
    {
     "name": "stderr",
     "output_type": "stream",
     "text": [
      "/home/gaspard/.virtualenvs/py2/lib/python2.7/site-packages/ipykernel_launcher.py:10: RuntimeWarning: invalid value encountered in divide\n",
      "  # Remove the CWD from sys.path while we load stuff.\n"
     ]
    },
    {
     "name": "stdout",
     "output_type": "stream",
     "text": [
      "CFL = 0.115207\n"
     ]
    },
    {
     "name": "stderr",
     "output_type": "stream",
     "text": [
      "serre.py:602: RuntimeWarning: overflow encountered in multiply\n",
      "  Q = 2.*h*hx*ux*ux + 4./3.*h*h*ux*uxx\n",
      "serre.py:602: RuntimeWarning: invalid value encountered in add\n",
      "  Q = 2.*h*hx*ux*ux + 4./3.*h*h*ux*uxx\n",
      "serre.py:603: RuntimeWarning: overflow encountered in multiply\n",
      "  rhs = gr*h*hx + h*Q\n",
      "/home/gaspard/.virtualenvs/py2/lib/python2.7/site-packages/ipykernel_launcher.py:10: RuntimeWarning: invalid value encountered in greater\n",
      "  # Remove the CWD from sys.path while we load stuff.\n",
      "../nswe/nswe_wbmuscl4.py:284: RuntimeWarning: invalid value encountered in greater\n",
      "  Lul = np.where(Lhl>1e-5, Lhul/Lhl, 0.0)\n",
      "../nswe/nswe_wbmuscl4.py:285: RuntimeWarning: invalid value encountered in greater\n",
      "  Lur = np.where(Lhr>1e-5, Lhur/Lhr, 0.0)\n",
      "serre.py:887: RuntimeWarning: invalid value encountered in greater\n",
      "  u = np.where(h[:]>1e-5, hu[:]/h[:], 0.)\n"
     ]
    },
    {
     "name": "stdout",
     "output_type": "stream",
     "text": [
      "nan\n",
      "nan\n"
     ]
    },
    {
     "name": "stderr",
     "output_type": "stream",
     "text": [
      "/home/gaspard/.virtualenvs/py2/lib/python2.7/site-packages/numpy/core/_methods.py:29: RuntimeWarning: invalid value encountered in reduce\n",
      "  return umr_minimum(a, axis, None, out, keepdims)\n",
      "/home/gaspard/.virtualenvs/py2/lib/python2.7/site-packages/numpy/core/_methods.py:26: RuntimeWarning: invalid value encountered in reduce\n",
      "  return umr_maximum(a, axis, None, out, keepdims)\n"
     ]
    }
   ],
   "source": [
    "## Resolution\n",
    "\n",
    "## periodic\n",
    "hall1,uall1,tall1 = serre.splitSerre(x,h,u,0,tmax,\n",
    "                                     serre.periodicDomainTwoGC,serre.periodicDomain2TwoGC,None,None,\n",
    "                                     dx,nx,vardt = False, dt = dt,\n",
    "                                     splitSteps=2, order=4,\n",
    "                                     periodic=True,fvsolver = fluxes_periodic, fdsolver = serre.EFDSolverFM4,\n",
    "                                     ghostcells=2)\n",
    "\n",
    "## TBC\n",
    "cond_l = \"DTBC_Y\"\n",
    "cond_r = \"DTBC_Y\"\n",
    "BCs = np.array([[0,cond_l,0.,1.,0.,1.],\n",
    "                [-1,cond_r,0.,1.,0.,1.],\n",
    "                [1,cond_l,0.,1.,0.,1.],\n",
    "                [-2,cond_r,0.,1.,0.,1.]], dtype=object)\n",
    "hall2,uall2,tall2 = serre.splitSerre(x,h,u,0,tmax,\n",
    "                                     serre.openDomain,serre.DTBC,None,BCs,\n",
    "                                     dx,nx,vardt = False, dt = dt,\n",
    "                                     splitSteps=2, order=4, \n",
    "                                     periodic=False,fvsolver = fluxes_periodic, fdsolver = serre.EFDSolverFM4,\n",
    "                                     ghostcells=2, Y=Y)\n",
    "\n",
    "umin = np.amin(uall2)\n",
    "umax = np.amax(uall2)\n",
    "hmin = np.amin(hall2)\n",
    "hmax = np.amax(hall2)\n",
    "\n",
    "print(np.linalg.norm(uall1-uall2))\n",
    "print(np.linalg.norm(hall1-hall2))"
   ]
  },
  {
   "cell_type": "markdown",
   "metadata": {},
   "source": [
    "#### Plotting"
   ]
  },
  {
   "cell_type": "code",
   "execution_count": 29,
   "metadata": {
    "run_control": {
     "frozen": false,
     "read_only": false
    },
    "scrolled": false
   },
   "outputs": [
    {
     "name": "stdout",
     "output_type": "stream",
     "text": [
      "*** Plotting animation ...\n"
     ]
    },
    {
     "ename": "ValueError",
     "evalue": "Axis limits cannot be NaN or Inf",
     "output_type": "error",
     "traceback": [
      "\u001b[0;31m---------------------------------------------------------------------------\u001b[0m",
      "\u001b[0;31mValueError\u001b[0m                                Traceback (most recent call last)",
      "\u001b[0;32m<ipython-input-29-f0bf9fb88ae0>\u001b[0m in \u001b[0;36m<module>\u001b[0;34m()\u001b[0m\n\u001b[1;32m      3\u001b[0m \u001b[0;31m# save = None\u001b[0m\u001b[0;34m\u001b[0m\u001b[0;34m\u001b[0m\u001b[0m\n\u001b[1;32m      4\u001b[0m \u001b[0mng\u001b[0m \u001b[0;34m=\u001b[0m \u001b[0;36m2\u001b[0m\u001b[0;34m\u001b[0m\u001b[0m\n\u001b[0;32m----> 5\u001b[0;31m \u001b[0mgF\u001b[0m\u001b[0;34m.\u001b[0m\u001b[0mplotAnimationNSolutions\u001b[0m\u001b[0;34m(\u001b[0m\u001b[0;36m2\u001b[0m\u001b[0;34m,\u001b[0m\u001b[0mx\u001b[0m\u001b[0;34m[\u001b[0m\u001b[0mng\u001b[0m\u001b[0;34m:\u001b[0m\u001b[0;34m-\u001b[0m\u001b[0mng\u001b[0m\u001b[0;34m]\u001b[0m\u001b[0;34m,\u001b[0m\u001b[0mnp\u001b[0m\u001b[0;34m.\u001b[0m\u001b[0marray\u001b[0m\u001b[0;34m(\u001b[0m\u001b[0;34m[\u001b[0m\u001b[0muall1\u001b[0m\u001b[0;34m[\u001b[0m\u001b[0mng\u001b[0m\u001b[0;34m:\u001b[0m\u001b[0;34m-\u001b[0m\u001b[0mng\u001b[0m\u001b[0;34m,\u001b[0m\u001b[0;34m:\u001b[0m\u001b[0;34m]\u001b[0m\u001b[0;34m,\u001b[0m\u001b[0muall2\u001b[0m\u001b[0;34m[\u001b[0m\u001b[0mng\u001b[0m\u001b[0;34m:\u001b[0m\u001b[0;34m-\u001b[0m\u001b[0mng\u001b[0m\u001b[0;34m,\u001b[0m\u001b[0;34m:\u001b[0m\u001b[0;34m]\u001b[0m\u001b[0;34m]\u001b[0m\u001b[0;34m)\u001b[0m\u001b[0;34m,\u001b[0m\u001b[0mtall1\u001b[0m\u001b[0;34m,\u001b[0m\u001b[0mxmin\u001b[0m\u001b[0;34m,\u001b[0m\u001b[0mxmax\u001b[0m\u001b[0;34m,\u001b[0m\u001b[0mumin\u001b[0m\u001b[0;34m,\u001b[0m\u001b[0mumax\u001b[0m\u001b[0;34m,\u001b[0m\u001b[0mlb\u001b[0m\u001b[0;34m,\u001b[0m\u001b[0mylabel\u001b[0m\u001b[0;34m=\u001b[0m\u001b[0;34mr'$h$'\u001b[0m\u001b[0;34m,\u001b[0m\u001b[0mlocation\u001b[0m\u001b[0;34m=\u001b[0m\u001b[0;34m(\u001b[0m\u001b[0;36m0.\u001b[0m\u001b[0;34m,\u001b[0m\u001b[0;36m0.8\u001b[0m\u001b[0;34m)\u001b[0m\u001b[0;34m,\u001b[0m\u001b[0msavePath\u001b[0m\u001b[0;34m=\u001b[0m\u001b[0msave\u001b[0m\u001b[0;34m)\u001b[0m\u001b[0;34m\u001b[0m\u001b[0m\n\u001b[0m",
      "\u001b[0;32m/home/gaspard/Documents/ENPC/Cesure/INRIA Chile/Stage/inriamericwaves/Simulations/generalFunctions.pyc\u001b[0m in \u001b[0;36mplotAnimationNSolutions\u001b[0;34m(N, x, u, t, xmin, xmax, ymin, ymax, lb, ylabel, location, savePath)\u001b[0m\n\u001b[1;32m     53\u001b[0m \u001b[0;34m\u001b[0m\u001b[0m\n\u001b[1;32m     54\u001b[0m     \u001b[0mfig\u001b[0m \u001b[0;34m=\u001b[0m \u001b[0mplt\u001b[0m\u001b[0;34m.\u001b[0m\u001b[0mfigure\u001b[0m\u001b[0;34m(\u001b[0m\u001b[0;34m)\u001b[0m\u001b[0;34m\u001b[0m\u001b[0m\n\u001b[0;32m---> 55\u001b[0;31m     \u001b[0max\u001b[0m \u001b[0;34m=\u001b[0m \u001b[0mplt\u001b[0m\u001b[0;34m.\u001b[0m\u001b[0maxes\u001b[0m\u001b[0;34m(\u001b[0m\u001b[0mxlim\u001b[0m\u001b[0;34m=\u001b[0m\u001b[0;34m(\u001b[0m\u001b[0mxmin\u001b[0m\u001b[0;34m,\u001b[0m \u001b[0mxmax\u001b[0m\u001b[0;34m)\u001b[0m\u001b[0;34m,\u001b[0m \u001b[0mylim\u001b[0m\u001b[0;34m=\u001b[0m\u001b[0;34m(\u001b[0m\u001b[0mymin\u001b[0m\u001b[0;34m,\u001b[0m \u001b[0mymax\u001b[0m\u001b[0;34m)\u001b[0m\u001b[0;34m)\u001b[0m\u001b[0;34m\u001b[0m\u001b[0m\n\u001b[0m\u001b[1;32m     56\u001b[0m     \u001b[0mline\u001b[0m \u001b[0;34m=\u001b[0m \u001b[0mnp\u001b[0m\u001b[0;34m.\u001b[0m\u001b[0marray\u001b[0m\u001b[0;34m(\u001b[0m\u001b[0;34m[\u001b[0m\u001b[0;34m]\u001b[0m\u001b[0;34m)\u001b[0m\u001b[0;34m\u001b[0m\u001b[0m\n\u001b[1;32m     57\u001b[0m     \u001b[0;32mfor\u001b[0m \u001b[0mi\u001b[0m \u001b[0;32min\u001b[0m \u001b[0mrange\u001b[0m\u001b[0;34m(\u001b[0m\u001b[0mN\u001b[0m\u001b[0;34m)\u001b[0m\u001b[0;34m:\u001b[0m\u001b[0;34m\u001b[0m\u001b[0m\n",
      "\u001b[0;32m/home/gaspard/.virtualenvs/py2/lib/python2.7/site-packages/matplotlib/pyplot.pyc\u001b[0m in \u001b[0;36maxes\u001b[0;34m(arg, **kwargs)\u001b[0m\n\u001b[1;32m    924\u001b[0m \u001b[0;34m\u001b[0m\u001b[0m\n\u001b[1;32m    925\u001b[0m     \u001b[0;32mif\u001b[0m \u001b[0marg\u001b[0m \u001b[0;32mis\u001b[0m \u001b[0mNone\u001b[0m\u001b[0;34m:\u001b[0m\u001b[0;34m\u001b[0m\u001b[0m\n\u001b[0;32m--> 926\u001b[0;31m         \u001b[0;32mreturn\u001b[0m \u001b[0msubplot\u001b[0m\u001b[0;34m(\u001b[0m\u001b[0;36m111\u001b[0m\u001b[0;34m,\u001b[0m \u001b[0;34m**\u001b[0m\u001b[0mkwargs\u001b[0m\u001b[0;34m)\u001b[0m\u001b[0;34m\u001b[0m\u001b[0m\n\u001b[0m\u001b[1;32m    927\u001b[0m \u001b[0;34m\u001b[0m\u001b[0m\n\u001b[1;32m    928\u001b[0m     \u001b[0;32mif\u001b[0m \u001b[0misinstance\u001b[0m\u001b[0;34m(\u001b[0m\u001b[0marg\u001b[0m\u001b[0;34m,\u001b[0m \u001b[0mAxes\u001b[0m\u001b[0;34m)\u001b[0m\u001b[0;34m:\u001b[0m\u001b[0;34m\u001b[0m\u001b[0m\n",
      "\u001b[0;32m/home/gaspard/.virtualenvs/py2/lib/python2.7/site-packages/matplotlib/pyplot.pyc\u001b[0m in \u001b[0;36msubplot\u001b[0;34m(*args, **kwargs)\u001b[0m\n\u001b[1;32m   1070\u001b[0m \u001b[0;34m\u001b[0m\u001b[0m\n\u001b[1;32m   1071\u001b[0m     \u001b[0mfig\u001b[0m \u001b[0;34m=\u001b[0m \u001b[0mgcf\u001b[0m\u001b[0;34m(\u001b[0m\u001b[0;34m)\u001b[0m\u001b[0;34m\u001b[0m\u001b[0m\n\u001b[0;32m-> 1072\u001b[0;31m     \u001b[0ma\u001b[0m \u001b[0;34m=\u001b[0m \u001b[0mfig\u001b[0m\u001b[0;34m.\u001b[0m\u001b[0madd_subplot\u001b[0m\u001b[0;34m(\u001b[0m\u001b[0;34m*\u001b[0m\u001b[0margs\u001b[0m\u001b[0;34m,\u001b[0m \u001b[0;34m**\u001b[0m\u001b[0mkwargs\u001b[0m\u001b[0;34m)\u001b[0m\u001b[0;34m\u001b[0m\u001b[0m\n\u001b[0m\u001b[1;32m   1073\u001b[0m     \u001b[0mbbox\u001b[0m \u001b[0;34m=\u001b[0m \u001b[0ma\u001b[0m\u001b[0;34m.\u001b[0m\u001b[0mbbox\u001b[0m\u001b[0;34m\u001b[0m\u001b[0m\n\u001b[1;32m   1074\u001b[0m     \u001b[0mbyebye\u001b[0m \u001b[0;34m=\u001b[0m \u001b[0;34m[\u001b[0m\u001b[0;34m]\u001b[0m\u001b[0;34m\u001b[0m\u001b[0m\n",
      "\u001b[0;32m/home/gaspard/.virtualenvs/py2/lib/python2.7/site-packages/matplotlib/figure.pyc\u001b[0m in \u001b[0;36madd_subplot\u001b[0;34m(self, *args, **kwargs)\u001b[0m\n\u001b[1;32m   1237\u001b[0m                     \u001b[0mself\u001b[0m\u001b[0;34m.\u001b[0m\u001b[0m_axstack\u001b[0m\u001b[0;34m.\u001b[0m\u001b[0mremove\u001b[0m\u001b[0;34m(\u001b[0m\u001b[0max\u001b[0m\u001b[0;34m)\u001b[0m\u001b[0;34m\u001b[0m\u001b[0m\n\u001b[1;32m   1238\u001b[0m \u001b[0;34m\u001b[0m\u001b[0m\n\u001b[0;32m-> 1239\u001b[0;31m             \u001b[0ma\u001b[0m \u001b[0;34m=\u001b[0m \u001b[0msubplot_class_factory\u001b[0m\u001b[0;34m(\u001b[0m\u001b[0mprojection_class\u001b[0m\u001b[0;34m)\u001b[0m\u001b[0;34m(\u001b[0m\u001b[0mself\u001b[0m\u001b[0;34m,\u001b[0m \u001b[0;34m*\u001b[0m\u001b[0margs\u001b[0m\u001b[0;34m,\u001b[0m \u001b[0;34m**\u001b[0m\u001b[0mkwargs\u001b[0m\u001b[0;34m)\u001b[0m\u001b[0;34m\u001b[0m\u001b[0m\n\u001b[0m\u001b[1;32m   1240\u001b[0m         \u001b[0mself\u001b[0m\u001b[0;34m.\u001b[0m\u001b[0m_axstack\u001b[0m\u001b[0;34m.\u001b[0m\u001b[0madd\u001b[0m\u001b[0;34m(\u001b[0m\u001b[0mkey\u001b[0m\u001b[0;34m,\u001b[0m \u001b[0ma\u001b[0m\u001b[0;34m)\u001b[0m\u001b[0;34m\u001b[0m\u001b[0m\n\u001b[1;32m   1241\u001b[0m         \u001b[0mself\u001b[0m\u001b[0;34m.\u001b[0m\u001b[0msca\u001b[0m\u001b[0;34m(\u001b[0m\u001b[0ma\u001b[0m\u001b[0;34m)\u001b[0m\u001b[0;34m\u001b[0m\u001b[0m\n",
      "\u001b[0;32m/home/gaspard/.virtualenvs/py2/lib/python2.7/site-packages/matplotlib/axes/_subplots.pyc\u001b[0m in \u001b[0;36m__init__\u001b[0;34m(self, fig, *args, **kwargs)\u001b[0m\n\u001b[1;32m     75\u001b[0m \u001b[0;34m\u001b[0m\u001b[0m\n\u001b[1;32m     76\u001b[0m         \u001b[0;31m# _axes_class is set in the subplot_class_factory\u001b[0m\u001b[0;34m\u001b[0m\u001b[0;34m\u001b[0m\u001b[0m\n\u001b[0;32m---> 77\u001b[0;31m         \u001b[0mself\u001b[0m\u001b[0;34m.\u001b[0m\u001b[0m_axes_class\u001b[0m\u001b[0;34m.\u001b[0m\u001b[0m__init__\u001b[0m\u001b[0;34m(\u001b[0m\u001b[0mself\u001b[0m\u001b[0;34m,\u001b[0m \u001b[0mfig\u001b[0m\u001b[0;34m,\u001b[0m \u001b[0mself\u001b[0m\u001b[0;34m.\u001b[0m\u001b[0mfigbox\u001b[0m\u001b[0;34m,\u001b[0m \u001b[0;34m**\u001b[0m\u001b[0mkwargs\u001b[0m\u001b[0;34m)\u001b[0m\u001b[0;34m\u001b[0m\u001b[0m\n\u001b[0m\u001b[1;32m     78\u001b[0m         \u001b[0;31m# add a layout box to this, for both the full axis, and the poss\u001b[0m\u001b[0;34m\u001b[0m\u001b[0;34m\u001b[0m\u001b[0m\n\u001b[1;32m     79\u001b[0m         \u001b[0;31m# of the axis.  We need both because the axes may become smaller\u001b[0m\u001b[0;34m\u001b[0m\u001b[0;34m\u001b[0m\u001b[0m\n",
      "\u001b[0;32m/home/gaspard/.virtualenvs/py2/lib/python2.7/site-packages/matplotlib/axes/_base.pyc\u001b[0m in \u001b[0;36m__init__\u001b[0;34m(self, fig, rect, facecolor, frameon, sharex, sharey, label, xscale, yscale, **kwargs)\u001b[0m\n\u001b[1;32m    537\u001b[0m \u001b[0;34m\u001b[0m\u001b[0m\n\u001b[1;32m    538\u001b[0m         \u001b[0;32mif\u001b[0m \u001b[0mlen\u001b[0m\u001b[0;34m(\u001b[0m\u001b[0mkwargs\u001b[0m\u001b[0;34m)\u001b[0m\u001b[0;34m:\u001b[0m\u001b[0;34m\u001b[0m\u001b[0m\n\u001b[0;32m--> 539\u001b[0;31m             \u001b[0mself\u001b[0m\u001b[0;34m.\u001b[0m\u001b[0mupdate\u001b[0m\u001b[0;34m(\u001b[0m\u001b[0mkwargs\u001b[0m\u001b[0;34m)\u001b[0m\u001b[0;34m\u001b[0m\u001b[0m\n\u001b[0m\u001b[1;32m    540\u001b[0m \u001b[0;34m\u001b[0m\u001b[0m\n\u001b[1;32m    541\u001b[0m         \u001b[0;32mif\u001b[0m \u001b[0mself\u001b[0m\u001b[0;34m.\u001b[0m\u001b[0mxaxis\u001b[0m \u001b[0;32mis\u001b[0m \u001b[0;32mnot\u001b[0m \u001b[0mNone\u001b[0m\u001b[0;34m:\u001b[0m\u001b[0;34m\u001b[0m\u001b[0m\n",
      "\u001b[0;32m/home/gaspard/.virtualenvs/py2/lib/python2.7/site-packages/matplotlib/artist.pyc\u001b[0m in \u001b[0;36mupdate\u001b[0;34m(self, props)\u001b[0m\n\u001b[1;32m    886\u001b[0m         \u001b[0;32mtry\u001b[0m\u001b[0;34m:\u001b[0m\u001b[0;34m\u001b[0m\u001b[0m\n\u001b[1;32m    887\u001b[0m             ret = [_update_property(self, k, v)\n\u001b[0;32m--> 888\u001b[0;31m                    for k, v in props.items()]\n\u001b[0m\u001b[1;32m    889\u001b[0m         \u001b[0;32mfinally\u001b[0m\u001b[0;34m:\u001b[0m\u001b[0;34m\u001b[0m\u001b[0m\n\u001b[1;32m    890\u001b[0m             \u001b[0mself\u001b[0m\u001b[0;34m.\u001b[0m\u001b[0meventson\u001b[0m \u001b[0;34m=\u001b[0m \u001b[0mstore\u001b[0m\u001b[0;34m\u001b[0m\u001b[0m\n",
      "\u001b[0;32m/home/gaspard/.virtualenvs/py2/lib/python2.7/site-packages/matplotlib/artist.pyc\u001b[0m in \u001b[0;36m_update_property\u001b[0;34m(self, k, v)\u001b[0m\n\u001b[1;32m    880\u001b[0m                 \u001b[0;32mif\u001b[0m \u001b[0;32mnot\u001b[0m \u001b[0mcallable\u001b[0m\u001b[0;34m(\u001b[0m\u001b[0mfunc\u001b[0m\u001b[0;34m)\u001b[0m\u001b[0;34m:\u001b[0m\u001b[0;34m\u001b[0m\u001b[0m\n\u001b[1;32m    881\u001b[0m                     \u001b[0;32mraise\u001b[0m \u001b[0mAttributeError\u001b[0m\u001b[0;34m(\u001b[0m\u001b[0;34m'Unknown property %s'\u001b[0m \u001b[0;34m%\u001b[0m \u001b[0mk\u001b[0m\u001b[0;34m)\u001b[0m\u001b[0;34m\u001b[0m\u001b[0m\n\u001b[0;32m--> 882\u001b[0;31m                 \u001b[0;32mreturn\u001b[0m \u001b[0mfunc\u001b[0m\u001b[0;34m(\u001b[0m\u001b[0mv\u001b[0m\u001b[0;34m)\u001b[0m\u001b[0;34m\u001b[0m\u001b[0m\n\u001b[0m\u001b[1;32m    883\u001b[0m \u001b[0;34m\u001b[0m\u001b[0m\n\u001b[1;32m    884\u001b[0m         \u001b[0mstore\u001b[0m \u001b[0;34m=\u001b[0m \u001b[0mself\u001b[0m\u001b[0;34m.\u001b[0m\u001b[0meventson\u001b[0m\u001b[0;34m\u001b[0m\u001b[0m\n",
      "\u001b[0;32m/home/gaspard/.virtualenvs/py2/lib/python2.7/site-packages/matplotlib/axes/_base.pyc\u001b[0m in \u001b[0;36mset_ylim\u001b[0;34m(self, bottom, top, emit, auto, **kw)\u001b[0m\n\u001b[1;32m   3427\u001b[0m             \u001b[0mbottom\u001b[0m\u001b[0;34m,\u001b[0m \u001b[0mtop\u001b[0m \u001b[0;34m=\u001b[0m \u001b[0mbottom\u001b[0m\u001b[0;34m\u001b[0m\u001b[0m\n\u001b[1;32m   3428\u001b[0m \u001b[0;34m\u001b[0m\u001b[0m\n\u001b[0;32m-> 3429\u001b[0;31m         \u001b[0mbottom\u001b[0m \u001b[0;34m=\u001b[0m \u001b[0mself\u001b[0m\u001b[0;34m.\u001b[0m\u001b[0m_validate_converted_limits\u001b[0m\u001b[0;34m(\u001b[0m\u001b[0mbottom\u001b[0m\u001b[0;34m,\u001b[0m \u001b[0mself\u001b[0m\u001b[0;34m.\u001b[0m\u001b[0mconvert_yunits\u001b[0m\u001b[0;34m)\u001b[0m\u001b[0;34m\u001b[0m\u001b[0m\n\u001b[0m\u001b[1;32m   3430\u001b[0m         \u001b[0mtop\u001b[0m \u001b[0;34m=\u001b[0m \u001b[0mself\u001b[0m\u001b[0;34m.\u001b[0m\u001b[0m_validate_converted_limits\u001b[0m\u001b[0;34m(\u001b[0m\u001b[0mtop\u001b[0m\u001b[0;34m,\u001b[0m \u001b[0mself\u001b[0m\u001b[0;34m.\u001b[0m\u001b[0mconvert_yunits\u001b[0m\u001b[0;34m)\u001b[0m\u001b[0;34m\u001b[0m\u001b[0m\n\u001b[1;32m   3431\u001b[0m \u001b[0;34m\u001b[0m\u001b[0m\n",
      "\u001b[0;32m/home/gaspard/.virtualenvs/py2/lib/python2.7/site-packages/matplotlib/axes/_base.pyc\u001b[0m in \u001b[0;36m_validate_converted_limits\u001b[0;34m(self, limit, convert)\u001b[0m\n\u001b[1;32m   3038\u001b[0m                     (not np.isreal(converted_limit) or\n\u001b[1;32m   3039\u001b[0m                         not np.isfinite(converted_limit))):\n\u001b[0;32m-> 3040\u001b[0;31m                 \u001b[0;32mraise\u001b[0m \u001b[0mValueError\u001b[0m\u001b[0;34m(\u001b[0m\u001b[0;34m\"Axis limits cannot be NaN or Inf\"\u001b[0m\u001b[0;34m)\u001b[0m\u001b[0;34m\u001b[0m\u001b[0m\n\u001b[0m\u001b[1;32m   3041\u001b[0m             \u001b[0;32mreturn\u001b[0m \u001b[0mconverted_limit\u001b[0m\u001b[0;34m\u001b[0m\u001b[0m\n\u001b[1;32m   3042\u001b[0m \u001b[0;34m\u001b[0m\u001b[0m\n",
      "\u001b[0;31mValueError\u001b[0m: Axis limits cannot be NaN or Inf"
     ]
    },
    {
     "data": {
      "text/plain": [
       "<Figure size 432x288 with 0 Axes>"
      ]
     },
     "metadata": {},
     "output_type": "display_data"
    }
   ],
   "source": [
    "lb = [\"Periodic BC\", \"Transparent BC\"]\n",
    "save = \"./u_full_serre_TBC.mp4\"\n",
    "# save = None\n",
    "ng = 2\n",
    "gF.plotAnimationNSolutions(2,x[ng:-ng],np.array([uall1[ng:-ng,:],uall2[ng:-ng,:]]),tall1,xmin,xmax,umin,umax,lb,ylabel=r'$h$',location=(0.,0.8),savePath=save)"
   ]
  },
  {
   "cell_type": "code",
   "execution_count": null,
   "metadata": {
    "run_control": {
     "frozen": false,
     "read_only": false
    },
    "scrolled": false
   },
   "outputs": [],
   "source": [
    "gF.plotAnimationNSolutions(2,x[ng:-ng],np.array([hall1[ng:-ng,:],hall2[ng:-ng,:]]),tall1,xmin,xmax,hmin,hmax,lb,ylabel=r'$h$',location=(0.,0.8))"
   ]
  },
  {
   "cell_type": "code",
   "execution_count": null,
   "metadata": {
    "run_control": {
     "frozen": false,
     "read_only": false
    }
   },
   "outputs": [],
   "source": [
    "# label = np.array([\"Serre\",\"NSWE\",\"Analytical\"])\n",
    "loc=(.7,.7)\n",
    "case = \"gaussian\"\n",
    "label = lb\n",
    "gF.saveSnapshotNsolutions(2,0,x,np.array([hall1,hall2]),tall1,label,\"$x$\",\"$h$\",\"../figures/Serre/\"+case+\"1h\",ext=\"png\", legloc=loc)\n",
    "gF.saveSnapshotNsolutions(2,0,x,np.array([uall1,uall2]),tall1,label,\"$x$\",\"$u$\",\"../figures/Serre/\"+case+\"1u\",ext=\"png\", legloc=loc)\n",
    "it = np.argmin(np.absolute(tall1-1.))\n",
    "gF.saveSnapshotNsolutions(2,it,x,np.array([hall1,hall2]),tall1,label,\"$x$\",\"$h$\",\"../figures/Serre/\"+case+\"2h\",ext=\"png\", legloc=loc)\n",
    "gF.saveSnapshotNsolutions(2,it,x,np.array([uall1,uall2]),tall1,label,\"$x$\",\"$u$\",\"../figures/Serre/\"+case+\"2u\",ext=\"png\", legloc=loc)\n",
    "gF.saveSnapshotNsolutions(2,-1,x,np.array([hall1,hall2]),tall1,label,\"$x$\",\"$h$\",\"../figures/Serre/\"+case+\"3h\",ext=\"png\", legloc=loc)\n",
    "gF.saveSnapshotNsolutions(2,-1,x,np.array([uall1,uall2]),tall1,label,\"$x$\",\"$u$\",\"../figures/Serre/\"+case+\"3u\",ext=\"png\", legloc=loc)"
   ]
  }
 ],
 "metadata": {
  "celltoolbar": "Initialisation Cell",
  "hide_input": false,
  "kernelspec": {
   "display_name": "Python 2",
   "language": "python",
   "name": "python2"
  },
  "language_info": {
   "codemirror_mode": {
    "name": "ipython",
    "version": 2
   },
   "file_extension": ".py",
   "mimetype": "text/x-python",
   "name": "python",
   "nbconvert_exporter": "python",
   "pygments_lexer": "ipython2",
   "version": "2.7.15"
  },
  "latex_envs": {
   "bibliofile": "biblio.bib",
   "cite_by": "apalike",
   "current_citInitial": 1,
   "eqLabelWithNumbers": true,
   "eqNumInitial": 0
  },
  "toc": {
   "toc_cell": false,
   "toc_number_sections": true,
   "toc_threshold": 6,
   "toc_window_display": false
  }
 },
 "nbformat": 4,
 "nbformat_minor": 1
}
