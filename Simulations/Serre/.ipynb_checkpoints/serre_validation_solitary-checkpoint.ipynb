{
 "cells": [
  {
   "cell_type": "markdown",
   "metadata": {},
   "source": [
    "# Validation of the 4x4 scheme with the solitary wave solution"
   ]
  },
  {
   "cell_type": "code",
   "execution_count": 1,
   "metadata": {
    "run_control": {
     "frozen": false,
     "read_only": false
    }
   },
   "outputs": [],
   "source": [
    "import numpy as np\n",
    "import matplotlib.pyplot as plt\n",
    "%matplotlib inline"
   ]
  },
  {
   "cell_type": "code",
   "execution_count": 2,
   "metadata": {},
   "outputs": [],
   "source": [
    "import sys\n",
    "sys.path.append('../')\n",
    "sys.path.append('../nswe')"
   ]
  },
  {
   "cell_type": "code",
   "execution_count": 3,
   "metadata": {
    "run_control": {
     "frozen": false,
     "read_only": false
    }
   },
   "outputs": [],
   "source": [
    "import nswe_wbmuscl4 as wb4\n",
    "def fluxes_periodic(h,hu,n,periodic,ng,ref,idx):\n",
    "    nx = h.shape[0]-4\n",
    "    h0 = np.zeros(nx+6)\n",
    "    u0 = np.zeros(nx+6)\n",
    "    d0 = np.zeros(nx+6)\n",
    "\n",
    "    h0[3:-3] = h[2:-2]\n",
    "    u0[3:-3] = hu[2:-2] #hu\n",
    "    u0 = np.where(h0>1e-10,u0/h0,h0)#hu/h\n",
    "    \n",
    "    #periodic bcs\n",
    "    h0[:3] = h0[-6:-3]\n",
    "    h0[-3:] = h0[3:6]\n",
    "    u0[:3] = u0[-6:-3]\n",
    "    u0[-3:] = u0[3:6]\n",
    "    \n",
    "    fp, fm, sc = wb4.fluxes_sources(d0,h0,u0,hmin=1e-20)\n",
    "    return fp"
   ]
  },
  {
   "cell_type": "markdown",
   "metadata": {},
   "source": [
    "Same case as in section 4.1 of the paper of Bonneton et al. 2011."
   ]
  },
  {
   "cell_type": "markdown",
   "metadata": {},
   "source": [
    "First configuration"
   ]
  },
  {
   "cell_type": "code",
   "execution_count": 4,
   "metadata": {},
   "outputs": [],
   "source": [
    "def solitary(x,t,a0,a1):\n",
    "    kappa = np.sqrt(3.*a1)/(2.*a0*np.sqrt(a0+a1))\n",
    "    c = np.sqrt(9.81*(a0+a1))\n",
    "    h = a0 + a1*np.cosh(kappa*(x-c*t))**(-2)\n",
    "    u = c*(1.-h0/h)\n",
    "    return kappa,c,h,u"
   ]
  },
  {
   "cell_type": "code",
   "execution_count": 5,
   "metadata": {
    "run_control": {
     "frozen": false,
     "read_only": false
    }
   },
   "outputs": [],
   "source": [
    "h0 = 0.5\n",
    "a = 0.05*h0\n",
    "L = 30.0\n",
    "dx = 1.0/8\n",
    "nx = L/dx+1\n",
    "xmin = -L/2.\n",
    "xmax = L/2."
   ]
  },
  {
   "cell_type": "code",
   "execution_count": 6,
   "metadata": {
    "run_control": {
     "frozen": false,
     "read_only": false
    }
   },
   "outputs": [
    {
     "name": "stderr",
     "output_type": "stream",
     "text": [
      "/home/gaspard/.virtualenvs/py2/lib/python2.7/site-packages/ipykernel_launcher.py:1: DeprecationWarning: object of type <type 'float'> cannot be safely interpreted as an integer.\n",
      "  \"\"\"Entry point for launching an IPython kernel.\n"
     ]
    },
    {
     "data": {
      "text/plain": [
       "0.125"
      ]
     },
     "execution_count": 6,
     "metadata": {},
     "output_type": "execute_result"
    }
   ],
   "source": [
    "x = np.linspace(-L/2.-2*dx,L/2.+2*dx,nx+4)\n",
    "np.diff(x)[0]"
   ]
  },
  {
   "cell_type": "code",
   "execution_count": 7,
   "metadata": {
    "run_control": {
     "frozen": false,
     "read_only": false
    }
   },
   "outputs": [],
   "source": [
    "kappa,c,h,u = solitary(x,0.0,h0,a)"
   ]
  },
  {
   "cell_type": "code",
   "execution_count": 8,
   "metadata": {
    "run_control": {
     "frozen": false,
     "read_only": false
    }
   },
   "outputs": [
    {
     "data": {
      "text/plain": [
       "[<matplotlib.lines.Line2D at 0x7f9e52cdced0>]"
      ]
     },
     "execution_count": 8,
     "metadata": {},
     "output_type": "execute_result"
    },
    {
     "data": {
      "image/png": "[encoded data removed]",
      "text/plain": [
       "<Figure size 432x288 with 1 Axes>"
      ]
     },
     "metadata": {},
     "output_type": "display_data"
    }
   ],
   "source": [
    "plt.plot(x,h)"
   ]
  },
  {
   "cell_type": "code",
   "execution_count": 9,
   "metadata": {
    "run_control": {
     "frozen": false,
     "read_only": false
    }
   },
   "outputs": [
    {
     "data": {
      "text/plain": [
       "[<matplotlib.lines.Line2D at 0x7f9e52c86a90>]"
      ]
     },
     "execution_count": 9,
     "metadata": {},
     "output_type": "execute_result"
    },
    {
     "data": {
      "image/png": "[encoded data removed]",
      "text/plain": [
       "<Figure size 432x288 with 1 Axes>"
      ]
     },
     "metadata": {},
     "output_type": "display_data"
    }
   ],
   "source": [
    "plt.plot(u)"
   ]
  },
  {
   "cell_type": "code",
   "execution_count": 10,
   "metadata": {
    "run_control": {
     "frozen": false,
     "read_only": false
    }
   },
   "outputs": [],
   "source": [
    "import serre"
   ]
  },
  {
   "cell_type": "code",
   "execution_count": 11,
   "metadata": {
    "run_control": {
     "frozen": false,
     "read_only": false
    }
   },
   "outputs": [
    {
     "data": {
      "text/plain": [
       "0.05644045512321636"
      ]
     },
     "execution_count": 11,
     "metadata": {},
     "output_type": "execute_result"
    }
   ],
   "source": [
    "dx/np.sqrt(9.81*h0)"
   ]
  },
  {
   "cell_type": "code",
   "execution_count": 12,
   "metadata": {
    "run_control": {
     "frozen": false,
     "read_only": false
    }
   },
   "outputs": [
    {
     "name": "stdout",
     "output_type": "stream",
     "text": [
      "CFL = 51.200000\n"
     ]
    },
    {
     "ename": "TypeError",
     "evalue": "fluxes_periodic() takes exactly 3 arguments (7 given)",
     "output_type": "error",
     "traceback": [
      "\u001b[0;31m---------------------------------------------------------------------------\u001b[0m",
      "\u001b[0;31mTypeError\u001b[0m                                 Traceback (most recent call last)",
      "\u001b[0;32m<ipython-input-12-aa153bae0ee7>\u001b[0m in \u001b[0;36m<module>\u001b[0;34m()\u001b[0m\n\u001b[1;32m      6\u001b[0m                                      \u001b[0mnx\u001b[0m\u001b[0;34m,\u001b[0m\u001b[0mvardt\u001b[0m \u001b[0;34m=\u001b[0m \u001b[0mFalse\u001b[0m\u001b[0;34m,\u001b[0m \u001b[0mdt\u001b[0m \u001b[0;34m=\u001b[0m \u001b[0;36m0.01\u001b[0m\u001b[0;34m*\u001b[0m\u001b[0;36m10.\u001b[0m\u001b[0;34m,\u001b[0m \u001b[0msplitSteps\u001b[0m\u001b[0;34m=\u001b[0m\u001b[0;36m3\u001b[0m\u001b[0;34m,\u001b[0m\u001b[0;34m\u001b[0m\u001b[0m\n\u001b[1;32m      7\u001b[0m                                      \u001b[0morder\u001b[0m\u001b[0;34m=\u001b[0m\u001b[0;36m2\u001b[0m\u001b[0;34m,\u001b[0m \u001b[0mperiodic\u001b[0m\u001b[0;34m=\u001b[0m\u001b[0mTrue\u001b[0m\u001b[0;34m,\u001b[0m \u001b[0mfvsolver\u001b[0m \u001b[0;34m=\u001b[0m \u001b[0mfluxes_periodic\u001b[0m\u001b[0;34m,\u001b[0m\u001b[0;34m\u001b[0m\u001b[0m\n\u001b[0;32m----> 8\u001b[0;31m                                      fdsolver = serre.EFDSolverFM4, ghostcells=2)\n\u001b[0m",
      "\u001b[0;32m/home/gaspard/Documents/ENPC/Cesure/INRIA Chile/Stage/inriamericwaves/Simulations/Serre/serre.pyc\u001b[0m in \u001b[0;36msplitSerre\u001b[0;34m(x, h, u, t0, tmax, bcfunction1, bcfunction2, bcparam1, bcparam2, dx, nx, vardt, dt, splitSteps, periodic, order, fvsolver, fvTimesolver, fdsolver, ghostcells, eta, Y, ref, idx)\u001b[0m\n\u001b[1;32m    902\u001b[0m \u001b[0;34m\u001b[0m\u001b[0m\n\u001b[1;32m    903\u001b[0m         \u001b[0;32mif\u001b[0m \u001b[0msplitSteps\u001b[0m \u001b[0;34m==\u001b[0m \u001b[0;36m3\u001b[0m\u001b[0;34m:\u001b[0m \u001b[0;31m## Adv Disp Adv\u001b[0m\u001b[0;34m\u001b[0m\u001b[0m\n\u001b[0;32m--> 904\u001b[0;31m             \u001b[0mh\u001b[0m\u001b[0;34m,\u001b[0m\u001b[0mhu\u001b[0m \u001b[0;34m=\u001b[0m \u001b[0mfvTimesolver\u001b[0m\u001b[0;34m(\u001b[0m\u001b[0mx\u001b[0m\u001b[0;34m,\u001b[0m\u001b[0mh\u001b[0m\u001b[0;34m,\u001b[0m\u001b[0mhu\u001b[0m\u001b[0;34m,\u001b[0m\u001b[0mfvsolver\u001b[0m\u001b[0;34m,\u001b[0m\u001b[0mbcfunction1\u001b[0m\u001b[0;34m,\u001b[0m\u001b[0mbcparam1\u001b[0m\u001b[0;34m,\u001b[0m\u001b[0mdx\u001b[0m\u001b[0;34m,\u001b[0m\u001b[0mdt\u001b[0m\u001b[0;34m/\u001b[0m\u001b[0;36m2.\u001b[0m\u001b[0;34m,\u001b[0m\u001b[0mnx\u001b[0m\u001b[0;34m,\u001b[0m\u001b[0mt\u001b[0m\u001b[0;34m,\u001b[0m\u001b[0mperiodic\u001b[0m\u001b[0;34m,\u001b[0m\u001b[0mng\u001b[0m\u001b[0;34m=\u001b[0m\u001b[0mghostcells\u001b[0m\u001b[0;34m)\u001b[0m\u001b[0;34m\u001b[0m\u001b[0m\n\u001b[0m\u001b[1;32m    905\u001b[0m             \u001b[0mu\u001b[0m \u001b[0;34m=\u001b[0m \u001b[0mnp\u001b[0m\u001b[0;34m.\u001b[0m\u001b[0mwhere\u001b[0m\u001b[0;34m(\u001b[0m\u001b[0mh\u001b[0m\u001b[0;34m[\u001b[0m\u001b[0;34m:\u001b[0m\u001b[0;34m]\u001b[0m\u001b[0;34m>\u001b[0m\u001b[0;36m1e-5\u001b[0m\u001b[0;34m,\u001b[0m \u001b[0mhu\u001b[0m\u001b[0;34m[\u001b[0m\u001b[0;34m:\u001b[0m\u001b[0;34m]\u001b[0m\u001b[0;34m/\u001b[0m\u001b[0mh\u001b[0m\u001b[0;34m[\u001b[0m\u001b[0;34m:\u001b[0m\u001b[0;34m]\u001b[0m\u001b[0;34m,\u001b[0m \u001b[0;36m0.\u001b[0m\u001b[0;34m)\u001b[0m\u001b[0;34m\u001b[0m\u001b[0m\n\u001b[1;32m    906\u001b[0m             \u001b[0mu\u001b[0m \u001b[0;34m=\u001b[0m \u001b[0mfdsolver\u001b[0m\u001b[0;34m(\u001b[0m\u001b[0mhm1\u001b[0m\u001b[0;34m,\u001b[0m\u001b[0mh\u001b[0m\u001b[0;34m,\u001b[0m\u001b[0mu\u001b[0m\u001b[0;34m,\u001b[0m\u001b[0mdx\u001b[0m\u001b[0;34m,\u001b[0m\u001b[0mdt\u001b[0m\u001b[0;34m,\u001b[0m\u001b[0mt\u001b[0m\u001b[0;34m,\u001b[0m\u001b[0morder\u001b[0m\u001b[0;34m,\u001b[0m\u001b[0mbcfunction2\u001b[0m\u001b[0;34m,\u001b[0m\u001b[0mbcparam2\u001b[0m\u001b[0;34m,\u001b[0m\u001b[0mperiodic\u001b[0m\u001b[0;34m=\u001b[0m\u001b[0mperiodic\u001b[0m\u001b[0;34m,\u001b[0m\u001b[0mng\u001b[0m\u001b[0;34m=\u001b[0m\u001b[0mghostcells\u001b[0m\u001b[0;34m,\u001b[0m\u001b[0mY\u001b[0m\u001b[0;34m=\u001b[0m\u001b[0mY\u001b[0m\u001b[0;34m,\u001b[0m\u001b[0mnit\u001b[0m\u001b[0;34m=\u001b[0m\u001b[0mit\u001b[0m\u001b[0;34m,\u001b[0m\u001b[0muall\u001b[0m\u001b[0;34m=\u001b[0m\u001b[0muall\u001b[0m\u001b[0;34m)\u001b[0m\u001b[0;34m\u001b[0m\u001b[0m\n",
      "\u001b[0;32m/home/gaspard/Documents/ENPC/Cesure/INRIA Chile/Stage/inriamericwaves/Simulations/Serre/serre.pyc\u001b[0m in \u001b[0;36mRK4\u001b[0;34m(x, uA, uB, f, bcf, bcp, dx, dt, nx, t, periodic, ng, ref, idx)\u001b[0m\n\u001b[1;32m    144\u001b[0m     \u001b[0muuB\u001b[0m \u001b[0;34m=\u001b[0m \u001b[0mnp\u001b[0m\u001b[0;34m.\u001b[0m\u001b[0mcopy\u001b[0m\u001b[0;34m(\u001b[0m\u001b[0muB\u001b[0m\u001b[0;34m)\u001b[0m\u001b[0;34m\u001b[0m\u001b[0m\n\u001b[1;32m    145\u001b[0m     \u001b[0muuA\u001b[0m\u001b[0;34m,\u001b[0m\u001b[0muuB\u001b[0m \u001b[0;34m=\u001b[0m \u001b[0mbcf\u001b[0m\u001b[0;34m(\u001b[0m\u001b[0muuA\u001b[0m\u001b[0;34m,\u001b[0m\u001b[0muuB\u001b[0m\u001b[0;34m,\u001b[0m\u001b[0mbcp\u001b[0m\u001b[0;34m,\u001b[0m\u001b[0mdx\u001b[0m\u001b[0;34m,\u001b[0m\u001b[0mt\u001b[0m\u001b[0;34m)\u001b[0m\u001b[0;34m\u001b[0m\u001b[0m\n\u001b[0;32m--> 146\u001b[0;31m     \u001b[0mk1A\u001b[0m\u001b[0;34m,\u001b[0m\u001b[0mk1B\u001b[0m \u001b[0;34m=\u001b[0m \u001b[0mgetRK4coef\u001b[0m\u001b[0;34m(\u001b[0m\u001b[0mx\u001b[0m\u001b[0;34m,\u001b[0m\u001b[0muuA\u001b[0m\u001b[0;34m,\u001b[0m\u001b[0muuB\u001b[0m\u001b[0;34m,\u001b[0m\u001b[0mf\u001b[0m\u001b[0;34m,\u001b[0m\u001b[0mdx\u001b[0m\u001b[0;34m,\u001b[0m\u001b[0mdt\u001b[0m\u001b[0;34m,\u001b[0m\u001b[0mnx\u001b[0m\u001b[0;34m,\u001b[0m\u001b[0mperiodic\u001b[0m\u001b[0;34m,\u001b[0m\u001b[0mng\u001b[0m\u001b[0;34m,\u001b[0m\u001b[0mref\u001b[0m\u001b[0;34m,\u001b[0m\u001b[0midx\u001b[0m\u001b[0;34m)\u001b[0m\u001b[0;34m\u001b[0m\u001b[0m\n\u001b[0m\u001b[1;32m    147\u001b[0m     \u001b[0mk1A\u001b[0m \u001b[0;34m=\u001b[0m \u001b[0mextend2GhostCells\u001b[0m\u001b[0;34m(\u001b[0m\u001b[0mk1A\u001b[0m\u001b[0;34m,\u001b[0m\u001b[0mng\u001b[0m\u001b[0;34m)\u001b[0m\u001b[0;34m\u001b[0m\u001b[0m\n\u001b[1;32m    148\u001b[0m     \u001b[0mk1B\u001b[0m \u001b[0;34m=\u001b[0m \u001b[0mextend2GhostCells\u001b[0m\u001b[0;34m(\u001b[0m\u001b[0mk1B\u001b[0m\u001b[0;34m,\u001b[0m\u001b[0mng\u001b[0m\u001b[0;34m)\u001b[0m\u001b[0;34m\u001b[0m\u001b[0m\n",
      "\u001b[0;32m/home/gaspard/Documents/ENPC/Cesure/INRIA Chile/Stage/inriamericwaves/Simulations/Serre/serre.pyc\u001b[0m in \u001b[0;36mgetRK4coef\u001b[0;34m(x, uA, uB, f, dx, dt, nx, periodic, ng, ref, idx)\u001b[0m\n\u001b[1;32m    131\u001b[0m \u001b[0;31m# compute any of the RK4 coefficients (k_i)\u001b[0m\u001b[0;34m\u001b[0m\u001b[0;34m\u001b[0m\u001b[0m\n\u001b[1;32m    132\u001b[0m \u001b[0;32mdef\u001b[0m \u001b[0mgetRK4coef\u001b[0m\u001b[0;34m(\u001b[0m\u001b[0mx\u001b[0m\u001b[0;34m,\u001b[0m\u001b[0muA\u001b[0m\u001b[0;34m,\u001b[0m\u001b[0muB\u001b[0m\u001b[0;34m,\u001b[0m\u001b[0mf\u001b[0m\u001b[0;34m,\u001b[0m\u001b[0mdx\u001b[0m\u001b[0;34m,\u001b[0m\u001b[0mdt\u001b[0m\u001b[0;34m,\u001b[0m\u001b[0mnx\u001b[0m\u001b[0;34m,\u001b[0m\u001b[0mperiodic\u001b[0m\u001b[0;34m,\u001b[0m\u001b[0mng\u001b[0m\u001b[0;34m,\u001b[0m\u001b[0mref\u001b[0m\u001b[0;34m=\u001b[0m\u001b[0;34m[\u001b[0m\u001b[0;34m]\u001b[0m\u001b[0;34m,\u001b[0m\u001b[0midx\u001b[0m\u001b[0;34m=\u001b[0m\u001b[0;34m[\u001b[0m\u001b[0;34m]\u001b[0m\u001b[0;34m)\u001b[0m\u001b[0;34m:\u001b[0m\u001b[0;34m\u001b[0m\u001b[0m\n\u001b[0;32m--> 133\u001b[0;31m     \u001b[0mF\u001b[0m \u001b[0;34m=\u001b[0m \u001b[0mf\u001b[0m\u001b[0;34m(\u001b[0m\u001b[0muA\u001b[0m\u001b[0;34m,\u001b[0m\u001b[0muB\u001b[0m\u001b[0;34m,\u001b[0m\u001b[0mnx\u001b[0m\u001b[0;34m,\u001b[0m\u001b[0mperiodic\u001b[0m\u001b[0;34m,\u001b[0m\u001b[0mng\u001b[0m\u001b[0;34m,\u001b[0m\u001b[0mref\u001b[0m\u001b[0;34m,\u001b[0m\u001b[0midx\u001b[0m\u001b[0;34m)\u001b[0m\u001b[0;34m\u001b[0m\u001b[0m\n\u001b[0m\u001b[1;32m    134\u001b[0m     \u001b[0;32mreturn\u001b[0m \u001b[0;34m-\u001b[0m\u001b[0mdt\u001b[0m\u001b[0;34m/\u001b[0m\u001b[0mdx\u001b[0m\u001b[0;34m*\u001b[0m\u001b[0;34m(\u001b[0m\u001b[0mF\u001b[0m\u001b[0;34m[\u001b[0m\u001b[0;36m0\u001b[0m\u001b[0;34m,\u001b[0m\u001b[0;36m1\u001b[0m\u001b[0;34m:\u001b[0m\u001b[0;34m]\u001b[0m \u001b[0;34m-\u001b[0m \u001b[0mF\u001b[0m\u001b[0;34m[\u001b[0m\u001b[0;36m0\u001b[0m\u001b[0;34m,\u001b[0m\u001b[0;34m:\u001b[0m\u001b[0;34m-\u001b[0m\u001b[0;36m1\u001b[0m\u001b[0;34m]\u001b[0m\u001b[0;34m)\u001b[0m\u001b[0;34m,\u001b[0m \u001b[0;34m-\u001b[0m\u001b[0mdt\u001b[0m\u001b[0;34m/\u001b[0m\u001b[0mdx\u001b[0m\u001b[0;34m*\u001b[0m\u001b[0;34m(\u001b[0m\u001b[0mF\u001b[0m\u001b[0;34m[\u001b[0m\u001b[0;36m1\u001b[0m\u001b[0;34m,\u001b[0m\u001b[0;36m1\u001b[0m\u001b[0;34m:\u001b[0m\u001b[0;34m]\u001b[0m \u001b[0;34m-\u001b[0m \u001b[0mF\u001b[0m\u001b[0;34m[\u001b[0m\u001b[0;36m1\u001b[0m\u001b[0;34m,\u001b[0m\u001b[0;34m:\u001b[0m\u001b[0;34m-\u001b[0m\u001b[0;36m1\u001b[0m\u001b[0;34m]\u001b[0m\u001b[0;34m)\u001b[0m\u001b[0;34m\u001b[0m\u001b[0m\n\u001b[1;32m    135\u001b[0m \u001b[0;34m\u001b[0m\u001b[0m\n",
      "\u001b[0;31mTypeError\u001b[0m: fluxes_periodic() takes exactly 3 arguments (7 given)"
     ]
    }
   ],
   "source": [
    "u2 = np.copy(u)\n",
    "h2 = np.copy(h)\n",
    "\n",
    "hall3,uall3,tall3 = serre.splitSerre(x,h,u,0,10.,serre.periodicDomainTwoGC,\n",
    "                                     serre.periodicDomain2TwoGC,None,None,dx,\n",
    "                                     nx,vardt = False, dt = 0.01*10., splitSteps=3,\n",
    "                                     order=2, periodic=True, fvsolver = fluxes_periodic, \n",
    "                                     fdsolver = serre.EFDSolverFM4, ghostcells=2)"
   ]
  },
  {
   "cell_type": "code",
   "execution_count": null,
   "metadata": {
    "run_control": {
     "frozen": false,
     "read_only": false
    }
   },
   "outputs": [],
   "source": [
    "from matplotlib import animation\n",
    "from JSAnimation import IPython_display\n",
    "\n",
    "fig = plt.figure()\n",
    "ax = plt.axes(xlim=(-L,L), ylim=(0.495,0.526))\n",
    "\n",
    "# lineExact, = ax.plot(x, hallexact[:,0])\n",
    "# lineSw, = ax.plot(x[2:-2],hall1[2:-2,0])\n",
    "# lineSerre2, = ax.plot(x[2:-2],hall2[2:-2,0])\n",
    "lineSerre4, = ax.plot(x[2:-2],hall3[2:-2,0])\n",
    "\n",
    "\n",
    "ttl = ax.set_title('t=')\n",
    "# fig.legend((lineExact,lineSw,lineSerre2,lineSerre4),\n",
    "#            ('exact','nswe2','serre2x4','serre4x4'))\n",
    "# fig.legend((lineExact,lineSerre4),\n",
    "#            ('exact','serre4x4'))\n",
    "\n",
    "\n",
    "def animate(i):\n",
    "    i = min(tall3.shape[0]-1,i*hall3.shape[0]/40)\n",
    "    ttl.set_text('t=%.3f'%tall3[i])\n",
    "    \n",
    "#     lineExact.set_data(x, hallexact[:,i])\n",
    "#     lineSw.set_data(x[2:-2],hall2[2:-2,i])\n",
    "#     lineSerre2.set_data(x[2:-2],hall1[2:-2,i])    \n",
    "    lineSerre4.set_data(x[2:-2],hall3[2:-2,i])\n",
    "    \n",
    "\n",
    "animation.FuncAnimation(fig, animate, frames=40, interval=200)"
   ]
  },
  {
   "cell_type": "code",
   "execution_count": null,
   "metadata": {
    "run_control": {
     "frozen": false,
     "read_only": false
    }
   },
   "outputs": [],
   "source": []
  }
 ],
 "metadata": {
  "hide_input": false,
  "kernelspec": {
   "display_name": "Python 2",
   "language": "python",
   "name": "python2"
  },
  "language_info": {
   "codemirror_mode": {
    "name": "ipython",
    "version": 2
   },
   "file_extension": ".py",
   "mimetype": "text/x-python",
   "name": "python",
   "nbconvert_exporter": "python",
   "pygments_lexer": "ipython2",
   "version": "2.7.15"
  },
  "latex_envs": {
   "bibliofile": "biblio.bib",
   "cite_by": "apalike",
   "current_citInitial": 1,
   "eqLabelWithNumbers": true,
   "eqNumInitial": 0
  },
  "toc": {
   "toc_cell": false,
   "toc_number_sections": true,
   "toc_threshold": 6,
   "toc_window_display": false
  }
 },
 "nbformat": 4,
 "nbformat_minor": 1
}
