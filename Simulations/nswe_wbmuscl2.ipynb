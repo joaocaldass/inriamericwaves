{
 "cells": [
  {
   "cell_type": "markdown",
   "metadata": {},
   "source": [
    "# Well balanced second order MUSCL Scheme for the Shallow Water Equations"
   ]
  },
  {
   "cell_type": "code",
   "execution_count": 2,
   "metadata": {
    "collapsed": true
   },
   "outputs": [],
   "source": [
    "import numpy as np\n",
    "import matplotlib.pyplot as plt\n",
    "%matplotlib inline"
   ]
  },
  {
   "cell_type": "code",
   "execution_count": 3,
   "metadata": {
    "collapsed": true
   },
   "outputs": [],
   "source": [
    "import muscl2"
   ]
  },
  {
   "cell_type": "markdown",
   "metadata": {},
   "source": [
    "## MUSCL reconstruction \n",
    "Using $U=(h,hu)$ the first reconstruction consists of\n",
    "* Obtain reconstructed values of conserved variables $U_{i,r},U_{i,l}$ \n",
    "* Reconstruct free surface elevation $H_{i,l}$ and $H_{i,r}$ where $H=h+d$\n",
    "* Obtain topography values $d_{i,l}$ and $d_{i,r}$, where $d=H-h$, con $H$ y $h$ from the reconstruction\n"
   ]
  },
  {
   "cell_type": "code",
   "execution_count": 6,
   "metadata": {
    "collapsed": true
   },
   "outputs": [],
   "source": [
    "def minmod(slope1, slope2):\n",
    "    if (slope1>0 and slope2 > 0):\n",
    "        return min(slope1,slope2)\n",
    "    if (slope1<0 and slope2<0):\n",
    "        return max(slope1,slope2)\n",
    "    return 0.\n",
    "minmod = np.vectorize(minmod)"
   ]
  },
  {
   "cell_type": "code",
   "execution_count": 10,
   "metadata": {
    "collapsed": true
   },
   "outputs": [],
   "source": [
    "def musclrecontr(U0,U1,U2,d0,d1,d2,dx=1):\n",
    "    \"\"\"\n",
    "        Receives states U=(h,hu) and topography d, from a cell (say 1) \n",
    "        and its first neighbors (0 and 2) \n",
    "        and returns muscl reconstruction U_{il} and U_{ir} and\n",
    "        d_{il}, d_{ir} of conserved variables and bathymetry at\n",
    "        cell boundaries\n",
    "        \n",
    "        U0,U1,U2,d0,d1,d2 are \n",
    "        \n",
    "        dx is irrelevant for regular grids\n",
    "        but is kept for code semantic and mantainability\n",
    "    \"\"\"\n",
    "    ###TODO ** Se podría mejorar: \n",
    "    ###hacer 1 función que calcule reconstrucción muscl de un arreglo cualquiera,\n",
    "    ### y llamar a esa dentro de esta **\n",
    "\n",
    "    #conserved variables u\n",
    "    slope1 = (U1-U0)/dx\n",
    "    slope2 = (U2-U1)/dx\n",
    "#     slope = map(minmod,slope1,slope2)\n",
    "    slope = minmod(slope1,slope2)\n",
    "    Uil = U1-0.5*dx*slope\n",
    "    Uir = U1+0.5*dx*slope\n",
    "    \n",
    "    #free surface H\n",
    "    H0 = U0[0]+d0\n",
    "    H1 = U1[0]+d1\n",
    "    H2 = U2[0]+d2\n",
    "    \n",
    "    Hslope1 = (H1-H0)/dx\n",
    "    Hslope2 = (H2-H1)/dx\n",
    "    Hslope = minmod(Hslope1,Hslope2)\n",
    "    Hil = H1-0.5*dx*Hslope\n",
    "    Hir = H1+0.5*dx*Hslope\n",
    "    \n",
    "    #topography d\n",
    "    d_il = Hil - uil[0]\n",
    "    d_ir = Hir - uir[0]\n",
    "    \n",
    "    return d_il, d_ir , Uil, Uir"
   ]
  },
  {
   "cell_type": "code",
   "execution_count": 11,
   "metadata": {
    "collapsed": true
   },
   "outputs": [],
   "source": [
    "def getMusclReconstr(d,h,hu):\n",
    "    \"\"\"\n",
    "    Receives d (1,nx+4) and h,hu (1,nx+4)\n",
    "    and returns dl,dr,ul,ur (1\\times nx+2)\n",
    "    for cells -1 to nx (innercells + 1ghost at each end)\n",
    "    \"\"\"\n",
    "    nx = d.shape[0]-4\n",
    "    dl = np.zeros((nx+2,))\n",
    "    dr = np.zeros((nx+2,))\n",
    "    hl = np.zeros((nx+2,))\n",
    "    hr = np.zeros((nx+2,))\n",
    "    hul = np.zeros((nx+2,))\n",
    "    hur = np.zeros((nx+2,))\n",
    "    for i in range(1,nx+3,1):\n",
    "        u0 = np.array([h[i-1],hu[i-1]])\n",
    "        u1 = np.array([h[i],hu[i]])\n",
    "        u2 = np.array([h[i+1],hu[i+1]])\n",
    "        d0 = d[i-1]\n",
    "        d1 = d[i]\n",
    "        d2 = d[i+1]\n",
    "        dl[i-1], dr[i-1], (hl[i-1],hul[i-1]), (hr[i-1],hur[i-1]) = musclrecontr(u0,u1,u2,d0,d1,d2)\n",
    "    return dl, dr, hl, hr, hul, hur        "
   ]
  },
  {
   "cell_type": "markdown",
   "metadata": {},
   "source": [
    "## Hydrostatic reconstruction\n",
    "* Interface topography values are defined as $$d_{i+1/2} = max(d_{i,r}, d_{i+1,l})$$\n",
    "* And water height at each side of interfaces as\n",
    "\n",
    "$$h_{i+1/2-} = max(0, h_{i,r} +d_{i,r} - d_{i+1/2})$$\n",
    "  $$h_{i+1/2+} = max(0, h_{i+1,l}+d_{i+1,l}-d_{i+1/2})$$\n",
    "  \n",
    "* Finally, conserved values at each side of the interface\n",
    "\n",
    "$$ U_{i+1/2-} = (h_{i+1/2-}, h_{i+1/2-} u_{i,r})^t$$\n",
    "$$ U_{i+1/2+} = (h_{i+1/2+}, h_{i+1/2+} u_{i+1,l})^t$$"
   ]
  },
  {
   "cell_type": "code",
   "execution_count": 5,
   "metadata": {
    "collapsed": true
   },
   "outputs": [],
   "source": [
    "muscl2.getMusclReconstr?"
   ]
  }
 ],
 "metadata": {
  "kernelspec": {
   "display_name": "Python 2",
   "language": "python",
   "name": "python2"
  },
  "language_info": {
   "codemirror_mode": {
    "name": "ipython",
    "version": 2
   },
   "file_extension": ".py",
   "mimetype": "text/x-python",
   "name": "python",
   "nbconvert_exporter": "python",
   "pygments_lexer": "ipython2",
   "version": "2.7.11"
  }
 },
 "nbformat": 4,
 "nbformat_minor": 0
}
