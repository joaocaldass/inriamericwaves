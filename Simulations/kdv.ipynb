{
 "cells": [
  {
   "cell_type": "code",
   "execution_count": 26,
   "metadata": {
    "collapsed": false
   },
   "outputs": [
    {
     "name": "stdout",
     "output_type": "stream",
     "text": [
      "Populating the interactive namespace from numpy and matplotlib\n"
     ]
    },
    {
     "name": "stderr",
     "output_type": "stream",
     "text": [
      "WARNING: pylab import has clobbered these variables: ['uint']\n",
      "`%matplotlib` prevents importing * from pylab and numpy\n"
     ]
    }
   ],
   "source": [
    "import numpy as np\n",
    "%matplotlib inline\n",
    "%pylab inline\n",
    "import matplotlib.pyplot as plt\n",
    "import sys, time\n",
    "from IPython.display import clear_output, display\n",
    "from matplotlib import animation\n",
    "from JSAnimation import IPython_display\n",
    "from JSAnimation import HTMLWriter"
   ]
  },
  {
   "cell_type": "markdown",
   "metadata": {},
   "source": [
    "# Numerical resolution of KdV equation using a Finite Volume method"
   ]
  },
  {
   "cell_type": "markdown",
   "metadata": {},
   "source": [
    "## Model : Korteweg - de Vries (KdV) equation :\n",
    "\n",
    "We will compute an approximate solution to the KdV equation, which models a wave propagation accpounting for nonlinear ansd dispersive effects : \n",
    "\n",
    "\\begin{equation}\n",
    "\\begin{cases}\n",
    "    u_t + au_x + b(u^2)_x + u_{xxx} = 0 \\ , \\ \\ x \\in [x_{min},x_{max}], \\ \\ t \\in [0, t_{max}] \\\\\n",
    "    u(x,0) = \\Phi(x)\n",
    "\\end{cases}\n",
    "\\end{equation}\n",
    "\n",
    "The constant coefficients $a$ and $b$ were introduced in order to analyze the influence of the phenomena acting in the model (pure advrection, nonlinearity and diffusion).\n",
    "\n",
    "The kdV equation will be split in two equations, leading to the resolution of the following problem in each time step: \n",
    "\n",
    "\\begin{equation}\n",
    "\\begin{cases}\n",
    "    v_t + av_x + b(v^2)_x = 0 \\ \\ ,\\ t \\in [t_n,t_{n+1}], \\  v(t_n) = u(t_n) \\\\\n",
    "    w_t + w_{xxx} = 0 \\ \\ , \\ t \\in [t_n,t_{n+1}], \\  w(t_n) = v(t_{n+1}) \\\\\n",
    "    u(t_{n+1}) = v(t_{n+1})\n",
    "\\end{cases}\n",
    "\\end{equation}"
   ]
  },
  {
   "cell_type": "markdown",
   "metadata": {},
   "source": [
    "## First equation\n",
    "$ v_t + f(v)_x = 0, \\ \\ f(v) = av + bv^2 $\n",
    "\n",
    "\n",
    "### Temporal discretization\n",
    "\n",
    "#### Euler\n",
    "$v_i^{n+1} = v_i^n - \\Delta t  \\  f(v_i^n)_x$\n",
    "\n",
    "#### 4th order Runge-Kutta\n",
    "\\begin{equation}\n",
    "\\begin{cases}\n",
    "k_1 = - f(v_i^n)_x \\\\\n",
    "k_2 = - f\\left(v_i^n + k_1\\frac{\\Delta t }{2}\\right)_x \\\\\n",
    "k_3 = - f\\left(v_i^n + k_2\\frac{\\Delta t }{2}\\right)_x \\\\\n",
    "k_4 = - f(v_i^n + k_3 \\Delta t)_x \\\\\n",
    "v_i^{n+1} = v_i^n + \\frac{\\Delta t}{6}(k_1 + 2k_2 + 2k_3 + k_4)\n",
    "\\end{cases}\n",
    "\\end{equation}\n",
    "\n",
    "\n",
    "\n",
    "### Spatial discretization\n",
    "$ f(v_i^n)_x = \\frac{f\\left(v_{i+1/2}^n\\right) - f\\left(v_{i-1/2}^n\\right)}{\\Delta x}$\n",
    "\n",
    "\n",
    "### Choice of the steps\n",
    "In the non-conservative form, the equation is written as\n",
    "\n",
    "$v_t +  (1+2v)v_x = 0$\n",
    "\n",
    "which configures an advection problem with velocity $1+2v$\n",
    "\n",
    "The space and time steps must verify the CFL condition : \n",
    "\n",
    "$(a+2bv)\\frac{\\Delta t}{\\Delta x} \\leq 1$\n",
    "\n",
    "in order to avoid non-physical behaviours (e.g. mass increasing). Thereforem for each time step, we will chose, for small $\\epsilon$\n",
    "\n",
    "$\\Delta t = \\frac{\\Delta x}{a+2b\\max\\limits_{x}|v|} - \\epsilon$\n",
    "\n",
    "\n",
    "\n",
    "\n",
    "\n",
    "### Evaluation of the solution on cell interfaces : resolution of the Riemann problem\n",
    "In each interface between two cells of the discrete domain, the follozing Riemann problem will be solved :\n",
    "\n",
    "\\begin{equation}\n",
    "\\begin{cases}\n",
    "v_t + f(v)_x = 0 \\\\\n",
    "v(x,0) = v^- \\ , \\ x < 0 \\\\\n",
    "v(x,0) = v^+ \\ , \\ x > 0\n",
    "\\end{cases}\n",
    "\\end{equation}\n",
    "\n",
    "where the boundary is located at $x=0$ and $v^-$ and $v^+$ are the solutions in its two neighbour cells.\n",
    "\n",
    "The flux function $f$ is uniformly convex, so the Riemann problem has a unique weak, admissible solution (REFERENCE) :\n",
    "\n",
    "* If $v^- > v^+$  (shock) : \n",
    "\\begin{equation}\n",
    "v(x,t) = \n",
    "\\begin{cases}\n",
    "v^- \\ ,\\ \\   f(v^-) > f(v^+) \\\\\n",
    "v^+ \\ ,\\ \\ f(v^-) < f(v^+)\n",
    "\\end{cases}\n",
    "\\end{equation}\n",
    "\n",
    "* If $v^+ > v^-$  (rarefaction wave) :\n",
    "\\begin{equation}\n",
    "v(x,t) = \n",
    "\\begin{cases}\n",
    "v^- \\ ,\\ \\ f'(v^-) > 0 \\\\\n",
    "\\left(f'\\right)^{-1}(v) \\ ,\\ \\ f'(v^-) < 0 < f'(v^+) \\\\\n",
    "v^+ \\ ,\\ \\ f'(v^+) < 0 \n",
    "\\end{cases}\n",
    "\\end{equation}"
   ]
  },
  {
   "cell_type": "markdown",
   "metadata": {},
   "source": [
    "## Second equation\n",
    "\n",
    "The second equation will be solved using the Fourier method. Let $\\hat{w}(k,t_n)$ be the Fourier coefficients of $w(x,t_n)$.  The Fourier transform of the equation\n",
    "\n",
    "$w_t+w_{xxx}=0$\n",
    "\n",
    "gives\n",
    "\n",
    "$(\\hat{w})_t(k,t) - ik^3\\hat{w}(k,t)$ = 0\n",
    "\n",
    "It is an ODE in $t$ which solution is\n",
    "$\\hat{w}(k,t) = e^{ik^3(t-t_n)}\\hat{w}(k,t_n)$\n",
    "\n",
    "The inverse Fourier transform using the coefficients $\\hat{w}(k,t_{n+1})$ gives $w(x,t_{n+1})$"
   ]
  },
  {
   "cell_type": "code",
   "execution_count": 27,
   "metadata": {
    "collapsed": false
   },
   "outputs": [],
   "source": [
    "### Spatial discretization\n",
    "L = 2\n",
    "xmin = 0\n",
    "xmax = L\n",
    "dx = 0.025\n",
    "nx = int((xmax-xmin)/dx)\n",
    "x = np.linspace(xmin, xmax,nx+1)"
   ]
  },
  {
   "cell_type": "code",
   "execution_count": 28,
   "metadata": {
    "collapsed": false
   },
   "outputs": [],
   "source": [
    "### Initial solution\n",
    "u = np.zeros(x.shape) # On the cells\n",
    "uint = np.zeros(x.shape) # On the interfaces\n",
    "uall = u\n",
    "\n",
    "## Square wave\n",
    "for i in range(x.size):\n",
    "    if x[i] >= .3 and x[i] <=.4:\n",
    "        u[i] = 1.\n",
    "    \n",
    "## Gaussian wave\n",
    "#u = np.exp(-np.power(x-xmax/2.,2))   \n",
    "\n",
    "u = np.cos(x*np.pi)\n",
    "\n",
    "#u = 2/np.power(np.cosh(x),2)\n",
    "\n",
    "uleft = u[0]\n",
    "uright = u[nx]"
   ]
  },
  {
   "cell_type": "code",
   "execution_count": 29,
   "metadata": {
    "collapsed": false
   },
   "outputs": [],
   "source": [
    "### Time discretization\n",
    "t0 = 0\n",
    "tmax = .5"
   ]
  },
  {
   "cell_type": "code",
   "execution_count": 30,
   "metadata": {
    "collapsed": false
   },
   "outputs": [],
   "source": [
    "def Flux(u):\n",
    "    return a*u + b*u*u\n",
    "def Fluxder(u):\n",
    "    return a + 2.*b*u\n",
    "def Fluxderinv(u):\n",
    "    return (u-1.*a)/(2.*b)"
   ]
  },
  {
   "cell_type": "code",
   "execution_count": 31,
   "metadata": {
    "collapsed": false
   },
   "outputs": [],
   "source": [
    "def Riemann(u,x,t):\n",
    "    #for  i in range(1,x.size-1):\n",
    "    for  i in range(0,x.size-1):\n",
    "        #incl = x[i]/t\n",
    "        incl = 0\n",
    "        um = u[i]\n",
    "        up = u[i+1]\n",
    "        if um == up :\n",
    "            uint[i] = um\n",
    "        elif  um > up:\n",
    "            sigma = (Flux(um) - Flux(up))/(um-up)\n",
    "            if incl < sigma:\n",
    "                uint[i] = um\n",
    "            else:\n",
    "                uint[i] = up\n",
    "        else:\n",
    "            if incl < Fluxder(um) :\n",
    "                uint[i] = um\n",
    "            elif incl > Fluxder(up) :\n",
    "                uint[i] = up\n",
    "            else:\n",
    "                uint[i] = Fluxderinv(incl)\n",
    "    #uint[0] = u[0]\n",
    "    uint[x.size-1] = u[x.size-1]\n",
    "    return uint"
   ]
  },
  {
   "cell_type": "code",
   "execution_count": 32,
   "metadata": {
    "collapsed": false
   },
   "outputs": [],
   "source": [
    "def Euler(u,dx,dt):\n",
    "    umm = np.roll(u,1)\n",
    "    if periodic :\n",
    "        umm[0] = u[u.size-1]\n",
    "    \n",
    "    f = Flux(u)\n",
    "    fmm = Flux(umm)\n",
    "    \n",
    "    u2 = u - dt/dx*(f-fmm)\n",
    "    \n",
    "    return u2"
   ]
  },
  {
   "cell_type": "code",
   "execution_count": 33,
   "metadata": {
    "collapsed": false
   },
   "outputs": [],
   "source": [
    "def RK4(u,dx,dt):\n",
    "    umm = np.roll(u,1)\n",
    "    if periodic :\n",
    "        umm[0] = u[u.size-1]\n",
    "    \n",
    "    f = Flux(u)\n",
    "    fmm = Flux(umm)\n",
    "    k1 = dt*(fmm-f)/dx\n",
    "    \n",
    "    f = Flux(u+k1/2.)\n",
    "    fmm = Flux(umm+k1/2.)\n",
    "    k2 = dt*(fmm-f)/dx\n",
    " \n",
    "    f = Flux(u+k2/2.)\n",
    "    fmm = Flux(umm+k2/2.)\n",
    "    k3 = dt*(fmm-f)/dx\n",
    "    \n",
    "    f = Flux(u+k3)\n",
    "    fmm = Flux(umm+k3)\n",
    "    k4 = dt*(fmm-f)/dx\n",
    "    \n",
    "    u2 = u + 1./6.*(k1+2*k2+2*k3+k4)\n",
    "    \n",
    "    return u2"
   ]
  },
  {
   "cell_type": "code",
   "execution_count": 34,
   "metadata": {
    "collapsed": false
   },
   "outputs": [],
   "source": [
    "def FourierSolver(u,t,dt):\n",
    "    freq = np.linspace(0,u.size-1,u.size)\n",
    "    uhat = np.fft.fft(u)\n",
    "    uhat = uhat*np.exp(dt*1.j*np.power(np.fft.fftfreq(uhat.size,d=dx),3))\n",
    "#    uhat = uhat*np.exp(dt*1.j*np.power(freq/2/np.pi,3))\n",
    "    u2 = np.fft.ifft(uhat)\n",
    "#    if not (np.all(np.isreal(u2))):\n",
    "#        print(u2)\n",
    "#        sys.exit(\"Error in Fourier method\")\n",
    "    return np.real(u2)"
   ]
  },
  {
   "cell_type": "code",
   "execution_count": 35,
   "metadata": {
    "collapsed": false
   },
   "outputs": [],
   "source": [
    "t = t0\n",
    "tall = np.ones(1)*t0\n",
    "u0 = u\n",
    "uall = u\n",
    "u0min = np.amin(u)\n",
    "u0max = np.amax(u)\n",
    "\n",
    "iter = 0\n",
    "eps = 1e-6\n",
    "#plt.plot(x,u)\n",
    "#graph, axes = plt.subplots()\n",
    "\n",
    "##### Parameters\n",
    "printstep = 5\n",
    "periodic = 1\n",
    "a = 1\n",
    "b = 1\n",
    "\n",
    "\n",
    "while t<tmax:\n",
    "    iter = iter + 1\n",
    "    umax = np.amax(np.absolute(u))\n",
    "    dt = dx/(1.*a+2*b*umax) - eps     # CFL CONDITION (???)\n",
    "    #dt = dx\n",
    "    t = t+dt\n",
    "    uint = Riemann(u,x,t)\n",
    "    u= RK4(uint,dx,dt)  \n",
    "    #u = Euler(uint,dx,dt)      \n",
    "    u = FourierSolver(u,t,dt)\n",
    "#    if periodic:\n",
    "#        u[0] = u[nx-1]\n",
    "#        u[nx] = u[1]\n",
    "#    else:\n",
    "#        u[0] = uleft ## Boundary conditions ?\n",
    "#        u[nx] = uright\n",
    "    uall = np.column_stack((uall,u))\n",
    "    tall = np.hstack((tall,t*np.ones(1)))\n",
    "#    if iter%printstep == 0:\n",
    "#        plt.ylim((-2,2))\n",
    "#        plt.text(1, 1, r'$t = %f $' %t)\n",
    "#        axes.plot(x,u)\n",
    "        #time.sleep(.01)\n",
    "#        clear_output(True)\n",
    "#        display(graph)\n",
    "#        axes.cla()\n",
    "    #if iter%printstep == 0:\n",
    "    #    plt.plot(x,u)"
   ]
  },
  {
   "cell_type": "code",
   "execution_count": 36,
   "metadata": {
    "collapsed": false
   },
   "outputs": [
    {
     "data": {
      "image/png": "[encoded data removed]",
      "text/plain": [
       "<matplotlib.figure.Figure at 0x73081d0>"
      ]
     },
     "metadata": {},
     "output_type": "display_data"
    }
   ],
   "source": [
    "# ANIMATION\n",
    "fig = plt.figure()\n",
    "ax = plt.axes(xlim=(xmin, L), ylim=(np.amin(uall), np.amax(uall)))\n",
    "line, = ax.plot([], [], lw=2)\n",
    "\n",
    "def init():\n",
    "    line.set_data([], [])\n",
    "    return line,\n",
    "\n",
    "def animate(i):\n",
    "    line.set_data(x, uall[:,i])\n",
    "    #ax.annotate(r'$t = %f $' %tall[i],(1,1))\n",
    "    return line,"
   ]
  },
  {
   "cell_type": "code",
   "execution_count": 37,
   "metadata": {
    "collapsed": false,
    "scrolled": true
   },
   "outputs": [
    {
     "data": {
      "text/plain": [
       "[<matplotlib.lines.Line2D at 0x8fbac18>]"
      ]
     },
     "execution_count": 37,
     "metadata": {},
     "output_type": "execute_result"
    },
    {
     "data": {
      "image/png": "[encoded data removed]",
      "text/plain": [
       "<matplotlib.figure.Figure at 0x8fba2b0>"
      ]
     },
     "metadata": {},
     "output_type": "display_data"
    }
   ],
   "source": [
    "plt.plot(x,u)\n",
    "plt.plot(x,u0)"
   ]
  },
  {
   "cell_type": "code",
   "execution_count": 38,
   "metadata": {
    "collapsed": false
   },
   "outputs": [],
   "source": [
    "anim = animation.FuncAnimation(fig, animate, init_func=init, frames = iter-1)"
   ]
  },
  {
   "cell_type": "code",
   "execution_count": 39,
   "metadata": {
    "collapsed": false
   },
   "outputs": [],
   "source": [
    "filename = \"cosinus.html\"\n",
    "anim.save(filename, writer=HTMLWriter(embed_frames=True))"
   ]
  },
  {
   "cell_type": "code",
   "execution_count": null,
   "metadata": {
    "collapsed": true
   },
   "outputs": [],
   "source": []
  }
 ],
 "metadata": {
  "kernelspec": {
   "display_name": "Python 2",
   "language": "python",
   "name": "python2"
  },
  "language_info": {
   "codemirror_mode": {
    "name": "ipython",
    "version": 2
   },
   "file_extension": ".py",
   "mimetype": "text/x-python",
   "name": "python",
   "nbconvert_exporter": "python",
   "pygments_lexer": "ipython2",
   "version": "2.7.11"
  }
 },
 "nbformat": 4,
 "nbformat_minor": 0
}
