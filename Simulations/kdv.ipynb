{
 "cells": [
  {
   "cell_type": "code",
   "execution_count": 234,
   "metadata": {
    "collapsed": true
   },
   "outputs": [],
   "source": [
    "import numpy as np\n",
    "%matplotlib inline\n",
    "import matplotlib.pyplot as plt\n",
    "import sys, time\n",
    "from IPython.display import clear_output, display"
   ]
  },
  {
   "cell_type": "markdown",
   "metadata": {},
   "source": [
    "# Numerical resolution of KdV equation using a Finite Volume method"
   ]
  },
  {
   "cell_type": "markdown",
   "metadata": {},
   "source": [
    "## Model : Korteweg - de Vries (KdV) equation :\n",
    "\n",
    "$u_t + u_x + (u^2)_x + u_{xxx} = 0$\n",
    "\n",
    "\n",
    "The kdV equation will be split in two equations: \n",
    "\n",
    "\\begin{equation}\n",
    "\\begin{cases}\n",
    "    u_t + u_x + (u^2)_x = 0 \\\\\n",
    "    u_t + u_{xxx} = 0\n",
    "\\end{cases}\n",
    "\\end{equation}\n",
    "\n",
    "In each time step, the solution $\\tilde{u}^n$ obtained in the first equation will be used in the second one to obtain the final approximation $u^n$."
   ]
  },
  {
   "cell_type": "markdown",
   "metadata": {},
   "source": [
    "## First equation\n",
    "$ u_t + f(u)_x = 0, \\ \\ f(u) = u + u^2 $\n",
    "\n",
    "\n",
    "### Temporal discretization\n",
    "\n",
    "#### Euler\n",
    "$u_i^{n+1} = u_i^n - \\Delta t  \\  f(u_i^n)_x$\n",
    "\n",
    "#### 4th order Runge-Kutta\n",
    "\\begin{equation}\n",
    "\\begin{cases}\n",
    "k_1 = - f(u_i^n)_x \\\\\n",
    "k_2 = - f\\left(u_i^n + k_1\\frac{\\Delta t }{2}\\right)_x \\\\\n",
    "k_3 = - f\\left(u_i^n + k_2\\frac{\\Delta t }{2}\\right)_x \\\\\n",
    "k_4 = - f(u_i^n + k_3 \\Delta t)_x \\\\\n",
    "u_i^{n+1} = u_i^n + \\frac{\\Delta t}{6}(k_1 + 2k_2 + 2k_3 + k_4)\n",
    "\\end{cases}\n",
    "\\end{equation}\n",
    "\n",
    "\n",
    "\n",
    "### Spatial discretization\n",
    "$ f(u_i^n)_x = \\frac{f\\left(u_{i+1/2}^n\\right) - f\\left(u_{i-1/2}^n\\right)}{\\Delta x}$\n",
    "\n",
    "\n",
    "### Choice of the steps\n",
    "In the non-conservative form, the equation is written as\n",
    "\n",
    "$u_t +  (1+2u)u_x = 0$\n",
    "\n",
    "which configures an advection problem with velocity $1+2u$\n",
    "\n",
    "The space and time steps must verify the CFL condition : \n",
    "\n",
    "$(1+2u)\\frac{\\Delta t}{\\Delta x} \\leq 1$\n",
    "\n",
    "in order to avoid non-physical behaviours (e.g. mass increasing). Thereforem for each time step, we will chose, for small $\\epsilon$\n",
    "\n",
    "$\\Delta t = \\frac{\\Delta x}{1+2\\max\\limits_{x}|u|} - \\epsilon$\n",
    "\n",
    "\n",
    "\n",
    "\n",
    "\n",
    "### Evaluation of the solution on cell interfaces : resolution of the Riemann problem\n",
    "In each interface between two cells of the discrete domain, the follozing Riemann problem will be solved :\n",
    "\n",
    "\\begin{equation}\n",
    "\\begin{cases}\n",
    "u_t + f(u)_x = 0 \\\\\n",
    "u(x,0) = u^- \\ , \\ x < 0 \\\\\n",
    "u(x,0) = u^+ \\ , \\ x > 0\n",
    "\\end{cases}\n",
    "\\end{equation}\n",
    "\n",
    "where the boundary is located at $x=0$ and $u^-$ and $u^+$ are the solutions in its two neighbour cells.\n",
    "\n",
    "The flux function $f$ is uniformly convex, so the Riemann problem has a unique weak, admissible solution (REFERENCE) :\n",
    "\n",
    "* If $u^- > u^+$  (shock) : \n",
    "\\begin{equation}\n",
    "u(x,t) = \n",
    "\\begin{cases}\n",
    "u^- \\ ,\\ \\   f(u^-) > f(u^+) \\\\\n",
    "u^+ \\ ,\\ \\ f(u^-) < f(u^+)\n",
    "\\end{cases}\n",
    "\\end{equation}\n",
    "\n",
    "* If $u^+ > u^-$  (rarefaction wave) :\n",
    "\\begin{equation}\n",
    "u(x,t) = \n",
    "\\begin{cases}\n",
    "u^- \\ ,\\ \\ f'(u^-) > 0 \\\\\n",
    "\\left(f'\\right)^{-1}(u) \\ ,\\ \\ f'(u^-) < 0 < f'(u^+) \\\\\n",
    "u^+ \\ ,\\ \\ f'(u^+) < 0 \n",
    "\\end{cases}\n",
    "\\end{equation}"
   ]
  },
  {
   "cell_type": "markdown",
   "metadata": {},
   "source": [
    "## Second equation\n",
    "\n",
    "The second equation will be solved using the Fourier method. Let $\\hat{u}(k,t_n)$ be the Fourier coefficients of $\\tilde{u}(x,t_n)$.  The Fourier transform of the equation\n",
    "\n",
    "$u_t+u_{xxx}=0$\n",
    "\n",
    "gives\n",
    "\n",
    "$(\\hat{u})_t(k,t) - ik^3\\hat{u}(k,t)$ = 0\n",
    "\n",
    "It is an ODE which solution is\n",
    "$\\hat{u}(k,t) = e^{ik^3(t-t_n)}\\hat{u}(k,t_n)$\n",
    "\n",
    "The inverse Fourier transform using the coefficients $\\hat{u}(k,t_{n+1})$ gives $u(x,t_{n+1})$"
   ]
  },
  {
   "cell_type": "code",
   "execution_count": 235,
   "metadata": {
    "collapsed": false
   },
   "outputs": [],
   "source": [
    "### Spatial discretization\n",
    "xlower = 0\n",
    "xupper = 2\n",
    "dx = 0.025\n",
    "nx = int((xupper-xlower)/dx)\n",
    "x = np.linspace(xlower, xupper,nx+1)"
   ]
  },
  {
   "cell_type": "code",
   "execution_count": 236,
   "metadata": {
    "collapsed": false
   },
   "outputs": [],
   "source": [
    "### Initial solution\n",
    "u = np.zeros(x.shape) # On the cells\n",
    "uint = np.zeros(x.shape) # On the interfaces\n",
    "\n",
    "## Square wave\n",
    "for i in range(int(3*nx/10), int(4*nx/10)):\n",
    "    u[i] = 1.\n",
    "    \n",
    "## Gaussian wave\n",
    "#u = np.exp(-np.power(x-xupper/2.,2))   \n",
    "\n",
    "#u = np.cos(x*np.pi)\n",
    "\n",
    "uleft = u[0]\n",
    "uright = u[nx]\n",
    "\n",
    "umax = np.amax(np.absolute(u))"
   ]
  },
  {
   "cell_type": "code",
   "execution_count": 237,
   "metadata": {
    "collapsed": false
   },
   "outputs": [],
   "source": [
    "### Time discretization\n",
    "t0 = 0\n",
    "tmax = 3"
   ]
  },
  {
   "cell_type": "code",
   "execution_count": 238,
   "metadata": {
    "collapsed": false
   },
   "outputs": [],
   "source": [
    "def Flux(u):\n",
    "    return u + u*u\n",
    "def Fluxder(u):\n",
    "    return 1. + 2.*u\n",
    "def Fluxderinv(u):\n",
    "    return (u-1.)/2."
   ]
  },
  {
   "cell_type": "code",
   "execution_count": 239,
   "metadata": {
    "collapsed": false
   },
   "outputs": [],
   "source": [
    "def Riemann(u,x,t):\n",
    "    for  i in range(1,x.size-1):\n",
    "        #incl = x[i]/t\n",
    "        incl = 0\n",
    "        um = u[i]\n",
    "        up = u[i+1]\n",
    "        if um == up :\n",
    "            uint[i] = um\n",
    "        elif  um > up:\n",
    "            sigma = (Flux(um) - Flux(up))/(um-up)\n",
    "            if incl < sigma:\n",
    "                uint[i] = um\n",
    "            else:\n",
    "                uint[i] = up\n",
    "        else:\n",
    "            if incl < Fluxder(um) :\n",
    "                uint[i] = um\n",
    "            elif incl > Fluxder(up) :\n",
    "                uint[i] = up\n",
    "            else:\n",
    "                uint[i] = Fluxderinv(incl)\n",
    "    uint[0] = u[0]\n",
    "    uint[x.size-1] = u[x.size-1]\n",
    "    return uint"
   ]
  },
  {
   "cell_type": "code",
   "execution_count": 240,
   "metadata": {
    "collapsed": false
   },
   "outputs": [],
   "source": [
    "def Euler(u,dx,dt):\n",
    "    umm = np.roll(u,1)\n",
    "    f = Flux(u)\n",
    "    fmm = Flux(umm)\n",
    "    \n",
    "    u2 = u - dt/dx*(f-fmm)\n",
    "    \n",
    "    return u2"
   ]
  },
  {
   "cell_type": "code",
   "execution_count": 241,
   "metadata": {
    "collapsed": false
   },
   "outputs": [],
   "source": [
    "def RK4(u,dx,dt):\n",
    "    umm = np.roll(u,1)\n",
    "    \n",
    "    f = Flux(u)\n",
    "    fmm = Flux(umm)\n",
    "    k1 = dt*(fmm-f)/dx\n",
    "    \n",
    "    f = Flux(u+k1/2.)\n",
    "    fmm = Flux(umm+k1/2.)\n",
    "    k2 = dt*(fmm-f)/dx\n",
    " \n",
    "    f = Flux(u+k2/2.)\n",
    "    fmm = Flux(umm+k2/2.)\n",
    "    k3 = dt*(fmm-f)/dx\n",
    "    \n",
    "    f = Flux(u+k3)\n",
    "    fmm = Flux(umm+k3)\n",
    "    k4 = dt*(fmm-f)/dx\n",
    "    \n",
    "    u2 = u + 1./6.*(k1+2*k2+2*k3+k4)\n",
    "    \n",
    "    return u2"
   ]
  },
  {
   "cell_type": "code",
   "execution_count": 242,
   "metadata": {
    "collapsed": false
   },
   "outputs": [],
   "source": [
    "def FourierSolver(u,t,dt):\n",
    "    uhat = np.fft.fft(u)\n",
    "    uhat = uhat*np.exp(dt*1.j*np.power(np.fft.fftfreq(uhat.size),3))\n",
    "    u2 = np.fft.ifft(uhat)\n",
    "#    if not (np.all(np.isreal(u2))):\n",
    "#        print(u2)\n",
    "#        sys.exit(\"Error in Fourier method\")\n",
    "    return np.real(u2)"
   ]
  },
  {
   "cell_type": "code",
   "execution_count": 243,
   "metadata": {
    "collapsed": false
   },
   "outputs": [
    {
     "data": {
      "image/png": "[encoded data removed]",
      "text/plain": [
       "<matplotlib.figure.Figure at 0x99352e8>"
      ]
     },
     "metadata": {},
     "output_type": "display_data"
    },
    {
     "data": {
      "image/png": "[encoded data removed]",
      "text/plain": [
       "<matplotlib.figure.Figure at 0x7d5a710>"
      ]
     },
     "metadata": {},
     "output_type": "display_data"
    },
    {
     "data": {
      "image/png": "[encoded data removed]",
      "text/plain": [
       "<matplotlib.figure.Figure at 0x99352e8>"
      ]
     },
     "metadata": {},
     "output_type": "display_data"
    }
   ],
   "source": [
    "t = t0\n",
    "u0 = u\n",
    "printstep = 10\n",
    "iter = 0\n",
    "eps = 1e-6\n",
    "plt.plot(x,u)\n",
    "graph, axes = plt.subplots()\n",
    "while t<tmax:\n",
    "    iter = iter + 1\n",
    "    dt = dx/(1.+2*umax) - eps     # CFL CONDITION (???)\n",
    "    #dt = dx\n",
    "    t = t+dt\n",
    "    uint = Riemann(u,x,t)\n",
    "    u= RK4(uint,dx,dt)  \n",
    "    #u = Euler(uint,dx,dt)\n",
    "    u[0] = uleft ## Boundary conditions ?\n",
    "    u[nx] = uright\n",
    "    u2 = u\n",
    "    u = FourierSolver(u,t,dt)\n",
    "    if iter%printstep == 0:\n",
    "        axes.plot(x,u)\n",
    "        #time.sleep(.01)\n",
    "        clear_output(True)\n",
    "        display(graph)\n",
    "        axes.cla()\n",
    "    #if iter%printstep == 0:\n",
    "    #    plt.plot(x,u)"
   ]
  },
  {
   "cell_type": "code",
   "execution_count": 244,
   "metadata": {
    "collapsed": false
   },
   "outputs": [
    {
     "data": {
      "text/plain": [
       "[<matplotlib.lines.Line2D at 0x9395b00>]"
      ]
     },
     "execution_count": 244,
     "metadata": {},
     "output_type": "execute_result"
    },
    {
     "data": {
      "image/png": "[encoded data removed]",
      "text/plain": [
       "<matplotlib.figure.Figure at 0x8738eb8>"
      ]
     },
     "metadata": {},
     "output_type": "display_data"
    }
   ],
   "source": [
    "plt.plot(x,u)\n",
    "plt.plot(x,u0)"
   ]
  }
 ],
 "metadata": {
  "kernelspec": {
   "display_name": "Python 2",
   "language": "python",
   "name": "python2"
  },
  "language_info": {
   "codemirror_mode": {
    "name": "ipython",
    "version": 2
   },
   "file_extension": ".py",
   "mimetype": "text/x-python",
   "name": "python",
   "nbconvert_exporter": "python",
   "pygments_lexer": "ipython2",
   "version": "2.7.11"
  }
 },
 "nbformat": 4,
 "nbformat_minor": 0
}
