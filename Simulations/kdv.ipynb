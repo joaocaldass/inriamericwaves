{
 "cells": [
  {
   "cell_type": "code",
   "execution_count": 295,
   "metadata": {
    "collapsed": true
   },
   "outputs": [],
   "source": [
    "import numpy as np\n",
    "%matplotlib inline\n",
    "import matplotlib.pyplot as plt"
   ]
  },
  {
   "cell_type": "markdown",
   "metadata": {},
   "source": [
    "# Numerical resolution of KdV equation using a Finite Volume method"
   ]
  },
  {
   "cell_type": "markdown",
   "metadata": {},
   "source": [
    "## Model : Korteweg - de Vries (KdV) equation :\n",
    "\n",
    "$u_t + u_x + (u^2)_x + u_{xxx} = 0$\n",
    "\n",
    "\n",
    "The equation will be split in two : \n",
    "\n",
    "\\begin{equation}\n",
    "\\begin{cases}\n",
    "    u_t + u_x + (u^2)_x = 0 \\\\\n",
    "    u_t + u_{xxx} = 0\n",
    "\\end{cases}\n",
    "\\end{equation}\n",
    "\n"
   ]
  },
  {
   "cell_type": "markdown",
   "metadata": {},
   "source": [
    "## First equation\n",
    "$ u_t + f(u)_x = 0, \\ \\ f(u) = u + u^2 $\n",
    "\n",
    "\n",
    "### Temporal discretization\n",
    "\n",
    "#### Euler\n",
    "$u_i^{n+1} = u_i^n - \\Delta t  \\  f(u_i^n)_x$\n",
    "\n",
    "#### 4th order Runge-Kutta\n",
    "\\begin{equation}\n",
    "\\begin{cases}\n",
    "k_1 = - f(u_i^n)_x \\\\\n",
    "k_2 = - f\\left(u_i^n + k_1\\frac{\\Delta t }{2}\\right)_x \\\\\n",
    "k_3 = - f\\left(u_i^n + k_2\\frac{\\Delta t }{2}\\right)_x \\\\\n",
    "k_4 = - f(u_i^n + k_3 \\Delta t)_x \\\\\n",
    "u_i^{n+1} = u_i^n + \\frac{\\Delta t}{6}(k_1 + 2k_2 + 2k_3 + k_4)\n",
    "\\end{cases}\n",
    "\\end{equation}\n",
    "\n",
    "\n",
    "\n",
    "### Spatial discretization\n",
    "$ f(u_i^n)_x = \\frac{f(u_{i+1}^n) - f(u_i^n)}{\\Delta x}$\n"
   ]
  },
  {
   "cell_type": "code",
   "execution_count": 296,
   "metadata": {
    "collapsed": false
   },
   "outputs": [],
   "source": [
    "### Initial solution\n",
    "u = np.zeros(x.shape)\n",
    "for i in range(int(4*nx/10), int(5*nx/10)):\n",
    "    u[i] = 1.\n",
    "uleft = u[0]\n",
    "uright = u[nx]"
   ]
  },
  {
   "cell_type": "code",
   "execution_count": 297,
   "metadata": {
    "collapsed": false
   },
   "outputs": [],
   "source": [
    "### Spatial discretization\n",
    "xlower = 0\n",
    "xupper = 10\n",
    "dx = 0.025\n",
    "nx = int((xupper-xlower)/dx)\n",
    "x = np.linspace(xlower, xupper,nx+1)"
   ]
  },
  {
   "cell_type": "code",
   "execution_count": 298,
   "metadata": {
    "collapsed": true
   },
   "outputs": [],
   "source": [
    "### Time discretization\n",
    "dt = 0.025\n",
    "t0 = 0\n",
    "tmax = 1"
   ]
  },
  {
   "cell_type": "code",
   "execution_count": 299,
   "metadata": {
    "collapsed": true
   },
   "outputs": [],
   "source": [
    "def Flux(u):\n",
    "    f = u + u*u\n",
    "    return f"
   ]
  },
  {
   "cell_type": "code",
   "execution_count": 300,
   "metadata": {
    "collapsed": false
   },
   "outputs": [],
   "source": [
    "def Euler(u,dx,dt):\n",
    "    upp = np.roll(u,1)\n",
    "    f = Flux(u)\n",
    "    fpp = Flux(upp)\n",
    "    \n",
    "    u2 = u + dt/dx*(fpp-f)\n",
    "    \n",
    "    return u2"
   ]
  },
  {
   "cell_type": "code",
   "execution_count": 301,
   "metadata": {
    "collapsed": false
   },
   "outputs": [],
   "source": [
    "def RK4(u,dx,dt):\n",
    "    upp = np.roll(u,1)\n",
    "    \n",
    "    f = Flux(u)\n",
    "    fpp = Flux(upp)\n",
    "    k1 = (f-fpp)/dx\n",
    "    \n",
    "    f = Flux(u+k1*dt/2.)\n",
    "    fpp = Flux(upp+k1*dt/2.)\n",
    "    k2 = (f-fpp)/dx\n",
    " \n",
    "    f = Flux(u+k2*dt/2.)\n",
    "    fpp = Flux(upp+k2*dt/2.)\n",
    "    k3 = (f-fpp)/dx\n",
    "    \n",
    "    f = Flux(u+k3*dt)\n",
    "    fpp = Flux(upp+k3*dt)\n",
    "    k4 = (f-fpp)/dx\n",
    "    \n",
    "    u2 = u + dt/6.*(k1+2*k2+2*k3+k4)\n",
    "    \n",
    "    return u2"
   ]
  },
  {
   "cell_type": "code",
   "execution_count": 302,
   "metadata": {
    "collapsed": false
   },
   "outputs": [
    {
     "name": "stderr",
     "output_type": "stream",
     "text": [
      "C:\\Users\\PTI\\Miniconda2\\lib\\site-packages\\ipykernel\\__main__.py:2: RuntimeWarning: overflow encountered in multiply\n",
      "  from ipykernel import kernelapp as app\n",
      "C:\\Users\\PTI\\Miniconda2\\lib\\site-packages\\ipykernel\\__main__.py:6: RuntimeWarning: invalid value encountered in subtract\n",
      "C:\\Users\\PTI\\Miniconda2\\lib\\site-packages\\ipykernel\\__main__.py:2: RuntimeWarning: invalid value encountered in add\n",
      "  from ipykernel import kernelapp as app\n"
     ]
    }
   ],
   "source": [
    "t = t0\n",
    "while t<tmax:\n",
    "    #u= RK4(u,dx,dt)\n",
    "    u = Euler(u,dx,dt)\n",
    "    u[0] = uleft ## Boundary conditions ?\n",
    "    u[nx] = uright\n",
    "    t = t + dt"
   ]
  },
  {
   "cell_type": "code",
   "execution_count": 303,
   "metadata": {
    "collapsed": false
   },
   "outputs": [
    {
     "data": {
      "text/plain": [
       "[<matplotlib.lines.Line2D at 0x7ee62e8>]"
      ]
     },
     "execution_count": 303,
     "metadata": {},
     "output_type": "execute_result"
    },
    {
     "data": {
      "image/png": "[encoded data removed]",
      "text/plain": [
       "<matplotlib.figure.Figure at 0x76f0908>"
      ]
     },
     "metadata": {},
     "output_type": "display_data"
    }
   ],
   "source": [
    "plt.plot(x,u)  ### Sequence of plots?"
   ]
  }
 ],
 "metadata": {
  "kernelspec": {
   "display_name": "Python 2",
   "language": "python",
   "name": "python2"
  },
  "language_info": {
   "codemirror_mode": {
    "name": "ipython",
    "version": 2
   },
   "file_extension": ".py",
   "mimetype": "text/x-python",
   "name": "python",
   "nbconvert_exporter": "python",
   "pygments_lexer": "ipython2",
   "version": "2.7.11"
  }
 },
 "nbformat": 4,
 "nbformat_minor": 0
}
