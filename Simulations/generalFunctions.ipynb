{
 "cells": [
  {
   "cell_type": "code",
   "execution_count": 24,
   "metadata": {
    "collapsed": false,
    "run_control": {
     "frozen": false,
     "read_only": false
    }
   },
   "outputs": [
    {
     "name": "stdout",
     "output_type": "stream",
     "text": [
      "Overwriting generalFunctions.py\n"
     ]
    }
   ],
   "source": [
    "%%writefile generalFunctions.py\n",
    "\n",
    "import matplotlib.pyplot as plt\n",
    "from matplotlib import animation\n",
    "from JSAnimation import IPython_display\n",
    "\n",
    "def plotAnimation(x,u,t,xmin,xmax,ymin,ymax,ylabel) :\n",
    "    \n",
    "    print(\"*** Plotting animation ...\")\n",
    "    \n",
    "    fig = plt.figure()\n",
    "    ax = plt.axes(xlim=(xmin, xmax), ylim=(ymin, ymax))\n",
    "    line, = ax.plot([], [], lw=2)\n",
    "    ax.set_ylabel(ylabel)\n",
    "    title = ax.set_title(r'$t=0.0 s$')\n",
    "\n",
    "    def init():\n",
    "        line.set_data([], [])\n",
    "        return line,\n",
    "\n",
    "    def animate(i):\n",
    "        line.set_data(x, u[:,i])\n",
    "        title.set_text('t=%.3f'%(t[i]))\n",
    "        return line,\n",
    "\n",
    "    anim = animation.FuncAnimation(fig, animate, init_func=init,\n",
    "                        frames=u.shape[-1], interval=300)\n",
    "    \n",
    "    return anim"
   ]
  },
  {
   "cell_type": "code",
   "execution_count": 25,
   "metadata": {
    "collapsed": false,
    "run_control": {
     "frozen": false,
     "read_only": false
    }
   },
   "outputs": [
    {
     "name": "stdout",
     "output_type": "stream",
     "text": [
      "Appending to generalFunctions.py\n"
     ]
    }
   ],
   "source": [
    "%%writefile generalFunctions.py -a\n",
    "\n",
    "import matplotlib.pyplot as plt\n",
    "from matplotlib import animation\n",
    "from JSAnimation import IPython_display\n",
    "\n",
    "def plotAnimationTwoSolutions(x,u1,u2,t1,t2,xmin,xmax,ymin,ymax,lb1,lb2,ylabel) :\n",
    "    \n",
    "    print(\"*** Plotting animation ...\")\n",
    "    \n",
    "    fig = plt.figure()\n",
    "    ax = plt.axes(xlim=(xmin, xmax), ylim=(ymin, ymax))\n",
    "    line1, = ax.plot([], [], lw=2, label=lb1)\n",
    "    line2, = ax.plot([], [], lw=2, label=lb2)    \n",
    "    ax.set_ylabel(ylabel)\n",
    "    title = ax.set_title(r'$t=0.0 s$')\n",
    "    plt.legend()\n",
    "\n",
    "    def init():\n",
    "        line1.set_data([], [])\n",
    "        line2.set_data([], [])\n",
    "        return line1,line2,\n",
    "\n",
    "    def animate(i):\n",
    "        line1.set_data(x, u1[:,i])\n",
    "        line2.set_data(x, u2[:,i])\n",
    "        title.set_text('t=%.3f'%(t1[i]))\n",
    "        return line1,line2,\n",
    "\n",
    "    anim = animation.FuncAnimation(fig, animate, init_func=init,\n",
    "                        frames=u1.shape[-1], interval=300)\n",
    "    \n",
    "    return anim"
   ]
  },
  {
   "cell_type": "code",
   "execution_count": 26,
   "metadata": {
    "collapsed": false,
    "run_control": {
     "frozen": false,
     "read_only": false
    }
   },
   "outputs": [
    {
     "name": "stdout",
     "output_type": "stream",
     "text": [
      "Appending to generalFunctions.py\n"
     ]
    }
   ],
   "source": [
    "%%writefile generalFunctions.py -a\n",
    "\n",
    "import matplotlib.pyplot as plt\n",
    "import numpy as np\n",
    "from matplotlib import animation\n",
    "from JSAnimation import IPython_display\n",
    "\n",
    "def plotAnimationNSolutions(N,x,u,t,xmin,xmax,ymin,ymax,lb,ylabel,location=0) :\n",
    "    \n",
    "    print(\"*** Plotting animation ...\")\n",
    "    \n",
    "    fig = plt.figure()\n",
    "    ax = plt.axes(xlim=(xmin, xmax), ylim=(ymin, ymax))\n",
    "    line = np.array([])\n",
    "    for i in range(N):\n",
    "        line = np.append(line,ax.plot([], [], lw=2, label=lb[i])) \n",
    "    ax.set_ylabel(ylabel)\n",
    "    title = ax.set_title(r'$t=0.0 s$')\n",
    "    plt.legend(loc=location)\n",
    "\n",
    "    def init():\n",
    "        for i in range(N):\n",
    "            line[i].set_data([], [])\n",
    "        return line\n",
    "\n",
    "    def animate(i):\n",
    "        for j in range(N):\n",
    "            line[j].set_data(x, u[j,:,i])\n",
    "        title.set_text('t=%.3f'%(t[i]))\n",
    "        return line\n",
    "\n",
    "    anim = animation.FuncAnimation(fig, animate, init_func=init,\n",
    "                        frames=u.shape[-1], interval=300)\n",
    "    \n",
    "    return anim"
   ]
  },
  {
   "cell_type": "code",
   "execution_count": 27,
   "metadata": {
    "collapsed": false,
    "run_control": {
     "frozen": false,
     "read_only": false
    }
   },
   "outputs": [
    {
     "name": "stdout",
     "output_type": "stream",
     "text": [
      "Appending to generalFunctions.py\n"
     ]
    }
   ],
   "source": [
    "%%writefile generalFunctions.py -a\n",
    "\n",
    "import matplotlib.pyplot as plt\n",
    "import numpy as np\n",
    "from matplotlib import animation\n",
    "from JSAnimation import IPython_display\n",
    "\n",
    "def plotAnimationNSolutionsDiffDomain(N,x,u,t,xmin,xmax,ymin,ymax,lb,ylabel,location=0) :\n",
    "    \n",
    "    print(\"*** Plotting animation ...\")\n",
    "    \n",
    "    fig = plt.figure()\n",
    "    ax = plt.axes(xlim=(xmin, xmax), ylim=(ymin, ymax))\n",
    "    line = np.array([])\n",
    "    for i in range(N):\n",
    "        line = np.append(line,ax.plot([], [], lw=2, label=lb[i])) \n",
    "    ax.set_ylabel(ylabel)\n",
    "    title = ax.set_title(r'$t=0.0 s$')\n",
    "    plt.legend(loc=location)\n",
    "\n",
    "    def init():\n",
    "        for i in range(N):\n",
    "            line[i].set_data([], [])\n",
    "        return line\n",
    "\n",
    "    def animate(i):\n",
    "        for j in range(N):\n",
    "            line[j].set_data(x[j], u[j][:,i])\n",
    "        title.set_text('t=%.3f'%(t[i]))\n",
    "        return line\n",
    "\n",
    "    anim = animation.FuncAnimation(fig, animate, init_func=init,\n",
    "                        frames=u[0].shape[-1], interval=300)\n",
    "    \n",
    "    return anim"
   ]
  },
  {
   "cell_type": "code",
   "execution_count": 28,
   "metadata": {
    "collapsed": false,
    "run_control": {
     "frozen": false,
     "read_only": false
    }
   },
   "outputs": [
    {
     "name": "stdout",
     "output_type": "stream",
     "text": [
      "Appending to generalFunctions.py\n"
     ]
    }
   ],
   "source": [
    "%%writefile generalFunctions.py -a\n",
    "\n",
    "# save plot of N solutions in the instant t_n to an image file\n",
    "def saveSnapshotNsolutions(N,n,x,u,t,lbl,xlbl,ylbl,path,ext=\"png\",\n",
    "                           xmin=None,xmax=None,ymin=None,ymax=None,legloc=0) :\n",
    "    plt.figure()\n",
    "    if xmin == None:\n",
    "        xmin = x[0]\n",
    "    if xmax == None:\n",
    "        xmax = x[-1]\n",
    "    if ymin == None :\n",
    "        ymin = np.amin(u)\n",
    "    if ymax == None : \n",
    "        ymax = np.amax(u)\n",
    "    plt.xlim((xmin,xmax))\n",
    "    plt.ylim((ymin,ymax))\n",
    "    for i in range(N) :\n",
    "        plt.plot(x,u[i,:,n],label=lbl[i])\n",
    "    plt.xlabel(xlbl)\n",
    "    plt.ylabel(ylbl)\n",
    "    plt.legend(loc=legloc)\n",
    "    plt.title(r't = %.3f'%t[n])\n",
    "    plt.savefig(path+\".\"+ext)"
   ]
  },
  {
   "cell_type": "code",
   "execution_count": 29,
   "metadata": {
    "collapsed": false,
    "run_control": {
     "frozen": false,
     "read_only": false
    }
   },
   "outputs": [
    {
     "name": "stdout",
     "output_type": "stream",
     "text": [
      "Appending to generalFunctions.py\n"
     ]
    }
   ],
   "source": [
    "%%writefile generalFunctions.py -a\n",
    "\n",
    "# save plot of one solution in instants t_n, n in ns, to an image file\n",
    "def saveSnapshots(ns,x,u,t,xlbl,ylbl,title,path,ext=\"png\") :\n",
    "    plt.figure()\n",
    "    for n in ns :\n",
    "        plt.plot(x,u[:,n],label=r't = %.3f'%t[n])\n",
    "    plt.xlim((x[0],x[-1]))\n",
    "    plt.xlabel(xlbl)\n",
    "    plt.ylabel(ylbl)\n",
    "    plt.legend()\n",
    "    plt.title(title)\n",
    "    plt.savefig(path+\".\"+ext)"
   ]
  },
  {
   "cell_type": "code",
   "execution_count": 30,
   "metadata": {
    "collapsed": false,
    "run_control": {
     "frozen": false,
     "read_only": false
    }
   },
   "outputs": [
    {
     "name": "stdout",
     "output_type": "stream",
     "text": [
      "Appending to generalFunctions.py\n"
     ]
    }
   ],
   "source": [
    "%%writefile generalFunctions.py -a\n",
    "\n",
    "# save N arbitrary plots to an image file\n",
    "def saveNgraphs(N,x,y,lbl,xlbl,ylbl,title,path,ext=\"png\",xmin=None,xmax=None,legloc=0) :\n",
    "    plt.figure()\n",
    "    for i in range(N) :\n",
    "        plt.plot(x[i,:],y[i,:],label=lbl[i])\n",
    "    if xmin == None:\n",
    "        xmin = x[0]\n",
    "    if xmax == None:\n",
    "        xmax = x[-1]\n",
    "    plt.xlim((xmin,xmax))\n",
    "    plt.xlabel(xlbl)\n",
    "    plt.ylabel(ylbl)\n",
    "    plt.legend(loc=legloc)\n",
    "    plt.title(title)\n",
    "    plt.savefig(path+\".\"+ext)"
   ]
  },
  {
   "cell_type": "code",
   "execution_count": null,
   "metadata": {
    "collapsed": true,
    "run_control": {
     "frozen": false,
     "read_only": false
    }
   },
   "outputs": [],
   "source": []
  }
 ],
 "metadata": {
  "hide_input": false,
  "kernelspec": {
   "display_name": "Python 2",
   "language": "python",
   "name": "python2"
  },
  "language_info": {
   "codemirror_mode": {
    "name": "ipython",
    "version": 2
   },
   "file_extension": ".py",
   "mimetype": "text/x-python",
   "name": "python",
   "nbconvert_exporter": "python",
   "pygments_lexer": "ipython2",
   "version": "2.7.11"
  },
  "latex_envs": {
   "bibliofile": "biblio.bib",
   "cite_by": "apalike",
   "current_citInitial": 1,
   "eqLabelWithNumbers": true,
   "eqNumInitial": 0
  },
  "toc": {
   "toc_cell": false,
   "toc_number_sections": true,
   "toc_threshold": 6,
   "toc_window_display": false
  }
 },
 "nbformat": 4,
 "nbformat_minor": 0
}
