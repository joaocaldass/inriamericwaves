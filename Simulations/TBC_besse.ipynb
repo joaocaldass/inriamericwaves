{
 "cells": [
  {
   "cell_type": "markdown",
   "metadata": {},
   "source": [
    "# Table of Contents\n",
    "* [Approximations for the Transparent Boundary Conditions - paper of Besse et al (2015)](#Approximations-for-the-Transparent-Boundary-Conditions---paper-of-Besse-et-al-%282015%29)\n",
    "\t* [Description of the TBCs](#Description-of-the-TBCs)\n",
    "\t* [Approximation of the TBCs](#Approximation-of-the-TBCs)\n",
    "\t\t* [Approximation using a constant polynomial](#Approximation-using-a-constant-polynomial)\n",
    "\t\t* [Approximation using a linear polynomial](#Approximation-using-a-linear-polynomial)\n",
    "\t* [Numerical tests](#Numerical-tests)\n",
    "\t\t* [Polynomial of order 0](#Polynomial-of-order-0)\n",
    "\t\t* [Polynomial of order 1](#Polynomial-of-order-1)\n",
    "\t\t* [Comparison between the two approximations](#Comparison-between-the-two-approximations)\n"
   ]
  },
  {
   "cell_type": "markdown",
   "metadata": {},
   "source": [
    "# Approximations for the Transparent Boundary Conditions - paper of Besse et al (2015)"
   ]
  },
  {
   "cell_type": "markdown",
   "metadata": {},
   "source": [
    "$ \\newcommand{\\laplinv}{\\mathcal{L}^{-1}}$"
   ]
  },
  {
   "cell_type": "markdown",
   "metadata": {},
   "source": [
    "## Description of the TBCs"
   ]
  },
  {
   "cell_type": "markdown",
   "metadata": {},
   "source": [
    "In this notebook, we will follow the formulation of Transparent Boundary Conditions (TBCs) derived for the continuous version of the homogeneous and linearized KdV equation in the paper of Besse et al (2015):\n",
    "\n",
    "\\begin{equation}\n",
    "\\label{eq:kdv}\n",
    "u_t + U_1u_x + U_2u_{xxx} = 0, \\ \\ U_1 \\in \\mathbb{R}, \\ \\ U_2 > 0\n",
    "\\end{equation}\n",
    "\n",
    "Denoting by $\\laplinv$ the inverse Laplace transform, the TBCs are\n",
    "\n",
    "\\begin{equation}\n",
    "\\label{eq:TBC}\n",
    "    \\begin{cases}\n",
    "        u(t,a) - U_2 \\laplinv \\left( \\frac{\\lambda_1(s)^2}{s} \\right) * u_x(t,a) - U_2 \\laplinv \\left( \\frac{\\lambda_1(s)}{s} \\right) * u_{xx}(t,a) = 0 \\\\\n",
    "        u(t,b) - \\laplinv \\left( \\frac{1}{\\lambda_1(s)^2} \\right) * u_{xx}(t,b) = 0 \\\\\n",
    "        u_x(t,b) - \\laplinv \\left( \\frac{1}{\\lambda_1(s)} \\right) * u_{xx}(t,b) = 0 \n",
    "    \\end{cases}\n",
    "\\end{equation}\n",
    "\n",
    "where $[a,b]$ is the computational physical domain, $s \\in \\mathbb{C}$ is the Laplace frequency and $\\lambda_1$ is one of the roots of the cubic characteristic equation obtained when solving (\\ref{eq:kdv}) in the Laplace space.\n",
    "\n",
    "We firstly notice that we can rewrite (\\ref{eq:TBC}) as\n",
    "\n",
    "\\begin{equation}\n",
    "\\label{eq:TBC2}\n",
    "    \\begin{cases}\n",
    "        u(t,a) - U_2 \\laplinv \\left( \\frac{\\lambda_1(s)^2}{s} \\hat{u}_x(t,s) \\right)  - U_2 \\laplinv \\left( \\frac{\\lambda_1(s)}{s}  \\hat{u}_{xx}(t,s) \\right) = 0 \\\\\n",
    "        u(t,b) - \\laplinv \\left( \\frac{1}{\\lambda_1(s)^2}   \\hat{u}_{xx}(t,s) \\right) = 0 \\\\\n",
    "        u_x(t,b) - \\laplinv \\left( \\frac{1}{\\lambda_1(s)}   \\hat{u}_{xx}(t,s) \\right) = 0 \n",
    "    \\end{cases}\n",
    "\\end{equation}\n",
    "\n",
    "where $\\hat{u}$ is the Laplace transform of $u$.\n",
    "\n",
    "In the case of pure dispersion ($U_1 = 0$ and $U_2 = 1$), $\\lambda$ is written as\n",
    "\n",
    "$$ \\label{eq:lambda} \\lambda(s) = -\\sqrt[3]{s} $$\n",
    "\n",
    "From \\ref{eq:lambda} we can write\n",
    "\n",
    "\\begin{equation}\n",
    "    \\label{eq:lambda2}\n",
    "    \\frac{\\lambda}{s} = \\frac{\\lambda}{-\\lambda^3} = -\\frac{1}{\\lambda^2} \\\\ \n",
    "    \\frac{\\lambda^2}{s} = \\frac{\\lambda^2}{-\\lambda^3} = -\\frac{1}{\\lambda} \\\\\n",
    "\\end{equation}"
   ]
  },
  {
   "cell_type": "markdown",
   "metadata": {},
   "source": [
    "## Approximation of the TBCs"
   ]
  },
  {
   "cell_type": "markdown",
   "metadata": {},
   "source": [
    "### Approximation using a constant polynomial"
   ]
  },
  {
   "cell_type": "markdown",
   "metadata": {},
   "source": [
    "In a first moment, we will approximate $\\frac{\\lambda^2}{s}$ by a constant polynomial $P_0(s) = c$. Therefore, from (\\ref{eq:lambda2}) we get\n",
    "\n",
    "\\begin{equation}\n",
    "    \\frac{\\lambda^2}{s} = c \\\\\n",
    "    \\frac{\\lambda}{s} = -c^2 \\\\\n",
    "    \\frac{1}{\\lambda_1(s)^2} = c^2 \\\\\n",
    "    \\frac{1}{\\lambda_1(s)} = -c\n",
    "\\end{equation}\n",
    "\n",
    "and replacing in (\\ref{eq:TBC2}) and considering the linearity of the Laplace transform : \n",
    "\n",
    "\\begin{equation}\n",
    "\\label{eq:TBC3}\n",
    "    \\begin{cases}\n",
    "        u(t,a) - cU_2 u_x(t,a)  + c^2 U_2    u_{xx}(t,s) = 0 \\\\\n",
    "        u(t,b) - c^2    \\hat{u}_{xx}(t,s) = 0 \\\\\n",
    "        u_x(t,b) + c u_{xx}(t,s)= 0 \n",
    "    \\end{cases}\n",
    "\\end{equation}\n",
    "\n",
    "Using finite difference approximations and considering different constants $c_L and c_R$ for the left and the right boundaries, (\\ref{eq:TBC3}) is discretized as\n",
    "\n",
    "\\begin{equation}\n",
    "\\label{eq:TBC4}\n",
    "    \\begin{cases}\n",
    "        u_0 - c_LU_2 \\frac{u_1 - u_0}{\\Delta x}  + c_L^2 U_2 \\frac{u_0 -2u_1 + u_2}{\\Delta x^2} = 0 \\\\\n",
    "        u_N - c_R^2    \\frac{u_N -2u_{N-1} + u_{N-2}}{\\Delta x^2} = 0 \\\\\n",
    "        \\frac{u_N - u_{N-1}}{\\Delta x}  + c_R^2    \\frac{u_N -2u_{N-1} + u_{N-2}}{\\Delta x^2} = 0 \n",
    "    \\end{cases}\n",
    "\\end{equation}"
   ]
  },
  {
   "cell_type": "markdown",
   "metadata": {},
   "source": [
    "### Approximation using a linear polynomial"
   ]
  },
  {
   "cell_type": "markdown",
   "metadata": {},
   "source": [
    "Similarly to the case presented above, we will approximate $\\frac{\\lambda^2}{s}$ by a linear polynomial $P_0(s) = cs + d$. Therefore,\n",
    "\n",
    "\\begin{equation}\n",
    "    \\frac{\\lambda^2}{s} = cs + d \\\\\n",
    "    \\frac{\\lambda}{s} = -c^2 \\\\\n",
    "    \\frac{1}{\\lambda_1(s)^2} = c^2 \\\\\n",
    "    \\frac{1}{\\lambda_1(s)} = -c   \n",
    "\\end{equation}\n",
    "\n",
    "Thus, the inverse Laplace transforms in (\\ref{eq:TBC2}) read :\n",
    "\n",
    "\\begin{equation}\n",
    "    \\mathcal{L}^{-1} \\left( \\frac{\\lambda^2}{s} \\hat{u}_x(t,s) \\right) = \\mathcal{L}^{-1} \\left[ (cs+d) \\hat{u}_x(t,s) \\right] = c\\mathcal{L}^{-1} \\left[ \\hat{u}_{xt}(t,s) \\right] + d \\mathcal{L}^{-1} \\left[ \\hat{u}_{x}(t,s) \\right] = cu_{xt}(x,t) + du_x(x,t) \\\\\n",
    "    \\mathcal{L}^{-1} \\left( \\frac{\\lambda}{s} \\hat{u}_{xx}(t,s) \\right) = \\mathcal{L}^{-1} \\left[ -(cs+d)^2 \\hat{u}_{xx}(t,s) \\right] =  -c^2u_{xxtt}(x,t) -2cdu_{xxt}(x,t) - d^2u_{xx}(x,t) \\\\\n",
    "    \\mathcal{L}^{-1} \\left( \\frac{1}{\\lambda^2} \\hat{u}_{xx}(t,s) \\right) = \\mathcal{L}^{-1} \\left[ (cs+d)^2 \\hat{u}_{xx}(t,s) \\right] = c^2u_{xxtt}(x,t) + 2cdu_{xxt}(x,t) + d^2u_{xx}(x,t) \\\\\n",
    "    \\mathcal{L}^{-1} \\left( \\frac{1}{\\lambda} \\hat{u}_{xx}(t,s) \\right) = \\mathcal{L}^{-1} \\left[ -(cs+d) \\hat{u}_{xx}(t,s) \\right] = -cu_{xxt}(x,t) - du_{xx}(x,t)\n",
    "\\end{equation}\n",
    "\n",
    "Using finite differences and different coefficients $c_L,c_R$ and $d_L,d_R$ for the left and the right boundaries, these expressions can be approximated by\n",
    "\n",
    "\\begin{equation}\n",
    "    \\label{eq:FDorder2}\n",
    "    \\mathcal{L}^{-1} \\left( \\frac{\\lambda^2}{s} \\hat{u}_x(t,s) \\right) = c_L \\frac{ (u_x)_0^{n+1} - (u_x)_0^n}{\\Delta t} + d_L (u_x)_0^{n+1} = \\left( \\frac{c_L}{\\Delta t} + d_L \\right) \\left( \\frac{u_1^{n+1} - u_0^{n+1}}{\\Delta x}\\right) - \\frac{c_L}{\\Delta t} \\left( \\frac{u_1^{n} - u_0^{n}}{\\Delta x}\\right) \\\\\n",
    "    \\mathcal{L}^{-1} \\left( \\frac{\\lambda}{s} \\hat{u}_{xx}(t,s) \\right) = -c_L^2 \\left( \\frac{(u_{xx})_0^{n+1} - 2(u_{xx})_0^{n} + (u_{xx})_0^{n-1}}{\\Delta t^2} \\right) - 2c_Ld_L \\left( \\frac{(u_{xx})_0^{n+1} - (u_{xx})_0^{n}}{\\Delta t} \\right) - d_L^2 (u_{xx})_0^{n+1} = -\\left( \\frac{c_L^2}{\\Delta t^2} + \\frac{2c_Ld_L}{\\Delta t} + d_L^2  \\right) \\left(  \\frac{u_0^{n+1} - 2u_1^{n+1} + u_2^{n+1}}{\\Delta x^2} \\right) + \\left( 2\\frac{c_L^2}{\\Delta t^2} + \\frac{2c_Ld_L}{\\Delta t}\\right) \\left(  \\frac{u_0^{n} - 2u_1^n + u_2^{n}}{\\Delta x^2} \\right) - \\frac{c_L^2}{\\Delta t^2} \\left(  \\frac{u_0^{n-1} - 2u_1^{n-1} + u_2^{n-1}}{\\Delta x^2} \\right) \\\\\n",
    "    \\mathcal{L}^{-1} \\left( \\frac{1}{\\lambda^2} \\hat{u}_{xx}(t,s) \\right) = \\left( \\frac{c_R^2}{\\Delta t^2} + \\frac{2c_Rd_R}{\\Delta t} + d_R^2  \\right) \\left(  \\frac{u_{N}^{n+1} - 2u_{N-1}^{n+1} + u_{N-2}^{n+1}}{\\Delta x^2} \\right) - \\left( 2\\frac{c_R^2}{\\Delta t^2} + \\frac{2c_Rd_R}{\\Delta t}\\right) \\left(  \\frac{u_N^{n} - 2u_{N-1}^n + u_{N-2}^{n}}{\\Delta x^2} \\right) + \\frac{c_R^2}{\\Delta t^2} \\left(  \\frac{u_N^{n-1} - 2u_{N-1}^{n-1} + u_{N-2}^{n-1}}{\\Delta x^2} \\right) \\\\\n",
    "    \\mathcal{L}^{-1} \\left( \\frac{1}{\\lambda} \\hat{u}_{xx}(t,s) \\right) = -c_R \\frac{ (u_{xx})_0^{n+1} - (u_{xx})_0^n}{\\Delta t} - d_R (u_{xx})_0^{n+1} = -\\left( \\frac{c_R}{\\Delta t} + d_R \\right) \\left( \\frac{u_N^{n+1} -2 u_{N-1}^{n+1} + u_{N-2}^{n+1}}{\\Delta x^2}\\right) + \\frac{c_R}{\\Delta t}\\left( \\frac{u_{N}^{n} - 2u_{N-1}^{n} + u_{N-2}^n}{\\Delta x^2}\\right)\n",
    "\\end{equation}\n",
    "\n",
    "Then we use (\\ref{eq:FDorder2}) in (\\ref{eq:TBC2}) to obtain the discrete TBCs :\n",
    "\n",
    "\\begin{equation}\n",
    "    u_0^{n+1} - U_2\\left( \\frac{c_L}{\\Delta t} + d_L \\right) \\left( \\frac{u_1^{n+1} - u_0^{n+1}}{\\Delta x}\\right) + U_2\\left( \\frac{c_L^2}{\\Delta t^2} + \\frac{2c_Ld_L}{\\Delta t} + d_L^2  \\right) \\left(  \\frac{u_0^{n+1} - 2u_1^{n+1} + u_2^{n+1}}{\\Delta x^2} \\right) = -U_2\\frac{c_L}{\\Delta t}\\left( \\frac{u_1^{n} - u_0^{n}}{\\Delta x}\\right) + U_2 \\left( 2\\frac{c_L^2}{\\Delta t^2} + \\frac{2c_Ld_L}{\\Delta t}\\right) \\left(  \\frac{u_0^{n} - 2u_1^n + u_2^{n}}{\\Delta x^2} \\right) - U_2 \\frac{c_L^2}{\\Delta t^2} \\left(  \\frac{u_0^{n-1} - 2u_1^{n-1} + u_2^{n-1}}{\\Delta x^2} \\right)\\\\ \n",
    "    u_N^{n+1} - \\left( \\frac{c_R^2}{\\Delta t^2} + \\frac{2c_Rd_R}{\\Delta t} + d_R^2  \\right) \\left(  \\frac{u_{N}^{n+1} - 2u_{N-1}^{n+1} + u_{N-2}^{n+1}}{\\Delta x^2} \\right) = -\\left( 2\\frac{c_R^2}{\\Delta t^2} + \\frac{2c_Rd_R}{\\Delta t}\\right) \\left(  \\frac{u_N^{n} - 2u_{N-1}^n + u_{N-2}^{n}}{\\Delta x^2} \\right) + \\frac{c_R^2}{\\Delta t^2} \\left(  \\frac{u_N^{n-1} - 2u_{N-1}^{n-1} + u_{N-2}^{n-1}}{\\Delta x^2} \\right) \\\\\n",
    "    \\frac{u_N^{n+1} - u_{N-1}^{n+1}}{\\Delta x} + \\left( \\frac{c_R}{\\Delta t} + d_R \\right) \\left( \\frac{u_N^{n+1} -2 u_{N-1}^{n+1} + u_{N-2}^{n+1}}{\\Delta x^2}\\right) =  \\frac{c_R}{\\Delta t}\\left( \\frac{u_{N}^{n} - 2u_{N-1}^{n} + u_{N-2}^n}{\\Delta x^2}\\right)\n",
    "\\end{equation}"
   ]
  },
  {
   "cell_type": "markdown",
   "metadata": {},
   "source": [
    "## Numerical tests"
   ]
  },
  {
   "cell_type": "markdown",
   "metadata": {},
   "source": [
    "In order to compare our approximation with the results obtained by Besse, we will solve the same numerical test presented in his paper : \n",
    "\n",
    "\\begin{equation}\n",
    "\\label{eq:Num1}\n",
    " u_t + u_{xxx} = 0, \\ \\ x \\in \\mathbb{R}\n",
    "\\end{equation}\n",
    "\n",
    "\\begin{equation}\n",
    "\\label{eq:Num2}\n",
    " u(0,x) = e^{-x^2}, \\ \\ x \\in \\mathbb{R} \n",
    "\\end{equation}\n",
    "\n",
    "\\begin{equation}\n",
    "\\label{eq:Num3}\n",
    " u \\rightarrow 0, \\ \\ |x| \\rightarrow \\infty\n",
    "\\end{equation}\n",
    "\n",
    "The fundamental solution of (\\ref{eq:Num1}) is\n",
    "\n",
    "\\begin{equation}\n",
    "    E(t,x) = \\frac{1}{\\sqrt[3]{3t}}Ai\\left(\\frac{x}{\\sqrt[3]{3t}} \\right)\n",
    "\\end{equation}\n",
    "\n",
    "where $Ai$ is the Airy function, and the exact solution for the problem (\\ref{eq:Num1}) - (\\ref{eq:Num3}) is\n",
    "\n",
    "\\begin{equation}\n",
    "    u_{exact}(t,x) = E(t,x) * e^{-x^2}\n",
    "\\end{equation}\n",
    "\n",
    "The problem will be solved in the spatial domain $[-6,-6]$\n",
    "\n",
    "For a quantitative evaluation of the results, we computed the same errors defined in the paper of Besse et al. For each time step, we compute the relative error\n",
    "\n",
    "$$e^n = \\frac{\\left\\Vert u_{exact}^n - u_{computed}^n\\right\\Vert_2}{\\left\\Vert u_{exact}^n\\right\\Vert_2}$$\n",
    "\n",
    "and, in the whole time interval :\n",
    "\n",
    "$$ e_{Tm} = \\max\\limits_{0 < n < T_{max}} (e^n) $$\n",
    "\n",
    "$$ e_{L2} = \\sqrt{ \\Delta t \\sum_{n=1}^{T_{max}} (e^n)^2 } $$\n",
    "\n",
    "We also generate plottings and animations for the best and the worst solutions. In order to make a better comparison, in the definition of \"worst solution\" we ignored the ones for which the numerical computations diverged (following the arbitrary criteria $e_{L2} > 10$.\n",
    "\n",
    "Several tests will be made with different combinations of the coefficients in the polynomial approximation of $\\frac{\\lambda^2}{s}$. For the constant polynomial $P_0(s) = c$, we will optimize the parameters $(c_L,c_R)$. For the linear polynomial $P_1(s) = cs+d$, we will optimize the four parameters $(c_L,d_L,c_R,d_R)$, but in a first moment we will consider $c_L = c_R$ and $d_L = d_R$ and study the behaviour of the approximation in only one of the boundaries."
   ]
  },
  {
   "cell_type": "code",
   "execution_count": 134,
   "metadata": {
    "collapsed": false,
    "init_cell": true,
    "run_control": {
     "frozen": false,
     "read_only": false
    }
   },
   "outputs": [
    {
     "name": "stdout",
     "output_type": "stream",
     "text": [
      "Overwriting besseTBC.py\n"
     ]
    }
   ],
   "source": [
    "%%writefile besseTBC.py\n",
    "\n",
    "import numpy as np\n",
    "import matplotlib.pyplot as plt\n",
    "import kdv\n",
    "import generalFunctions as gF\n",
    "from scipy import special\n",
    "import sys\n",
    "import math\n",
    "import json\n",
    "import yaml\n",
    "import marshal\n",
    "\n",
    "nan = float('nan')"
   ]
  },
  {
   "cell_type": "code",
   "execution_count": 135,
   "metadata": {
    "code_folding": [
     3
    ],
    "collapsed": false,
    "init_cell": true,
    "run_control": {
     "frozen": false,
     "read_only": false
    }
   },
   "outputs": [
    {
     "name": "stdout",
     "output_type": "stream",
     "text": [
      "Appending to besseTBC.py\n"
     ]
    }
   ],
   "source": [
    "%%writefile besseTBC.py -a\n",
    "\n",
    "## supposing x.size = y.size  (???)\n",
    "def convolution(x,y) :\n",
    "    c = np.zeros_like(x)\n",
    "    N = x.size\n",
    "    for i in range(N) :\n",
    "        #j = 0\n",
    "        #while j<=N and i-j >= 0:\n",
    "        #    c[i] = c[i] + x[i-j]*y[j]\n",
    "        #    j = j+1\n",
    "        c[i] = np.sum(np.flipud(x[0:i+1])*y[0:i+1])\n",
    "    return c"
   ]
  },
  {
   "cell_type": "code",
   "execution_count": 136,
   "metadata": {
    "code_folding": [
     3
    ],
    "collapsed": false,
    "init_cell": true,
    "run_control": {
     "frozen": false,
     "read_only": false
    }
   },
   "outputs": [
    {
     "name": "stdout",
     "output_type": "stream",
     "text": [
      "Appending to besseTBC.py\n"
     ]
    }
   ],
   "source": [
    "%%writefile besseTBC.py -a\n",
    "\n",
    "#Error functions defined by Besse\n",
    "def computeError(u,uexact,dt) :\n",
    "    e = np.linalg.norm(uexact - u,axis=0)/np.linalg.norm(uexact,axis=0)\n",
    "    ErrTm = np.amax(e)\n",
    "    ErrL2 = np.sqrt(dt)*np.linalg.norm(e)\n",
    "    \n",
    "    return e,ErrTm,ErrL2"
   ]
  },
  {
   "cell_type": "code",
   "execution_count": 137,
   "metadata": {
    "code_folding": [
     109,
     114,
     120,
     124
    ],
    "collapsed": false,
    "init_cell": true,
    "run_control": {
     "frozen": false,
     "read_only": false
    }
   },
   "outputs": [
    {
     "name": "stdout",
     "output_type": "stream",
     "text": [
      "Appending to besseTBC.py\n"
     ]
    }
   ],
   "source": [
    "%%writefile besseTBC.py -a\n",
    "\n",
    "def imposeTBC(M,rhs,um,umm,U2,dx,dt,order,coef,BCs,correctTBCL,correctTBCR,fourConditions,pointR,useTBCL,useTBCR) :\n",
    "    \n",
    "    if order == 0:\n",
    "        \n",
    "        cL = coef[0,0]\n",
    "        cR = coef[0,1]\n",
    "        \n",
    "        M[-1,:] = 0\n",
    "        M[-2,:] = 0\n",
    "\n",
    "        if useTBCL:\n",
    "        ## Eq. in N\n",
    "            if pointR == 0:\n",
    "                M[0,:] = 0\n",
    "                ####M[0,0] = 1. + cL*U2/dx + cL*cL*U2/(dx*dx) + correctTBCL*(-cL/dx + dx/dt*cL*cL) \n",
    "                ####M[0,1] = -cL*U2/dx - 2.*cL*cL*U2/(dx*dx) + correctTBCL*(cL/dx)\n",
    "                ####M[0,2] = cL*cL*U2/(dx*dx)\n",
    "                M[0,0] = 1. + cL*U2/dx + cL*cL*U2/(dx*dx) + correctTBCL*(-2.*cL/dx + dx/dt*cL*cL) \n",
    "                M[0,1] = -cL*U2/dx - 2.*cL*cL*U2/(dx*dx) + correctTBCL*(cL/dx)\n",
    "                M[0,2] = cL*cL*U2/(dx*dx)\n",
    "                rhs[0] = BCs[0]\n",
    "            ## Eq in N+1\n",
    "            else :\n",
    "                M[correctTBCL,:] = 0\n",
    "                M[correctTBCL,0] = 1. + cL*U2/dx + cL*cL*U2/(dx*dx) + correctTBCL*(2.*dx/dt*cL*cL) #+ correctTBCL*(dx/dt*cL*cL)\n",
    "                M[correctTBCL,1] = -cL*U2/dx - 2.*cL*cL*U2/(dx*dx) + correctTBCL*(cL/dx + 2.*cL*dx*dx/dt)\n",
    "                M[correctTBCL,2] = cL*cL*U2/(dx*dx) + correctTBCL*(-2.*cL/dx)\n",
    "                M[correctTBCL,3] = correctTBCL*(cL/dx)\n",
    "                rhs[correctTBCL] = BCs[0]\n",
    "        else : ## Neumann\n",
    "            M[0,:] = 0.\n",
    "            #M[0,0] = 1.\n",
    "            #M[0,1] = -1.\n",
    "            M[0,0] = 1. + 1./dx + 1./(dx*dx)\n",
    "            M[0,1] = -1./dx -  2./(dx*dx)\n",
    "            M[0,2] = 1./(dx*dx)\n",
    "            rhs[0] = 0.\n",
    "            \n",
    "        if useTBCR :\n",
    "            M[-1,-1] = 1. - cR*cR/(dx*dx)  + correctTBCR*(dx/dt*cR*cR) #+ correctTBCR*(dx/dt*cR*cR)\n",
    "            M[-1,-2] =   2.*cR*cR/(dx*dx)\n",
    "            M[-1,-3] = - cR*cR/(dx*dx)\n",
    "            rhs[-1] = BCs[1] \n",
    "\n",
    "            M[-2,-1] = 1./(dx) + cR/(dx*dx)  + correctTBCR*(-2.*dx/dt*cR)\n",
    "            M[-2,-2] = -1./(dx) - 2.*cR/(dx*dx) + correctTBCR*(-2.*dx*dx/dt + 1./dx)\n",
    "            M[-2,-3] =   cR/(dx*dx) + correctTBCR*(-2./dx)\n",
    "            M[-2,-4] = correctTBCR*(1./dx)\n",
    "            rhs[-2] = BCs[2]\n",
    "        else: ## Neumman and Dirichlet\n",
    "            M[-1,-1] = 1.\n",
    "            rhs[-1] = 0.\n",
    "            \n",
    "            M[-2,-1] = 1.\n",
    "            M[-2,-2] = -1.\n",
    "            rhs[-2] = 0.\n",
    "            \n",
    "            \n",
    "        #rhs[correctTBCL] = BCs[0]\n",
    "        ####if pointR == 0:\n",
    "        ####    rhs[0] = BCs[0]\n",
    "        ####else :\n",
    "        ####    rhs[correctTBCL] = BCs[0]\n",
    "        ####rhs[-2] = BCs[2]\n",
    "        ####rhs[-1] = BCs[1] \n",
    "        \n",
    "        \n",
    "        \n",
    "        ### Modify uncentered -> centered\n",
    "        if correctTBCL and fourConditions:\n",
    "        ####### in N\n",
    "            if pointR == 1:\n",
    "                M[0,:] = 0.\n",
    "                M[0,0] = 1.\n",
    "                M[0,1] = -dt/(dx*dx*dx)\n",
    "                M[0,2] = dt/(2.*dx*dx*dx)\n",
    "                rhs[0] = BCs[3]\n",
    "        ####### in N+1\n",
    "            else :\n",
    "                M[1,:] = 0.\n",
    "                M[1,0] = dt/(dx*dx*dx)\n",
    "                M[1,1] = 1.\n",
    "                M[1,2] = -dt/(dx*dx*dx)\n",
    "                M[1,3] = dt/(2.*dx*dx*dx)\n",
    "                rhs[1] = BCs[3]\n",
    "        \n",
    "    elif order == 1 or order == .5:\n",
    "        \n",
    "        ## order = 0.5 : P_1^2 truncated in degree 1\n",
    "        \n",
    "        simplif = 1.\n",
    "        if order == .5:\n",
    "            simplif = 0.\n",
    "            \n",
    "        dx2 = dx*dx\n",
    "        dt2 = dt*dt\n",
    "        \n",
    "        cL = coef[0,0]\n",
    "        cR = coef[0,1]\n",
    "        dL = coef[1,0]\n",
    "        dR = coef[1,1]\n",
    "        \n",
    "        M[0,:] = 0\n",
    "        M[-1,:] = 0\n",
    "        M[-2,:] = 0\n",
    "        \n",
    "#        M[0,0] = 1. - U2*(cL/d2 - dL/d1) - U2*(cL*cL/d4 - 2.*cL*dL/d3 + dL*dL/d2)\n",
    "#        M[0,1] = -U2*(-2.*cL/d2 + dL/d1) - U2*(-cL*cL*4./d4 + 2.*cL*dL*3./d3 - 2.*dL*dL/d2)\n",
    "#        M[0,2] = -U2*(cL/d2) - U2*(cL*cL*6./d4 - 2.*cL*dL*3./d3 - 2.*dL*dL/d2)\n",
    "#        M[0,3] = -U2*(-cL*cL*4./d4 + 2.*cL*dL/d3)\n",
    "#        M[0,4] = -U2*cL*cL/d4\n",
    "        \n",
    "#        M[-1,-1] = 1. + cR/d3 + dR/d2\n",
    "#        M[-1,-2] = -3.*cR/d3 -2.*dR/d2\n",
    "#        M[-1,-3] = 3.*cR/d3 + dR/d2\n",
    "#        M[-1,-3] = -cR/d3\n",
    "        \n",
    "#        M[-2,-1] = 1./d1 + cR*cR/d4 + 2.*cR*dR/d3 + dR*dR/d2\n",
    "#        M[-2,-2] = -1./d1 - 4.*cR*cR/d4 - 2.*cR*dR*3./d3 - 2.*dR*dR/d2\n",
    "#        M[-2,-3] = 6.*cR*cR/d4 + 2.*cR*cR*3./d3 + dR*dR/d2\n",
    "#        M[-2,-4] = -4.*cR*cR/d4 - 2.*cR*dR/d3\n",
    "#        M[-2,-5] = cR*cR/d4\n",
    "        \n",
    "#        rhs[0] = 0.\n",
    "#        rhs[-1] = 0.\n",
    "#        rhs[-2] = 0\n",
    "                \n",
    "        M[0,0] = 1. + U2/dx*(cL/dt + dL) + U2/dx2*(simplif*cL*cL/dt2 + 2.*cL*dL/dt + dL*dL)\n",
    "        M[0,1] = - U2/dx*(cL/dt + dL) - 2.*U2/dx2*(simplif*cL*cL/dt2 + 2.*cL*dL/dt + dL*dL)\n",
    "        M[0,2] = + U2/dx2*(simplif*cL*cL/dt2 + 2.*cL*dL/dt + dL*dL)\n",
    "\n",
    "        M[-1,-1] = 1. - (simplif*cR*cR/dt2 + 2.*cR*dR/dt + dR*dR)/dx2\n",
    "        M[-1,-2] = 2.*(simplif*cR*cR/dt2 + 2.*cR*dR/dt + dR*dR)/dx2\n",
    "        M[-1,-3] = -(simplif*cR*cR/dt2 + 2.*cR*dR/dt + dR*dR)/dx2 \n",
    "\n",
    "        M[-2,-1] = 1./dx + (cR/dt + dR)/dx2\n",
    "        M[-2,-2] = -1./dx -2.*(cR/dt + dR)/dx2\n",
    "        M[-2,-3] = (cR/dt + dR)/dx2\n",
    "        \n",
    "        rhs[0] = - U2*cL/(dt*dx)*(um[1] - um[0]) + \\\n",
    "                U2/dx2*(2.*simplif*cL*cL/dt2 + 2.*cL*dL/dt)*(um[0] - 2.*um[1] + um[2]) - \\\n",
    "                U2*simplif*cL*cL/(dt2*dx2)*(umm[0] - 2.*umm[1] + umm[2])\n",
    "        rhs[-1] = -(2.*simplif*cR*cR/dt2 + 2.*cR*dR/dt)*(um[-1] - 2.*um[-2] + um[-3])/dx2 + \\\n",
    "                simplif*cR*cR/(dt2*dx2)*(umm[-1] - 2.*umm[-2] + umm[-3])      \n",
    "        rhs[-2] = cR/(dt*dx2)*(um[-1] - 2.*um[-2] + um[-3])\n",
    "    \n",
    "    return M,rhs"
   ]
  },
  {
   "cell_type": "code",
   "execution_count": null,
   "metadata": {
    "collapsed": true,
    "run_control": {
     "frozen": false,
     "read_only": false
    }
   },
   "outputs": [],
   "source": [
    "%%writefile besseTBC.py -a\n",
    "\n",
    "### Correction on the point N+1 of Omega_2\n",
    "\n",
    "def correctPointOmega2(M,rhs,uNeig,uprev,dt,dx):\n",
    "    \n",
    "    k = dt/(dx*dx*dx)\n",
    "    \n",
    "    M[1,:] = 0.\n",
    "    M[1,0] = k/2.\n",
    "    M[1,1] = 1.\n",
    "    M[1,2] = -k\n",
    "    M[1,3] = k/2.\n",
    "    \n",
    "    rhs[1] = uprev[1] - k/2.*(uNeig[-1] - uNeig[-2])\n",
    "    \n",
    "    return M,rhs"
   ]
  },
  {
   "cell_type": "code",
   "execution_count": 138,
   "metadata": {
    "code_folding": [
     3
    ],
    "collapsed": false,
    "init_cell": true,
    "run_control": {
     "frozen": false,
     "read_only": false
    }
   },
   "outputs": [
    {
     "name": "stdout",
     "output_type": "stream",
     "text": [
      "Appending to besseTBC.py\n"
     ]
    }
   ],
   "source": [
    "%%writefile besseTBC.py -a\n",
    "\n",
    "# Our scheme for the dispersion equation + Besse's TBCs\n",
    "def IFDBesse2(u,um,umm,t,dt,dx,U2,order,coef,correctTBCL,correctTBCR,BCs=np.zeros(3)):\n",
    "    k = dt/(dx*dx*dx)\n",
    "\n",
    "    nx = u.size - 1\n",
    "\n",
    "    d0  = 1.*np.ones(nx+1)\n",
    "    d1 = -k*13/8.*np.ones(nx)\n",
    "    d2 = +k*np.ones(nx-1)\n",
    "    d3 = -k*1./8.*np.ones(nx-2)\n",
    "    \n",
    "    M =  np.diag(d0) + np.diag(d1,1) + np.diag(d2,2) + np.diag(d3,3) - np.diag(d1,-1) - np.diag(d2,-2) - np.diag(d3,-3)\n",
    "       \n",
    "    vvv = np.zeros(nx+1)\n",
    "    vvv[0] = 1. - 1.*k\n",
    "    vvv[1] = 3.*k\n",
    "    vvv[2] = -3.*k\n",
    "    vvv[3] = 1.*k \n",
    "    \n",
    "    vvv[0] = 1. -5./2.*k #######\n",
    "    vvv[1] = 9.*k #######\n",
    "    vvv[2] = -12.*k #######\n",
    "    vvv[3] = 7.*k #######\n",
    "    vvv[4] = -3./2*k #######\n",
    "    \n",
    "    zzz = -np.flipud(vvv)\n",
    "    zzz[-1] = 1. + 1.*k\n",
    "    zzz[-1] = 1. + 5./2.*k ######\n",
    "\n",
    "    M[0,:] = vvv\n",
    "    M[1,:] = np.roll(vvv,1)\n",
    "    M[2,:] = np.roll(vvv,2)\n",
    "    \n",
    "    M[nx,:] = zzz\n",
    "    M[nx-1,:] = np.roll(zzz,-1)\n",
    "    M[nx-2,:] = np.roll(zzz,-2)\n",
    "    \n",
    "    rhs = np.copy(u)\n",
    "    \n",
    "    M,rhs = imposeTBC(M,rhs,um,umm,U2,dx,dt,order,coef,BCs,correctTBCL,correctTBCR)\n",
    "    \n",
    "    np.set_printoptions(threshold=np.nan)\n",
    "    np.set_printoptions(suppress=True)\n",
    "    \n",
    "    u2 = np.linalg.solve(M,rhs)\n",
    "    \n",
    "    return u2"
   ]
  },
  {
   "cell_type": "code",
   "execution_count": 139,
   "metadata": {
    "code_folding": [],
    "collapsed": false,
    "init_cell": true,
    "run_control": {
     "frozen": false,
     "read_only": false
    }
   },
   "outputs": [
    {
     "name": "stdout",
     "output_type": "stream",
     "text": [
      "Appending to besseTBC.py\n"
     ]
    }
   ],
   "source": [
    "%%writefile besseTBC.py -a\n",
    "\n",
    "# Our scheme for the dispersion equation + Besse's TBCs\n",
    "def IFDBesse(u,um,umm,t,dt,dx,U2,order,coef,correctTBCL,correctTBCR,useTBCL, useTBCR, BCs=np.zeros(3),\n",
    "             fourConditions=0,pointR = 0,modifyDiscret=0, middlePoint = 0, uNeig = None):\n",
    "    k = dt/(dx*dx*dx)\n",
    "\n",
    "    nx = u.size - 1\n",
    "\n",
    "    d0  = 1.*np.ones(nx+1)\n",
    "    d1 = -k*np.ones(nx)\n",
    "    d2 = +k*1./2.*np.ones(nx-1)\n",
    "    \n",
    "    M =  np.diag(d0) + np.diag(d1,1) + np.diag(d2,2)  - np.diag(d1,-1) - np.diag(d2,-2)\n",
    "     \n",
    "    ### Increase order of uncentered !!!!!    \n",
    "    vvv = np.zeros(nx+1)\n",
    "    ### order 2\n",
    "    vvv[0] = 1. - 5./2.*k\n",
    "    vvv[1] = 9.*k\n",
    "    vvv[2] = -12.*k\n",
    "    vvv[3] = 7.*k\n",
    "    vvv[4] = -3./2.*k\n",
    "    \n",
    "    zzz = -np.flipud(vvv)\n",
    "    zzz[-1] = 1. + 5./2.*k\n",
    "    \n",
    "    M[0,:] = vvv\n",
    "    M[1,:] = np.roll(vvv,1)\n",
    "    \n",
    "    M[nx,:] = zzz\n",
    "    M[nx-1,:] = np.roll(zzz,-1)\n",
    "    \n",
    "    if modifyDiscret == 1: ### uncentered discretization for the point near the interface\n",
    "            if middlePoint == 0:\n",
    "                mp = nx/2 + 1\n",
    "            else:\n",
    "                mp = middlePoint\n",
    "            M[mp,:] = 0.\n",
    "            M[mp,mp] = 1. - 5./2.*k\n",
    "            M[mp,mp+1] = 9.*k\n",
    "            M[mp,mp+2] = -12.*k\n",
    "            M[mp,mp+3] = 7.*k\n",
    "            M[mp,mp+4] = -3./2.*k\n",
    "    \n",
    "    if modifyDiscret == 2 :  #### centered discret for point N+1 in Omega2\n",
    "        M[1,:] = 0\n",
    "        M[1,0] = k\n",
    "        M[1,1] = 1.\n",
    "        M[1,2] = -k\n",
    "        M[1,3] = 1./2.*k\n",
    "        \n",
    "    if modifyDiscret == 3 :   #### centered discret for point N+1 in Omega2 (1/2 + 1/2)\n",
    "        M[1,:] = 0.\n",
    "        M[1,0] = k/2.\n",
    "        M[1,1] = 1.\n",
    "        M[1,2] = -k\n",
    "        M[1,3] = k/2.        \n",
    "        \n",
    "        \n",
    "    rhs = np.copy(u)\n",
    "    \n",
    "    M,rhs = imposeTBC(M,rhs,um,umm,U2,dx,dt,order,coef,BCs,correctTBCL,correctTBCR,fourConditions,pointR,\n",
    "                      useTBCL, useTBCR)\n",
    "    \n",
    "    if modifyDiscret == 2 :  #### centered discret. for point N+1 in Omega2\n",
    "        rhs[1] = rhs[1] + uNeig*k/2.\n",
    "    if modifyDiscret == 3 :  #### centered discret for point N+1 in Omega2 (1/2 + 1/2)\n",
    "        rhs[1] = rhs[1] - k/2.*(uNeig[-1] - uNeig[-2])\n",
    "    \n",
    "    np.set_printoptions(threshold=np.nan)\n",
    "    np.set_printoptions(suppress=True)\n",
    "    \n",
    "    u2 = np.linalg.solve(M,rhs)\n",
    "    \n",
    "    return u2"
   ]
  },
  {
   "cell_type": "code",
   "execution_count": 140,
   "metadata": {
    "code_folding": [
     3
    ],
    "collapsed": false,
    "init_cell": true,
    "run_control": {
     "frozen": false,
     "read_only": false
    }
   },
   "outputs": [
    {
     "name": "stdout",
     "output_type": "stream",
     "text": [
      "Appending to besseTBC.py\n"
     ]
    }
   ],
   "source": [
    "%%writefile besseTBC.py -a\n",
    "\n",
    "## Only dispersive part of KdV\n",
    "def runDispKdV(x,u,t0,tmax,U2,coef, periodic=1, vardt = True, dt = 0.01, verbose = True, order = 0,\n",
    "               correctTBC=0, modifyDiscret = 0, middlePoint = 0, useTBCL = True, useTBCR = True):\n",
    "    \n",
    "    print(\"\")\n",
    "    print(\"*** Computing solution ...\")\n",
    "    t = t0\n",
    "    tall = np.ones(1)*t0\n",
    "    u0 = u\n",
    "    uall = u\n",
    "    u0min = np.amin(u)\n",
    "    u0max = np.amax(u)\n",
    "    dx = np.diff(x)[0]\n",
    "    iter = 0\n",
    "    eps = 1e-6\n",
    "\n",
    "    ##### Parameters\n",
    "    printstep = 5\n",
    "    \n",
    "    \n",
    "    orderOrig = order\n",
    "    um = np.copy(u)\n",
    "    umm = np.copy(u)\n",
    "    while t<tmax:\n",
    "        iter = iter + 1\n",
    "\n",
    "        if iter>2:\n",
    "            umm = np.copy(um)\n",
    "        if iter>1:\n",
    "            um = np.copy(u)\n",
    "        \n",
    "        order = orderOrig\n",
    "        if iter<=2:\n",
    "            order = 0\n",
    "    \n",
    "        if vardt:\n",
    "            umax = np.amax(np.absolute(u))\n",
    "            dt = dx/(1.+2*umax) - eps     # CFL CONDITION\n",
    "\n",
    "        t = t+dt\n",
    "        \n",
    "        if periodic :\n",
    "            u = kdv.FourierSolver(u,t,dt,dx)\n",
    "        else :\n",
    "            u = IFDBesse(u,um,umm,t,dt,dx,U2,order,coef,0,0,useTBCL,useTBCR,\n",
    "                         modifyDiscret = modifyDiscret, middlePoint = middlePoint)\n",
    "\n",
    "        uall = np.column_stack((uall,u))\n",
    "        tall = np.hstack((tall,t*np.ones(1)))\n",
    "        \n",
    "        if iter%100 == 0 and verbose:\n",
    "            print(iter,t)\n",
    "            \n",
    "    print(\"*** End of computation ***\")\n",
    "    return uall,tall\n",
    "\n"
   ]
  },
  {
   "cell_type": "code",
   "execution_count": 141,
   "metadata": {
    "code_folding": [
     3
    ],
    "collapsed": false,
    "init_cell": true,
    "run_control": {
     "frozen": false,
     "read_only": false
    }
   },
   "outputs": [
    {
     "name": "stdout",
     "output_type": "stream",
     "text": [
      "Appending to besseTBC.py\n"
     ]
    }
   ],
   "source": [
    "%%writefile besseTBC.py -a\n",
    "\n",
    "### Optimize parameters of the polynomial\n",
    "def optimizeParamO0(x,u,uallexact,t0,tmax,U2,cLs,cRs, N, dt, prevTests, verbose = False,LeD = False) :\n",
    "\n",
    "    order = 0\n",
    "\n",
    "    dx = x[1] - x[0]\n",
    "        \n",
    "    print(cLs,cRs)\n",
    "\n",
    "    uallexactOrig = np.copy(uallexact)\n",
    "    \n",
    "    tests = {}\n",
    "    testsLight = prevTests\n",
    "\n",
    "    cntTests = 0\n",
    "\n",
    "    coefTBC = np.zeros((1,2))\n",
    "\n",
    "    uall = 1\n",
    "    tall = 1\n",
    "    \n",
    "    for cL in cLs:\n",
    "        cntcR = 0 ## to avoid repeated tests if cL=cR\n",
    "        for cR in cRs:\n",
    "            if (str((cL,cR)) not in testsLight.keys()) : ## if a new test\n",
    "                cntcR = cntcR + 1\n",
    "\n",
    "                coefTBC[0,0] = cL\n",
    "                if not LeD:\n",
    "                    coefTBC[0,1] = cR\n",
    "                else : coefTBC[0,1] = cL\n",
    "\n",
    "                if not LeD or cntcR == 1 :\n",
    "                    cntTests = cntTests+1\n",
    "                    uall,tall = runDispKdV(x,u,t0,tmax,U2, coefTBC ,periodic=0, vardt = False, dt = dt, verbose = False,\n",
    "                                              order = order, useTBCL = True, useTBCR = True)    \n",
    "                    print(cL,cR)\n",
    "\n",
    "                    if cntTests > 0:\n",
    "                        coef = np.amax(uallexact[:,1])/np.amax(uall[:,1])\n",
    "                        coef = 1.\n",
    "                        uallexact[:,1:] = uallexact[:,1:]/coef\n",
    "                        \n",
    "                    en,ErrTm,ErrL2 = computeError(uall,uallexact,dt)\n",
    "\n",
    "                    tests[str((cL,cR))] = (uall,tall,en,ErrTm,ErrL2)\n",
    "                    testsLight[str((cL,cR))] = (ErrTm,ErrL2)\n",
    "\n",
    "\n",
    "                    \n",
    "    ## Errors\n",
    "\n",
    "    errorsall = np.array([(key,float(testsLight[key][0]), float(testsLight[key][1]))for key in testsLight.keys()])\n",
    "    \n",
    "    \n",
    "    cnt = 0\n",
    "    ## ignore explosed solutions\n",
    "    for i in range(errorsall.shape[0]) :\n",
    "        if float(errorsall[i,1]) < 10 :\n",
    "            if cnt == 0:\n",
    "                errors = errorsall[i,:]\n",
    "            else:\n",
    "                errors = np.vstack((errors,errorsall[i,:]))\n",
    "            cnt = cnt+1\n",
    "\n",
    "    print(errors.shape)\n",
    "    if (errors.ndim == 2):\n",
    "        testTmmax = errors[np.argmax(errors[:,2]),0]\n",
    "        testTmmin = errors[np.argmin(errors[:,2]),0]\n",
    "        testL2max = errors[np.argmax(errors[:,1]),0]\n",
    "        testL2min = errors[np.argmin(errors[:,1]),0]\n",
    "    else :\n",
    "        testTmmax = errors[0]\n",
    "        testTmmin = errors[0]\n",
    "        testL2max = errors[0]\n",
    "        testL2min = errors[0]\n",
    "        \n",
    "    if verbose :\n",
    "        print('ErrTm Max = ',testsLight[testTmmax][0], r\"(cL,cR) = \", testTmmax)\n",
    "        print('ErrTm Min = ',testsLight[testTmmin][0], r\"(cL,cR) = \", testTmmin)\n",
    "        print('ErrL2 Max = ',testsLight[testL2max][1], r\"(cL,cR) = \", testL2max)\n",
    "        print('ErrL2 Min = ',testsLight[testL2min][1], r\"(cL,cR) = \", testL2min)\n",
    "\n",
    "    return uall,uallexact,tall,tests,testsLight,errors,testTmmax,testTmmin,testL2max,testL2min\n"
   ]
  },
  {
   "cell_type": "code",
   "execution_count": 142,
   "metadata": {
    "code_folding": [
     3
    ],
    "collapsed": false,
    "init_cell": true,
    "run_control": {
     "frozen": false,
     "read_only": false
    }
   },
   "outputs": [
    {
     "name": "stdout",
     "output_type": "stream",
     "text": [
      "Appending to besseTBC.py\n"
     ]
    }
   ],
   "source": [
    "%%writefile besseTBC.py -a\n",
    "\n",
    "## Fundamental solution of the equation (for any initial condition)\n",
    "def fundamentalSolution(x,t) :\n",
    "    a = np.power(3.*t,-1./3.)\n",
    "    Ai,Aip,Bi,Bip = special.airy(x*a)\n",
    "    return a*Ai\n"
   ]
  },
  {
   "cell_type": "code",
   "execution_count": 143,
   "metadata": {
    "code_folding": [
     3
    ],
    "collapsed": false,
    "init_cell": true,
    "run_control": {
     "frozen": false,
     "read_only": false
    }
   },
   "outputs": [
    {
     "name": "stdout",
     "output_type": "stream",
     "text": [
      "Appending to besseTBC.py\n"
     ]
    }
   ],
   "source": [
    "%%writefile besseTBC.py -a\n",
    "\n",
    "## Exact solution\n",
    "def exactSolution(x,t,initCond) :\n",
    "    dx = x[1] - x[0]\n",
    "    left = np.arange(x[0]-1000.,x[0],dx)\n",
    "    sizeL = np.size(left)\n",
    "    right = np.arange(x[-1] + dx,x[-1] + 1000., dx)\n",
    "    sizeR = np.size(right)\n",
    "    x2 = np.concatenate((left,x,right))\n",
    "\n",
    "    uf = fundamentalSolution(x2,t)\n",
    "    u0 = initCond(x2)\n",
    "    \n",
    "    b = np.convolve(uf/np.sum(uf),u0,'same')\n",
    "    c = b[sizeL:sizeL+x.size]\n",
    "    \n",
    "    return c\n"
   ]
  },
  {
   "cell_type": "code",
   "execution_count": 144,
   "metadata": {
    "code_folding": [
     3
    ],
    "collapsed": false,
    "init_cell": true,
    "run_control": {
     "frozen": false,
     "read_only": false
    }
   },
   "outputs": [
    {
     "name": "stdout",
     "output_type": "stream",
     "text": [
      "Appending to besseTBC.py\n"
     ]
    }
   ],
   "source": [
    "%%writefile besseTBC.py -a\n",
    "\n",
    "## Initial condition\n",
    "def initGauss(x) :\n",
    "    return np.exp(-x*x)\n"
   ]
  },
  {
   "cell_type": "code",
   "execution_count": 145,
   "metadata": {
    "code_folding": [
     3
    ],
    "collapsed": false,
    "init_cell": true,
    "run_control": {
     "frozen": false,
     "read_only": false
    }
   },
   "outputs": [
    {
     "name": "stdout",
     "output_type": "stream",
     "text": [
      "Appending to besseTBC.py\n"
     ]
    }
   ],
   "source": [
    "%%writefile besseTBC.py -a\n",
    "\n",
    "## Initial condition\n",
    "def initCosinus(x) :\n",
    "    return np.cos(x)\n"
   ]
  },
  {
   "cell_type": "code",
   "execution_count": 146,
   "metadata": {
    "code_folding": [
     3
    ],
    "collapsed": false,
    "init_cell": true,
    "run_control": {
     "frozen": false,
     "read_only": false
    }
   },
   "outputs": [
    {
     "name": "stdout",
     "output_type": "stream",
     "text": [
      "Appending to besseTBC.py\n"
     ]
    }
   ],
   "source": [
    "%%writefile besseTBC.py -a\n",
    "\n",
    "## Exact solution\n",
    "def exactSolution2(x,t) :\n",
    "    dx = x[1] - x[0]\n",
    "    left = np.arange(x[0]-1000.,x[0],dx)\n",
    "    sizeL = np.size(left)\n",
    "    right = np.arange(x[-1] + dx,x[-1] + 1000., dx)\n",
    "    sizeR = np.size(right)\n",
    "    x2 = np.concatenate((left,x,right))\n",
    "    a = np.power(3.*t,-1./3.)\n",
    "    Ai,Aip,Bi,Bip = special.airy(x2*a)\n",
    "    e = np.exp(-x2*x2)\n",
    "    b = np.convolve(a*Ai,e,'same')/np.sum(np.absolute(e))\n",
    "    c = b[sizeL:sizeL+x.size]\n",
    "    print(t)\n",
    "    return c\n"
   ]
  },
  {
   "cell_type": "code",
   "execution_count": 147,
   "metadata": {
    "code_folding": [],
    "collapsed": false,
    "init_cell": true,
    "run_control": {
     "frozen": false,
     "read_only": false
    }
   },
   "outputs": [
    {
     "name": "stdout",
     "output_type": "stream",
     "text": [
      "Appending to besseTBC.py\n"
     ]
    }
   ],
   "source": [
    "%%writefile besseTBC.py -a\n",
    "\n",
    "## Load previous results from file and put in the library (or create a new one)\n",
    "def loadTests(filename,module=\"marshal\") :\n",
    "\n",
    "    # load from file:\n",
    "    try :\n",
    "        with open(filename, 'r') as f:\n",
    "            try:\n",
    "                if module == \"yaml\":\n",
    "                    tests = yaml.safe_load(f)\n",
    "                elif module == \"marshal\":\n",
    "                    tests = marshal.load(f)\n",
    "            # if the file is empty the ValueError will be thrown\n",
    "            except ValueError:\n",
    "                tests= {}\n",
    "    except : tests = {}\n",
    "        \n",
    "    return tests\n",
    "\n",
    "def saveTests(tests,filename,module=\"marshal\"):\n",
    "    # save to file:\n",
    "    with open(filename, 'w') as f:\n",
    "        if module == \"marshal\":\n",
    "            marshal.dump(tests, f)\n",
    "        elif module == \"json\" :\n",
    "            json.dump(tests, f)\n",
    "    "
   ]
  },
  {
   "cell_type": "code",
   "execution_count": 148,
   "metadata": {
    "code_folding": [
     2
    ],
    "collapsed": false,
    "init_cell": true,
    "run_control": {
     "frozen": false,
     "read_only": false
    }
   },
   "outputs": [
    {
     "name": "stdout",
     "output_type": "stream",
     "text": [
      "Appending to besseTBC.py\n"
     ]
    }
   ],
   "source": [
    "%%writefile besseTBC.py -a\n",
    "\n",
    "def showRanking(tests,nb,criteria=\"L2\") :\n",
    "    if criteria == \"Tm\":\n",
    "        idxcrt = 1\n",
    "    elif criteria == \"L2\":\n",
    "        idxcrt = 2\n",
    "    else:\n",
    "        print(\"Wrong criteria\")\n",
    "    \n",
    "    testsList = np.array([(key,float(tests[key][0]), float(tests[key][1]))for key in tests.keys()])\n",
    "\n",
    "    print(\"Best results\")\n",
    "    idxbest = np.argsort(testsList[:,idxcrt])\n",
    "    for i in range(nb):\n",
    "        coefs = eval(testsList[idxbest[i],0])\n",
    "        #print(testsList[idxbest[i],:])\n",
    "        print(r\"(%.3f,%.3f)\" %(coefs[0],coefs[1]),testsList[idxbest[i],1],testsList[idxbest[i],2])"
   ]
  },
  {
   "cell_type": "code",
   "execution_count": 149,
   "metadata": {
    "code_folding": [
     2
    ],
    "collapsed": false,
    "init_cell": true,
    "run_control": {
     "frozen": false,
     "read_only": false
    }
   },
   "outputs": [
    {
     "name": "stdout",
     "output_type": "stream",
     "text": [
      "Appending to besseTBC.py\n"
     ]
    }
   ],
   "source": [
    "%%writefile besseTBC.py -a\n",
    "\n",
    "def animateBestSolution(x,u,uallexact,U2,t0,tmax,dt,tests,xmin=None,xmax=None,criteria=\"L2\"):\n",
    "\n",
    "    coefs = np.zeros((1,2))\n",
    "    \n",
    "    if criteria == \"Tm\":\n",
    "        idxcrt = 1\n",
    "    elif criteria == \"L2\":\n",
    "        idxcrt = 2\n",
    "    else:\n",
    "        print(\"Wrong criteria\")\n",
    "        \n",
    "    testsList = np.array([(key,float(tests[key][0]), float(tests[key][1]))for key in tests.keys()])\n",
    "    tup = testsList[np.argsort(testsList[:,idxcrt])[0]][0]\n",
    "    coefsBest = np.array(eval(tup))\n",
    "\n",
    "    coefs[0,:] = coefsBest\n",
    "    uall,tall = runDispKdV(x,u,t0,tmax,U2, coefs,periodic=0, vardt = False, dt = dt, verbose = False,\n",
    "                                              order = 0)\n",
    "\n",
    "    if xmin == None:\n",
    "        xmin = x[0]\n",
    "    if xmax == None:\n",
    "        xmax = x[-1]\n",
    "    ymin = np.amin(np.concatenate(uall))\n",
    "    ymax = np.amax(np.concatenate(uall))\n",
    "\n",
    "    anim = gF.plotAnimationNSolutions(2,x,np.array([uall,uallexact]),\n",
    "                               tall,xmin,xmax,ymin,ymax+.2,[\"best sol : \" + tup,\"exact\"],r'$u$',location=(.7,.7))\n",
    "    \n",
    "    return anim"
   ]
  },
  {
   "cell_type": "code",
   "execution_count": 150,
   "metadata": {
    "code_folding": [
     2
    ],
    "collapsed": false,
    "init_cell": true,
    "run_control": {
     "frozen": false,
     "read_only": false
    }
   },
   "outputs": [
    {
     "name": "stdout",
     "output_type": "stream",
     "text": [
      "Appending to besseTBC.py\n"
     ]
    }
   ],
   "source": [
    "%%writefile besseTBC.py -a\n",
    "\n",
    "def plotBestWorstSolution(x,u,uallexact,U2,t0,tmax,dt,tall,tsnaps,tests,criteria=\"L2\",\n",
    "                          savePath = None, ext = \"png\",legloc=0):\n",
    "\n",
    "    coefs = np.zeros((1,2))\n",
    "    \n",
    "    if criteria == \"Tm\":\n",
    "        idxcrt = 1\n",
    "    elif criteria == \"L2\":\n",
    "        idxcrt = 2\n",
    "    else:\n",
    "        print(\"Wrong criteria\")\n",
    "        \n",
    "    testsList = np.array([(key,float(tests[key][0]), float(tests[key][1]))for key in tests.keys()])\n",
    "\n",
    "    tupBest = testsList[np.argsort(testsList[:,idxcrt])[0]][0]\n",
    "    coefsBest = np.array(eval(tupBest))\n",
    "    tupWorst = testsList[np.argsort(testsList[:,idxcrt])[-1]][0]\n",
    "    coefsWorst = np.array(eval(tupWorst))\n",
    "    \n",
    "    coefs[0,:] = coefsBest\n",
    "    uallBest,tallBest = runDispKdV(x,u,t0,tmax,U2, coefs,periodic=0, vardt = False, dt = dt, verbose = False,\n",
    "                                              order = 0)\n",
    "    coefs[0,:] = coefsWorst\n",
    "    uallWorst,tallWorst = runDispKdV(x,u,t0,tmax,U2, coefs,periodic=0, vardt = False, dt = dt, verbose = False,\n",
    "                                              order = 0)\n",
    "\n",
    "    ymin = np.amin(np.concatenate(uallBest))\n",
    "    ymax = np.amax(np.concatenate(uallBest))\n",
    "\n",
    "    cnt=0\n",
    "    for t in tsnaps :\n",
    "        plt.figure()\n",
    "        it = np.argmin(np.absolute(tallBest-t))\n",
    "        plt.plot(x,uallBest[:,it],label=\"best sol (%.3f,%.3f) \" %(coefsBest[0],coefsBest[1]))\n",
    "        plt.plot(x,uallWorst[:,it],label=\"worst sol (%.3f,%.3f)\" %(coefsWorst[0],coefsWorst[1]),linestyle=\"--\")\n",
    "        plt.plot(x,uallexact[:,it],marker='+',markevery=10,linestyle='None', label='Exact sol')\n",
    "        plt.title(r't = %f'%tallBest[it])\n",
    "        plt.legend(loc=legloc)\n",
    "        plt.xlabel(\"$x$\",fontsize=\"x-large\")\n",
    "        plt.ylabel(\"$u$\",fontsize=\"x-large\")\n",
    "        if savePath != None :\n",
    "            plt.savefig(savePath+\"Snap\" + str(cnt) + \".\"+ext)\n",
    "        cnt = cnt+1"
   ]
  },
  {
   "cell_type": "code",
   "execution_count": 151,
   "metadata": {
    "code_folding": [
     4,
     17
    ],
    "collapsed": false,
    "init_cell": true,
    "run_control": {
     "frozen": false,
     "read_only": false
    }
   },
   "outputs": [
    {
     "name": "stdout",
     "output_type": "stream",
     "text": [
      "Appending to besseTBC.py\n"
     ]
    }
   ],
   "source": [
    "%%writefile besseTBC.py -a\n",
    "\n",
    "from itertools import cycle\n",
    "\n",
    "def plotCoefError(testsLight,fixedValues,fixedCoef = \"right\",minCoef=None,maxCoef=None,\n",
    "                  savePath=None,ext=\"png\",plotErrors=\"both\",legloc=0):\n",
    "\n",
    "    lines = [\"--\",\"-.\",\":\",\"-\"]\n",
    "    linecycler = cycle(lines)\n",
    "    markers = [\"None\",\"+\",\"o\"]\n",
    "    markers = np.tile(markers,(2,1)).transpose().flatten()\n",
    "    markers = np.ndarray.tolist(markers)\n",
    "    markercycler = cycle(markers)\n",
    "\n",
    "    \n",
    "    plt.figure()\n",
    "    \n",
    "    if fixedCoef == \"right\" :\n",
    "        fixedIndex = 1\n",
    "        leg = r\"$c_R = $\"\n",
    "        title = \"$c_R$ fixed\"\n",
    "        xlbl = \"$c_L$\"\n",
    "    elif fixedCoef == \"left\" :\n",
    "        fixedIndex = 0\n",
    "        leg = r\"$c_L = $\"\n",
    "        title = \"$c_L$ fixed\"\n",
    "        xlbl = \"$c_R$\"\n",
    "        \n",
    "    ## string -> (cL,cR)\n",
    "    testsList = np.array([(key,float(testsLight[key][0]), float(testsLight[key][1]))for key in testsLight.keys()])\n",
    "    testsCoefsList = np.zeros((testsList.shape[0],4))\n",
    "    \n",
    "    for i in range(testsCoefsList.shape[0]) :\n",
    "        tup = eval(testsList[i,0])\n",
    "        testsCoefsList[i,0] = tup[0]\n",
    "        testsCoefsList[i,1] = tup[1]\n",
    "    testsCoefsList[:,2:4] = testsList[:,1:3] ## cL,cR,Tm,L2\n",
    "\n",
    "\n",
    "    errormin = 100000000\n",
    "    errormax = -100000000\n",
    "    for fixed in fixedValues :\n",
    "        filtredList = np.zeros((1,3))\n",
    "        line = np.zeros((1,3))\n",
    "        for i in range(testsCoefsList.shape[0]):\n",
    "            if np.absolute(testsCoefsList[i,fixedIndex] - fixed) < 1e-6 :\n",
    "                line[0,0] = testsCoefsList[i,1-fixedIndex] ## cL,Tm,L2\n",
    "                line[0,1:3] = testsCoefsList[i,2:4]\n",
    "                filtredList = np.concatenate((filtredList,line))\n",
    "        filtredList = np.delete(filtredList,0,0)\n",
    "        filtredList = filtredList[np.argsort(filtredList[:,0])]\n",
    "        if plotErrors == \"both\" : \n",
    "            plt.plot(filtredList[:,0],filtredList[:,1],label=leg + r\"%.3f\"%fixed + \" - Tm\",\n",
    "                     linestyle = next(linecycler), marker = next(markercycler) )\n",
    "            plt.plot(filtredList[:,0],filtredList[:,2],label=leg + r\"%.3f\"%fixed + \" - L2\",\n",
    "                     linestyle = next(linecycler), marker = next(markercycler) )\n",
    "        elif plotErrors == \"L2\" :\n",
    "            plt.plot(filtredList[:,0],filtredList[:,2],label=leg + r\"%.3f\"%fixed,\n",
    "                     linestyle = next(linecycler), marker = next(markercycler))\n",
    "        elif plotErrors == \"Tm\" :\n",
    "            plt.plot(filtredList[:,0],filtredList[:,1],label=leg + r\"%.3f\"%fixed,\n",
    "                     linestyle = next(linecycler), marker = next(markercycler))\n",
    "\n",
    "\n",
    "        \n",
    "        print(minCoef,maxCoef,filtredList[0,0],filtredList[-1,0])\n",
    "        if minCoef == None:\n",
    "            minCoef = 100000000\n",
    "            if (filtredList[0,0] < minCoef):\n",
    "                minCoef = filtredList[0,0]\n",
    "        if maxCoef == None :\n",
    "            maxCoef = -100000000\n",
    "            if (filtredList[-1,0] > maxCoef):\n",
    "                maxCoef = filtredList[-1,0]\n",
    "\n",
    "        print(minCoef,maxCoef,errormin,errormax)\n",
    "        idxmin = np.argmin(np.absolute(filtredList[:,0]-minCoef))\n",
    "        idxmax = np.argmin(np.absolute(filtredList[:,0]-maxCoef))\n",
    "        if np.amin([filtredList[idxmin:idxmax+1,1:]]) < errormin:\n",
    "            errormin = np.amin([filtredList[idxmin:idxmax+1,1:]])\n",
    "        if np.amax([filtredList[idxmin:idxmax+1,1:]]) > errormax:\n",
    "            errormax = np.amax([filtredList[idxmin:idxmax+1,1:]])\n",
    "\n",
    "    plt.xlim((minCoef,maxCoef))\n",
    "    plt.ylim((errormin,errormax))\n",
    "    plt.xlabel(xlbl,fontsize=\"x-large\")\n",
    "    \n",
    "    if plotErrors == \"both\" :\n",
    "        plt.ylabel(\"Error\",fontsize=\"x-large\")\n",
    "    elif plotErrors == \"L2\":\n",
    "        plt.ylabel(r\"$e_{L2}$\",fontsize=\"x-large\")\n",
    "    elif plotErrors == \"Tm\":\n",
    "        plt.ylabel(r\"$e_{Tm}$\",fontsize=\"x-large\")\n",
    "    #plt.title(title)\n",
    "    plt.legend(loc = legloc)\n",
    "    \n",
    "    if savePath != None:\n",
    "        plt.savefig(savePath+\".\"+ext)\n"
   ]
  },
  {
   "cell_type": "code",
   "execution_count": 152,
   "metadata": {
    "collapsed": false,
    "init_cell": true,
    "run_control": {
     "frozen": false,
     "read_only": false
    }
   },
   "outputs": [],
   "source": [
    "import besseTBC\n",
    "import numpy as np\n",
    "import matplotlib.pyplot as plt\n",
    "import kdv\n",
    "import generalFunctions as gF\n",
    "import cPickle as pickle\n",
    "\n",
    "%matplotlib inline\n"
   ]
  },
  {
   "cell_type": "markdown",
   "metadata": {},
   "source": [
    "### Example tests : Polynomial of order 0"
   ]
  },
  {
   "cell_type": "code",
   "execution_count": 73,
   "metadata": {
    "collapsed": false,
    "run_control": {
     "frozen": false,
     "read_only": false
    },
    "scrolled": true
   },
   "outputs": [
    {
     "name": "stdout",
     "output_type": "stream",
     "text": [
      "*** Computing initial solution\n",
      "t = 0.015625\n",
      "t = 0.031250\n",
      "t = 0.046875\n",
      "t = 0.062500\n",
      "t = 0.078125\n",
      "t = 0.093750\n",
      "t = 0.109375\n",
      "t = 0.125000\n",
      "t = 0.140625\n",
      "t = 0.156250\n",
      "t = 0.171875\n",
      "t = 0.187500\n",
      "t = 0.203125\n",
      "t = 0.218750\n",
      "t = 0.234375\n",
      "t = 0.250000\n",
      "t = 0.265625\n",
      "t = 0.281250\n",
      "t = 0.296875\n",
      "t = 0.312500\n",
      "t = 0.328125\n",
      "t = 0.343750\n",
      "t = 0.359375\n",
      "t = 0.375000\n",
      "t = 0.390625\n",
      "t = 0.406250\n",
      "t = 0.421875\n",
      "t = 0.437500\n",
      "t = 0.453125\n",
      "t = 0.468750\n",
      "t = 0.484375\n",
      "t = 0.500000\n",
      "t = 0.515625\n",
      "t = 0.531250\n",
      "t = 0.546875\n",
      "t = 0.562500\n",
      "t = 0.578125\n",
      "t = 0.593750\n",
      "t = 0.609375\n",
      "t = 0.625000\n",
      "t = 0.640625\n",
      "t = 0.656250\n",
      "t = 0.671875\n",
      "t = 0.687500\n",
      "t = 0.703125\n",
      "t = 0.718750\n",
      "t = 0.734375\n",
      "t = 0.750000\n",
      "t = 0.765625\n",
      "t = 0.781250\n",
      "t = 0.796875\n",
      "t = 0.812500\n",
      "t = 0.828125\n",
      "t = 0.843750\n",
      "t = 0.859375\n",
      "t = 0.875000\n",
      "t = 0.890625\n",
      "t = 0.906250\n",
      "t = 0.921875\n",
      "t = 0.937500\n",
      "t = 0.953125\n",
      "t = 0.968750\n",
      "t = 0.984375\n",
      "t = 1.000000\n",
      "t = 1.015625\n",
      "t = 1.031250\n",
      "t = 1.046875\n",
      "t = 1.062500\n",
      "t = 1.078125\n",
      "t = 1.093750\n",
      "t = 1.109375\n",
      "t = 1.125000\n",
      "t = 1.140625\n",
      "t = 1.156250\n",
      "t = 1.171875\n",
      "t = 1.187500\n",
      "t = 1.203125\n",
      "t = 1.218750\n",
      "t = 1.234375\n",
      "t = 1.250000\n",
      "t = 1.265625\n",
      "t = 1.281250\n",
      "t = 1.296875\n",
      "t = 1.312500\n",
      "t = 1.328125\n",
      "t = 1.343750\n",
      "t = 1.359375\n",
      "t = 1.375000\n",
      "t = 1.390625\n",
      "t = 1.406250\n",
      "t = 1.421875\n",
      "t = 1.437500\n",
      "t = 1.453125\n",
      "t = 1.468750\n",
      "t = 1.484375\n",
      "t = 1.500000\n",
      "t = 1.515625\n",
      "t = 1.531250\n",
      "t = 1.546875\n",
      "t = 1.562500\n",
      "t = 1.578125\n",
      "t = 1.593750\n",
      "t = 1.609375\n",
      "t = 1.625000\n",
      "t = 1.640625\n",
      "t = 1.656250\n",
      "t = 1.671875\n",
      "t = 1.687500\n",
      "t = 1.703125\n",
      "t = 1.718750\n",
      "t = 1.734375\n",
      "t = 1.750000\n",
      "t = 1.765625\n",
      "t = 1.781250\n",
      "t = 1.796875\n",
      "t = 1.812500\n",
      "t = 1.828125\n",
      "t = 1.843750\n",
      "t = 1.859375\n",
      "t = 1.875000\n",
      "t = 1.890625\n",
      "t = 1.906250\n",
      "t = 1.921875\n",
      "t = 1.937500\n",
      "t = 1.953125\n",
      "t = 1.968750\n",
      "t = 1.984375\n",
      "t = 2.000000\n",
      "t = 2.015625\n",
      "t = 2.031250\n",
      "t = 2.046875\n",
      "t = 2.062500\n",
      "t = 2.078125\n",
      "t = 2.093750\n",
      "t = 2.109375\n",
      "t = 2.125000\n",
      "t = 2.140625\n",
      "t = 2.156250\n",
      "t = 2.171875\n",
      "t = 2.187500\n",
      "t = 2.203125\n",
      "t = 2.218750\n",
      "t = 2.234375\n",
      "t = 2.250000\n",
      "t = 2.265625\n",
      "t = 2.281250\n",
      "t = 2.296875\n",
      "t = 2.312500\n",
      "t = 2.328125\n",
      "t = 2.343750\n",
      "t = 2.359375\n",
      "t = 2.375000\n",
      "t = 2.390625\n",
      "t = 2.406250\n",
      "t = 2.421875\n",
      "t = 2.437500\n",
      "t = 2.453125\n",
      "t = 2.468750\n",
      "t = 2.484375\n",
      "t = 2.500000\n",
      "t = 2.515625\n",
      "t = 2.531250\n",
      "t = 2.546875\n",
      "t = 2.562500\n",
      "t = 2.578125\n",
      "t = 2.593750\n",
      "t = 2.609375\n",
      "t = 2.625000\n",
      "t = 2.640625\n",
      "t = 2.656250\n",
      "t = 2.671875\n",
      "t = 2.687500\n",
      "t = 2.703125\n",
      "t = 2.718750\n",
      "t = 2.734375\n",
      "t = 2.750000\n",
      "t = 2.765625\n",
      "t = 2.781250\n",
      "t = 2.796875\n",
      "t = 2.812500\n",
      "t = 2.828125\n",
      "t = 2.843750\n",
      "t = 2.859375\n",
      "t = 2.875000\n",
      "t = 2.890625\n",
      "t = 2.906250\n",
      "t = 2.921875\n",
      "t = 2.937500\n",
      "t = 2.953125\n",
      "t = 2.968750\n",
      "t = 2.984375\n",
      "t = 3.000000\n",
      "t = 3.015625\n",
      "t = 3.031250\n",
      "t = 3.046875\n",
      "t = 3.062500\n",
      "t = 3.078125\n",
      "t = 3.093750\n",
      "t = 3.109375\n",
      "t = 3.125000\n",
      "t = 3.140625\n",
      "t = 3.156250\n",
      "t = 3.171875\n",
      "t = 3.187500\n",
      "t = 3.203125\n",
      "t = 3.218750\n",
      "t = 3.234375\n",
      "t = 3.250000\n",
      "t = 3.265625\n",
      "t = 3.281250\n",
      "t = 3.296875\n",
      "t = 3.312500\n",
      "t = 3.328125\n",
      "t = 3.343750\n",
      "t = 3.359375\n",
      "t = 3.375000\n",
      "t = 3.390625\n",
      "t = 3.406250\n",
      "t = 3.421875\n",
      "t = 3.437500\n",
      "t = 3.453125\n",
      "t = 3.468750\n",
      "t = 3.484375\n",
      "t = 3.500000\n",
      "t = 3.515625\n",
      "t = 3.531250\n",
      "t = 3.546875\n",
      "t = 3.562500\n",
      "t = 3.578125\n",
      "t = 3.593750\n",
      "t = 3.609375\n",
      "t = 3.625000\n",
      "t = 3.640625\n",
      "t = 3.656250\n",
      "t = 3.671875\n",
      "t = 3.687500\n",
      "t = 3.703125\n",
      "t = 3.718750\n",
      "t = 3.734375\n",
      "t = 3.750000\n",
      "t = 3.765625\n",
      "t = 3.781250\n",
      "t = 3.796875\n",
      "t = 3.812500\n",
      "t = 3.828125\n",
      "t = 3.843750\n",
      "t = 3.859375\n",
      "t = 3.875000\n",
      "t = 3.890625\n",
      "t = 3.906250\n",
      "t = 3.921875\n",
      "t = 3.937500\n",
      "t = 3.953125\n",
      "t = 3.968750\n",
      "t = 3.984375\n",
      "t = 4.000000\n",
      "(array([-10. ,  -1. ,  -0.1,   0. ,   0.1,   1. ,  10. ]), array([-10. ,  -1. ,  -0.1,   0. ,   0.1,   1. ,  10. ]))\n",
      "\n",
      "*** Computing solution ...\n",
      "*** End of computation ***\n",
      "(-10.0, -10.0)\n"
     ]
    },
    {
     "ename": "ValueError",
     "evalue": "operands could not be broadcast together with shapes (501,2561) (501,2562) ",
     "output_type": "error",
     "traceback": [
      "\u001b[0;31m---------------------------------------------------------------------------\u001b[0m",
      "\u001b[0;31mValueError\u001b[0m                                Traceback (most recent call last)",
      "\u001b[0;32m<ipython-input-73-14dc0cf31a85>\u001b[0m in \u001b[0;36m<module>\u001b[0;34m()\u001b[0m\n\u001b[1;32m     52\u001b[0m \u001b[0;34m\u001b[0m\u001b[0m\n\u001b[1;32m     53\u001b[0m uall0,uallexact,tall0,tests0,testsLight0,errors0,testTmmax0,testTmmin0,testL2max0,testL2min0 = besseTBC.optimizeParamO0(x,u,uallexact,t0,tmax,\n\u001b[0;32m---> 54\u001b[0;31m                                                     U2,cLs,cRs, N, dt, testsLight, verbose = True,LeD = False)\n\u001b[0m",
      "\u001b[0;32m/Users/joaocaldas/Documents/Work/inriamericwaves/Simulations/besseTBC.pyc\u001b[0m in \u001b[0;36moptimizeParamO0\u001b[0;34m(x, u, uallexact, t0, tmax, U2, cLs, cRs, N, dt, prevTests, verbose, LeD)\u001b[0m\n\u001b[1;32m    383\u001b[0m                         \u001b[0muallexact\u001b[0m\u001b[0;34m[\u001b[0m\u001b[0;34m:\u001b[0m\u001b[0;34m,\u001b[0m\u001b[0;36m1\u001b[0m\u001b[0;34m:\u001b[0m\u001b[0;34m]\u001b[0m \u001b[0;34m=\u001b[0m \u001b[0muallexact\u001b[0m\u001b[0;34m[\u001b[0m\u001b[0;34m:\u001b[0m\u001b[0;34m,\u001b[0m\u001b[0;36m1\u001b[0m\u001b[0;34m:\u001b[0m\u001b[0;34m]\u001b[0m\u001b[0;34m/\u001b[0m\u001b[0mcoef\u001b[0m\u001b[0;34m\u001b[0m\u001b[0m\n\u001b[1;32m    384\u001b[0m \u001b[0;34m\u001b[0m\u001b[0m\n\u001b[0;32m--> 385\u001b[0;31m                     \u001b[0men\u001b[0m\u001b[0;34m,\u001b[0m\u001b[0mErrTm\u001b[0m\u001b[0;34m,\u001b[0m\u001b[0mErrL2\u001b[0m \u001b[0;34m=\u001b[0m \u001b[0mcomputeError\u001b[0m\u001b[0;34m(\u001b[0m\u001b[0muall\u001b[0m\u001b[0;34m,\u001b[0m\u001b[0muallexact\u001b[0m\u001b[0;34m,\u001b[0m\u001b[0mdt\u001b[0m\u001b[0;34m)\u001b[0m\u001b[0;34m\u001b[0m\u001b[0m\n\u001b[0m\u001b[1;32m    386\u001b[0m \u001b[0;34m\u001b[0m\u001b[0m\n\u001b[1;32m    387\u001b[0m                     \u001b[0mtests\u001b[0m\u001b[0;34m[\u001b[0m\u001b[0mstr\u001b[0m\u001b[0;34m(\u001b[0m\u001b[0;34m(\u001b[0m\u001b[0mcL\u001b[0m\u001b[0;34m,\u001b[0m\u001b[0mcR\u001b[0m\u001b[0;34m)\u001b[0m\u001b[0;34m)\u001b[0m\u001b[0;34m]\u001b[0m \u001b[0;34m=\u001b[0m \u001b[0;34m(\u001b[0m\u001b[0muall\u001b[0m\u001b[0;34m,\u001b[0m\u001b[0mtall\u001b[0m\u001b[0;34m,\u001b[0m\u001b[0men\u001b[0m\u001b[0;34m,\u001b[0m\u001b[0mErrTm\u001b[0m\u001b[0;34m,\u001b[0m\u001b[0mErrL2\u001b[0m\u001b[0;34m)\u001b[0m\u001b[0;34m\u001b[0m\u001b[0m\n",
      "\u001b[0;32m/Users/joaocaldas/Documents/Work/inriamericwaves/Simulations/besseTBC.pyc\u001b[0m in \u001b[0;36mcomputeError\u001b[0;34m(u, uexact, dt)\u001b[0m\n\u001b[1;32m     24\u001b[0m \u001b[0;31m#Error functions defined by Besse\u001b[0m\u001b[0;34m\u001b[0m\u001b[0;34m\u001b[0m\u001b[0m\n\u001b[1;32m     25\u001b[0m \u001b[0;32mdef\u001b[0m \u001b[0mcomputeError\u001b[0m\u001b[0;34m(\u001b[0m\u001b[0mu\u001b[0m\u001b[0;34m,\u001b[0m\u001b[0muexact\u001b[0m\u001b[0;34m,\u001b[0m\u001b[0mdt\u001b[0m\u001b[0;34m)\u001b[0m \u001b[0;34m:\u001b[0m\u001b[0;34m\u001b[0m\u001b[0m\n\u001b[0;32m---> 26\u001b[0;31m     \u001b[0me\u001b[0m \u001b[0;34m=\u001b[0m \u001b[0mnp\u001b[0m\u001b[0;34m.\u001b[0m\u001b[0mlinalg\u001b[0m\u001b[0;34m.\u001b[0m\u001b[0mnorm\u001b[0m\u001b[0;34m(\u001b[0m\u001b[0muexact\u001b[0m \u001b[0;34m-\u001b[0m \u001b[0mu\u001b[0m\u001b[0;34m,\u001b[0m\u001b[0maxis\u001b[0m\u001b[0;34m=\u001b[0m\u001b[0;36m0\u001b[0m\u001b[0;34m)\u001b[0m\u001b[0;34m/\u001b[0m\u001b[0mnp\u001b[0m\u001b[0;34m.\u001b[0m\u001b[0mlinalg\u001b[0m\u001b[0;34m.\u001b[0m\u001b[0mnorm\u001b[0m\u001b[0;34m(\u001b[0m\u001b[0muexact\u001b[0m\u001b[0;34m,\u001b[0m\u001b[0maxis\u001b[0m\u001b[0;34m=\u001b[0m\u001b[0;36m0\u001b[0m\u001b[0;34m)\u001b[0m\u001b[0;34m\u001b[0m\u001b[0m\n\u001b[0m\u001b[1;32m     27\u001b[0m     \u001b[0mErrTm\u001b[0m \u001b[0;34m=\u001b[0m \u001b[0mnp\u001b[0m\u001b[0;34m.\u001b[0m\u001b[0mamax\u001b[0m\u001b[0;34m(\u001b[0m\u001b[0me\u001b[0m\u001b[0;34m)\u001b[0m\u001b[0;34m\u001b[0m\u001b[0m\n\u001b[1;32m     28\u001b[0m     \u001b[0mErrL2\u001b[0m \u001b[0;34m=\u001b[0m \u001b[0mnp\u001b[0m\u001b[0;34m.\u001b[0m\u001b[0msqrt\u001b[0m\u001b[0;34m(\u001b[0m\u001b[0mdt\u001b[0m\u001b[0;34m)\u001b[0m\u001b[0;34m*\u001b[0m\u001b[0mnp\u001b[0m\u001b[0;34m.\u001b[0m\u001b[0mlinalg\u001b[0m\u001b[0;34m.\u001b[0m\u001b[0mnorm\u001b[0m\u001b[0;34m(\u001b[0m\u001b[0me\u001b[0m\u001b[0;34m)\u001b[0m\u001b[0;34m\u001b[0m\u001b[0m\n",
      "\u001b[0;31mValueError\u001b[0m: operands could not be broadcast together with shapes (501,2561) (501,2562) "
     ]
    }
   ],
   "source": [
    "computeExactSolution = True\n",
    "\n",
    "L = 6.\n",
    "xmin = -L\n",
    "xmax = L\n",
    "N = 501.\n",
    "U2 = 1.\n",
    "t0 = 0.\n",
    "tmax = 4.\n",
    "dt = 4/2560.\n",
    "\n",
    "dx = (xmax-xmin)/N\n",
    "x = np.linspace(xmin,xmax,N)\n",
    "dx = np.diff(x)[0]\n",
    "\n",
    "cLs = np.array([-10., -1., -0.1, 0. , 0.1, 1., 10.])\n",
    "cRs = np.array([-10., -1., -0.1, 0. ,  0.1, 1., 10.])\n",
    "\n",
    "u = besseTBC.initGauss(x)\n",
    "\n",
    "tallaux = np.arange(t0,tmax+dt,dt)\n",
    "\n",
    "\n",
    "\n",
    "uallexact = np.zeros((u.size,tallaux.size))\n",
    "uallexact[:,0] = np.copy(u)\n",
    "\n",
    "if computeExactSolution :\n",
    "    print(\"*** Computing initial solution\")\n",
    "    for i in range(1,tallaux.size) :\n",
    "        if i%10 == 0:\n",
    "            print(r\"t = %.6f\"%tallaux[i])\n",
    "        uallexact[:,i] = besseTBC.exactSolution(x,tallaux[i],besseTBC.initGauss)\n",
    "\n",
    "    #Save initial solution\n",
    "    fn = \"BesseinitGauss\"\n",
    "    with open(fn,'w') as f:\n",
    "        pickle.dump(uallexact,f)\n",
    "    uallexact2 = np.copy(uallexact)\n",
    "else :\n",
    "    #Load initial solution\n",
    "    fn = \"BesseinitGauss\"\n",
    "    with open(fn,'r') as f:\n",
    "        uallexact = pickle.load(f)\n",
    "#print(np.linalg.norm(uallexact-uallexact2))\n",
    "\n",
    "\n",
    "#for i in range(1,tallaux.size) :\n",
    "#    uallexact[:,i] = besseTBC.exactSolution(x,tallaux[i],besseTBC.initGauss)\n",
    "\n",
    "testsLight = {}\n",
    "\n",
    "uall0,uallexact,tall0,tests0,testsLight0,errors0,testTmmax0,testTmmin0,testL2max0,testL2min0 = besseTBC.optimizeParamO0(x,u,uallexact,t0,tmax,\n",
    "                                                    U2,cLs,cRs, N, dt, testsLight, verbose = True,LeD = False)"
   ]
  },
  {
   "cell_type": "code",
   "execution_count": 71,
   "metadata": {
    "collapsed": false,
    "run_control": {
     "frozen": false,
     "read_only": false
    }
   },
   "outputs": [
    {
     "name": "stdout",
     "output_type": "stream",
     "text": [
      "(0.01875, 0.018749999999999822, 0.018749999999999822)\n"
     ]
    }
   ],
   "source": [
    "print(12./(x.size-1),dx,np.diff(x)[0])"
   ]
  },
  {
   "cell_type": "code",
   "execution_count": 74,
   "metadata": {
    "collapsed": false,
    "run_control": {
     "frozen": false,
     "read_only": false
    }
   },
   "outputs": [
    {
     "name": "stdout",
     "output_type": "stream",
     "text": [
      "Best results - Order 0\n",
      "Best results\n",
      "('(1.000,1.000)', '0.0925952192922', '0.094659960338')\n",
      "('(1.000,10.000)', '0.0943627726222', '0.0973081639963')\n",
      "('(1.000,0.100)', '0.0970344415486', '0.0983713801863')\n",
      "('(1.000,0.000)', '0.0977661714062', '0.0991905255703')\n",
      "('(1.000,-10.000)', '0.0965840683798', '0.0993917473299')\n",
      "('(1.000,-0.100)', '0.0984545160123', '0.100012642003')\n",
      "('(1.000,-1.000)', '0.0990096978211', '0.101625505144')\n",
      "('(10.000,1.000)', '0.276352357393', '0.346787744443')\n",
      "('(10.000,0.100)', '0.276462941341', '0.347173670244')\n",
      "('(10.000,0.000)', '0.276627292059', '0.347281672855')\n"
     ]
    }
   ],
   "source": [
    "print(\"Best results - Order 0\")\n",
    "besseTBC.showRanking(testsLight0,10,\"L2\")"
   ]
  },
  {
   "cell_type": "code",
   "execution_count": 40,
   "metadata": {
    "collapsed": false,
    "run_control": {
     "frozen": false,
     "read_only": false
    }
   },
   "outputs": [
    {
     "name": "stdout",
     "output_type": "stream",
     "text": [
      "Best results - Order 0\n",
      "Best results\n",
      "('(1.000,1.000)', '0.0926362865379', '0.0946839239675')\n",
      "('(1.000,10.000)', '0.0943801494038', '0.097288371204')\n",
      "('(1.000,0.100)', '0.097032470024', '0.0983932287563')\n",
      "('(1.000,0.000)', '0.09775690591', '0.0992063806502')\n",
      "('(1.000,-10.000)', '0.09658590184', '0.099359192771')\n",
      "('(1.000,-0.100)', '0.0984390488317', '0.100021589665')\n",
      "('(1.000,-1.000)', '0.0989877284388', '0.10159265619')\n",
      "('(10.000,1.000)', '0.276376868387', '0.347003021321')\n",
      "('(10.000,0.100)', '0.276542382791', '0.347379492262')\n",
      "('(10.000,0.000)', '0.276716307865', '0.347487945035')\n"
     ]
    }
   ],
   "source": [
    "print(\"Best results - Order 0\")\n",
    "besseTBC.showRanking(testsLight0,10,\"L2\")"
   ]
  },
  {
   "cell_type": "code",
   "execution_count": 75,
   "metadata": {
    "collapsed": false,
    "run_control": {
     "frozen": false,
     "read_only": false
    }
   },
   "outputs": [
    {
     "name": "stdout",
     "output_type": "stream",
     "text": [
      "\n",
      "*** Computing solution ...\n",
      "*** End of computation ***\n",
      "\n",
      "*** Computing solution ...\n",
      "*** End of computation ***\n"
     ]
    },
    {
     "data": {
      "image/png": "[encoded data removed]",
      "text/plain": [
       "<matplotlib.figure.Figure at 0x10d83b210>"
      ]
     },
     "metadata": {},
     "output_type": "display_data"
    },
    {
     "data": {
      "image/png": "[encoded data removed]",
      "text/plain": [
       "<matplotlib.figure.Figure at 0x10d87d110>"
      ]
     },
     "metadata": {},
     "output_type": "display_data"
    },
    {
     "data": {
      "image/png": "[encoded data removed]",
      "text/plain": [
       "<matplotlib.figure.Figure at 0x10dacecd0>"
      ]
     },
     "metadata": {},
     "output_type": "display_data"
    },
    {
     "data": {
      "image/png": "[encoded data removed]",
      "text/plain": [
       "<matplotlib.figure.Figure at 0x10db38c10>"
      ]
     },
     "metadata": {},
     "output_type": "display_data"
    },
    {
     "data": {
      "image/png": "[encoded data removed]",
      "text/plain": [
       "<matplotlib.figure.Figure at 0x10e542f50>"
      ]
     },
     "metadata": {},
     "output_type": "display_data"
    },
    {
     "data": {
      "image/png": "[encoded data removed]",
      "text/plain": [
       "<matplotlib.figure.Figure at 0x10e916f90>"
      ]
     },
     "metadata": {},
     "output_type": "display_data"
    }
   ],
   "source": [
    "reload(besseTBC)\n",
    "tsnaps = np.array([0.,0.1,1.,2.,3.,4.])\n",
    "besseTBC.plotBestWorstSolution(x,u,uallexact,U2,t0,tmax,dt,tall0,tsnaps,\n",
    "                          testsLight0,criteria=\"L2\",savePath=\"figures/TBCbesse/BessefirstTestsP0\")"
   ]
  },
  {
   "cell_type": "code",
   "execution_count": null,
   "metadata": {
    "collapsed": false,
    "run_control": {
     "frozen": false,
     "read_only": false
    }
   },
   "outputs": [],
   "source": [
    "besseTBC.animateBestSolution(x,u,uallexact,U2,t0,tmax,dt,testsLight0,criteria=\"L2\")"
   ]
  },
  {
   "cell_type": "code",
   "execution_count": null,
   "metadata": {
    "collapsed": false,
    "run_control": {
     "frozen": false,
     "read_only": false
    }
   },
   "outputs": [],
   "source": [
    "uallmin = tests[testL2min][2]\n",
    "uallmax = tests[testL2max][2] \n",
    "tall = tests[testL2min][3]\n",
    "\n",
    "ymin = np.amin(np.concatenate(uall))\n",
    "ymax = np.amax(np.concatenate(uall))\n",
    "\n",
    "gF.plotAnimationNSolutions(3,x,np.array([uallmin,uallmax,uallexact]),tall,xmin,xmax,ymin,ymax+.2,[\"best sol\",\"worst sol\",\"exact\"],r'$u$',location=(.7,.7))"
   ]
  },
  {
   "cell_type": "code",
   "execution_count": 44,
   "metadata": {
    "collapsed": false,
    "run_control": {
     "frozen": false,
     "read_only": false
    }
   },
   "outputs": [
    {
     "data": {
      "image/png": "[encoded data removed]",
      "text/plain": [
       "<matplotlib.figure.Figure at 0x10d4a5e10>"
      ]
     },
     "metadata": {},
     "output_type": "display_data"
    },
    {
     "data": {
      "image/png": "[encoded data removed]",
      "text/plain": [
       "<matplotlib.figure.Figure at 0x10d50e950>"
      ]
     },
     "metadata": {},
     "output_type": "display_data"
    },
    {
     "data": {
      "image/png": "[encoded data removed]",
      "text/plain": [
       "<matplotlib.figure.Figure at 0x110593d50>"
      ]
     },
     "metadata": {},
     "output_type": "display_data"
    },
    {
     "data": {
      "image/png": "[encoded data removed]",
      "text/plain": [
       "<matplotlib.figure.Figure at 0x1105d7850>"
      ]
     },
     "metadata": {},
     "output_type": "display_data"
    }
   ],
   "source": [
    "for t in [1.,2.,3.,4.] :\n",
    "    plt.figure()\n",
    "    it = np.argmin(np.absolute(tall-t))\n",
    "    plt.plot(x,uallmin[:,it],label='Best sol')\n",
    "    plt.plot(x,uallmax[:,it],label='Worst sol')\n",
    "    plt.plot(x,uallexact[:,it],marker='+',markevery=10,linestyle='None', label='Exact sol')\n",
    "    plt.title(r't = %f'%tall[it])\n",
    "    plt.legend()\n",
    "    "
   ]
  },
  {
   "cell_type": "markdown",
   "metadata": {},
   "source": [
    "### Polynomial of order 1"
   ]
  },
  {
   "cell_type": "code",
   "execution_count": 41,
   "metadata": {
    "collapsed": false,
    "run_control": {
     "frozen": false,
     "read_only": false
    },
    "scrolled": true
   },
   "outputs": [
    {
     "name": "stdout",
     "output_type": "stream",
     "text": [
      "\n",
      "*** Computing solution ...\n",
      "*** End of computation ***\n",
      "(-10.0, -10.0)\n",
      "\n",
      "*** Computing solution ...\n",
      "*** End of computation ***\n",
      "(-10.0, -1.0)\n",
      "\n",
      "*** Computing solution ...\n",
      "*** End of computation ***\n",
      "(-10.0, 0.0)\n",
      "\n",
      "*** Computing solution ...\n",
      "*** End of computation ***\n",
      "(-10.0, 0.10000000000000001)\n",
      "\n",
      "*** Computing solution ...\n",
      "*** End of computation ***\n",
      "(-10.0, 1.0)\n",
      "\n",
      "*** Computing solution ...\n",
      "*** End of computation ***\n",
      "(-10.0, 10.0)\n",
      "\n",
      "*** Computing solution ...\n",
      "*** End of computation ***\n",
      "(-1.0, -10.0)\n",
      "\n",
      "*** Computing solution ...\n",
      "*** End of computation ***\n",
      "(-1.0, -1.0)\n",
      "\n",
      "*** Computing solution ...\n",
      "*** End of computation ***\n",
      "(-1.0, 0.0)\n",
      "\n",
      "*** Computing solution ...\n",
      "*** End of computation ***\n",
      "(-1.0, 0.10000000000000001)\n",
      "\n",
      "*** Computing solution ...\n",
      "*** End of computation ***\n",
      "(-1.0, 1.0)\n",
      "\n",
      "*** Computing solution ...\n",
      "*** End of computation ***\n",
      "(-1.0, 10.0)\n",
      "\n",
      "*** Computing solution ...\n",
      "*** End of computation ***\n",
      "(0.0, -10.0)\n",
      "\n",
      "*** Computing solution ...\n",
      "*** End of computation ***\n",
      "(0.0, -1.0)\n",
      "\n",
      "*** Computing solution ...\n",
      "*** End of computation ***\n",
      "(0.0, 0.0)\n",
      "\n",
      "*** Computing solution ...\n",
      "*** End of computation ***\n",
      "(0.0, 0.10000000000000001)\n",
      "\n",
      "*** Computing solution ...\n",
      "*** End of computation ***\n",
      "(0.0, 1.0)\n",
      "\n",
      "*** Computing solution ...\n",
      "*** End of computation ***\n",
      "(0.0, 10.0)\n",
      "\n",
      "*** Computing solution ...\n",
      "*** End of computation ***\n",
      "(0.10000000000000001, -10.0)\n",
      "\n",
      "*** Computing solution ...\n",
      "*** End of computation ***\n",
      "(0.10000000000000001, -1.0)\n",
      "\n",
      "*** Computing solution ...\n",
      "*** End of computation ***\n",
      "(0.10000000000000001, 0.0)\n",
      "\n",
      "*** Computing solution ...\n",
      "*** End of computation ***\n",
      "(0.10000000000000001, 0.10000000000000001)\n",
      "\n",
      "*** Computing solution ...\n",
      "*** End of computation ***\n",
      "(0.10000000000000001, 1.0)\n",
      "\n",
      "*** Computing solution ...\n",
      "*** End of computation ***\n",
      "(0.10000000000000001, 10.0)\n",
      "\n",
      "*** Computing solution ...\n",
      "*** End of computation ***\n",
      "(1.0, -10.0)\n",
      "\n",
      "*** Computing solution ...\n",
      "*** End of computation ***\n",
      "(1.0, -1.0)\n",
      "\n",
      "*** Computing solution ...\n",
      "*** End of computation ***\n",
      "(1.0, 0.0)\n",
      "\n",
      "*** Computing solution ...\n",
      "*** End of computation ***\n",
      "(1.0, 0.10000000000000001)\n",
      "\n",
      "*** Computing solution ...\n",
      "*** End of computation ***\n",
      "(1.0, 1.0)\n",
      "\n",
      "*** Computing solution ...\n",
      "*** End of computation ***\n",
      "(1.0, 10.0)\n",
      "\n",
      "*** Computing solution ...\n",
      "*** End of computation ***\n",
      "(10.0, -10.0)\n",
      "\n",
      "*** Computing solution ...\n",
      "*** End of computation ***\n",
      "(10.0, -1.0)\n",
      "\n",
      "*** Computing solution ...\n",
      "*** End of computation ***\n",
      "(10.0, 0.0)\n",
      "\n",
      "*** Computing solution ...\n",
      "*** End of computation ***\n",
      "(10.0, 0.10000000000000001)\n",
      "\n",
      "*** Computing solution ...\n",
      "*** End of computation ***\n",
      "(10.0, 1.0)\n",
      "\n",
      "*** Computing solution ...\n",
      "*** End of computation ***\n",
      "(10.0, 10.0)\n"
     ]
    }
   ],
   "source": [
    "computeExactSolution = False\n",
    "\n",
    "eps = 0.001\n",
    "B = 0.1\n",
    "A = 0.001\n",
    "wvl = np.sqrt(.5/0.004)\n",
    "L = 6.\n",
    "xmin = -L\n",
    "xmax = L\n",
    "N = 500.\n",
    "U2 = 1.\n",
    "\n",
    "dx = (xmax-xmin)/N\n",
    "x = kdv.discretizeSpace(xmin,xmax,dx)\n",
    "x = np.linspace(xmin,xmax,N)\n",
    "dx = x[1] - x[0]\n",
    "cs = np.array([-10., -1., 0. , 0.1, 1., 10.])\n",
    "ds = np.array([-10., -1., 0. ,  0.1, 1., 10.])\n",
    "\n",
    "tests = {}\n",
    "\n",
    "order = .5\n",
    "\n",
    "cntTests = 0\n",
    "\n",
    "coefTBC = np.zeros((1+1,2))\n",
    "\n",
    "if computeExactSolution :\n",
    "    print(\"*** Computing initial solution\")\n",
    "    for i in range(1,tallaux.size) :\n",
    "        if i%10 == 0:\n",
    "            print(r\"t = %.6f\"%tallaux[i])\n",
    "        uallexact[:,i] = besseTBC.exactSolution(x,tallaux[i],besseTBC.initGauss)\n",
    "\n",
    "    #Save initial solution\n",
    "    fn = \"initGauss\"\n",
    "    with open(fn,'w') as f:\n",
    "        pickle.dump(uallexact,f)\n",
    "    uallexact2 = np.copy(uallexact)\n",
    "else :\n",
    "    #Load initial solution\n",
    "    fn = \"initGauss\"\n",
    "    with open(fn,'r') as f:\n",
    "        uallexact = pickle.load(f)\n",
    "\n",
    "for cL in cs:\n",
    "    for dL in ds:\n",
    "        cntTests = cntTests+1\n",
    "        \n",
    "        tmax = 4.\n",
    "        t0 = 0.\n",
    "        u = np.zeros_like(x)\n",
    "        u = np.exp(-x*x)\n",
    "        dt = 5*4/2560.\n",
    "        \n",
    "        for j in range(2):\n",
    "            coefTBC[0,j] = cL\n",
    "            coefTBC[1,j] = dL\n",
    "                 \n",
    "\n",
    "        uall,tall = besseTBC.runDispKdV(x,u,t0,tmax,U2, coefTBC ,periodic=0, vardt = False, dt = dt, verbose = False,\n",
    "                               order = order)\n",
    "        print(cL,dL)\n",
    "\n",
    "        #if cntTests > 0:\n",
    "        #    uallexact = np.copy(uall)\n",
    "        #    for i in range(1,tall.size) :\n",
    "        #        uallexact[:,i] = exactSolution(x,tall[i])\n",
    "                \n",
    "        #    coef = np.amax(uallexact[:,1])/np.amax(uall[:,1])\n",
    "        #    uallexact[:,1:] = uallexact[:,1:]/coef\n",
    "        \n",
    "        en,ErrTm,ErrL2 = besseTBC.computeError(uall,uallexact,dt)\n",
    "            \n",
    "        tests[(cntTests)] = (cL,dL,uall,tall,en,ErrTm,ErrL2)\n",
    "        \n",
    "testsO1 = tests"
   ]
  },
  {
   "cell_type": "code",
   "execution_count": 42,
   "metadata": {
    "collapsed": false,
    "run_control": {
     "frozen": false,
     "read_only": false
    }
   },
   "outputs": [
    {
     "data": {
      "text/plain": [
       "0.38875247344982033"
      ]
     },
     "execution_count": 42,
     "metadata": {},
     "output_type": "execute_result"
    }
   ],
   "source": [
    "testsO1[1][6]"
   ]
  },
  {
   "cell_type": "code",
   "execution_count": 18,
   "metadata": {
    "collapsed": false,
    "run_control": {
     "frozen": false,
     "read_only": false
    }
   },
   "outputs": [
    {
     "data": {
      "text/plain": [
       "0.38639598735850345"
      ]
     },
     "execution_count": 18,
     "metadata": {},
     "output_type": "execute_result"
    }
   ],
   "source": [
    "testsO1[1][6]"
   ]
  },
  {
   "cell_type": "code",
   "execution_count": 44,
   "metadata": {
    "collapsed": false,
    "run_control": {
     "frozen": false,
     "read_only": false
    }
   },
   "outputs": [
    {
     "name": "stdout",
     "output_type": "stream",
     "text": [
      "((36, 5), (32, 5))\n",
      "('ErrTm Max = ', 3.2903835882735115, 'cL = -1.000', 'cR = 0.000')\n",
      "('ErrTm Min = ', 0.092636275612934332, 'cL = 0.000', 'cR = 1.000')\n",
      "('ErrL2 Max = ', 2.1797020231078861, 'cL = -1.000', 'cR = 0.000')\n",
      "('ErrL2 Min = ', 0.094683923163559905, 'cL = 0.000', 'cR = 1.000')\n"
     ]
    }
   ],
   "source": [
    "errorsall = np.array([(int(key),tests[key][5], tests[key][6], tests[key][0], tests[key][1]) for key in tests.keys()])\n",
    "\n",
    "cnt = 0\n",
    "## ignore explosed solutions\n",
    "for i in range(errorsall.shape[0]) :\n",
    "    if errorsall[i,1] < 10 :\n",
    "        if cnt == 0:\n",
    "            errors = errorsall[i,:]\n",
    "        else:\n",
    "            errors = np.vstack((errors,errorsall[i,:]))\n",
    "        cnt = cnt+1\n",
    "    \n",
    "print(errorsall.shape,errors.shape)\n",
    "testTmmax = errors[np.argmax(errors[:,1]),0]\n",
    "testTmmin = errors[np.argmin(errors[:,1]),0]\n",
    "testL2max = errors[np.argmax(errors[:,2]),0]\n",
    "testL2min = errors[np.argmin(errors[:,2]),0]\n",
    "print('ErrTm Max = ',tests[testTmmax][5], r\"cL = %.3f\" %tests[testTmmax][0],r\"cR = %.3f\" %tests[testTmmax][1])\n",
    "print('ErrTm Min = ',tests[testTmmin][5], r\"cL = %.3f\" %tests[testTmmin][0],r\"cR = %.3f\" %tests[testTmmin][1])\n",
    "print('ErrL2 Max = ',tests[testL2max][6], r\"cL = %.3f\" %tests[testL2max][0],r\"cR = %.3f\" %tests[testL2max][1])\n",
    "print('ErrL2 Min = ',tests[testL2min][6], r\"cL = %.3f\" %tests[testL2min][0],r\"cR = %.3f\" %tests[testL2min][1])\n",
    "\n",
    "errorsO1 = np.copy(errors)\n",
    "testTmmaxO1 = testTmmax\n",
    "testTmminO1 = testTmmin\n",
    "testL2maxO1 = testL2max\n",
    "testL2minO1 = testL2min"
   ]
  },
  {
   "cell_type": "code",
   "execution_count": 45,
   "metadata": {
    "collapsed": false,
    "run_control": {
     "frozen": false,
     "read_only": false
    }
   },
   "outputs": [
    {
     "name": "stdout",
     "output_type": "stream",
     "text": [
      "Best results - Order 1 truncated\n",
      "[ 17.           0.09263628   0.09468392   0.           1.        ]\n",
      "[ 23.           0.09962944   0.12341195   0.1          1.        ]\n",
      "[ 29.           0.16613415   0.20031603   1.           1.        ]\n",
      "[ 34.           0.1806418    0.22037249  10.           0.1       ]\n",
      "[  4.           0.1853722    0.23984486 -10.           0.1       ]\n",
      "[ 35.           0.19438048   0.27161158  10.           1.        ]\n",
      "[  3.           0.20787979   0.24800816 -10.           0.        ]\n",
      "[  5.           0.21482528   0.30039637 -10.           1.        ]\n",
      "[ 33.           0.24021443   0.27213611  10.           0.        ]\n",
      "[ 16.           0.25531126   0.36740764   0.           0.1       ]\n"
     ]
    }
   ],
   "source": [
    "print(\"Best results - Order 1 truncated\")\n",
    "index = np.argsort(errorsO1[:,1])\n",
    "for i in range(10):\n",
    "    print(errorsO1[index[i],:])"
   ]
  },
  {
   "cell_type": "code",
   "execution_count": 355,
   "metadata": {
    "collapsed": false,
    "run_control": {
     "frozen": false,
     "read_only": false
    }
   },
   "outputs": [
    {
     "name": "stdout",
     "output_type": "stream",
     "text": [
      "Best results - Order 1 truncated\n",
      "[ 17.           0.09263628   0.09468392   0.           1.        ]\n",
      "[ 23.           0.09962944   0.12341195   0.1          1.        ]\n",
      "[ 29.           0.16613415   0.20031603   1.           1.        ]\n",
      "[ 34.           0.1806418    0.22037249  10.           0.1       ]\n",
      "[  4.           0.1853722    0.23984486 -10.           0.1       ]\n"
     ]
    }
   ],
   "source": [
    "print(\"Best results - Order 1 truncated\")\n",
    "index = np.argsort(errorsO1[:,1])\n",
    "for i in range(10):\n",
    "    print(errorsO1[index[i],:])"
   ]
  },
  {
   "cell_type": "code",
   "execution_count": null,
   "metadata": {
    "collapsed": false,
    "run_control": {
     "frozen": false,
     "read_only": false
    }
   },
   "outputs": [],
   "source": [
    "uallmin = tests[testL2min][2]\n",
    "uallmax = tests[testL2max][2] \n",
    "tall = tests[testL2min][3]\n",
    "\n",
    "ymin = np.amin(np.concatenate(uall))\n",
    "ymax = np.amax(np.concatenate(uall))\n",
    "\n",
    "gF.plotAnimationNSolutions(3,x,np.array([uallmin,uallmax,uallexact]),tall,xmin,xmax,ymin,ymax+.2,[\"best sol\",\"worst sol\",\"exact\"],r'$u$',location=(.7,.7))"
   ]
  },
  {
   "cell_type": "code",
   "execution_count": 361,
   "metadata": {
    "collapsed": false,
    "run_control": {
     "frozen": false,
     "read_only": false
    }
   },
   "outputs": [
    {
     "data": {
      "image/png": "[encoded data removed]",
      "text/plain": [
       "<matplotlib.figure.Figure at 0x110c7ce10>"
      ]
     },
     "metadata": {},
     "output_type": "display_data"
    },
    {
     "data": {
      "image/png": "[encoded data removed]",
      "text/plain": [
       "<matplotlib.figure.Figure at 0x110c9d450>"
      ]
     },
     "metadata": {},
     "output_type": "display_data"
    },
    {
     "data": {
      "image/png": "[encoded data removed]",
      "text/plain": [
       "<matplotlib.figure.Figure at 0x10d7702d0>"
      ]
     },
     "metadata": {},
     "output_type": "display_data"
    },
    {
     "data": {
      "image/png": "[encoded data removed]",
      "text/plain": [
       "<matplotlib.figure.Figure at 0x10a28ab10>"
      ]
     },
     "metadata": {},
     "output_type": "display_data"
    }
   ],
   "source": [
    "uallmin = tests[testL2min][2]\n",
    "coefsBest = tests[testL2min][0:2]\n",
    "uallmax = tests[testL2max][2] \n",
    "coefsWorst = tests[testL2max][0:2]\n",
    "tall = tests[testL2min][3]\n",
    "\n",
    "cnt = 0\n",
    "for t in [1.,2.,3.,4.] :\n",
    "    plt.figure()\n",
    "    it = np.argmin(np.absolute(tall-t))\n",
    "    plt.plot(x,uallmin[:,it],label='Best sol (%.3f,%.3f)'%(coefsBest[0],coefsBest[1]))\n",
    "    plt.plot(x,uallmax[:,it],label='Worst sol (%.3f,%.3f)'%(coefsWorst[0],coefsWorst[1]))\n",
    "    plt.plot(x,uallexact[:,it],marker='+',markevery=10,linestyle='None', label='Exact sol')\n",
    "    plt.title(r't = %f'%tall[it])\n",
    "    plt.legend(loc = 0.)\n",
    "    plt.xlabel(\"$x$\")\n",
    "    plt.ylabel(\"$u$\")\n",
    "    plt.savefig(\"figures/TBCbesse/firstTestsP1Snap\"+str(cnt)+\".png\")\n",
    "    cnt = cnt+1"
   ]
  },
  {
   "cell_type": "markdown",
   "metadata": {},
   "source": [
    "### Comparison between the two approximations"
   ]
  },
  {
   "cell_type": "code",
   "execution_count": 23,
   "metadata": {
    "collapsed": false,
    "run_control": {
     "frozen": false,
     "read_only": false
    }
   },
   "outputs": [
    {
     "name": "stdout",
     "output_type": "stream",
     "text": [
      "('ErrL2 Min Order 0 = ', 0.33937348279836016, 'cL = 10.000', 'cR = -1.000')\n",
      "('ErrL2 Min Order 1 = ', 0.098090794467468198, 'cL = 0.000', 'dL = 1.000')\n"
     ]
    }
   ],
   "source": [
    "testL2minO0 = int(testL2minO0)\n",
    "testL2minO1 = int(testL2minO1)\n",
    "\n",
    "uallminO0 = testsO0[testL2minO0][2]\n",
    "uallminO1 = testsO1[testL2minO1][2]\n",
    "\n",
    "print('ErrL2 Min Order 0 = ',testsO0[testL2minO0][6], r\"cL = %.3f\" %testsO0[testL2minO0][0],r\"cR = %.3f\" %testsO0[testL2minO0][1])\n",
    "print('ErrL2 Min Order 1 = ',testsO1[testL2minO1][6], r\"cL = %.3f\" %testsO1[testL2minO1][0],r\"dL = %.3f\" %testsO1[testL2minO1][1])"
   ]
  },
  {
   "cell_type": "code",
   "execution_count": null,
   "metadata": {
    "collapsed": false,
    "run_control": {
     "frozen": false,
     "read_only": false
    }
   },
   "outputs": [],
   "source": [
    "tall = testsO1[testL2minO1][3]\n",
    "\n",
    "ymin = np.amin(np.append(uallminO0,uallminO1))\n",
    "ymax = np.amax(np.append(uallminO0,uallminO1))\n",
    "\n",
    "gF.plotAnimationNSolutions(3,x,np.array([uallminO0,uallminO1,uallexact]),tall,xmin,xmax,ymin,ymax+.2,[\"best sol Order 0\",\"best sol Order 1\",\"exact\"],r'$u$',location=(.7,.7))"
   ]
  },
  {
   "cell_type": "code",
   "execution_count": 25,
   "metadata": {
    "collapsed": false,
    "run_control": {
     "frozen": false,
     "read_only": false
    }
   },
   "outputs": [
    {
     "data": {
      "image/png": "[encoded data removed]",
      "text/plain": [
       "<matplotlib.figure.Figure at 0x111e38990>"
      ]
     },
     "metadata": {},
     "output_type": "display_data"
    },
    {
     "data": {
      "image/png": "[encoded data removed]",
      "text/plain": [
       "<matplotlib.figure.Figure at 0x111e12e90>"
      ]
     },
     "metadata": {},
     "output_type": "display_data"
    },
    {
     "data": {
      "image/png": "[encoded data removed]",
      "text/plain": [
       "<matplotlib.figure.Figure at 0x119a43210>"
      ]
     },
     "metadata": {},
     "output_type": "display_data"
    },
    {
     "data": {
      "image/png": "[encoded data removed]",
      "text/plain": [
       "<matplotlib.figure.Figure at 0x119a7ac10>"
      ]
     },
     "metadata": {},
     "output_type": "display_data"
    }
   ],
   "source": [
    "for t in [1.,2.,3.,4.] :\n",
    "    plt.figure()\n",
    "    it = np.argmin(np.absolute(tall-t))\n",
    "    plt.plot(x,uallminO0[:,it],label='Best sol Order 0')\n",
    "    plt.plot(x,uallminO1[:,it],label='Best sol Order 1')\n",
    "    plt.plot(x,uallexact[:,it],marker='+',markevery=10,linestyle='None', label='Exact sol')\n",
    "    plt.title(r't = %f'%tall[it])\n",
    "    plt.legend()"
   ]
  },
  {
   "cell_type": "code",
   "execution_count": null,
   "metadata": {
    "collapsed": true,
    "run_control": {
     "frozen": false,
     "read_only": false
    }
   },
   "outputs": [],
   "source": []
  },
  {
   "cell_type": "markdown",
   "metadata": {},
   "source": [
    "### Comparison : order 1 and \"order 0.5\""
   ]
  },
  {
   "cell_type": "code",
   "execution_count": 26,
   "metadata": {
    "collapsed": false,
    "run_control": {
     "frozen": false,
     "read_only": false
    }
   },
   "outputs": [
    {
     "name": "stdout",
     "output_type": "stream",
     "text": [
      "\n",
      "*** Computing solution ...\n",
      "*** End of computation ***\n",
      "\n",
      "*** Computing solution ...\n",
      "*** End of computation ***\n",
      "7.55709190392\n",
      "(1, 1)\n",
      "(0.30794799267784556, 0.20300277178227105)\n"
     ]
    }
   ],
   "source": [
    "\n",
    "eps = 0.001\n",
    "B = 0.1\n",
    "A = 0.001\n",
    "wvl = np.sqrt(.5/0.004)\n",
    "L = 6.\n",
    "xmin = -L\n",
    "xmax = L\n",
    "N = 500.\n",
    "U2 = 1.\n",
    "\n",
    "dx = (xmax-xmin)/N\n",
    "x = kdv.discretizeSpace(xmin,xmax,dx)\n",
    "x = np.linspace(xmin,xmax,N)\n",
    "dx = x[1] - x[0]\n",
    "cs = np.array([1])\n",
    "ds = np.array([1])\n",
    "\n",
    "tests = {}\n",
    "\n",
    "order = 1\n",
    "\n",
    "cntTests = 0\n",
    "\n",
    "coefTBC = np.zeros((1+1,2))\n",
    "\n",
    "for cL in cs:\n",
    "    for dL in ds:\n",
    "        cntTests = cntTests+1\n",
    "        \n",
    "        tmax = 4.\n",
    "        t0 = 0.\n",
    "        u = np.zeros_like(x)\n",
    "        u = np.exp(-x*x)\n",
    "        dt = 5*4/2560.\n",
    "        \n",
    "        for j in range(2):\n",
    "            coefTBC[0,j] = cL\n",
    "            coefTBC[1,j] = dL\n",
    "                 \n",
    "\n",
    "        uall1,tall1 = runDispKdV(x,u,t0,tmax,U2, coefTBC ,periodic=0, vardt = False, dt = dt, verbose = False,\n",
    "                               order = 1)\n",
    "        uall2,tall2 = runDispKdV(x,u,t0,tmax,U2, coefTBC ,periodic=0, vardt = False, dt = dt, verbose = False,\n",
    "                               order = .5)\n",
    "        print(np.linalg.norm(uall1-uall2))\n",
    "        print(cL,dL)\n",
    "\n",
    "        if cntTests > 0:\n",
    "            uallexact = np.copy(uall)\n",
    "            for i in range(1,tall.size) :\n",
    "                uallexact[:,i] = exactSolution(x,tall[i])\n",
    "                \n",
    "            coef = np.amax(uallexact[:,1])/np.amax(uall[:,1])\n",
    "            uallexact[:,1:] = uallexact[:,1:]/coef\n",
    "        \n",
    "        en1,ErrTm1,ErrL21 = computeError(uall1,uallexact,dt)\n",
    "        en2,ErrTm2,ErrL22 = computeError(uall2,uallexact,dt)\n",
    "            \n",
    "        print(ErrL21,ErrL22)\n",
    "        tests[cntTests] = (cL,dL,uall1,tall1,en1,ErrTm1,ErrL21)\n",
    "        tests[cntTests+1] = (cL,dL,uall2,tall2,en2,ErrTm2,ErrL22)\n",
    "        \n",
    "testsO3 = tests"
   ]
  },
  {
   "cell_type": "code",
   "execution_count": 67,
   "metadata": {
    "collapsed": false,
    "run_control": {
     "frozen": false,
     "read_only": false
    },
    "scrolled": true
   },
   "outputs": [
    {
     "name": "stdout",
     "output_type": "stream",
     "text": [
      "(array([ 0.5,  0.6]), array([  1.,  10.]))\n",
      "\n",
      "*** Computing solution ...\n"
     ]
    },
    {
     "ename": "KeyboardInterrupt",
     "evalue": "",
     "output_type": "error",
     "traceback": [
      "\u001b[0;31m---------------------------------------------------------------------------\u001b[0m",
      "\u001b[0;31mKeyboardInterrupt\u001b[0m                         Traceback (most recent call last)",
      "\u001b[0;32m<ipython-input-67-6cf36e4519a0>\u001b[0m in \u001b[0;36m<module>\u001b[0;34m()\u001b[0m\n\u001b[1;32m     15\u001b[0m \u001b[0mcRs\u001b[0m \u001b[0;34m=\u001b[0m \u001b[0mnp\u001b[0m\u001b[0;34m.\u001b[0m\u001b[0marray\u001b[0m\u001b[0;34m(\u001b[0m\u001b[0;34m[\u001b[0m\u001b[0;36m1.\u001b[0m\u001b[0;34m,\u001b[0m\u001b[0;36m10.\u001b[0m\u001b[0;34m]\u001b[0m\u001b[0;34m)\u001b[0m\u001b[0;34m\u001b[0m\u001b[0m\n\u001b[1;32m     16\u001b[0m \u001b[0;34m\u001b[0m\u001b[0m\n\u001b[0;32m---> 17\u001b[0;31m \u001b[0muall\u001b[0m\u001b[0;34m,\u001b[0m\u001b[0mtall\u001b[0m\u001b[0;34m,\u001b[0m\u001b[0mtests\u001b[0m\u001b[0;34m,\u001b[0m\u001b[0merrors\u001b[0m\u001b[0;34m,\u001b[0m\u001b[0mtestTmmax\u001b[0m\u001b[0;34m,\u001b[0m\u001b[0mtestTmmin\u001b[0m\u001b[0;34m,\u001b[0m\u001b[0mtestL2max\u001b[0m\u001b[0;34m,\u001b[0m\u001b[0mtestL2min\u001b[0m \u001b[0;34m=\u001b[0m \u001b[0moptimizeParamO1\u001b[0m\u001b[0;34m(\u001b[0m\u001b[0mx\u001b[0m\u001b[0;34m,\u001b[0m\u001b[0mu\u001b[0m\u001b[0;34m,\u001b[0m\u001b[0muallexact\u001b[0m\u001b[0;34m,\u001b[0m\u001b[0mt0\u001b[0m\u001b[0;34m,\u001b[0m\u001b[0mtmax\u001b[0m\u001b[0;34m,\u001b[0m\u001b[0mU2\u001b[0m\u001b[0;34m,\u001b[0m\u001b[0mcLs\u001b[0m\u001b[0;34m,\u001b[0m\u001b[0mcRs\u001b[0m\u001b[0;34m,\u001b[0m \u001b[0mN\u001b[0m\u001b[0;34m,\u001b[0m \u001b[0mdt\u001b[0m\u001b[0;34m,\u001b[0m \u001b[0mverbose\u001b[0m \u001b[0;34m=\u001b[0m \u001b[0mTrue\u001b[0m\u001b[0;34m,\u001b[0m\u001b[0mLeD\u001b[0m \u001b[0;34m=\u001b[0m \u001b[0mFalse\u001b[0m\u001b[0;34m)\u001b[0m\u001b[0;34m\u001b[0m\u001b[0m\n\u001b[0m",
      "\u001b[0;32m<ipython-input-52-10727f5269e1>\u001b[0m in \u001b[0;36moptimizeParamO1\u001b[0;34m(x, u, uallexact, t0, tmax, U2, cLs, cRs, N, dt, verbose, LeD)\u001b[0m\n\u001b[1;32m     27\u001b[0m                 \u001b[0mcntTests\u001b[0m \u001b[0;34m=\u001b[0m \u001b[0mcntTests\u001b[0m\u001b[0;34m+\u001b[0m\u001b[0;36m1\u001b[0m\u001b[0;34m\u001b[0m\u001b[0m\n\u001b[1;32m     28\u001b[0m                 uall,tall = runDispKdV(x,u,t0,tmax,U2, coefTBC ,periodic=0, vardt = False, dt = dt, verbose = False,\n\u001b[0;32m---> 29\u001b[0;31m                                           order = order)\n\u001b[0m\u001b[1;32m     30\u001b[0m                 \u001b[0;32mprint\u001b[0m\u001b[0;34m(\u001b[0m\u001b[0mcL\u001b[0m\u001b[0;34m,\u001b[0m\u001b[0mcR\u001b[0m\u001b[0;34m)\u001b[0m\u001b[0;34m\u001b[0m\u001b[0m\n\u001b[1;32m     31\u001b[0m \u001b[0;34m\u001b[0m\u001b[0m\n",
      "\u001b[0;32m<ipython-input-37-064f092ebda6>\u001b[0m in \u001b[0;36mrunDispKdV\u001b[0;34m(x, u, t0, tmax, U2, coef, periodic, vardt, dt, verbose, order)\u001b[0m\n\u001b[1;32m     42\u001b[0m             \u001b[0mu\u001b[0m \u001b[0;34m=\u001b[0m \u001b[0mkdv\u001b[0m\u001b[0;34m.\u001b[0m\u001b[0mFourierSolver\u001b[0m\u001b[0;34m(\u001b[0m\u001b[0mu\u001b[0m\u001b[0;34m,\u001b[0m\u001b[0mt\u001b[0m\u001b[0;34m,\u001b[0m\u001b[0mdt\u001b[0m\u001b[0;34m,\u001b[0m\u001b[0mdx\u001b[0m\u001b[0;34m)\u001b[0m\u001b[0;34m\u001b[0m\u001b[0m\n\u001b[1;32m     43\u001b[0m         \u001b[0;32melse\u001b[0m \u001b[0;34m:\u001b[0m\u001b[0;34m\u001b[0m\u001b[0m\n\u001b[0;32m---> 44\u001b[0;31m             \u001b[0mu\u001b[0m \u001b[0;34m=\u001b[0m \u001b[0mIFDBesse\u001b[0m\u001b[0;34m(\u001b[0m\u001b[0mu\u001b[0m\u001b[0;34m,\u001b[0m\u001b[0mum\u001b[0m\u001b[0;34m,\u001b[0m\u001b[0mumm\u001b[0m\u001b[0;34m,\u001b[0m\u001b[0mt\u001b[0m\u001b[0;34m,\u001b[0m\u001b[0mdt\u001b[0m\u001b[0;34m,\u001b[0m\u001b[0mdx\u001b[0m\u001b[0;34m,\u001b[0m\u001b[0mU2\u001b[0m\u001b[0;34m,\u001b[0m\u001b[0morder\u001b[0m\u001b[0;34m,\u001b[0m\u001b[0mcoef\u001b[0m\u001b[0;34m)\u001b[0m\u001b[0;34m\u001b[0m\u001b[0m\n\u001b[0m\u001b[1;32m     45\u001b[0m \u001b[0;34m\u001b[0m\u001b[0m\n\u001b[1;32m     46\u001b[0m         \u001b[0muall\u001b[0m \u001b[0;34m=\u001b[0m \u001b[0mnp\u001b[0m\u001b[0;34m.\u001b[0m\u001b[0mcolumn_stack\u001b[0m\u001b[0;34m(\u001b[0m\u001b[0;34m(\u001b[0m\u001b[0muall\u001b[0m\u001b[0;34m,\u001b[0m\u001b[0mu\u001b[0m\u001b[0;34m)\u001b[0m\u001b[0;34m)\u001b[0m\u001b[0;34m\u001b[0m\u001b[0m\n",
      "\u001b[0;32m<ipython-input-36-bdacddb1bee5>\u001b[0m in \u001b[0;36mIFDBesse\u001b[0;34m(u, um, umm, t, dt, dx, U2, order, coef)\u001b[0m\n\u001b[1;32m      8\u001b[0m \u001b[0;34m\u001b[0m\u001b[0m\n\u001b[1;32m      9\u001b[0m     \u001b[0md0\u001b[0m  \u001b[0;34m=\u001b[0m \u001b[0;36m1.\u001b[0m\u001b[0;34m*\u001b[0m\u001b[0mnp\u001b[0m\u001b[0;34m.\u001b[0m\u001b[0mones\u001b[0m\u001b[0;34m(\u001b[0m\u001b[0mnx\u001b[0m\u001b[0;34m+\u001b[0m\u001b[0;36m1\u001b[0m\u001b[0;34m)\u001b[0m\u001b[0;34m\u001b[0m\u001b[0m\n\u001b[0;32m---> 10\u001b[0;31m     \u001b[0md1\u001b[0m \u001b[0;34m=\u001b[0m \u001b[0;34m-\u001b[0m\u001b[0mk\u001b[0m\u001b[0;34m*\u001b[0m\u001b[0;36m13\u001b[0m\u001b[0;34m/\u001b[0m\u001b[0;36m8.\u001b[0m\u001b[0;34m*\u001b[0m\u001b[0mnp\u001b[0m\u001b[0;34m.\u001b[0m\u001b[0mones\u001b[0m\u001b[0;34m(\u001b[0m\u001b[0mnx\u001b[0m\u001b[0;34m)\u001b[0m\u001b[0;34m\u001b[0m\u001b[0m\n\u001b[0m\u001b[1;32m     11\u001b[0m     \u001b[0md2\u001b[0m \u001b[0;34m=\u001b[0m \u001b[0;34m+\u001b[0m\u001b[0mk\u001b[0m\u001b[0;34m*\u001b[0m\u001b[0mnp\u001b[0m\u001b[0;34m.\u001b[0m\u001b[0mones\u001b[0m\u001b[0;34m(\u001b[0m\u001b[0mnx\u001b[0m\u001b[0;34m-\u001b[0m\u001b[0;36m1\u001b[0m\u001b[0;34m)\u001b[0m\u001b[0;34m\u001b[0m\u001b[0m\n\u001b[1;32m     12\u001b[0m     \u001b[0md3\u001b[0m \u001b[0;34m=\u001b[0m \u001b[0;34m-\u001b[0m\u001b[0mk\u001b[0m\u001b[0;34m*\u001b[0m\u001b[0;36m1.\u001b[0m\u001b[0;34m/\u001b[0m\u001b[0;36m8.\u001b[0m\u001b[0;34m*\u001b[0m\u001b[0mnp\u001b[0m\u001b[0;34m.\u001b[0m\u001b[0mones\u001b[0m\u001b[0;34m(\u001b[0m\u001b[0mnx\u001b[0m\u001b[0;34m-\u001b[0m\u001b[0;36m2\u001b[0m\u001b[0;34m)\u001b[0m\u001b[0;34m\u001b[0m\u001b[0m\n",
      "\u001b[0;32m/Users/joaocaldas/Softwares/anaconda2/lib/python2.7/site-packages/numpy/core/numeric.pyc\u001b[0m in \u001b[0;36mones\u001b[0;34m(shape, dtype, order)\u001b[0m\n\u001b[1;32m    181\u001b[0m \u001b[0;34m\u001b[0m\u001b[0m\n\u001b[1;32m    182\u001b[0m     \"\"\"\n\u001b[0;32m--> 183\u001b[0;31m     \u001b[0ma\u001b[0m \u001b[0;34m=\u001b[0m \u001b[0mempty\u001b[0m\u001b[0;34m(\u001b[0m\u001b[0mshape\u001b[0m\u001b[0;34m,\u001b[0m \u001b[0mdtype\u001b[0m\u001b[0;34m,\u001b[0m \u001b[0morder\u001b[0m\u001b[0;34m)\u001b[0m\u001b[0;34m\u001b[0m\u001b[0m\n\u001b[0m\u001b[1;32m    184\u001b[0m     \u001b[0mmultiarray\u001b[0m\u001b[0;34m.\u001b[0m\u001b[0mcopyto\u001b[0m\u001b[0;34m(\u001b[0m\u001b[0ma\u001b[0m\u001b[0;34m,\u001b[0m \u001b[0;36m1\u001b[0m\u001b[0;34m,\u001b[0m \u001b[0mcasting\u001b[0m\u001b[0;34m=\u001b[0m\u001b[0;34m'unsafe'\u001b[0m\u001b[0;34m)\u001b[0m\u001b[0;34m\u001b[0m\u001b[0m\n\u001b[1;32m    185\u001b[0m     \u001b[0;32mreturn\u001b[0m \u001b[0ma\u001b[0m\u001b[0;34m\u001b[0m\u001b[0m\n",
      "\u001b[0;31mKeyboardInterrupt\u001b[0m: "
     ]
    }
   ],
   "source": [
    "eps = 0.001\n",
    "B = 0.1\n",
    "A = 0.001\n",
    "wvl = np.sqrt(.5/0.004)\n",
    "L = 6.\n",
    "xmin = -L\n",
    "xmax = L\n",
    "N = 500.\n",
    "U2 = 1.\n",
    "\n",
    "dx = (xmax-xmin)/N\n",
    "x = kdv.discretizeSpace(xmin,xmax,dx)\n",
    "x = np.linspace(xmin,xmax,N)\n",
    "cLs = np.arange(0.5,0.7,0.1)\n",
    "cRs = np.array([1.,10.])\n",
    "\n",
    "uall,tall,tests,errors,testTmmax,testTmmin,testL2max,testL2min = optimizeParamO1(x,u,uallexact,t0,tmax,U2,cLs,cRs, N, dt, verbose = True,LeD = False)\n"
   ]
  },
  {
   "cell_type": "code",
   "execution_count": 60,
   "metadata": {
    "collapsed": false,
    "run_control": {
     "frozen": false,
     "read_only": false
    },
    "scrolled": true
   },
   "outputs": [
    {
     "name": "stdout",
     "output_type": "stream",
     "text": [
      "Best results - Order 0\n",
      "[ 13.           0.09265553   0.07778958   1.1          1.        ]\n",
      "[ 14.           0.09375321   0.07886735   1.1         10.        ]\n",
      "[ 15.           0.09443361   0.07108157   1.2          1.        ]\n",
      "[ 16.           0.09575453   0.07353684   1.2         10.        ]\n",
      "[ 11.           0.09809078   0.09641803   1.           1.        ]\n",
      "[ 12.           0.09887937   0.09700647   1.          10.        ]\n",
      "[ 17.           0.10141048   0.07533716   1.3          1.        ]\n",
      "[ 18.           0.10285821   0.07721938   1.3         10.        ]\n",
      "[ 19.           0.1113963    0.08329586   1.4          1.        ]\n",
      "[ 9.          0.11146271  0.11567113  0.9         1.        ]\n"
     ]
    }
   ],
   "source": [
    "print(\"Best results - Order 0\")\n",
    "index = np.argsort(errors[:,1])\n",
    "for i in range(10):\n",
    "uallminO0 = testsO0[testL2minO0][2]\n",
    "uallminO1 = testsO1[testL2minO1][2]\n",
    "\n",
    "print('ErrL2 Min Order 0 = ',testsO0[testL2minO0][6], r\"cL = %.3f\" %testsO0[testL2minO0][0],r\"cR = %.3f\" %testsO0[testL2minO0][1])\n",
    "print('ErrL2 Min Order 1 = ',testsO1[testL2minO1][6], r\"cL = %.3f\" %testsO1[testL2minO1][0],r\"dL = %.3f\" %testsO1[testL2minO1][1])    print(errors[index[i],:])"
   ]
  },
  {
   "cell_type": "code",
   "execution_count": 62,
   "metadata": {
    "collapsed": false,
    "run_control": {
     "frozen": false,
     "read_only": false
    },
    "scrolled": true
   },
   "outputs": [
    {
     "name": "stdout",
     "output_type": "stream",
     "text": [
      "(array([ 1.  ,  1.02,  1.04,  1.06,  1.08,  1.1 ,  1.12,  1.14,  1.16,\n",
      "        1.18,  1.2 ,  1.22,  1.24,  1.26,  1.28,  1.3 ,  1.32]), array([  1.,  10.]))\n",
      "\n",
      "*** Computing solution ...\n",
      "*** End of computation ***\n",
      "(1.0, 1.0)\n",
      "\n",
      "*** Computing solution ...\n",
      "*** End of computation ***\n",
      "(1.0, 10.0)\n",
      "\n",
      "*** Computing solution ...\n",
      "*** End of computation ***\n",
      "(1.02, 1.0)\n",
      "\n",
      "*** Computing solution ...\n",
      "*** End of computation ***\n",
      "(1.02, 10.0)\n",
      "\n",
      "*** Computing solution ...\n",
      "*** End of computation ***\n",
      "(1.04, 1.0)\n",
      "\n",
      "*** Computing solution ...\n",
      "*** End of computation ***\n",
      "(1.04, 10.0)\n",
      "\n",
      "*** Computing solution ...\n",
      "*** End of computation ***\n",
      "(1.0600000000000001, 1.0)\n",
      "\n",
      "*** Computing solution ...\n",
      "*** End of computation ***\n",
      "(1.0600000000000001, 10.0)\n",
      "\n",
      "*** Computing solution ...\n",
      "*** End of computation ***\n",
      "(1.0800000000000001, 1.0)\n",
      "\n",
      "*** Computing solution ...\n",
      "*** End of computation ***\n",
      "(1.0800000000000001, 10.0)\n",
      "\n",
      "*** Computing solution ...\n",
      "*** End of computation ***\n",
      "(1.1000000000000001, 1.0)\n",
      "\n",
      "*** Computing solution ...\n",
      "*** End of computation ***\n",
      "(1.1000000000000001, 10.0)\n",
      "\n",
      "*** Computing solution ...\n",
      "*** End of computation ***\n",
      "(1.1200000000000001, 1.0)\n",
      "\n",
      "*** Computing solution ...\n",
      "*** End of computation ***\n",
      "(1.1200000000000001, 10.0)\n",
      "\n",
      "*** Computing solution ...\n",
      "*** End of computation ***\n",
      "(1.1400000000000001, 1.0)\n",
      "\n",
      "*** Computing solution ...\n",
      "*** End of computation ***\n",
      "(1.1400000000000001, 10.0)\n",
      "\n",
      "*** Computing solution ...\n",
      "*** End of computation ***\n",
      "(1.1600000000000001, 1.0)\n",
      "\n",
      "*** Computing solution ...\n",
      "*** End of computation ***\n",
      "(1.1600000000000001, 10.0)\n",
      "\n",
      "*** Computing solution ...\n",
      "*** End of computation ***\n",
      "(1.1800000000000002, 1.0)\n",
      "\n",
      "*** Computing solution ...\n",
      "*** End of computation ***\n",
      "(1.1800000000000002, 10.0)\n",
      "\n",
      "*** Computing solution ...\n",
      "*** End of computation ***\n",
      "(1.2000000000000002, 1.0)\n",
      "\n",
      "*** Computing solution ...\n",
      "*** End of computation ***\n",
      "(1.2000000000000002, 10.0)\n",
      "\n",
      "*** Computing solution ...\n",
      "*** End of computation ***\n",
      "(1.2200000000000002, 1.0)\n",
      "\n",
      "*** Computing solution ...\n",
      "*** End of computation ***\n",
      "(1.2200000000000002, 10.0)\n",
      "\n",
      "*** Computing solution ...\n",
      "*** End of computation ***\n",
      "(1.2400000000000002, 1.0)\n",
      "\n",
      "*** Computing solution ...\n",
      "*** End of computation ***\n",
      "(1.2400000000000002, 10.0)\n",
      "\n",
      "*** Computing solution ...\n",
      "*** End of computation ***\n",
      "(1.2600000000000002, 1.0)\n",
      "\n",
      "*** Computing solution ...\n",
      "*** End of computation ***\n",
      "(1.2600000000000002, 10.0)\n",
      "\n",
      "*** Computing solution ...\n",
      "*** End of computation ***\n",
      "(1.2800000000000002, 1.0)\n",
      "\n",
      "*** Computing solution ...\n",
      "*** End of computation ***\n",
      "(1.2800000000000002, 10.0)\n",
      "\n",
      "*** Computing solution ...\n",
      "*** End of computation ***\n",
      "(1.3000000000000003, 1.0)\n",
      "\n",
      "*** Computing solution ...\n",
      "*** End of computation ***\n",
      "(1.3000000000000003, 10.0)\n",
      "\n",
      "*** Computing solution ...\n",
      "*** End of computation ***\n",
      "(1.3200000000000003, 1.0)\n",
      "\n",
      "*** Computing solution ...\n",
      "*** End of computation ***\n",
      "(1.3200000000000003, 10.0)\n",
      "('ErrTm Max = ', 0.097006472026082632, 'cL = 1.000', 'cR = 10.000')\n",
      "('ErrTm Min = ', 0.069683196342102793, 'cL = 1.160', 'cR = 1.000')\n",
      "('ErrL2 Max = ', 0.10469280943172654, 'cL = 1.320', 'cR = 10.000')\n",
      "('ErrL2 Min = ', 0.0924860163265038, 'cL = 1.120', 'cR = 1.000')\n"
     ]
    }
   ],
   "source": [
    "eps = 0.001\n",
    "B = 0.1\n",
    "A = 0.001\n",
    "wvl = np.sqrt(.5/0.004)\n",
    "L = 6.\n",
    "xmin = -L\n",
    "xmax = L\n",
    "N = 500.\n",
    "U2 = 1.\n",
    "\n",
    "dx = (xmax-xmin)/N\n",
    "x = kdv.discretizeSpace(xmin,xmax,dx)\n",
    "x = np.linspace(xmin,xmax,N)\n",
    "cLs = np.arange(1.,1.32,0.02)\n",
    "cRs = np.array([1.,10.])\n",
    "\n",
    "uall,tall,errors,testTmmax,testTmmin,testL2max,testL2min = optimizeParamO1(x,u,uallexact,t0,tmax,U2,cLs,cRs, N, dt, verbose = True,LeD = False)\n"
   ]
  },
  {
   "cell_type": "code",
   "execution_count": 66,
   "metadata": {
    "collapsed": false,
    "run_control": {
     "frozen": false,
     "read_only": false
    }
   },
   "outputs": [
    {
     "name": "stdout",
     "output_type": "stream",
     "text": [
      "Best results - Order 1 truncated\n",
      "[ 17.           0.09296875   0.0696832    1.16         1.        ]\n",
      "[ 19.           0.09358754   0.0703785    1.18         1.        ]\n",
      "[ 15.           0.09259574   0.07060966   1.14         1.        ]\n",
      "[ 21.           0.09443361   0.07108157   1.2          1.        ]\n",
      "[ 23.           0.09548789   0.07179742   1.22         1.        ]\n",
      "[ 16.           0.09379505   0.07192078   1.14        10.        ]\n",
      "[ 18.           0.09421277   0.07203522   1.16        10.        ]\n",
      "[ 25.           0.09673124   0.07253156   1.24         1.        ]\n",
      "[ 20.           0.09487208   0.0727914    1.18        10.        ]\n",
      "[ 27.           0.09814481   0.07330125   1.26         1.        ]\n",
      "[ 22.           0.09575453   0.07353684   1.2         10.        ]\n",
      "[ 29.           0.09971035   0.07413869   1.28         1.        ]\n",
      "[ 13.           0.09248602   0.07417667   1.12         1.        ]\n",
      "[ 24.           0.0968412    0.07427989   1.22        10.        ]\n",
      "[ 26.           0.09811315   0.0750153    1.24        10.        ]\n",
      "[ 31.           0.10141048   0.07533716   1.3          1.        ]\n",
      "[ 14.           0.09363649   0.07536769   1.12        10.        ]\n",
      "[ 28.           0.0995518    0.07575093   1.26        10.        ]\n",
      "[ 30.           0.10113918   0.07648397   1.28        10.        ]\n",
      "[ 33.          0.1032288   0.0768302   1.32        1.       ]\n"
     ]
    }
   ],
   "source": [
    "print(\"Best results - Order 1 truncated\")\n",
    "index = np.argsort(errors[:,2])\n",
    "for i in range(20):\n",
    "    print(errors[index[i],:])"
   ]
  },
  {
   "cell_type": "code",
   "execution_count": null,
   "metadata": {
    "collapsed": true,
    "run_control": {
     "frozen": false,
     "read_only": false
    }
   },
   "outputs": [],
   "source": []
  },
  {
   "cell_type": "code",
   "execution_count": 28,
   "metadata": {
    "collapsed": false,
    "run_control": {
     "frozen": false,
     "read_only": false
    },
    "scrolled": true
   },
   "outputs": [
    {
     "name": "stdout",
     "output_type": "stream",
     "text": [
      "\n",
      "*** Computing solution ...\n",
      "*** End of computation ***\n",
      "(-10.0, -10.0)\n",
      "\n",
      "*** Computing solution ...\n",
      "*** End of computation ***\n",
      "(-10.0, -1.0)\n",
      "\n",
      "*** Computing solution ...\n",
      "*** End of computation ***\n",
      "(-10.0, 0.0)\n",
      "\n",
      "*** Computing solution ...\n",
      "*** End of computation ***\n",
      "(-10.0, 0.10000000000000001)\n",
      "\n",
      "*** Computing solution ...\n",
      "*** End of computation ***\n",
      "(-10.0, 1.0)\n",
      "\n",
      "*** Computing solution ...\n",
      "*** End of computation ***\n",
      "(-10.0, 10.0)\n",
      "\n",
      "*** Computing solution ...\n",
      "*** End of computation ***\n",
      "(-1.0, -10.0)\n",
      "\n",
      "*** Computing solution ...\n",
      "*** End of computation ***\n",
      "(-1.0, -1.0)\n",
      "\n",
      "*** Computing solution ...\n",
      "*** End of computation ***\n",
      "(-1.0, 0.0)\n",
      "\n",
      "*** Computing solution ...\n",
      "*** End of computation ***\n",
      "(-1.0, 0.10000000000000001)\n",
      "\n",
      "*** Computing solution ...\n",
      "*** End of computation ***\n",
      "(-1.0, 1.0)\n",
      "\n",
      "*** Computing solution ...\n",
      "*** End of computation ***\n",
      "(-1.0, 10.0)\n",
      "\n",
      "*** Computing solution ...\n",
      "*** End of computation ***\n",
      "(0.0, -10.0)\n",
      "\n",
      "*** Computing solution ...\n",
      "*** End of computation ***\n",
      "(0.0, -1.0)\n",
      "\n",
      "*** Computing solution ...\n",
      "*** End of computation ***\n",
      "(0.0, 0.0)\n",
      "\n",
      "*** Computing solution ...\n",
      "*** End of computation ***\n",
      "(0.0, 0.10000000000000001)\n",
      "\n",
      "*** Computing solution ...\n",
      "*** End of computation ***\n",
      "(0.0, 1.0)\n",
      "\n",
      "*** Computing solution ...\n",
      "*** End of computation ***\n",
      "(0.0, 10.0)\n",
      "\n",
      "*** Computing solution ...\n",
      "*** End of computation ***\n",
      "(0.10000000000000001, -10.0)\n"
     ]
    },
    {
     "name": "stderr",
     "output_type": "stream",
     "text": [
      "/Users/joaocaldas/Softwares/anaconda2/lib/python2.7/site-packages/numpy/linalg/linalg.py:2156: RuntimeWarning: overflow encountered in multiply\n",
      "  s = (x.conj() * x).real\n"
     ]
    },
    {
     "name": "stdout",
     "output_type": "stream",
     "text": [
      "\n",
      "*** Computing solution ...\n",
      "*** End of computation ***\n",
      "(0.10000000000000001, -1.0)\n",
      "\n",
      "*** Computing solution ...\n",
      "*** End of computation ***\n",
      "(0.10000000000000001, 0.0)\n",
      "\n",
      "*** Computing solution ...\n",
      "*** End of computation ***\n",
      "(0.10000000000000001, 0.10000000000000001)\n",
      "\n",
      "*** Computing solution ...\n",
      "*** End of computation ***\n",
      "(0.10000000000000001, 1.0)\n",
      "\n",
      "*** Computing solution ...\n",
      "*** End of computation ***\n",
      "(0.10000000000000001, 10.0)\n",
      "\n",
      "*** Computing solution ...\n",
      "*** End of computation ***\n",
      "(1.0, -10.0)\n",
      "\n",
      "*** Computing solution ...\n",
      "*** End of computation ***\n",
      "(1.0, -1.0)\n",
      "\n",
      "*** Computing solution ...\n",
      "*** End of computation ***\n",
      "(1.0, 0.0)\n",
      "\n",
      "*** Computing solution ...\n",
      "*** End of computation ***\n",
      "(1.0, 0.10000000000000001)\n",
      "\n",
      "*** Computing solution ...\n",
      "*** End of computation ***\n",
      "(1.0, 1.0)\n",
      "\n",
      "*** Computing solution ...\n",
      "*** End of computation ***\n",
      "(1.0, 10.0)\n",
      "\n",
      "*** Computing solution ...\n",
      "*** End of computation ***\n",
      "(10.0, -10.0)\n",
      "\n",
      "*** Computing solution ...\n",
      "*** End of computation ***\n",
      "(10.0, -1.0)\n",
      "\n",
      "*** Computing solution ...\n",
      "*** End of computation ***\n",
      "(10.0, 0.0)\n",
      "\n",
      "*** Computing solution ...\n",
      "*** End of computation ***\n",
      "(10.0, 0.10000000000000001)\n",
      "\n",
      "*** Computing solution ...\n",
      "*** End of computation ***\n",
      "(10.0, 1.0)\n",
      "\n",
      "*** Computing solution ...\n",
      "*** End of computation ***\n",
      "(10.0, 10.0)\n"
     ]
    }
   ],
   "source": [
    "\n",
    "eps = 0.001\n",
    "B = 0.1\n",
    "A = 0.001\n",
    "wvl = np.sqrt(.5/0.004)\n",
    "L = 6.\n",
    "xmin = -L\n",
    "xmax = L\n",
    "N = 500.\n",
    "U2 = 1.\n",
    "\n",
    "dx = (xmax-xmin)/N\n",
    "x = kdv.discretizeSpace(xmin,xmax,dx)\n",
    "x = np.linspace(xmin,xmax,N)\n",
    "dx = x[1] - x[0]\n",
    "cs = np.array([-10., -1., 0. , 0.1, 1., 10.])\n",
    "ds = np.array([-10., -1., 0. ,  0.1, 1., 10.])\n",
    "\n",
    "tests = {}\n",
    "\n",
    "order = 1.\n",
    "\n",
    "cntTests = 0\n",
    "\n",
    "coefTBC = np.zeros((1+1,2))\n",
    "\n",
    "for cL in cs:\n",
    "    for dL in ds:\n",
    "        cntTests = cntTests+1\n",
    "        \n",
    "        tmax = 4.\n",
    "        t0 = 0.\n",
    "        u = np.zeros_like(x)\n",
    "        u = np.exp(-x*x)\n",
    "        dt = 5*4/2560.\n",
    "        \n",
    "        for j in range(2):\n",
    "            coefTBC[0,j] = cL\n",
    "            coefTBC[1,j] = dL\n",
    "                 \n",
    "\n",
    "        uall,tall = runDispKdV(x,u,t0,tmax,U2, coefTBC ,periodic=0, vardt = False, dt = dt, verbose = False,\n",
    "                               order = order)\n",
    "        print(cL,dL)\n",
    "\n",
    "        if cntTests > 0:\n",
    "            uallexact = np.copy(uall)\n",
    "            for i in range(1,tall.size) :\n",
    "                uallexact[:,i] = exactSolution(x,tall[i])\n",
    "                \n",
    "            coef = np.amax(uallexact[:,1])/np.amax(uall[:,1])\n",
    "            uallexact[:,1:] = uallexact[:,1:]/coef\n",
    "        \n",
    "        en,ErrTm,ErrL2 = computeError(uall,uallexact,dt)\n",
    "            \n",
    "        tests[cntTests] = (cL,dL,uall,tall,en,ErrTm,ErrL2)\n",
    "        \n",
    "testsO1 = tests"
   ]
  },
  {
   "cell_type": "code",
   "execution_count": 29,
   "metadata": {
    "collapsed": false,
    "run_control": {
     "frozen": false,
     "read_only": false
    }
   },
   "outputs": [
    {
     "name": "stdout",
     "output_type": "stream",
     "text": [
      "((36, 5), (32, 5))\n",
      "('ErrTm Max = ', 3.0002541380999714, 'cL = 1.000', 'cR = -1.000')\n",
      "('ErrTm Min = ', 0.096418041106290889, 'cL = 0.000', 'cR = 1.000')\n",
      "('ErrL2 Max = ', 1.8709345650121911, 'cL = 0.100', 'cR = 0.000')\n",
      "('ErrL2 Min = ', 0.098090794467468198, 'cL = 0.000', 'cR = 1.000')\n"
     ]
    }
   ],
   "source": [
    "errorsall = np.array([(int(key),tests[key][6], tests[key][5], tests[key][0], tests[key][1]) for key in tests.keys()])\n",
    "\n",
    "cnt = 0\n",
    "## ignore explosed solutions\n",
    "for i in range(errorsall.shape[0]) :\n",
    "    if errorsall[i,1] < 10 :\n",
    "        if cnt == 0:\n",
    "            errors = errorsall[i,:]\n",
    "        else:\n",
    "            errors = np.vstack((errors,errorsall[i,:]))\n",
    "        cnt = cnt+1\n",
    "    \n",
    "print(errorsall.shape,errors.shape)\n",
    "testTmmax = errors[np.argmax(errors[:,2]),0]\n",
    "testTmmin = errors[np.argmin(errors[:,2]),0]\n",
    "testL2max = errors[np.argmax(errors[:,1]),0]\n",
    "testL2min = errors[np.argmin(errors[:,1]),0]\n",
    "print('ErrTm Max = ',tests[testTmmax][5], r\"cL = %.3f\" %tests[testTmmax][0],r\"cR = %.3f\" %tests[testTmmax][1])\n",
    "print('ErrTm Min = ',tests[testTmmin][5], r\"cL = %.3f\" %tests[testTmmin][0],r\"cR = %.3f\" %tests[testTmmin][1])\n",
    "print('ErrL2 Max = ',tests[testL2max][6], r\"cL = %.3f\" %tests[testL2max][0],r\"cR = %.3f\" %tests[testL2max][1])\n",
    "print('ErrL2 Min = ',tests[testL2min][6], r\"cL = %.3f\" %tests[testL2min][0],r\"cR = %.3f\" %tests[testL2min][1])\n",
    "\n",
    "errorsO1b = np.copy(errors)\n",
    "testTmmaxO1b = testTmmax\n",
    "testTmminO1b = testTmmin\n",
    "testL2maxO1b = testL2max\n",
    "testL2minO1b = testL2min"
   ]
  },
  {
   "cell_type": "code",
   "execution_count": null,
   "metadata": {
    "collapsed": false,
    "run_control": {
     "frozen": false,
     "read_only": false
    }
   },
   "outputs": [],
   "source": [
    "uallmin = tests[testL2min][2]\n",
    "uallmax = tests[testL2max][2] \n",
    "tall = tests[testL2min][3]\n",
    "\n",
    "ymin = np.amin(np.concatenate(uall))\n",
    "ymax = np.amax(np.concatenate(uall))\n",
    "\n",
    "gF.plotAnimationNSolutions(3,x,np.array([uallmin,uallmax,uallexact]),tall,xmin,xmax,ymin,ymax+.2,[\"best sol\",\"worst sol\",\"exact\"],r'$u$',location=(.7,.7))"
   ]
  },
  {
   "cell_type": "code",
   "execution_count": 31,
   "metadata": {
    "collapsed": false,
    "run_control": {
     "frozen": false,
     "read_only": false
    }
   },
   "outputs": [
    {
     "data": {
      "image/png": "[encoded data removed]",
      "text/plain": [
       "<matplotlib.figure.Figure at 0x111a7be50>"
      ]
     },
     "metadata": {},
     "output_type": "display_data"
    },
    {
     "data": {
      "image/png": "[encoded data removed]",
      "text/plain": [
       "<matplotlib.figure.Figure at 0x1103b5b10>"
      ]
     },
     "metadata": {},
     "output_type": "display_data"
    },
    {
     "data": {
      "image/png": "[encoded data removed]",
      "text/plain": [
       "<matplotlib.figure.Figure at 0x10d4a2b90>"
      ]
     },
     "metadata": {},
     "output_type": "display_data"
    },
    {
     "data": {
      "image/png": "[encoded data removed]",
      "text/plain": [
       "<matplotlib.figure.Figure at 0x1114d20d0>"
      ]
     },
     "metadata": {},
     "output_type": "display_data"
    }
   ],
   "source": [
    "for t in [1.,2.,3.,4.] :\n",
    "    plt.figure()\n",
    "    it = np.argmin(np.absolute(tall-t))\n",
    "    plt.plot(x,uallmin[:,it],label='Best sol')\n",
    "    plt.plot(x,uallmax[:,it],label='Worst sol')\n",
    "    plt.plot(x,uallexact[:,it],marker='+',markevery=10,linestyle='None', label='Exact sol')\n",
    "    plt.title(r't = %f'%tall[it])\n",
    "    plt.legend()\n",
    "    "
   ]
  },
  {
   "cell_type": "code",
   "execution_count": 32,
   "metadata": {
    "collapsed": false,
    "run_control": {
     "frozen": false,
     "read_only": false
    }
   },
   "outputs": [
    {
     "name": "stdout",
     "output_type": "stream",
     "text": [
      "Best results - Order 1\n",
      "[ 17.           0.09809079   0.09641804   0.           1.        ]\n",
      "[ 23.           0.13218965   0.10346064   0.1          1.        ]\n",
      "[ 8.          0.21930001  0.18374502 -1.         -1.        ]\n",
      "[  6.           0.22588269   0.35746847 -10.          10.        ]\n",
      "[ 29.           0.30794799   0.25460258   1.           1.        ]\n"
     ]
    }
   ],
   "source": [
    "print(\"Best results - Order 1\")\n",
    "index = np.argsort(errorsO1b[:,1])\n",
    "for i in range(5):\n",
    "    print(errorsO1b[index[i],:])"
   ]
  },
  {
   "cell_type": "code",
   "execution_count": null,
   "metadata": {
    "collapsed": true,
    "run_control": {
     "frozen": false,
     "read_only": false
    }
   },
   "outputs": [],
   "source": []
  },
  {
   "cell_type": "code",
   "execution_count": null,
   "metadata": {
    "collapsed": true,
    "run_control": {
     "frozen": false,
     "read_only": false
    }
   },
   "outputs": [],
   "source": []
  },
  {
   "cell_type": "code",
   "execution_count": null,
   "metadata": {
    "collapsed": true,
    "run_control": {
     "frozen": false,
     "read_only": false
    }
   },
   "outputs": [],
   "source": []
  }
 ],
 "metadata": {
  "celltoolbar": "Initialisation Cell",
  "hide_input": false,
  "kernelspec": {
   "display_name": "Python 2",
   "language": "python",
   "name": "python2"
  },
  "language_info": {
   "codemirror_mode": {
    "name": "ipython",
    "version": 2
   },
   "file_extension": ".py",
   "mimetype": "text/x-python",
   "name": "python",
   "nbconvert_exporter": "python",
   "pygments_lexer": "ipython2",
   "version": "2.7.11"
  },
  "latex_envs": {
   "bibliofile": "biblio.bib",
   "cite_by": "apalike",
   "current_citInitial": 1,
   "eqLabelWithNumbers": true,
   "eqNumInitial": 0
  },
  "toc": {
   "toc_cell": false,
   "toc_number_sections": true,
   "toc_threshold": 6,
   "toc_window_display": false
  }
 },
 "nbformat": 4,
 "nbformat_minor": 0
}
