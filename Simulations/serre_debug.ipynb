{
 "cells": [
  {
   "cell_type": "code",
   "execution_count": 1,
   "metadata": {
    "collapsed": false
   },
   "outputs": [],
   "source": [
    "import numpy as np\n",
    "import matplotlib.pyplot as plt\n",
    "%matplotlib inline\n",
    "import math"
   ]
  },
  {
   "cell_type": "markdown",
   "metadata": {},
   "source": [
    "# Debugging of the Serre code"
   ]
  },
  {
   "cell_type": "markdown",
   "metadata": {},
   "source": [
    "The plan is:\n",
    "\n",
    "* Use the cnoidal periodic solution of the Serre equations to test the implementation of the different types of Serre models we have\n",
    "* Start from the top interface and dig into the details"
   ]
  },
  {
   "cell_type": "markdown",
   "metadata": {},
   "source": [
    "## Second order model with Strang splitting "
   ]
  },
  {
   "cell_type": "code",
   "execution_count": 4,
   "metadata": {
    "collapsed": false
   },
   "outputs": [
    {
     "ename": "AttributeError",
     "evalue": "'module' object has no attribute 'fluxes2'",
     "output_type": "error",
     "traceback": [
      "\u001b[1;31m---------------------------------------------------------------------------\u001b[0m",
      "\u001b[1;31mAttributeError\u001b[0m                            Traceback (most recent call last)",
      "\u001b[1;32m<ipython-input-4-1cade63f5531>\u001b[0m in \u001b[0;36m<module>\u001b[1;34m()\u001b[0m\n\u001b[0;32m      1\u001b[0m \u001b[1;32mimport\u001b[0m \u001b[0mnswe\u001b[0m\u001b[1;33m\u001b[0m\u001b[0m\n\u001b[0;32m      2\u001b[0m \u001b[1;32mimport\u001b[0m \u001b[0mcnoidal\u001b[0m\u001b[1;33m\u001b[0m\u001b[0m\n\u001b[1;32m----> 3\u001b[1;33m \u001b[1;32mimport\u001b[0m \u001b[0mserre\u001b[0m\u001b[1;33m\u001b[0m\u001b[0m\n\u001b[0m",
      "\u001b[1;32m/home/jose/github/inriamericwaves/Simulations/serre.py\u001b[0m in \u001b[0;36m<module>\u001b[1;34m()\u001b[0m\n\u001b[0;32m    825\u001b[0m     \u001b[1;32mreturn\u001b[0m \u001b[0mhu2\u001b[0m\u001b[1;33m/\u001b[0m\u001b[0mh\u001b[0m\u001b[1;33m\u001b[0m\u001b[0m\n\u001b[0;32m    826\u001b[0m def splitSerre(x,h,u,t0,tmax,bcfunction1,bcfunction2,bcparam1,bcparam2,dx,nx,vardt = True, dt = 0.05,\n\u001b[1;32m--> 827\u001b[1;33m                \u001b[0msplitSteps\u001b[0m \u001b[1;33m=\u001b[0m \u001b[1;36m3\u001b[0m\u001b[1;33m,\u001b[0m \u001b[0mperiodic\u001b[0m\u001b[1;33m=\u001b[0m\u001b[0mFalse\u001b[0m\u001b[1;33m,\u001b[0m\u001b[0morder\u001b[0m\u001b[1;33m=\u001b[0m\u001b[1;36m2\u001b[0m\u001b[1;33m,\u001b[0m\u001b[0mfvsolver\u001b[0m\u001b[1;33m=\u001b[0m\u001b[0mmuscl2\u001b[0m\u001b[1;33m.\u001b[0m\u001b[0mfluxes2\u001b[0m\u001b[1;33m,\u001b[0m\u001b[0mfvTimesolver\u001b[0m\u001b[1;33m=\u001b[0m\u001b[0mRK4\u001b[0m\u001b[1;33m,\u001b[0m\u001b[0mfdsolver\u001b[0m\u001b[1;33m=\u001b[0m\u001b[0mEFDSolver\u001b[0m\u001b[1;33m,\u001b[0m\u001b[1;33m\u001b[0m\u001b[0m\n\u001b[0m\u001b[0;32m    828\u001b[0m               ghostcells = 2):\n\u001b[0;32m    829\u001b[0m     \u001b[0mt\u001b[0m \u001b[1;33m=\u001b[0m \u001b[0mt0\u001b[0m\u001b[1;33m\u001b[0m\u001b[0m\n",
      "\u001b[1;31mAttributeError\u001b[0m: 'module' object has no attribute 'fluxes2'"
     ]
    }
   ],
   "source": [
    "import nswe\n",
    "import cnoidal\n",
    "import serre"
   ]
  },
  {
   "cell_type": "code",
   "execution_count": null,
   "metadata": {
    "collapsed": false
   },
   "outputs": [],
   "source": [
    "import nswe\n",
    "import cnoidal\n",
    "import serre\n",
    "import muscl2"
   ]
  },
  {
   "cell_type": "markdown",
   "metadata": {},
   "source": [
    "### Cnoidal wave parameters"
   ]
  },
  {
   "cell_type": "code",
   "execution_count": null,
   "metadata": {
    "collapsed": true
   },
   "outputs": [],
   "source": [
    "a0 = 0.3\n",
    "a1 = 0.1\n",
    "k = 0.99\n",
    "g = 9.81\n",
    "t = 0.0\n",
    "\n",
    "lam, h0 = cnoidal.WaveLengthDepth(k,a0,a1)"
   ]
  },
  {
   "cell_type": "markdown",
   "metadata": {},
   "source": [
    "### Domain discretization"
   ]
  },
  {
   "cell_type": "code",
   "execution_count": null,
   "metadata": {
    "collapsed": true
   },
   "outputs": [],
   "source": [
    "L = 2*lam\n",
    "xmin = -L\n",
    "xmax = L\n",
    "nx = 100\n",
    "dx1 = (xmax-xmin)/(nx)\n",
    "x,dx = serre.discretizeSpace(xmin-2.*dx1,xmax+2.*dx1,nx+4)"
   ]
  },
  {
   "cell_type": "markdown",
   "metadata": {},
   "source": [
    "### Initial condition\n",
    "\n",
    "Notice that this definition does not include ghost-cells, this is to avoid confusion with periodic boundaries and ghost cells.\n"
   ]
  },
  {
   "cell_type": "code",
   "execution_count": null,
   "metadata": {
    "collapsed": false
   },
   "outputs": [],
   "source": [
    "h,u = cnoidal.analyticalSolution(x[2:-2],t,k,a0,a1)\n",
    "plt.figure(figsize=(6,2))\n",
    "plt.subplot(121)\n",
    "plt.plot(x[2:-2],h)\n",
    "plt.ylabel('h')\n",
    "plt.xlabel('x')\n",
    "plt.subplot(122)\n",
    "plt.plot(x[2:-2],u)\n",
    "plt.ylabel('u')\n",
    "plt.xlabel('x')\n",
    "plt.tight_layout()"
   ]
  },
  {
   "cell_type": "markdown",
   "metadata": {},
   "source": [
    "### Boundary conditions\n",
    "Now extend the domain to periodic boundaries with 2 ghost cells on each side."
   ]
  },
  {
   "cell_type": "code",
   "execution_count": null,
   "metadata": {
    "collapsed": true
   },
   "outputs": [],
   "source": [
    "h = serre.extend2GhostCells(h,2)\n",
    "u = serre.extend2GhostCells(u,2)\n",
    "h,u = serre.periodicDomainTwoGC(h,u,None,dx,0)"
   ]
  },
  {
   "cell_type": "markdown",
   "metadata": {},
   "source": [
    "## Simulation using three steps in the Splitting $\\left(S_1(\\Delta t) S_2(\\Delta t) S_1(\\Delta t)\\right)$"
   ]
  },
  {
   "cell_type": "code",
   "execution_count": null,
   "metadata": {
    "collapsed": false
   },
   "outputs": [],
   "source": [
    "hall1,uall1,tall1 = serre.splitSerre(x,h,u,0,10.,serre.periodicDomainTwoGC,\n",
    "                                     serre.periodicDomain2TwoGC,None,None,\n",
    "                                     dx,nx,vardt = False, dt = 0.05, splitSteps=3,\n",
    "                                     order=2, periodic=True,\n",
    "                                     fvsolver = muscl2.fluxes2, fdsolver = serre.EFDSolverFM, ghostcells=2)"
   ]
  },
  {
   "cell_type": "markdown",
   "metadata": {},
   "source": [
    "## Simulation with the second order non linear part only"
   ]
  },
  {
   "cell_type": "code",
   "execution_count": null,
   "metadata": {
    "collapsed": false
   },
   "outputs": [],
   "source": [
    "u2 = np.copy(u)\n",
    "h2 = np.copy(h)\n",
    "hall2,uall2,tall2 = serre.NSWE(x,h2,u2,0,10.,serre.periodicDomainTwoGC,None,dx,nx,vardt = False, dt = 0.05,\n",
    "                              fvsolver=muscl2.fluxes2, ghostcells=2)"
   ]
  },
  {
   "cell_type": "markdown",
   "metadata": {},
   "source": [
    "## Simulation with first order  $S_1$ and second order $S_2$, using three steps in the splitting"
   ]
  },
  {
   "cell_type": "code",
   "execution_count": null,
   "metadata": {
    "code_folding": [],
    "collapsed": false
   },
   "outputs": [],
   "source": [
    "nx = nx\n",
    "dx1 = (xmax-xmin)/(nx)\n",
    "\n",
    "print(x.shape)\n",
    "x,dx = serre.discretizeSpace(xmin-1.*dx1,xmax+1.*dx1,nx+2)\n",
    "print(x.shape)\n",
    "h,u = cnoidal.analyticalSolution(x[1:-1],t,k,a0,a1)\n",
    "h = serre.extend2GhostCells(h,1)\n",
    "u = serre.extend2GhostCells(u,1)\n",
    "h,u = serre.periodicDomain(h,u,None,dx,0)\n",
    "\n",
    "hall3,uall3,tall3 = serre.splitSerre(x,h,u,0,10.,serre.periodicDomain,\n",
    "                                     serre.periodicDomain2,None,None,dx,nx+2,vardt = False, dt = 0.05, splitSteps=3,\n",
    "                                     order=2, periodic=True,\n",
    "                                     fvsolver = nswe.fluxes, fdsolver = serre.EFDSolverFM, ghostcells=1)\n",
    "\n",
    "h = serre.extend2GhostCells(h,1)\n",
    "u = serre.extend2GhostCells(u,1)\n",
    "x = serre.extend2GhostCells(x,1)\n",
    "x[0] = x[1]-dx\n",
    "x[-1] = x[-2]+dx\n",
    "\n",
    "umin = np.amin(np.concatenate((uall1,uall2,uall3)))\n",
    "umax = np.amax(np.concatenate((uall1,uall2,uall3)))\n",
    "hmin = np.amin(np.concatenate((hall1,hall2,hall3)))\n",
    "hmax = np.amax(np.concatenate((hall1,hall2,hall3)))\n",
    "\n",
    "print(np.linalg.norm(uall1-uall2))\n",
    "print(np.linalg.norm(hall1-hall2))"
   ]
  },
  {
   "cell_type": "markdown",
   "metadata": {},
   "source": [
    "## Compute analytical solution"
   ]
  },
  {
   "cell_type": "code",
   "execution_count": null,
   "metadata": {
    "collapsed": false
   },
   "outputs": [],
   "source": [
    "hallexact = np.copy(hall1)\n",
    "uallexact = np.copy(uall1)\n",
    "\n",
    "for i in range (tall1.size):\n",
    "    hallexact[2:-2,i],uallexact[2:-2,i] = cnoidal.analyticalSolution(x,tall1[i],k,a0,a1)"
   ]
  },
  {
   "cell_type": "markdown",
   "metadata": {},
   "source": [
    "## Plot everything to compare"
   ]
  },
  {
   "cell_type": "code",
   "execution_count": null,
   "metadata": {
    "collapsed": true
   },
   "outputs": [],
   "source": [
    "import generalFunctions as gF"
   ]
  },
  {
   "cell_type": "code",
   "execution_count": null,
   "metadata": {
    "collapsed": true
   },
   "outputs": [],
   "source": [
    "gF.plotAnimationNSolutions?"
   ]
  },
  {
   "cell_type": "code",
   "execution_count": null,
   "metadata": {
    "collapsed": false
   },
   "outputs": [],
   "source": [
    "print hall1.shape,hall2.shape,hall3.shape,hallexact.shape"
   ]
  },
  {
   "cell_type": "code",
   "execution_count": null,
   "metadata": {
    "collapsed": false
   },
   "outputs": [],
   "source": [
    "lb = [\"Serre\",\"NSWE\",\"Serre FV Order 1\", \"Analytical solution\"]\n",
    "gF.plotAnimationNSolutions(4,x[2:-2],np.array([hall1[2:-2],hall2[2:-2],hall3,hallexact[2:-2]]),tall1,xmin,xmax,hmin,hmax,lb,ylabel=r'$h$')"
   ]
  },
  {
   "cell_type": "code",
   "execution_count": null,
   "metadata": {
    "collapsed": true
   },
   "outputs": [],
   "source": []
  }
 ],
 "metadata": {
  "kernelspec": {
   "display_name": "Python 2",
   "language": "python",
   "name": "python2"
  },
  "language_info": {
   "codemirror_mode": {
    "name": "ipython",
    "version": 2
   },
   "file_extension": ".py",
   "mimetype": "text/x-python",
   "name": "python",
   "nbconvert_exporter": "python",
   "pygments_lexer": "ipython2",
   "version": "2.7.11"
  }
 },
 "nbformat": 4,
 "nbformat_minor": 0
}
