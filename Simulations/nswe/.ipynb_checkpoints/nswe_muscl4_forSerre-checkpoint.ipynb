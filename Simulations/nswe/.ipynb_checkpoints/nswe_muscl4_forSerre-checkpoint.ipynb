{
 "cells": [
  {
   "cell_type": "code",
   "execution_count": 1,
   "metadata": {
    "collapsed": true
   },
   "outputs": [],
   "source": [
    "import numpy as np\n",
    "import matplotlib.pyplot as plt\n",
    "%matplotlib inline"
   ]
  },
  {
   "cell_type": "markdown",
   "metadata": {},
   "source": [
    "I need to  feed the function serre.splitSerre"
   ]
  },
  {
   "cell_type": "code",
   "execution_count": 2,
   "metadata": {},
   "outputs": [],
   "source": [
    "import serre"
   ]
  },
  {
   "cell_type": "markdown",
   "metadata": {},
   "source": [
    "Its headeris"
   ]
  },
  {
   "cell_type": "markdown",
   "metadata": {},
   "source": [
    "```python     \n",
    "    def splitSerre(x,h,u,t0,tmax,bcfunction1,bcfunction2,bcparam1,bcparam2,dx,nx,vardt = True, dt = 0.05,splitSteps = 3, periodic=False,order=2,fvsolver=muscl2.fluxes2,fvTimesolver=RK4,fdsolver=EFDSolver, ghostcells = 2)\n",
    "```"
   ]
  },
  {
   "cell_type": "markdown",
   "metadata": {},
   "source": [
    "Need to mimic muscl2.fluxes2"
   ]
  },
  {
   "cell_type": "code",
   "execution_count": 3,
   "metadata": {},
   "outputs": [],
   "source": [
    "import muscl2\n",
    "muscl2.fluxes2?"
   ]
  },
  {
   "cell_type": "markdown",
   "metadata": {},
   "source": [
    "Its code is \n",
    "\n",
    "```python\n",
    "    def fluxes2(h,hu,n):\n",
    "        \"\"\"\n",
    "            Calcula loos flujos en cada interfaz,\n",
    "            retorna la matriz de 2xninterfaces\n",
    "        \"\"\"\n",
    "        nx = h.shape[0]-4\n",
    "        hl, hr, hul, hur   = getMusclReconstr(h[:],hu[:])\n",
    "        fs = np.zeros((2,nx+1))\n",
    "        for i in range(nx+1):\n",
    "            hs,us = roe(hr[i],hur[i],hl[i+1],hul[i+1])\n",
    "            fs[:,i] = flux(hs,us)\n",
    "        return fs\n",
    "```        "
   ]
  },
  {
   "cell_type": "markdown",
   "metadata": {},
   "source": [
    "So it needs:\n",
    "* Input: h, hu matrices of (nt, nx+4)\n",
    "* Returns: fs, matrix of (2,ninterfaces)=(2,nx+1)"
   ]
  },
  {
   "cell_type": "code",
   "execution_count": 4,
   "metadata": {
    "collapsed": true
   },
   "outputs": [],
   "source": [
    "import nswe_wbmuscl4 as wb4"
   ]
  },
  {
   "cell_type": "code",
   "execution_count": 5,
   "metadata": {
    "collapsed": true
   },
   "outputs": [],
   "source": [
    "def fluxes_periodic(h,hu,n):\n",
    "    nx = h.shape[1]-4\n",
    "    h0 = np.zeros(nx+6)\n",
    "    u0 = np.zeros(nx+6)\n",
    "    d0 = np.zeros(nx+6)\n",
    "\n",
    "    h0[3:-3] = h[n,2:-2]\n",
    "    u0[3:-3] = hu[n,2:-2] #hu\n",
    "    u0 = np.where(h0>1e-10,u0/h0,h0)#hu/h\n",
    "    \n",
    "    #periodic bcs\n",
    "    h0[:3] = h0[-6:-3]\n",
    "    h0[-3:] = h0[3:6]\n",
    "    u0[:3] = u0[-6:-3]\n",
    "    u0[-3:] = u0[3:6]\n",
    "    \n",
    "    fp, fm, sc = wb4.fluxes_sources(d0,h0,u0)\n",
    "    return fp"
   ]
  },
  {
   "cell_type": "code",
   "execution_count": 6,
   "metadata": {},
   "outputs": [
    {
     "name": "stderr",
     "output_type": "stream",
     "text": [
      "/home/jose/anaconda2/lib/python2.7/site-packages/ipykernel/__main__.py:9: RuntimeWarning: invalid value encountered in divide\n"
     ]
    }
   ],
   "source": [
    "h = np.zeros((2,12))\n",
    "h[0,2:-2] = np.linspace(1,8,8)\n",
    "u = h+1.\n",
    "fs = fluxes_periodic(h,h*u,0)"
   ]
  },
  {
   "cell_type": "markdown",
   "metadata": {},
   "source": [
    "Now i can plug it into the serre model"
   ]
  }
 ],
 "metadata": {
  "kernelspec": {
   "display_name": "Python 2",
   "language": "python",
   "name": "python2"
  },
  "language_info": {
   "codemirror_mode": {
    "name": "ipython",
    "version": 2
   },
   "file_extension": ".py",
   "mimetype": "text/x-python",
   "name": "python",
   "nbconvert_exporter": "python",
   "pygments_lexer": "ipython2",
   "version": "2.7.15"
  }
 },
 "nbformat": 4,
 "nbformat_minor": 1
}
