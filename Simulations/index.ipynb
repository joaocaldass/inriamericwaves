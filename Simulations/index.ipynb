{
 "cells": [
  {
   "cell_type": "markdown",
   "metadata": {},
   "source": [
    "# Index\n",
    "\n",
    "1. **KdV equation**\n",
    "    * [Presentation of the model, discretization and scaling analysis](<http://nbviewer.jupyter.org/github/joaocaldass/inriamericwaves/blob/master/Simulations/kdv_fvfourier.ipynb>)\n",
    "    * [Study of boundary conditions](<http://nbviewer.jupyter.org/github/joaocaldass/inriamericwaves/blob/master/Simulations/kdv_BCstudy.ipynb>)\n",
    "    \n",
    "* **BBM equation**\n",
    "    * [Presentation of the model, discretization and validation (?)](<http://nbviewer.jupyter.org/github/joaocaldass/inriamericwaves/blob/master/Simulations/bbm_fvfourier.ipynb>)\n",
    "    \n",
    "* **Serre equation**\n",
    "    * [Presentation of the model, discretization and validation with test cases](<http://nbviewer.jupyter.org/github/joaocaldass/inriamericwaves/blob/master/Simulations/serre.ipynb>)\n",
    "    * [Study of the influence of solution characteristics on the importance of the non-linear and dispersive terms](<http://nbviewer.jupyter.org/github/joaocaldass/inriamericwaves/blob/master/Simulations/serre_NonlinearDispersiveStudy.ipynb>)"
   ]
  },
  {
   "cell_type": "code",
   "execution_count": null,
   "metadata": {
    "collapsed": true
   },
   "outputs": [],
   "source": []
  }
 ],
 "metadata": {
  "hide_input": false,
  "kernelspec": {
   "display_name": "Python 2",
   "language": "python",
   "name": "python2"
  },
  "language_info": {
   "codemirror_mode": {
    "name": "ipython",
    "version": 2
   },
   "file_extension": ".py",
   "mimetype": "text/x-python",
   "name": "python",
   "nbconvert_exporter": "python",
   "pygments_lexer": "ipython2",
   "version": "2.7.11"
  },
  "latex_envs": {
   "bibliofile": "biblio.bib",
   "cite_by": "apalike",
   "current_citInitial": 1,
   "eqLabelWithNumbers": true,
   "eqNumInitial": 0
  },
  "toc": {
   "toc_cell": false,
   "toc_number_sections": true,
   "toc_threshold": 6,
   "toc_window_display": false
  }
 },
 "nbformat": 4,
 "nbformat_minor": 0
}
